{
 "cells": [
  {
   "cell_type": "code",
   "execution_count": 1,
   "id": "35c193a272b076d5",
   "metadata": {
    "collapsed": false,
    "ExecuteTime": {
     "end_time": "2024-03-26T07:32:23.169806Z",
     "start_time": "2024-03-26T07:32:22.691426Z"
    }
   },
   "outputs": [],
   "source": [
    "import dask.dataframe\n",
    "import pandas as pd\n",
    "from pprint import pprint\n",
    "import numpy as np"
   ]
  },
  {
   "cell_type": "code",
   "outputs": [],
   "source": [
    "\n",
    "# df_addresses = pd.read_csv('./dataset/adresses-01.csv', delimiter=';', low_memory=False)\n",
    "# df_addresses = pd.read_csv('./dataset/adresses-france.csv', delimiter=';', low_memory=False, index_col=0, usecols=['id', 'numero', 'rep', 'nom_voie', 'code_postal', 'nom_commune', 'alias', 'nom_ld', 'libelle_acheminement', 'nom_afnor'])\n",
    "\n",
    "df = dask.dataframe.read_csv('./dataset/adresses-france.csv', blocksize=\"100MB\", on_bad_lines='skip', delimiter=';',\n",
    "                             low_memory=False, dtype={'id_fantoir': 'object',\n",
    "                                                      'nom_ancienne_commune': 'object',\n",
    "                                                      'nom_ld': 'object',\n",
    "                                                      'rep': 'object',\n",
    "                                                      'code_postal': 'object',\n",
    "                                                      'code_insee': 'object'})\n",
    "df.to_parquet('./dataset/adresses-france.csv'.replace(\".csv\", \".parquet\"))\n",
    "\n"
   ],
   "metadata": {
    "collapsed": true,
    "ExecuteTime": {
     "end_time": "2024-03-26T07:06:21.869435Z",
     "start_time": "2024-03-26T07:04:31.082292Z"
    }
   },
   "id": "initial_id",
   "execution_count": 2
  },
  {
   "cell_type": "code",
   "outputs": [],
   "source": [
    "df = dask.dataframe.read_parquet('./dataset/adresses-france.parquet')"
   ],
   "metadata": {
    "collapsed": false,
    "ExecuteTime": {
     "end_time": "2024-03-26T07:32:26.974005Z",
     "start_time": "2024-03-26T07:32:26.961157Z"
    }
   },
   "id": "46cc38890ef55914",
   "execution_count": 2
  },
  {
   "cell_type": "code",
   "outputs": [],
   "source": [
    "df = df[['id','numero','rep','nom_voie','code_postal','nom_commune','nom_ld']]"
   ],
   "metadata": {
    "collapsed": false,
    "ExecuteTime": {
     "end_time": "2024-03-26T07:28:25.012374Z",
     "start_time": "2024-03-26T07:28:25.008873Z"
    }
   },
   "id": "27ad2b925c7586d",
   "execution_count": 4
  },
  {
   "cell_type": "code",
   "outputs": [],
   "source": [
    "df = df.replace(np.nan, '', regex=True)\n",
    "df = df.replace('_1', '', regex=True)\n"
   ],
   "metadata": {
    "collapsed": false,
    "ExecuteTime": {
     "end_time": "2024-03-26T07:29:47.551189Z",
     "start_time": "2024-03-26T07:29:47.547236Z"
    }
   },
   "id": "546dede609bd3259",
   "execution_count": 7
  },
  {
   "cell_type": "code",
   "outputs": [
    {
     "data": {
      "text/plain": "Dask DataFrame Structure:\n                    id numero     rep nom_voie code_postal nom_commune  nom_ld\nnpartitions=47                                                                \n                string  int64  string   string      string      string  string\n                   ...    ...     ...      ...         ...         ...     ...\n...                ...    ...     ...      ...         ...         ...     ...\n                   ...    ...     ...      ...         ...         ...     ...\n                   ...    ...     ...      ...         ...         ...     ...\nDask Name: dropduplicates, 5 expressions\nExpr=DropDuplicates(frame=Replace(frame=Replace(frame=ReadParquetFSSpec(ab35767)[['id', 'numero', 'rep', 'nom_voie', 'code_postal', 'nom_commune', 'nom_ld']], to_replace=nan, value='', regex=True), to_replace='_1', value='', regex=True), subset=['rep', 'nom_voie', 'nom_commune', 'nom_ld'])",
      "text/html": "<div><strong>Dask DataFrame Structure:</strong></div>\n<table border=\"1\" class=\"dataframe\">\n  <thead>\n    <tr style=\"text-align: right;\">\n      <th></th>\n      <th>id</th>\n      <th>numero</th>\n      <th>rep</th>\n      <th>nom_voie</th>\n      <th>code_postal</th>\n      <th>nom_commune</th>\n      <th>nom_ld</th>\n    </tr>\n    <tr>\n      <th>npartitions=47</th>\n      <th></th>\n      <th></th>\n      <th></th>\n      <th></th>\n      <th></th>\n      <th></th>\n      <th></th>\n    </tr>\n  </thead>\n  <tbody>\n    <tr>\n      <th></th>\n      <td>string</td>\n      <td>int64</td>\n      <td>string</td>\n      <td>string</td>\n      <td>string</td>\n      <td>string</td>\n      <td>string</td>\n    </tr>\n    <tr>\n      <th></th>\n      <td>...</td>\n      <td>...</td>\n      <td>...</td>\n      <td>...</td>\n      <td>...</td>\n      <td>...</td>\n      <td>...</td>\n    </tr>\n    <tr>\n      <th>...</th>\n      <td>...</td>\n      <td>...</td>\n      <td>...</td>\n      <td>...</td>\n      <td>...</td>\n      <td>...</td>\n      <td>...</td>\n    </tr>\n    <tr>\n      <th></th>\n      <td>...</td>\n      <td>...</td>\n      <td>...</td>\n      <td>...</td>\n      <td>...</td>\n      <td>...</td>\n      <td>...</td>\n    </tr>\n    <tr>\n      <th></th>\n      <td>...</td>\n      <td>...</td>\n      <td>...</td>\n      <td>...</td>\n      <td>...</td>\n      <td>...</td>\n      <td>...</td>\n    </tr>\n  </tbody>\n</table>\n<div>Dask Name: dropduplicates, 5 expressions</div>"
     },
     "execution_count": 9,
     "metadata": {},
     "output_type": "execute_result"
    }
   ],
   "source": [
    "df.drop_duplicates(['rep', 'nom_voie', 'nom_commune', 'nom_ld'])"
   ],
   "metadata": {
    "collapsed": false,
    "ExecuteTime": {
     "end_time": "2024-03-26T07:29:57.687368Z",
     "start_time": "2024-03-26T07:29:57.665010Z"
    }
   },
   "id": "6b83a8f803e3a56a",
   "execution_count": 9
  },
  {
   "cell_type": "code",
   "outputs": [
    {
     "data": {
      "text/plain": "                   id  numero rep      nom_voie code_postal  \\\n0  01001_4b50r5_00630     630         la Chèvre       01400   \n1  01001_g0ru02_00108     108         Clemencia       01400   \n2  01001_ngzlqw_00009       9      Imp des Epis       01400   \n3  01001_ngzlqw_00023      23      Imp des Epis       01400   \n4  01001_ngzlqw_00026      26      Imp des Epis       01400   \n\n               nom_commune nom_ld  \n0  L'Abergement-Clémenciat         \n1  L'Abergement-Clémenciat         \n2  L'Abergement-Clémenciat         \n3  L'Abergement-Clémenciat         \n4  L'Abergement-Clémenciat         ",
      "text/html": "<div>\n<style scoped>\n    .dataframe tbody tr th:only-of-type {\n        vertical-align: middle;\n    }\n\n    .dataframe tbody tr th {\n        vertical-align: top;\n    }\n\n    .dataframe thead th {\n        text-align: right;\n    }\n</style>\n<table border=\"1\" class=\"dataframe\">\n  <thead>\n    <tr style=\"text-align: right;\">\n      <th></th>\n      <th>id</th>\n      <th>numero</th>\n      <th>rep</th>\n      <th>nom_voie</th>\n      <th>code_postal</th>\n      <th>nom_commune</th>\n      <th>nom_ld</th>\n    </tr>\n  </thead>\n  <tbody>\n    <tr>\n      <th>0</th>\n      <td>01001_4b50r5_00630</td>\n      <td>630</td>\n      <td></td>\n      <td>la Chèvre</td>\n      <td>01400</td>\n      <td>L'Abergement-Clémenciat</td>\n      <td></td>\n    </tr>\n    <tr>\n      <th>1</th>\n      <td>01001_g0ru02_00108</td>\n      <td>108</td>\n      <td></td>\n      <td>Clemencia</td>\n      <td>01400</td>\n      <td>L'Abergement-Clémenciat</td>\n      <td></td>\n    </tr>\n    <tr>\n      <th>2</th>\n      <td>01001_ngzlqw_00009</td>\n      <td>9</td>\n      <td></td>\n      <td>Imp des Epis</td>\n      <td>01400</td>\n      <td>L'Abergement-Clémenciat</td>\n      <td></td>\n    </tr>\n    <tr>\n      <th>3</th>\n      <td>01001_ngzlqw_00023</td>\n      <td>23</td>\n      <td></td>\n      <td>Imp des Epis</td>\n      <td>01400</td>\n      <td>L'Abergement-Clémenciat</td>\n      <td></td>\n    </tr>\n    <tr>\n      <th>4</th>\n      <td>01001_ngzlqw_00026</td>\n      <td>26</td>\n      <td></td>\n      <td>Imp des Epis</td>\n      <td>01400</td>\n      <td>L'Abergement-Clémenciat</td>\n      <td></td>\n    </tr>\n  </tbody>\n</table>\n</div>"
     },
     "execution_count": 10,
     "metadata": {},
     "output_type": "execute_result"
    }
   ],
   "source": [
    "df.head()"
   ],
   "metadata": {
    "collapsed": false,
    "ExecuteTime": {
     "end_time": "2024-03-26T07:32:00.774566Z",
     "start_time": "2024-03-26T07:31:59.611028Z"
    }
   },
   "id": "71760094a26d6133",
   "execution_count": 10
  },
  {
   "cell_type": "code",
   "outputs": [
    {
     "data": {
      "text/plain": "(<dask_expr.expr.Scalar: expr=(Replace(frame=Replace(frame=ReadParquetFSSpec(ab35767)[['id', 'numero', 'rep', 'nom_voie', 'code_postal', 'nom_commune', 'nom_ld']], to_replace=nan, value='', regex=True), to_replace='_1', value='', regex=True)).size() / 7, dtype=float64>,\n 7)"
     },
     "execution_count": 11,
     "metadata": {},
     "output_type": "execute_result"
    }
   ],
   "source": [
    "df.shape"
   ],
   "metadata": {
    "collapsed": false,
    "ExecuteTime": {
     "end_time": "2024-03-26T07:32:09.930514Z",
     "start_time": "2024-03-26T07:32:09.921054Z"
    }
   },
   "id": "7db179c3ba9c61cd",
   "execution_count": 11
  },
  {
   "cell_type": "code",
   "outputs": [],
   "source": [
    "df_addresses = pd.read_parquet('./dataset/adresses-france.parquet')"
   ],
   "metadata": {
    "collapsed": false,
    "ExecuteTime": {
     "end_time": "2024-03-26T07:34:24.205646Z",
     "start_time": "2024-03-26T07:34:02.220426Z"
    }
   },
   "id": "f40e3cc88546f376",
   "execution_count": 8
  },
  {
   "cell_type": "code",
   "outputs": [],
   "source": [
    "df_addresses.drop(\n",
    "    columns=['id_fantoir', 'code_insee', 'code_insee_ancienne_commune', 'nom_ancienne_commune', 'x', 'y', 'lon', 'lat', 'alias',\n",
    "             'type_position', 'source_position', 'source_nom_voie', 'certification_commune', 'cad_parcelles', 'libelle_acheminement', 'nom_afnor'],\n",
    "    inplace=True)"
   ],
   "metadata": {
    "collapsed": false,
    "ExecuteTime": {
     "end_time": "2024-03-26T07:35:22.456964Z",
     "start_time": "2024-03-26T07:35:19.720316Z"
    }
   },
   "id": "b8ae45ef1cb0962b",
   "execution_count": 10
  },
  {
   "cell_type": "code",
   "outputs": [],
   "source": [
    "df_addresses.replace(np.nan, '', regex=True, inplace=True)\n",
    "df_addresses.replace('_1', '', regex=True, inplace=True)\n"
   ],
   "metadata": {
    "collapsed": false,
    "ExecuteTime": {
     "end_time": "2024-03-26T07:36:35.524315Z",
     "start_time": "2024-03-26T07:35:50.062904Z"
    }
   },
   "id": "5842e9633e23fada",
   "execution_count": 12
  },
  {
   "cell_type": "code",
   "outputs": [
    {
     "data": {
      "text/plain": "(3393705, 7)"
     },
     "execution_count": 13,
     "metadata": {},
     "output_type": "execute_result"
    }
   ],
   "source": [
    "df_addresses.drop_duplicates(['rep', 'nom_voie', 'nom_commune', 'nom_ld'], inplace=True)\n",
    "df_addresses.shape"
   ],
   "metadata": {
    "collapsed": false,
    "ExecuteTime": {
     "end_time": "2024-03-26T07:37:14.592994Z",
     "start_time": "2024-03-26T07:37:08.003932Z"
    }
   },
   "id": "8f22beb980065b8d",
   "execution_count": 13
  },
  {
   "cell_type": "code",
   "outputs": [
    {
     "data": {
      "text/plain": "                                       id  numero  rep               nom_voie  \\\n__null_dask_index__                                                             \n0                      01001_4b50r5_00630     630                   la Chèvre   \n1                      01001_g0ru02_00108     108                   Clemencia   \n2                      01001_ngzlqw_00009       9                Imp des Epis   \n12                       01001_0165_00019      19        Route de la Fontaine   \n43                   01001_0165_00080_bis      80  bis   Route de la Fontaine   \n...                                   ...     ...  ...                    ...   \n576                      01002_0140_00008       8            Chemin du Lavoir   \n586                      01002_0095_00037      37       Ruelle de la Flotiere   \n591                      01002_0295_00020      20            Route des Vignes   \n598                      01002_0145_00002       2        Chemin Louis Lumiere   \n603                      01002_0160_00028      28               Rue du Moulin   \n\n                    code_postal              nom_commune nom_ld  \n__null_dask_index__                                              \n0                         01400  L'Abergement-Clémenciat         \n1                         01400  L'Abergement-Clémenciat         \n2                         01400  L'Abergement-Clémenciat         \n12                        01400  L'Abergement-Clémenciat         \n43                        01400  L'Abergement-Clémenciat         \n...                         ...                      ...    ...  \n576                       01640    L'Abergement-de-Varey         \n586                       01640    L'Abergement-de-Varey         \n591                       01640    L'Abergement-de-Varey         \n598                       01640    L'Abergement-de-Varey         \n603                       01640    L'Abergement-de-Varey         \n\n[100 rows x 7 columns]",
      "text/html": "<div>\n<style scoped>\n    .dataframe tbody tr th:only-of-type {\n        vertical-align: middle;\n    }\n\n    .dataframe tbody tr th {\n        vertical-align: top;\n    }\n\n    .dataframe thead th {\n        text-align: right;\n    }\n</style>\n<table border=\"1\" class=\"dataframe\">\n  <thead>\n    <tr style=\"text-align: right;\">\n      <th></th>\n      <th>id</th>\n      <th>numero</th>\n      <th>rep</th>\n      <th>nom_voie</th>\n      <th>code_postal</th>\n      <th>nom_commune</th>\n      <th>nom_ld</th>\n    </tr>\n    <tr>\n      <th>__null_dask_index__</th>\n      <th></th>\n      <th></th>\n      <th></th>\n      <th></th>\n      <th></th>\n      <th></th>\n      <th></th>\n    </tr>\n  </thead>\n  <tbody>\n    <tr>\n      <th>0</th>\n      <td>01001_4b50r5_00630</td>\n      <td>630</td>\n      <td></td>\n      <td>la Chèvre</td>\n      <td>01400</td>\n      <td>L'Abergement-Clémenciat</td>\n      <td></td>\n    </tr>\n    <tr>\n      <th>1</th>\n      <td>01001_g0ru02_00108</td>\n      <td>108</td>\n      <td></td>\n      <td>Clemencia</td>\n      <td>01400</td>\n      <td>L'Abergement-Clémenciat</td>\n      <td></td>\n    </tr>\n    <tr>\n      <th>2</th>\n      <td>01001_ngzlqw_00009</td>\n      <td>9</td>\n      <td></td>\n      <td>Imp des Epis</td>\n      <td>01400</td>\n      <td>L'Abergement-Clémenciat</td>\n      <td></td>\n    </tr>\n    <tr>\n      <th>12</th>\n      <td>01001_0165_00019</td>\n      <td>19</td>\n      <td></td>\n      <td>Route de la Fontaine</td>\n      <td>01400</td>\n      <td>L'Abergement-Clémenciat</td>\n      <td></td>\n    </tr>\n    <tr>\n      <th>43</th>\n      <td>01001_0165_00080_bis</td>\n      <td>80</td>\n      <td>bis</td>\n      <td>Route de la Fontaine</td>\n      <td>01400</td>\n      <td>L'Abergement-Clémenciat</td>\n      <td></td>\n    </tr>\n    <tr>\n      <th>...</th>\n      <td>...</td>\n      <td>...</td>\n      <td>...</td>\n      <td>...</td>\n      <td>...</td>\n      <td>...</td>\n      <td>...</td>\n    </tr>\n    <tr>\n      <th>576</th>\n      <td>01002_0140_00008</td>\n      <td>8</td>\n      <td></td>\n      <td>Chemin du Lavoir</td>\n      <td>01640</td>\n      <td>L'Abergement-de-Varey</td>\n      <td></td>\n    </tr>\n    <tr>\n      <th>586</th>\n      <td>01002_0095_00037</td>\n      <td>37</td>\n      <td></td>\n      <td>Ruelle de la Flotiere</td>\n      <td>01640</td>\n      <td>L'Abergement-de-Varey</td>\n      <td></td>\n    </tr>\n    <tr>\n      <th>591</th>\n      <td>01002_0295_00020</td>\n      <td>20</td>\n      <td></td>\n      <td>Route des Vignes</td>\n      <td>01640</td>\n      <td>L'Abergement-de-Varey</td>\n      <td></td>\n    </tr>\n    <tr>\n      <th>598</th>\n      <td>01002_0145_00002</td>\n      <td>2</td>\n      <td></td>\n      <td>Chemin Louis Lumiere</td>\n      <td>01640</td>\n      <td>L'Abergement-de-Varey</td>\n      <td></td>\n    </tr>\n    <tr>\n      <th>603</th>\n      <td>01002_0160_00028</td>\n      <td>28</td>\n      <td></td>\n      <td>Rue du Moulin</td>\n      <td>01640</td>\n      <td>L'Abergement-de-Varey</td>\n      <td></td>\n    </tr>\n  </tbody>\n</table>\n<p>100 rows × 7 columns</p>\n</div>"
     },
     "execution_count": 14,
     "metadata": {},
     "output_type": "execute_result"
    }
   ],
   "source": [
    "df_addresses.head(100)"
   ],
   "metadata": {
    "collapsed": false,
    "ExecuteTime": {
     "end_time": "2024-03-26T07:37:17.449605Z",
     "start_time": "2024-03-26T07:37:17.438573Z"
    }
   },
   "id": "b901479e48fce37c",
   "execution_count": 14
  },
  {
   "cell_type": "code",
   "outputs": [],
   "source": [
    "df_addresses.to_parquet('./dataset/adresses-france-cleaned.parquet')"
   ],
   "metadata": {
    "collapsed": false,
    "ExecuteTime": {
     "end_time": "2024-03-26T07:37:59.844957Z",
     "start_time": "2024-03-26T07:37:57.443678Z"
    }
   },
   "id": "aa5b5a74252059b7",
   "execution_count": 15
  }
 ],
 "metadata": {
  "kernelspec": {
   "display_name": "Python 3",
   "language": "python",
   "name": "python3"
  },
  "language_info": {
   "codemirror_mode": {
    "name": "ipython",
    "version": 2
   },
   "file_extension": ".py",
   "mimetype": "text/x-python",
   "name": "python",
   "nbconvert_exporter": "python",
   "pygments_lexer": "ipython2",
   "version": "2.7.6"
  }
 },
 "nbformat": 4,
 "nbformat_minor": 5
}
