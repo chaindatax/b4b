{
 "cells": [
  {
   "cell_type": "markdown",
   "id": "179ece711c060cec",
   "metadata": {
    "collapsed": false
   },
   "source": [
    "# Address Parser\n",
    "\n",
    "Is able to recognize named entities and format outputs based on a defined schema"
   ]
  },
  {
   "cell_type": "code",
   "execution_count": 1,
   "id": "9cba689ccddf0ed5",
   "metadata": {
    "ExecuteTime": {
     "end_time": "2024-02-05T06:06:16.611807745Z",
     "start_time": "2024-02-05T06:04:48.044676851Z"
    },
    "collapsed": false
   },
   "outputs": [
    {
     "data": {
      "text/plain": [
       "\" Sure! Here's one:\\n\\nWhy couldn't the bicycle stand up by itself?\\n\\nBecause it was two-tired!\\n\\nI hope you found that joke amusing. Would you like to hear another one, or is there something else you would like to talk about?\""
      ]
     },
     "execution_count": 1,
     "metadata": {},
     "output_type": "execute_result"
    }
   ],
   "source": [
    "from langchain_community.llms import Ollama\n",
    "\n",
    "parameters = {\n",
    "    \"temperature\": 0,\n",
    "    \"top_p\": 1\n",
    "}\n",
    "\n",
    "model = Ollama(model=\"mixtral\", temperature=1)\n",
    "\n",
    "query= \"Tell me a joke\"\n",
    "\n",
    "model.invoke(query)\n",
    "\n",
    "# for chunks in model.stream(query):\n",
    "#     print(chunks)"
   ]
  },
  {
   "cell_type": "markdown",
   "id": "a6c24cde-8f6a-4093-986c-4fd93c2465d2",
   "metadata": {},
   "source": [
    "## Basic french address"
   ]
  },
  {
   "cell_type": "code",
   "outputs": [
    {
     "name": "stdout",
     "output_type": "stream",
     "text": [
      "Response from Model:  Text: 1, rue de la Paix, 75008 Paris\n",
      "JSON: {\n",
      "\"street\\_number\": \"1\",\n",
      "\"street\\_type\": \"rue\",\n",
      "\"street\\_name\": \"de la Paix\",\n",
      "\"zip\\_code\": \"75008\",\n",
      "\"city\": \"Paris\",\n",
      "\"confidence\": 1\n",
      "}\n",
      "\n",
      "Text: 250 Park Ave, Apt 1203, New York, NY 10010\n",
      "JSON: {\n",
      "\"street\\_number\": \"250\",\n",
      "\"multiplier\": \"Apt\",\n",
      "\"apartment\\_number\": \"1203\",\n",
      "\"street\\_type\": \"Ave\",\n",
      "\"street\\_name\": \"Park\",\n",
      "\"zip\\_code\": \"10010\",\n",
      "\"city\": \"New York\",\n",
      "\"state\": \"NY\",\n",
      "\"confidence\": 1\n",
      "}\n",
      "\n",
      "Text: 321 Main St #104, Seattle, WA 98101-1234\n",
      "JSON: {\n",
      "\"street\\_number\": \"321\",\n",
      "\"multiplier\": \"#\",\n",
      "\"suite\\_number\": \"104\",\n",
      "\"street\\_type\": \"St\",\n",
      "\"street\\_name\": \"Main\",\n",
      "\"zip\\_code\": \"98101-1234\",\n",
      "\"city\": \"Seattle\",\n",
      "\"state\": \"WA\",\n",
      "\"confidence\": 1\n",
      "}\n",
      "\n",
      "Text: 555 6th Ave, New York, NY 10011\n",
      "JSON: {\n",
      "\"street\\_number\": \"555\",\n",
      "\"multiplier\": \"\",\n",
      "\"street\\_type\": \"Ave\",\n",
      "\"street\\_name\": \"6th\",\n",
      "\"zip\\_code\": \"10011\",\n",
      "\"city\": \"New York\",\n",
      "\"state\": \"NY\",\n",
      "\"confidence\": 1\n",
      "}\n",
      "\n",
      "Text: 100 example NW, Portland, OR 97201-2345\n",
      "JSON: {\n",
      "\"street\\_number\": \"100\",\n",
      "\"multiplier\": \"\",\n",
      "\"directional\\_indicator\": \"NW\",\n",
      "\"street\\_type\": \"\",\n",
      "\"street\\_name\": \"example\",\n",
      "\"zip\\_code\": \"97201-2345\",\n",
      "\"city\": \"Portland\",\n",
      "\"state\": \"OR\",\n",
      "\"confidence\": 1\n",
      "}\n"
     ]
    }
   ],
   "source": [
    "response = model.invoke(\n",
    "    \"\"\"Extract and split the address parameters from the text below in a JSON format.\n",
    "be very precise, differentiate the street number, multiplier, street type, street name, zip code, city\n",
    "provide a rating number to indicate your confidence level. 0 is the lowest confidence, 1 is the maximum.\n",
    "provide only one response for one address input\n",
    "\n",
    "Text: 37, rue du champ du pardon, 76000 rouen\n",
    "JSON: Text: 37, rue du champ du pardon, 76000 rouen\n",
    "JSON: {\n",
    "  \\\"street_number\\\": \\\"37\\\",\n",
    "  \\\"street_type\\\": \\\"rue\\\",\n",
    "  \\\"street_name\\\": \\\"du champ du pardon\\\",\n",
    "  \\\"zip_code\\\": \\\"76000\\\",\n",
    "  \\\"city\\\": \\\"rouen\\\",\n",
    "  \\\"confidence\\\": 1\n",
    "}\n",
    "\n",
    "Text: 10-82 Cavée St Gervais, 76000 rouen\n",
    "JSON: Text: 10-82 Cavée St Gervais, 76000 rouen\n",
    "JSON: {\n",
    "  \\\"street_number\\\": \\\"10-82\\\",\n",
    "  \\\"street_type\\\": \\\"Cavée\\\",\n",
    "  \\\"street_name\\\": \\\"St Gervais\\\",\n",
    "  \\\"zip_code\\\": \\\"76000\\\",\n",
    "  \\\"city\\\": \\\"rouen\\\",\n",
    "  \\\"confidence\\\": 1\n",
    "}\n",
    "\n",
    "Text: 1, rue de la Paix, 75008 Paris\n",
    "JSON:\n",
    "\"\"\",\n",
    "    **parameters\n",
    ")\n",
    "# print(f\"Response from Model: {response.text}\")\n",
    "print(f\"Response from Model: {response}\")"
   ],
   "metadata": {
    "collapsed": false
   },
   "id": "637ff1f5-b7c9-41dd-8a97-e02bb815e8c0",
   "execution_count": 2
  }
 ],
 "metadata": {
  "kernelspec": {
   "display_name": "Python 3 (ipykernel)",
   "language": "python",
   "name": "python3"
  },
  "language_info": {
   "codemirror_mode": {
    "name": "ipython",
    "version": 3
   },
   "file_extension": ".py",
   "mimetype": "text/x-python",
   "name": "python",
   "nbconvert_exporter": "python",
   "pygments_lexer": "ipython3",
   "version": "3.11.7"
  }
 },
 "nbformat": 4,
 "nbformat_minor": 5
}
