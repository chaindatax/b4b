{
 "cells": [
  {
   "cell_type": "markdown",
   "id": "179ece711c060cec",
   "metadata": {},
   "source": [
    "# Address Parser\n",
    "\n",
    "Is able to recognize named entities and format outputs based on a defined schema"
   ]
  },
  {
   "cell_type": "code",
   "outputs": [],
   "source": [
    "from dotenv import load_dotenv\n",
    "\n",
    "load_dotenv()\n",
    "\n",
    "from langchain_mistralai import ChatMistralAI\n",
    "model = ChatMistralAI(model=\"mistral-large-latest\")\n",
    "\n"
   ],
   "metadata": {
    "collapsed": false,
    "ExecuteTime": {
     "end_time": "2024-03-27T21:03:19.935749Z",
     "start_time": "2024-03-27T21:03:12.531538Z"
    }
   },
   "id": "9f378b3f03c02d99",
   "execution_count": 1
  },
  {
   "cell_type": "code",
   "outputs": [
    {
     "data": {
      "text/plain": "AIMessage(content=\"Hello! How can I assist you today? If you have any questions or need help with a specific topic, feel free to ask. I'm here to provide information and support.\", response_metadata={'token_usage': {'prompt_tokens': 5, 'total_tokens': 42, 'completion_tokens': 37}, 'model': 'mistral-large-latest', 'finish_reason': 'stop'})"
     },
     "execution_count": 2,
     "metadata": {},
     "output_type": "execute_result"
    }
   ],
   "source": [
    "from langchain_core.messages import HumanMessage\n",
    "message = [HumanMessage(\"hello\")]\n",
    "model.invoke(message)"
   ],
   "metadata": {
    "collapsed": false,
    "ExecuteTime": {
     "end_time": "2024-03-27T21:03:22.514149Z",
     "start_time": "2024-03-27T21:03:20.760351Z"
    }
   },
   "id": "59a5712af9118cd3",
   "execution_count": 2
  },
  {
   "cell_type": "code",
   "outputs": [],
   "source": [
    "import os \n",
    "\n",
    "os.environ[\"LANGCHAIN_TRACING_V2\"] = \"true\"\n",
    "os.environ[\"LANGCHAIN_ENDPOINT\"] = \"https://api.smith.langchain.com\"\n",
    "os.environ[\"LANGCHAIN_PROJECT\"] = \"FICABA_MISTRAL\""
   ],
   "metadata": {
    "collapsed": false,
    "ExecuteTime": {
     "end_time": "2024-03-27T21:03:56.924489Z",
     "start_time": "2024-03-27T21:03:56.920844Z"
    }
   },
   "id": "40ee7b1f4fce36d6",
   "execution_count": 3
  },
  {
   "cell_type": "code",
   "outputs": [],
   "source": [
    "\n"
   ],
   "metadata": {
    "collapsed": false,
    "ExecuteTime": {
     "end_time": "2024-03-27T21:17:22.475201Z",
     "start_time": "2024-03-27T21:17:22.459101Z"
    }
   },
   "id": "ea7b599abc82a162",
   "execution_count": 17
  },
  {
   "cell_type": "code",
   "outputs": [],
   "source": [
    "\n",
    "from langchain_core.pydantic_v1 import BaseModel, Field\n",
    "from typing import Optional\n",
    "\n",
    "\n",
    "class Address(BaseModel):\n",
    "    street_number: Optional[str] = Field(description=\"street number\")\n",
    "    street_number_multiplier: Optional[str] = Field(description=\"street number multiplier suffix\")\n",
    "    street_type: Optional[str]\n",
    "    street_name: Optional[str]\n",
    "    locality: Optional[str]  #lieu-dit\n",
    "    zip_code: Optional[str]\n",
    "    city: Optional[str]\n",
    "    country: Optional[str]\n",
    "    confidence: int = Field(description=\"confidence level from 0 to 5 to have correctly extracted the field.\")\n",
    "model_with_structure = model.with_structured_output(Address)\n"
   ],
   "metadata": {
    "collapsed": false,
    "ExecuteTime": {
     "end_time": "2024-03-27T21:07:32.381632Z",
     "start_time": "2024-03-27T21:07:32.374981Z"
    }
   },
   "id": "fcfd8894f983ab43",
   "execution_count": 7
  },
  {
   "cell_type": "code",
   "outputs": [],
   "source": [
    "from langchain import callbacks\n",
    "from langsmith import Client\n",
    "\n",
    "def filter_inputs(inputs: dict):\n",
    "    # You can define custom filtering here\n",
    "    return {}\n",
    "\n",
    "\n",
    "def filter_outputs(outputs: dict):\n",
    "    # You can define custom filtering here\n",
    "    return {}\n",
    "\n",
    "client = Client(\n",
    "    api_url=os.getenv(\"LANGCHAIN_ENDPOINT\"),\n",
    "    api_key=os.getenv(\"LANGCHAIN_API_KEY\"),\n",
    "    hide_inputs=filter_inputs,\n",
    "    hide_outputs=filter_outputs\n",
    ")\n",
    "    \n",
    "def split_address(_address:str) -> Address :   \n",
    "    with callbacks.collect_runs() as cb:\n",
    "        ret :Address = model_with_structure.invoke(_address)\n",
    "        run_id = cb.traced_runs[0].id\n",
    "\n",
    "        client.create_feedback(\n",
    "            run_id,\n",
    "            key=\"confidence_score\",  # Updated feedback type\n",
    "            score=ret.confidence,\n",
    "            comment=_address,\n",
    "        )\n",
    "    return ret\n"
   ],
   "metadata": {
    "collapsed": false,
    "ExecuteTime": {
     "end_time": "2024-03-27T21:28:03.791465Z",
     "start_time": "2024-03-27T21:28:03.782916Z"
    }
   },
   "id": "5621c96ac1cb9a36",
   "execution_count": 32
  },
  {
   "cell_type": "code",
   "outputs": [
    {
     "data": {
      "text/plain": "Address(street_number='1', street_number_multiplier='', street_type='rue', street_name='de la Paix', locality='', zip_code='75008', city='Paris', country='France', confidence=5)"
     },
     "execution_count": 30,
     "metadata": {},
     "output_type": "execute_result"
    }
   ],
   "source": [
    "split_address(\"1, rue de la Paix, 75008 Paris\")"
   ],
   "metadata": {
    "collapsed": false,
    "ExecuteTime": {
     "end_time": "2024-03-27T21:26:10.256365Z",
     "start_time": "2024-03-27T21:26:07.014813Z"
    }
   },
   "id": "1980270f5445ca0c",
   "execution_count": 30
  },
  {
   "cell_type": "code",
   "outputs": [
    {
     "data": {
      "text/plain": "Address(street_number='78', street_number_multiplier='bis', street_type=None, street_name='Cavee des Ecameaux', locality=None, zip_code='76500', city='Elbeuf', country=None, confidence=5)"
     },
     "execution_count": 27,
     "metadata": {},
     "output_type": "execute_result"
    }
   ],
   "source": [
    "split_address(\"78 bis Cavee des Ecameaux 76500 Elbeuf\")"
   ],
   "metadata": {
    "collapsed": false,
    "ExecuteTime": {
     "end_time": "2024-03-27T21:25:04.863010Z",
     "start_time": "2024-03-27T21:25:01.931415Z"
    }
   },
   "id": "515fdd5f1e48ce18",
   "execution_count": 27
  },
  {
   "cell_type": "code",
   "outputs": [
    {
     "data": {
      "text/plain": "Address(street_number='111', street_number_multiplier='8th', street_type='Ave', street_name='Ste 1509', locality='Oklahoma', zip_code='74136-1922', city='Oklahoma', country='USA', confidence=5)"
     },
     "execution_count": 16,
     "metadata": {},
     "output_type": "execute_result"
    }
   ],
   "source": [
    "split_address(\"C/o John Doe LLC, 111, 8th Ave Ste 1509, Oklahoma, 74136-1922, USA\")"
   ],
   "metadata": {
    "collapsed": false,
    "ExecuteTime": {
     "end_time": "2024-03-27T21:14:54.986563Z",
     "start_time": "2024-03-27T21:14:51.451147Z"
    }
   },
   "id": "a93d5283d802c54c",
   "execution_count": 16
  },
  {
   "cell_type": "code",
   "outputs": [
    {
     "data": {
      "text/plain": "Address(street_number='1', street_number_multiplier=None, street_type=None, street_name='Haßfurter Str.', locality=None, zip_code='91056', city='Erlangen', country='Germany', confidence=5)"
     },
     "execution_count": 76,
     "metadata": {},
     "output_type": "execute_result"
    }
   ],
   "source": [
    "split_address(\"Haßfurter Str. 1, 91056 Erlangen, Germany\")\n"
   ],
   "metadata": {
    "collapsed": false,
    "ExecuteTime": {
     "end_time": "2024-03-27T20:10:33.527138Z",
     "start_time": "2024-03-27T20:10:31.096429Z"
    }
   },
   "id": "2e0bc00fe917509e",
   "execution_count": 76
  },
  {
   "cell_type": "code",
   "outputs": [
    {
     "data": {
      "text/plain": "Address(street_number='9', street_number_multiplier='', street_type='', street_name='Auschnippe', locality='', zip_code='37170', city='Uslar', country='', confidence=5)"
     },
     "execution_count": 77,
     "metadata": {},
     "output_type": "execute_result"
    }
   ],
   "source": [
    "split_address(\"Auschnippe 9, 37170 Uslar\")\n"
   ],
   "metadata": {
    "collapsed": false,
    "ExecuteTime": {
     "end_time": "2024-03-27T20:10:36.493417Z",
     "start_time": "2024-03-27T20:10:33.530745Z"
    }
   },
   "id": "fb0603fd23a57395",
   "execution_count": 77
  },
  {
   "cell_type": "code",
   "outputs": [
    {
     "data": {
      "text/plain": "Address(street_number='', street_number_multiplier='', street_type='', street_name='', locality='Paris', zip_code='75001', city='Paris', country='France', confidence=5)"
     },
     "execution_count": 78,
     "metadata": {},
     "output_type": "execute_result"
    }
   ],
   "source": [
    "split_address(\"ici c'est paris !, 75001 Paris\")\n"
   ],
   "metadata": {
    "collapsed": false,
    "ExecuteTime": {
     "end_time": "2024-03-27T20:10:39.101587Z",
     "start_time": "2024-03-27T20:10:36.495667Z"
    }
   },
   "id": "ece2ad28ef262740",
   "execution_count": 78
  },
  {
   "cell_type": "code",
   "outputs": [
    {
     "data": {
      "text/plain": "Address(street_number='452', street_number_multiplier='quater', street_type=None, street_name='grande rue general', locality='le palais', zip_code='85000', city='vendee', country=None, confidence=5)"
     },
     "execution_count": 14,
     "metadata": {},
     "output_type": "execute_result"
    }
   ],
   "source": [
    "split_address(\"452 quater grande rue general 85000 le palais vendee\")"
   ],
   "metadata": {
    "collapsed": false,
    "ExecuteTime": {
     "end_time": "2024-03-27T21:13:53.703034Z",
     "start_time": "2024-03-27T21:13:50.265156Z"
    }
   },
   "id": "5d63f270af77a00b",
   "execution_count": 14
  },
  {
   "cell_type": "code",
   "outputs": [],
   "source": [],
   "metadata": {
    "collapsed": false
   },
   "id": "a957262e76542b8"
  },
  {
   "cell_type": "markdown",
   "source": [
    "## Auto-Testing\n",
    "\n",
    "pre-requisite: Install dependencies: pandas, pyarrow, etc...\n",
    "\n",
    "Use of 'base nationale des Adresses' for French addresses (BAN)"
   ],
   "metadata": {
    "collapsed": false
   },
   "id": "60f42728c5cb29b5"
  },
  {
   "cell_type": "markdown",
   "source": [
    "#### Exploratory Data Analysis & Cleanup"
   ],
   "metadata": {
    "collapsed": false
   },
   "id": "cb8c689c256dd70"
  },
  {
   "cell_type": "code",
   "outputs": [],
   "source": [
    "import pandas as pd\n",
    "from pprint import pprint\n",
    "import numpy as np\n",
    "\n",
    "df_addresses = pd.read_parquet('./dataset/adresses-france-cleaned.parquet')\n"
   ],
   "metadata": {
    "collapsed": false,
    "ExecuteTime": {
     "end_time": "2024-03-26T07:47:06.264539Z",
     "start_time": "2024-03-26T07:47:03.964372Z"
    }
   },
   "id": "1bd525271173c666",
   "execution_count": 35
  },
  {
   "cell_type": "code",
   "outputs": [
    {
     "data": {
      "text/plain": "(3393705, 7)"
     },
     "execution_count": 36,
     "metadata": {},
     "output_type": "execute_result"
    }
   ],
   "source": [
    "\n",
    "df_addresses.shape"
   ],
   "metadata": {
    "collapsed": false,
    "ExecuteTime": {
     "end_time": "2024-03-26T07:47:07.790273Z",
     "start_time": "2024-03-26T07:47:07.786091Z"
    }
   },
   "id": "80f69804060e8847",
   "execution_count": 36
  },
  {
   "cell_type": "code",
   "outputs": [
    {
     "data": {
      "text/plain": "                                       id  numero  rep               nom_voie  \\\n__null_dask_index__                                                             \n0                      01001_4b50r5_00630     630                   la Chèvre   \n1                      01001_g0ru02_00108     108                   Clemencia   \n2                      01001_ngzlqw_00009       9                Imp des Epis   \n12                       01001_0165_00019      19        Route de la Fontaine   \n43                   01001_0165_00080_bis      80  bis   Route de la Fontaine   \n...                                   ...     ...  ...                    ...   \n576                      01002_0140_00008       8            Chemin du Lavoir   \n586                      01002_0095_00037      37       Ruelle de la Flotiere   \n591                      01002_0295_00020      20            Route des Vignes   \n598                      01002_0145_00002       2        Chemin Louis Lumiere   \n603                      01002_0160_00028      28               Rue du Moulin   \n\n                    code_postal              nom_commune nom_ld  \n__null_dask_index__                                              \n0                         01400  L'Abergement-Clémenciat         \n1                         01400  L'Abergement-Clémenciat         \n2                         01400  L'Abergement-Clémenciat         \n12                        01400  L'Abergement-Clémenciat         \n43                        01400  L'Abergement-Clémenciat         \n...                         ...                      ...    ...  \n576                       01640    L'Abergement-de-Varey         \n586                       01640    L'Abergement-de-Varey         \n591                       01640    L'Abergement-de-Varey         \n598                       01640    L'Abergement-de-Varey         \n603                       01640    L'Abergement-de-Varey         \n\n[100 rows x 7 columns]",
      "text/html": "<div>\n<style scoped>\n    .dataframe tbody tr th:only-of-type {\n        vertical-align: middle;\n    }\n\n    .dataframe tbody tr th {\n        vertical-align: top;\n    }\n\n    .dataframe thead th {\n        text-align: right;\n    }\n</style>\n<table border=\"1\" class=\"dataframe\">\n  <thead>\n    <tr style=\"text-align: right;\">\n      <th></th>\n      <th>id</th>\n      <th>numero</th>\n      <th>rep</th>\n      <th>nom_voie</th>\n      <th>code_postal</th>\n      <th>nom_commune</th>\n      <th>nom_ld</th>\n    </tr>\n    <tr>\n      <th>__null_dask_index__</th>\n      <th></th>\n      <th></th>\n      <th></th>\n      <th></th>\n      <th></th>\n      <th></th>\n      <th></th>\n    </tr>\n  </thead>\n  <tbody>\n    <tr>\n      <th>0</th>\n      <td>01001_4b50r5_00630</td>\n      <td>630</td>\n      <td></td>\n      <td>la Chèvre</td>\n      <td>01400</td>\n      <td>L'Abergement-Clémenciat</td>\n      <td></td>\n    </tr>\n    <tr>\n      <th>1</th>\n      <td>01001_g0ru02_00108</td>\n      <td>108</td>\n      <td></td>\n      <td>Clemencia</td>\n      <td>01400</td>\n      <td>L'Abergement-Clémenciat</td>\n      <td></td>\n    </tr>\n    <tr>\n      <th>2</th>\n      <td>01001_ngzlqw_00009</td>\n      <td>9</td>\n      <td></td>\n      <td>Imp des Epis</td>\n      <td>01400</td>\n      <td>L'Abergement-Clémenciat</td>\n      <td></td>\n    </tr>\n    <tr>\n      <th>12</th>\n      <td>01001_0165_00019</td>\n      <td>19</td>\n      <td></td>\n      <td>Route de la Fontaine</td>\n      <td>01400</td>\n      <td>L'Abergement-Clémenciat</td>\n      <td></td>\n    </tr>\n    <tr>\n      <th>43</th>\n      <td>01001_0165_00080_bis</td>\n      <td>80</td>\n      <td>bis</td>\n      <td>Route de la Fontaine</td>\n      <td>01400</td>\n      <td>L'Abergement-Clémenciat</td>\n      <td></td>\n    </tr>\n    <tr>\n      <th>...</th>\n      <td>...</td>\n      <td>...</td>\n      <td>...</td>\n      <td>...</td>\n      <td>...</td>\n      <td>...</td>\n      <td>...</td>\n    </tr>\n    <tr>\n      <th>576</th>\n      <td>01002_0140_00008</td>\n      <td>8</td>\n      <td></td>\n      <td>Chemin du Lavoir</td>\n      <td>01640</td>\n      <td>L'Abergement-de-Varey</td>\n      <td></td>\n    </tr>\n    <tr>\n      <th>586</th>\n      <td>01002_0095_00037</td>\n      <td>37</td>\n      <td></td>\n      <td>Ruelle de la Flotiere</td>\n      <td>01640</td>\n      <td>L'Abergement-de-Varey</td>\n      <td></td>\n    </tr>\n    <tr>\n      <th>591</th>\n      <td>01002_0295_00020</td>\n      <td>20</td>\n      <td></td>\n      <td>Route des Vignes</td>\n      <td>01640</td>\n      <td>L'Abergement-de-Varey</td>\n      <td></td>\n    </tr>\n    <tr>\n      <th>598</th>\n      <td>01002_0145_00002</td>\n      <td>2</td>\n      <td></td>\n      <td>Chemin Louis Lumiere</td>\n      <td>01640</td>\n      <td>L'Abergement-de-Varey</td>\n      <td></td>\n    </tr>\n    <tr>\n      <th>603</th>\n      <td>01002_0160_00028</td>\n      <td>28</td>\n      <td></td>\n      <td>Rue du Moulin</td>\n      <td>01640</td>\n      <td>L'Abergement-de-Varey</td>\n      <td></td>\n    </tr>\n  </tbody>\n</table>\n<p>100 rows × 7 columns</p>\n</div>"
     },
     "execution_count": 37,
     "metadata": {},
     "output_type": "execute_result"
    }
   ],
   "source": [
    "df_addresses.head(100)"
   ],
   "metadata": {
    "collapsed": false,
    "ExecuteTime": {
     "end_time": "2024-03-26T07:47:31.804040Z",
     "start_time": "2024-03-26T07:47:31.793588Z"
    }
   },
   "id": "fd669af5030b0377",
   "execution_count": 37
  },
  {
   "cell_type": "code",
   "outputs": [],
   "source": [
    "def dataframe_row_to_pydantic_object(row: pd.Series) -> Address:\n",
    "    \"\"\"\n",
    "    Converts a row from a Pandas DataFrame to a Pydantic object.\n",
    "    Args:\n",
    "        row (pd.Series): A single row from the DataFrame.\n",
    "    Returns:\n",
    "        SomeModel: A Pydantic object with the data from the row.\n",
    "    \"\"\"\n",
    "    #missing street_type\n",
    "    return Address(street_number=str(row['numero']), street_multiplier=row['rep'], street_name=row['nom_voie'],\n",
    "                   zip_code=str(row['code_postal']), city=row['nom_commune'], confidence=1)\n"
   ],
   "metadata": {
    "collapsed": false,
    "ExecuteTime": {
     "end_time": "2024-03-26T07:47:36.598909Z",
     "start_time": "2024-03-26T07:47:36.595144Z"
    }
   },
   "id": "f5956c69fb44a408",
   "execution_count": 38
  },
  {
   "cell_type": "code",
   "outputs": [
    {
     "data": {
      "text/plain": "Address(street_number='630', street_multiplier='', street_type=None, street_name='la Chèvre', locality=None, zip_code='01400', city=\"L'Abergement-Clémenciat\", country=None, confidence=1)"
     },
     "execution_count": 39,
     "metadata": {},
     "output_type": "execute_result"
    }
   ],
   "source": [
    "dataframe_row_to_pydantic_object(df_addresses.iloc[0])"
   ],
   "metadata": {
    "collapsed": false,
    "ExecuteTime": {
     "end_time": "2024-03-26T07:47:44.080247Z",
     "start_time": "2024-03-26T07:47:44.075590Z"
    }
   },
   "id": "c3d7b9a3a73e42b6",
   "execution_count": 39
  },
  {
   "cell_type": "code",
   "outputs": [],
   "source": [
    "def full_address_generator(row: pd.Series) -> str:\n",
    "    \"\"\"\n",
    "    Generates a one line address based on all the available fields from BAN\n",
    "    :param row: pd.Series of one address from BAN\n",
    "    :return: \n",
    "    \"\"\"\n",
    "    if row['nom_ld'] != '':\n",
    "        row['nom_ld'] = ', ' + row['nom_ld'] #todo here we are cheating a little bit, in order to differentiate the locality (lieu-dit) we insert a comma, actually otherwise even for a human it would be very difficult to differentiate ! \n",
    "    strings = [str(row['numero']), str(row['rep']), str(row['nom_voie']), str(row['nom_ld']), str(row['code_postal']),\n",
    "               str(row['nom_commune'])]\n",
    "    return ' '.join(filter(None, strings))\n",
    "    # return f\"{row['numero']}{('',' '+str(row['rep']))[row['rep'] == 'nan']}{' ' + row['nom_voie']}{('', ', '+str(row['nom_ld']))[row['nom_ld'] == 'nan']}{' '+str(row['code_postal'])}{' ' + row['nom_commune']}\""
   ],
   "metadata": {
    "collapsed": false,
    "ExecuteTime": {
     "end_time": "2024-03-26T07:47:48.424516Z",
     "start_time": "2024-03-26T07:47:48.419795Z"
    }
   },
   "id": "e5dd7e33d006e38b",
   "execution_count": 40
  },
  {
   "cell_type": "code",
   "outputs": [
    {
     "name": "stdout",
     "output_type": "stream",
     "text": [
      "id               01408_0146_00091\n",
      "numero                         91\n",
      "rep                              \n",
      "nom_voie         Chemin sur Roche\n",
      "code_postal                 01250\n",
      "nom_commune    Simandre-sur-Suran\n",
      "nom_ld                           \n",
      "Name: 34823, dtype: object\n"
     ]
    },
    {
     "data": {
      "text/plain": "'91 Chemin sur Roche 01250 Simandre-sur-Suran'"
     },
     "execution_count": 41,
     "metadata": {},
     "output_type": "execute_result"
    }
   ],
   "source": [
    "\n",
    "index = 4568\n",
    "pprint(df_addresses.iloc[index])\n",
    "full_address_generator(df_addresses.iloc[index])"
   ],
   "metadata": {
    "collapsed": false,
    "ExecuteTime": {
     "end_time": "2024-03-26T07:47:51.170245Z",
     "start_time": "2024-03-26T07:47:51.164494Z"
    }
   },
   "id": "d9687426db93ff9",
   "execution_count": 41
  },
  {
   "cell_type": "markdown",
   "source": [
    "Add one line address to Dataframe"
   ],
   "metadata": {
    "collapsed": false
   },
   "id": "61ea910aff0fffc1"
  },
  {
   "cell_type": "code",
   "outputs": [],
   "source": [
    "df_addresses['full_add'] = df_addresses.apply(lambda _row: full_address_generator(_row), axis=1)"
   ],
   "metadata": {
    "collapsed": false,
    "ExecuteTime": {
     "end_time": "2024-03-26T07:48:38.206153Z",
     "start_time": "2024-03-26T07:47:55.643053Z"
    }
   },
   "id": "8a3c090535ff458",
   "execution_count": 42
  },
  {
   "cell_type": "code",
   "outputs": [
    {
     "data": {
      "text/plain": "                                       id  numero  rep              nom_voie  \\\n__null_dask_index__                                                            \n0                      01001_4b50r5_00630     630                  la Chèvre   \n1                      01001_g0ru02_00108     108                  Clemencia   \n2                      01001_ngzlqw_00009       9               Imp des Epis   \n12                       01001_0165_00019      19       Route de la Fontaine   \n43                   01001_0165_00080_bis      80  bis  Route de la Fontaine   \n\n                    code_postal              nom_commune nom_ld  \\\n__null_dask_index__                                               \n0                         01400  L'Abergement-Clémenciat          \n1                         01400  L'Abergement-Clémenciat          \n2                         01400  L'Abergement-Clémenciat          \n12                        01400  L'Abergement-Clémenciat          \n43                        01400  L'Abergement-Clémenciat          \n\n                                                              full_add  \n__null_dask_index__                                                     \n0                          630 la Chèvre 01400 L'Abergement-Clémenciat  \n1                          108 Clemencia 01400 L'Abergement-Clémenciat  \n2                         9 Imp des Epis 01400 L'Abergement-Clémenciat  \n12                   19 Route de la Fontaine 01400 L'Abergement-Clé...  \n43                   80 bis Route de la Fontaine 01400 L'Abergement...  ",
      "text/html": "<div>\n<style scoped>\n    .dataframe tbody tr th:only-of-type {\n        vertical-align: middle;\n    }\n\n    .dataframe tbody tr th {\n        vertical-align: top;\n    }\n\n    .dataframe thead th {\n        text-align: right;\n    }\n</style>\n<table border=\"1\" class=\"dataframe\">\n  <thead>\n    <tr style=\"text-align: right;\">\n      <th></th>\n      <th>id</th>\n      <th>numero</th>\n      <th>rep</th>\n      <th>nom_voie</th>\n      <th>code_postal</th>\n      <th>nom_commune</th>\n      <th>nom_ld</th>\n      <th>full_add</th>\n    </tr>\n    <tr>\n      <th>__null_dask_index__</th>\n      <th></th>\n      <th></th>\n      <th></th>\n      <th></th>\n      <th></th>\n      <th></th>\n      <th></th>\n      <th></th>\n    </tr>\n  </thead>\n  <tbody>\n    <tr>\n      <th>0</th>\n      <td>01001_4b50r5_00630</td>\n      <td>630</td>\n      <td></td>\n      <td>la Chèvre</td>\n      <td>01400</td>\n      <td>L'Abergement-Clémenciat</td>\n      <td></td>\n      <td>630 la Chèvre 01400 L'Abergement-Clémenciat</td>\n    </tr>\n    <tr>\n      <th>1</th>\n      <td>01001_g0ru02_00108</td>\n      <td>108</td>\n      <td></td>\n      <td>Clemencia</td>\n      <td>01400</td>\n      <td>L'Abergement-Clémenciat</td>\n      <td></td>\n      <td>108 Clemencia 01400 L'Abergement-Clémenciat</td>\n    </tr>\n    <tr>\n      <th>2</th>\n      <td>01001_ngzlqw_00009</td>\n      <td>9</td>\n      <td></td>\n      <td>Imp des Epis</td>\n      <td>01400</td>\n      <td>L'Abergement-Clémenciat</td>\n      <td></td>\n      <td>9 Imp des Epis 01400 L'Abergement-Clémenciat</td>\n    </tr>\n    <tr>\n      <th>12</th>\n      <td>01001_0165_00019</td>\n      <td>19</td>\n      <td></td>\n      <td>Route de la Fontaine</td>\n      <td>01400</td>\n      <td>L'Abergement-Clémenciat</td>\n      <td></td>\n      <td>19 Route de la Fontaine 01400 L'Abergement-Clé...</td>\n    </tr>\n    <tr>\n      <th>43</th>\n      <td>01001_0165_00080_bis</td>\n      <td>80</td>\n      <td>bis</td>\n      <td>Route de la Fontaine</td>\n      <td>01400</td>\n      <td>L'Abergement-Clémenciat</td>\n      <td></td>\n      <td>80 bis Route de la Fontaine 01400 L'Abergement...</td>\n    </tr>\n  </tbody>\n</table>\n</div>"
     },
     "execution_count": 45,
     "metadata": {},
     "output_type": "execute_result"
    }
   ],
   "source": [
    "df_addresses.head()"
   ],
   "metadata": {
    "collapsed": false,
    "ExecuteTime": {
     "end_time": "2024-03-26T07:49:15.640977Z",
     "start_time": "2024-03-26T07:49:15.629476Z"
    }
   },
   "id": "329063a020022ccb",
   "execution_count": 45
  },
  {
   "cell_type": "markdown",
   "source": [
    "### Scoring on large dataset"
   ],
   "metadata": {
    "collapsed": false
   },
   "id": "b7309ed801a3fc26"
  },
  {
   "cell_type": "code",
   "outputs": [],
   "source": [
    "def score_ban_from_split(split: Address, ban: pd.Series, _print: bool = False) -> tuple[int, int]:\n",
    "    \"\"\"\n",
    "    Defines a score to compare an Address object and a pd.Series of BAN\n",
    "    :param split: Address object\n",
    "    :param ban: pd.Series row of BAN Dataframe\n",
    "    :param _print: print the input objects (debug purposes)\n",
    "    :return: score from 0 to 6 and _score one hot encoded from 0 to 111111\n",
    "    \"\"\"\n",
    "    if _print: \n",
    "        print(split)\n",
    "        print(ban)\n",
    "    _score = 0\n",
    "    if split.street_number == str(ban['numero']): _score += 1\n",
    "    if (not (bool(split.street_multiplier) | bool(ban['rep']))) | (\n",
    "            split.street_multiplier == str(ban['rep'])): _score += 10\n",
    "    if (split.street_type + ' ' + split.street_name) == str(ban['nom_voie']): _score += 100\n",
    "    if (not (bool(split.locality) | bool(ban['nom_ld']))) | (split.locality == ban['nom_ld']): _score += 1000\n",
    "    if split.zip_code == str(ban['code_postal']): _score += 10000\n",
    "    if split.city == str(ban['nom_commune']): _score += 100000\n",
    "    return str(_score).count('1'), _score\n"
   ],
   "metadata": {
    "collapsed": false,
    "ExecuteTime": {
     "end_time": "2024-03-26T07:49:41.542924Z",
     "start_time": "2024-03-26T07:49:41.538992Z"
    }
   },
   "id": "98721ae0b3ccf2ac",
   "execution_count": 46
  },
  {
   "cell_type": "code",
   "outputs": [
    {
     "ename": "NameError",
     "evalue": "name 'chain' is not defined",
     "output_type": "error",
     "traceback": [
      "\u001B[0;31m---------------------------------------------------------------------------\u001B[0m",
      "\u001B[0;31mNameError\u001B[0m                                 Traceback (most recent call last)",
      "Cell \u001B[0;32mIn[47], line 2\u001B[0m\n\u001B[1;32m      1\u001B[0m row \u001B[38;5;241m=\u001B[39m df_addresses\u001B[38;5;241m.\u001B[39miloc[\u001B[38;5;241m6892\u001B[39m]\n\u001B[0;32m----> 2\u001B[0m split_adr \u001B[38;5;241m=\u001B[39m Address(\u001B[38;5;241m*\u001B[39m\u001B[38;5;241m*\u001B[39m\u001B[43mchain\u001B[49m\u001B[38;5;241m.\u001B[39minvoke({\u001B[38;5;124m\"\u001B[39m\u001B[38;5;124maddress\u001B[39m\u001B[38;5;124m\"\u001B[39m: row[\u001B[38;5;124m'\u001B[39m\u001B[38;5;124mfull_add\u001B[39m\u001B[38;5;124m'\u001B[39m]}))\n\u001B[1;32m      3\u001B[0m score \u001B[38;5;241m=\u001B[39m score_ban_from_split(split_adr, row, \u001B[38;5;28;01mTrue\u001B[39;00m)\n\u001B[1;32m      4\u001B[0m score\n",
      "\u001B[0;31mNameError\u001B[0m: name 'chain' is not defined"
     ]
    }
   ],
   "source": [
    "row = df_addresses.iloc[6892]\n",
    "split_adr = Address(**chain.invoke({\"address\": row['full_add']}))\n",
    "score = score_ban_from_split(split_adr, row, True)\n",
    "score"
   ],
   "metadata": {
    "collapsed": false,
    "ExecuteTime": {
     "end_time": "2024-03-26T07:49:44.580091Z",
     "start_time": "2024-03-26T07:49:44.562398Z"
    }
   },
   "id": "ae6c63607913d277",
   "execution_count": 47
  },
  {
   "cell_type": "code",
   "outputs": [],
   "source": [
    "row = df_addresses.iloc[4564]\n",
    "split_adr = Address(**chain.invoke({\"address\": row['full_add']}))\n",
    "score = score_ban_from_split(split_adr, row, True)\n",
    "score"
   ],
   "metadata": {
    "collapsed": false
   },
   "id": "1392beeeeca4bf56",
   "execution_count": null
  },
  {
   "cell_type": "code",
   "outputs": [],
   "source": [
    "row = df_addresses.iloc[5521]\n",
    "split_adr = Address(**chain.invoke({\"address\": row['full_add']}))\n",
    "score = score_ban_from_split(split_adr, row, True)\n",
    "score"
   ],
   "metadata": {
    "collapsed": false
   },
   "id": "9b32210c497da674",
   "execution_count": null
  },
  {
   "cell_type": "code",
   "outputs": [],
   "source": [
    "row = df_addresses.iloc[11123]\n",
    "split_adr = Address(**chain.invoke({\"address\": row['full_add']}))\n",
    "score = score_ban_from_split(split_adr, row, True)\n",
    "score"
   ],
   "metadata": {
    "collapsed": false
   },
   "id": "f193508d972682f",
   "execution_count": null
  },
  {
   "cell_type": "code",
   "outputs": [],
   "source": [
    "row = df_addresses.iloc[5546]\n",
    "split_adr = Address(**chain.invoke({\"address\": row['full_add']}))\n",
    "score = score_ban_from_split(split_adr, row, 1)\n",
    "score"
   ],
   "metadata": {
    "collapsed": false
   },
   "id": "aa1652e42d8f5a45",
   "execution_count": null
  },
  {
   "cell_type": "markdown",
   "source": [
    "#### Score Compute\n",
    "\n",
    "We need to take a portion of the data set in order to minimize the cost\n",
    "we expect the 'score' column to contain the maximum possible returned e.g. (6, 111111)"
   ],
   "metadata": {
    "collapsed": false
   },
   "id": "4408949061423da4"
  },
  {
   "cell_type": "code",
   "outputs": [
    {
     "data": {
      "text/plain": "(3393705, 11)"
     },
     "execution_count": 32,
     "metadata": {},
     "output_type": "execute_result"
    }
   ],
   "source": [
    "df_addresses.shape"
   ],
   "metadata": {
    "collapsed": false,
    "ExecuteTime": {
     "end_time": "2024-03-26T06:56:42.507519Z",
     "start_time": "2024-03-26T06:56:42.504099Z"
    }
   },
   "id": "bdee4447d0593021",
   "execution_count": 32
  },
  {
   "cell_type": "code",
   "outputs": [
    {
     "data": {
      "text/plain": "(200, 8)"
     },
     "execution_count": 48,
     "metadata": {},
     "output_type": "execute_result"
    }
   ],
   "source": [
    "df_test = df_addresses.sample(200).copy()\n",
    "df_test.shape"
   ],
   "metadata": {
    "collapsed": false,
    "ExecuteTime": {
     "end_time": "2024-03-26T07:57:43.358068Z",
     "start_time": "2024-03-26T07:57:43.208379Z"
    }
   },
   "id": "d4e375483acadbb1",
   "execution_count": 48
  },
  {
   "cell_type": "code",
   "outputs": [
    {
     "data": {
      "text/plain": "                                         id  numero  rep  \\\n__null_dask_index__                                        \n54684                  84007_6630_00011_ter      11  ter   \n368587               33473_58bn1m_00001_bis       1  bis   \n196009                     27008_0050_00001       1        \n245047                   36145_3oge9x_00001       1        \n244272                 77201_0060_00014_bis      14  bis   \n...                                     ...     ...  ...   \n424360                   59523_nj44rs_00001       1        \n454815                     61460_0033_00001       1        \n359666                   06152_0295_00020_a      20    a   \n276719                     31557742_00004_a       4    a   \n379781                 47157_0780_00052_bis      52  bis   \n\n                                       nom_voie code_postal  \\\n__null_dask_index__                                           \n54684                       Pl des Trois-Pilats       84000   \n368587                                   Drouin       33920   \n196009                          Rue des Sablons       27460   \n245047                         La Blanchetterie       36290   \n244272                        Place de l’Eglise       77370   \n...                                         ...         ...   \n424360                  Residence des 4 Cantons       59262   \n454815                          Rue Jean Moulin       61470   \n359666                        Avenue Saint Roch       06560   \n276719               Allée des Frères Higouneng       31170   \n379781                Avenue du Maréchal Joffre       47200   \n\n                               nom_commune  nom_ld  \\\n__null_dask_index__                                  \n54684                              Avignon           \n368587                         Saint-Savin           \n196009                              Alizay           \n245047                             Obterre           \n244272                             Gastins           \n...                                    ...     ...   \n424360               Sainghin-en-Mélantois           \n454815                         Sap-en-Auge  le Sap   \n359666                            Valbonne           \n276719                       Tournefeuille           \n379781                            Marmande           \n\n                                                              full_add  \n__null_dask_index__                                                     \n54684                         11 ter Pl des Trois-Pilats 84000 Avignon  \n368587                                  1 bis Drouin 33920 Saint-Savin  \n196009                                  1 Rue des Sablons 27460 Alizay  \n245047                                1 La Blanchetterie 36290 Obterre  \n244272                          14 bis Place de l’Eglise 77370 Gastins  \n...                                                                ...  \n424360               1 Residence des 4 Cantons 59262 Sainghin-en-Mé...  \n454815                    1 Rue Jean Moulin , le Sap 61470 Sap-en-Auge  \n359666                           20 a Avenue Saint Roch 06560 Valbonne  \n276719               4 a Allée des Frères Higouneng 31170 Tournefeu...  \n379781                 52 bis Avenue du Maréchal Joffre 47200 Marmande  \n\n[200 rows x 8 columns]",
      "text/html": "<div>\n<style scoped>\n    .dataframe tbody tr th:only-of-type {\n        vertical-align: middle;\n    }\n\n    .dataframe tbody tr th {\n        vertical-align: top;\n    }\n\n    .dataframe thead th {\n        text-align: right;\n    }\n</style>\n<table border=\"1\" class=\"dataframe\">\n  <thead>\n    <tr style=\"text-align: right;\">\n      <th></th>\n      <th>id</th>\n      <th>numero</th>\n      <th>rep</th>\n      <th>nom_voie</th>\n      <th>code_postal</th>\n      <th>nom_commune</th>\n      <th>nom_ld</th>\n      <th>full_add</th>\n    </tr>\n    <tr>\n      <th>__null_dask_index__</th>\n      <th></th>\n      <th></th>\n      <th></th>\n      <th></th>\n      <th></th>\n      <th></th>\n      <th></th>\n      <th></th>\n    </tr>\n  </thead>\n  <tbody>\n    <tr>\n      <th>54684</th>\n      <td>84007_6630_00011_ter</td>\n      <td>11</td>\n      <td>ter</td>\n      <td>Pl des Trois-Pilats</td>\n      <td>84000</td>\n      <td>Avignon</td>\n      <td></td>\n      <td>11 ter Pl des Trois-Pilats 84000 Avignon</td>\n    </tr>\n    <tr>\n      <th>368587</th>\n      <td>33473_58bn1m_00001_bis</td>\n      <td>1</td>\n      <td>bis</td>\n      <td>Drouin</td>\n      <td>33920</td>\n      <td>Saint-Savin</td>\n      <td></td>\n      <td>1 bis Drouin 33920 Saint-Savin</td>\n    </tr>\n    <tr>\n      <th>196009</th>\n      <td>27008_0050_00001</td>\n      <td>1</td>\n      <td></td>\n      <td>Rue des Sablons</td>\n      <td>27460</td>\n      <td>Alizay</td>\n      <td></td>\n      <td>1 Rue des Sablons 27460 Alizay</td>\n    </tr>\n    <tr>\n      <th>245047</th>\n      <td>36145_3oge9x_00001</td>\n      <td>1</td>\n      <td></td>\n      <td>La Blanchetterie</td>\n      <td>36290</td>\n      <td>Obterre</td>\n      <td></td>\n      <td>1 La Blanchetterie 36290 Obterre</td>\n    </tr>\n    <tr>\n      <th>244272</th>\n      <td>77201_0060_00014_bis</td>\n      <td>14</td>\n      <td>bis</td>\n      <td>Place de l’Eglise</td>\n      <td>77370</td>\n      <td>Gastins</td>\n      <td></td>\n      <td>14 bis Place de l’Eglise 77370 Gastins</td>\n    </tr>\n    <tr>\n      <th>...</th>\n      <td>...</td>\n      <td>...</td>\n      <td>...</td>\n      <td>...</td>\n      <td>...</td>\n      <td>...</td>\n      <td>...</td>\n      <td>...</td>\n    </tr>\n    <tr>\n      <th>424360</th>\n      <td>59523_nj44rs_00001</td>\n      <td>1</td>\n      <td></td>\n      <td>Residence des 4 Cantons</td>\n      <td>59262</td>\n      <td>Sainghin-en-Mélantois</td>\n      <td></td>\n      <td>1 Residence des 4 Cantons 59262 Sainghin-en-Mé...</td>\n    </tr>\n    <tr>\n      <th>454815</th>\n      <td>61460_0033_00001</td>\n      <td>1</td>\n      <td></td>\n      <td>Rue Jean Moulin</td>\n      <td>61470</td>\n      <td>Sap-en-Auge</td>\n      <td>le Sap</td>\n      <td>1 Rue Jean Moulin , le Sap 61470 Sap-en-Auge</td>\n    </tr>\n    <tr>\n      <th>359666</th>\n      <td>06152_0295_00020_a</td>\n      <td>20</td>\n      <td>a</td>\n      <td>Avenue Saint Roch</td>\n      <td>06560</td>\n      <td>Valbonne</td>\n      <td></td>\n      <td>20 a Avenue Saint Roch 06560 Valbonne</td>\n    </tr>\n    <tr>\n      <th>276719</th>\n      <td>31557742_00004_a</td>\n      <td>4</td>\n      <td>a</td>\n      <td>Allée des Frères Higouneng</td>\n      <td>31170</td>\n      <td>Tournefeuille</td>\n      <td></td>\n      <td>4 a Allée des Frères Higouneng 31170 Tournefeu...</td>\n    </tr>\n    <tr>\n      <th>379781</th>\n      <td>47157_0780_00052_bis</td>\n      <td>52</td>\n      <td>bis</td>\n      <td>Avenue du Maréchal Joffre</td>\n      <td>47200</td>\n      <td>Marmande</td>\n      <td></td>\n      <td>52 bis Avenue du Maréchal Joffre 47200 Marmande</td>\n    </tr>\n  </tbody>\n</table>\n<p>200 rows × 8 columns</p>\n</div>"
     },
     "execution_count": 49,
     "metadata": {},
     "output_type": "execute_result"
    }
   ],
   "source": [
    "df_test.head(200)"
   ],
   "metadata": {
    "collapsed": false,
    "ExecuteTime": {
     "end_time": "2024-03-26T07:57:45.423227Z",
     "start_time": "2024-03-26T07:57:45.413892Z"
    }
   },
   "id": "50d2fc2eb349cae5",
   "execution_count": 49
  },
  {
   "cell_type": "code",
   "outputs": [],
   "source": [
    "def score_row(_row : pd.Series) -> tuple[int, int]:\n",
    "    _split_adr = Address(**chain.invoke({\"address\": row['full_add']}))\n",
    "    return score_ban_from_split(_split_adr, row)"
   ],
   "metadata": {
    "collapsed": false
   },
   "id": "d0a52a57a38ea258",
   "execution_count": null
  },
  {
   "cell_type": "code",
   "outputs": [],
   "source": [
    "df_test['score'] = df_test.apply(lambda _row: score_row(_row), axis=1)"
   ],
   "metadata": {
    "collapsed": false
   },
   "id": "752652d0cad84c91",
   "execution_count": null
  },
  {
   "cell_type": "code",
   "outputs": [
    {
     "data": {
      "text/plain": "                                         id  numero  rep             nom_voie  \\\n__null_dask_index__                                                             \n54684                  84007_6630_00011_ter      11  ter  Pl des Trois-Pilats   \n368587               33473_58bn1m_00001_bis       1  bis               Drouin   \n196009                     27008_0050_00001       1           Rue des Sablons   \n245047                   36145_3oge9x_00001       1          La Blanchetterie   \n244272                 77201_0060_00014_bis      14  bis    Place de l’Eglise   \n...                                     ...     ...  ...                  ...   \n11926                  66017_2400_00017_bis      17  bis     Allee de l’Etang   \n538230                     49007_2790_00002       2          Rue Emile Hatais   \n23068                      56155_0019_00002       2         Allée de Bellevue   \n116246                   97401_achsci_00001       1           Rue des Troenes   \n488775                     10343_0037_00001       1        Rue Berthe Morisot   \n\n                    code_postal              nom_commune nom_ld  \\\n__null_dask_index__                                               \n54684                     84000                  Avignon          \n368587                    33920              Saint-Savin          \n196009                    27460                   Alizay          \n245047                    36290                  Obterre          \n244272                    77370                  Gastins          \n...                         ...                      ...    ...   \n11926                     66420              Le Barcarès          \n538230                    49100                   Angers          \n23068                     56760                 Pénestin          \n116246                    97425              Les Avirons          \n488775                    10800  Saint-Julien-les-Villas          \n\n                                                              full_add  \n__null_dask_index__                                                     \n54684                         11 ter Pl des Trois-Pilats 84000 Avignon  \n368587                                  1 bis Drouin 33920 Saint-Savin  \n196009                                  1 Rue des Sablons 27460 Alizay  \n245047                                1 La Blanchetterie 36290 Obterre  \n244272                          14 bis Place de l’Eglise 77370 Gastins  \n...                                                                ...  \n11926                        17 bis Allee de l’Etang 66420 Le Barcarès  \n538230                                 2 Rue Emile Hatais 49100 Angers  \n23068                               2 Allée de Bellevue 56760 Pénestin  \n116246                             1 Rue des Troenes 97425 Les Avirons  \n488775               1 Rue Berthe Morisot 10800 Saint-Julien-les-Vi...  \n\n[100 rows x 8 columns]",
      "text/html": "<div>\n<style scoped>\n    .dataframe tbody tr th:only-of-type {\n        vertical-align: middle;\n    }\n\n    .dataframe tbody tr th {\n        vertical-align: top;\n    }\n\n    .dataframe thead th {\n        text-align: right;\n    }\n</style>\n<table border=\"1\" class=\"dataframe\">\n  <thead>\n    <tr style=\"text-align: right;\">\n      <th></th>\n      <th>id</th>\n      <th>numero</th>\n      <th>rep</th>\n      <th>nom_voie</th>\n      <th>code_postal</th>\n      <th>nom_commune</th>\n      <th>nom_ld</th>\n      <th>full_add</th>\n    </tr>\n    <tr>\n      <th>__null_dask_index__</th>\n      <th></th>\n      <th></th>\n      <th></th>\n      <th></th>\n      <th></th>\n      <th></th>\n      <th></th>\n      <th></th>\n    </tr>\n  </thead>\n  <tbody>\n    <tr>\n      <th>54684</th>\n      <td>84007_6630_00011_ter</td>\n      <td>11</td>\n      <td>ter</td>\n      <td>Pl des Trois-Pilats</td>\n      <td>84000</td>\n      <td>Avignon</td>\n      <td></td>\n      <td>11 ter Pl des Trois-Pilats 84000 Avignon</td>\n    </tr>\n    <tr>\n      <th>368587</th>\n      <td>33473_58bn1m_00001_bis</td>\n      <td>1</td>\n      <td>bis</td>\n      <td>Drouin</td>\n      <td>33920</td>\n      <td>Saint-Savin</td>\n      <td></td>\n      <td>1 bis Drouin 33920 Saint-Savin</td>\n    </tr>\n    <tr>\n      <th>196009</th>\n      <td>27008_0050_00001</td>\n      <td>1</td>\n      <td></td>\n      <td>Rue des Sablons</td>\n      <td>27460</td>\n      <td>Alizay</td>\n      <td></td>\n      <td>1 Rue des Sablons 27460 Alizay</td>\n    </tr>\n    <tr>\n      <th>245047</th>\n      <td>36145_3oge9x_00001</td>\n      <td>1</td>\n      <td></td>\n      <td>La Blanchetterie</td>\n      <td>36290</td>\n      <td>Obterre</td>\n      <td></td>\n      <td>1 La Blanchetterie 36290 Obterre</td>\n    </tr>\n    <tr>\n      <th>244272</th>\n      <td>77201_0060_00014_bis</td>\n      <td>14</td>\n      <td>bis</td>\n      <td>Place de l’Eglise</td>\n      <td>77370</td>\n      <td>Gastins</td>\n      <td></td>\n      <td>14 bis Place de l’Eglise 77370 Gastins</td>\n    </tr>\n    <tr>\n      <th>...</th>\n      <td>...</td>\n      <td>...</td>\n      <td>...</td>\n      <td>...</td>\n      <td>...</td>\n      <td>...</td>\n      <td>...</td>\n      <td>...</td>\n    </tr>\n    <tr>\n      <th>11926</th>\n      <td>66017_2400_00017_bis</td>\n      <td>17</td>\n      <td>bis</td>\n      <td>Allee de l’Etang</td>\n      <td>66420</td>\n      <td>Le Barcarès</td>\n      <td></td>\n      <td>17 bis Allee de l’Etang 66420 Le Barcarès</td>\n    </tr>\n    <tr>\n      <th>538230</th>\n      <td>49007_2790_00002</td>\n      <td>2</td>\n      <td></td>\n      <td>Rue Emile Hatais</td>\n      <td>49100</td>\n      <td>Angers</td>\n      <td></td>\n      <td>2 Rue Emile Hatais 49100 Angers</td>\n    </tr>\n    <tr>\n      <th>23068</th>\n      <td>56155_0019_00002</td>\n      <td>2</td>\n      <td></td>\n      <td>Allée de Bellevue</td>\n      <td>56760</td>\n      <td>Pénestin</td>\n      <td></td>\n      <td>2 Allée de Bellevue 56760 Pénestin</td>\n    </tr>\n    <tr>\n      <th>116246</th>\n      <td>97401_achsci_00001</td>\n      <td>1</td>\n      <td></td>\n      <td>Rue des Troenes</td>\n      <td>97425</td>\n      <td>Les Avirons</td>\n      <td></td>\n      <td>1 Rue des Troenes 97425 Les Avirons</td>\n    </tr>\n    <tr>\n      <th>488775</th>\n      <td>10343_0037_00001</td>\n      <td>1</td>\n      <td></td>\n      <td>Rue Berthe Morisot</td>\n      <td>10800</td>\n      <td>Saint-Julien-les-Villas</td>\n      <td></td>\n      <td>1 Rue Berthe Morisot 10800 Saint-Julien-les-Vi...</td>\n    </tr>\n  </tbody>\n</table>\n<p>100 rows × 8 columns</p>\n</div>"
     },
     "execution_count": 51,
     "metadata": {},
     "output_type": "execute_result"
    }
   ],
   "source": [
    "df_test.head(100)"
   ],
   "metadata": {
    "collapsed": false,
    "ExecuteTime": {
     "end_time": "2024-03-26T08:43:49.798528Z",
     "start_time": "2024-03-26T08:43:49.787215Z"
    }
   },
   "id": "a128dc6d8f4e20dc",
   "execution_count": 51
  },
  {
   "cell_type": "code",
   "outputs": [],
   "source": [],
   "metadata": {
    "collapsed": false
   },
   "id": "fa40705e3136919d"
  },
  {
   "cell_type": "code",
   "outputs": [],
   "source": [
    "def scramble_address(_address: str)-> str :\n",
    "    action = np.random.random_integers(10)\n",
    "    match action:\n",
    "        case 1: return _address.lower().replace('rue', 'r')\n",
    "        case 2: return _address.lower().replace('chemin', 'ch')\n",
    "        case 3: return _address.lower().replace('impasse', 'imp')\n",
    "        case 4: return _address.lower().replace('avenue', 'av')\n",
    "        case 5: return _address.lower().replace('cavée', 'cav')\n",
    "        case 6: return _address.lower().replace('du', '').replace('des', '').replace('d\\'', '')\n",
    "        case 7: return _address.lower().replace('-', ' ')\n",
    "        case _: return _address\n",
    "    "
   ],
   "metadata": {
    "collapsed": false,
    "ExecuteTime": {
     "end_time": "2024-03-26T08:45:44.296337Z",
     "start_time": "2024-03-26T08:45:44.291195Z"
    }
   },
   "id": "b4ac4d0cff14dea5",
   "execution_count": 55
  },
  {
   "cell_type": "code",
   "outputs": [
    {
     "name": "stderr",
     "output_type": "stream",
     "text": [
      "/tmp/ipykernel_55664/3039127516.py:2: DeprecationWarning: This function is deprecated. Please call randint(1, 10 + 1) instead\n",
      "  action = np.random.random_integers(10)\n"
     ]
    }
   ],
   "source": [
    "scrambled_df = df_test.head(200).apply(lambda _row: scramble_address(_row['full_add']), axis=1)"
   ],
   "metadata": {
    "collapsed": false,
    "ExecuteTime": {
     "end_time": "2024-03-26T08:45:47.577757Z",
     "start_time": "2024-03-26T08:45:47.570189Z"
    }
   },
   "id": "5ffd8c9bd5b457d5",
   "execution_count": 56
  },
  {
   "cell_type": "code",
   "outputs": [
    {
     "data": {
      "text/plain": "__null_dask_index__\n54684              11 ter pl des trois-pilats 84000 avignon\n368587                       1 bis drouin 33920 saint-savin\n196009                       1 Rue des Sablons 27460 Alizay\n245047                     1 la blanchetterie 36290 obterre\n244272               14 bis place de l’eglise 77370 gastins\n                                ...                        \n424360    1 residence des 4 cantons 59262 sainghin-en-mé...\n454815         1 rue jean moulin , le sap 61470 sap-en-auge\n359666                    20 a av saint roch 06560 valbonne\n276719    4 a allée des frères higouneng 31170 tournefeu...\n379781          52 bis av du maréchal joffre 47200 marmande\nLength: 200, dtype: object"
     },
     "execution_count": 57,
     "metadata": {},
     "output_type": "execute_result"
    }
   ],
   "source": [
    "scrambled_df"
   ],
   "metadata": {
    "collapsed": false,
    "ExecuteTime": {
     "end_time": "2024-03-26T08:45:51.067038Z",
     "start_time": "2024-03-26T08:45:51.061536Z"
    }
   },
   "id": "754c515f6d5a0bc6",
   "execution_count": 57
  },
  {
   "cell_type": "code",
   "outputs": [
    {
     "name": "stdout",
     "output_type": "stream",
     "text": [
      "{'responseId': 'e2fb2631-9418-49a2-9af6-ba369f67129a',\n",
      " 'result': {'address': {'addressComponents': [{'componentName': {'text': '7 b'},\n",
      "                                               'componentType': 'street_number',\n",
      "                                               'confirmationLevel': 'UNCONFIRMED_BUT_PLAUSIBLE'},\n",
      "                                              {'componentName': {'languageCode': 'fr',\n",
      "                                                                 'text': 'chemin '\n",
      "                                                                         'de '\n",
      "                                                                         'la '\n",
      "                                                                         'nicerie'},\n",
      "                                               'componentType': 'route',\n",
      "                                               'confirmationLevel': 'UNCONFIRMED_BUT_PLAUSIBLE'},\n",
      "                                              {'componentName': {'text': '16100'},\n",
      "                                               'componentType': 'postal_code',\n",
      "                                               'confirmationLevel': 'CONFIRMED'},\n",
      "                                              {'componentName': {'languageCode': 'fr',\n",
      "                                                                 'text': 'Châteaubernard'},\n",
      "                                               'componentType': 'locality',\n",
      "                                               'confirmationLevel': 'CONFIRMED'},\n",
      "                                              {'componentName': {'languageCode': 'fr',\n",
      "                                                                 'text': 'France'},\n",
      "                                               'componentType': 'country',\n",
      "                                               'confirmationLevel': 'CONFIRMED'}],\n",
      "                        'formattedAddress': '7 b chemin de la nicerie, 16100 '\n",
      "                                            'Châteaubernard, France',\n",
      "                        'postalAddress': {'addressLines': ['7 b chemin de la '\n",
      "                                                           'nicerie'],\n",
      "                                          'languageCode': 'fr',\n",
      "                                          'locality': 'Châteaubernard',\n",
      "                                          'postalCode': '16100',\n",
      "                                          'regionCode': 'FR'},\n",
      "                        'unconfirmedComponentTypes': ['street_number',\n",
      "                                                      'route']},\n",
      "            'geocode': {'bounds': {'high': {'latitude': 45.684647,\n",
      "                                            'longitude': -0.298998},\n",
      "                                   'low': {'latitude': 45.684647,\n",
      "                                           'longitude': -0.298998}},\n",
      "                        'location': {'latitude': 45.684647,\n",
      "                                     'longitude': -0.298998},\n",
      "                        'placeId': 'ChIJ906Gxa-MAEgR7WluY334L6A',\n",
      "                        'placeTypes': ['political', 'colloquial_area'],\n",
      "                        'plusCode': {'globalCode': '8CQXMPM2+VC'}},\n",
      "            'verdict': {'addressComplete': True,\n",
      "                        'geocodeGranularity': 'OTHER',\n",
      "                        'hasUnconfirmedComponents': True,\n",
      "                        'inputGranularity': 'PREMISE',\n",
      "                        'validationGranularity': 'OTHER'}}}\n"
     ]
    }
   ],
   "source": [
    "import os\n",
    "from pprint import pprint\n",
    "from dotenv import load_dotenv\n",
    "\n",
    "import googlemaps\n",
    "\n",
    "load_dotenv()\n",
    "gmaps = googlemaps.Client(key=os.getenv(\"GOOGLE_API_KEY\"))\n",
    "\n",
    "addressvalidation_result =  gmaps.addressvalidation(['7 b chemin de la nicerie 16100 châteaubernard'],\n",
    "                                                    regionCode='FR',\n",
    "                                                    # locality='Mountain View',\n",
    "                                                    # enableUspsCass=True\n",
    "                                                    )\n",
    "\n",
    "pprint(addressvalidation_result)"
   ],
   "metadata": {
    "collapsed": false,
    "ExecuteTime": {
     "end_time": "2024-03-27T06:29:16.963243Z",
     "start_time": "2024-03-27T06:29:16.575079Z"
    }
   },
   "id": "3c8bb51a9fa53168",
   "execution_count": 2
  },
  {
   "cell_type": "code",
   "outputs": [],
   "source": [],
   "metadata": {
    "collapsed": false
   },
   "id": "62b03d989c620d30"
  }
 ],
 "metadata": {
  "kernelspec": {
   "display_name": "Python 3 (ipykernel)",
   "language": "python",
   "name": "python3"
  },
  "language_info": {
   "codemirror_mode": {
    "name": "ipython",
    "version": 3
   },
   "file_extension": ".py",
   "mimetype": "text/x-python",
   "name": "python",
   "nbconvert_exporter": "python",
   "pygments_lexer": "ipython3",
   "version": "3.11.7"
  }
 },
 "nbformat": 4,
 "nbformat_minor": 5
}
