{
 "cells": [
  {
   "cell_type": "markdown",
   "id": "179ece711c060cec",
   "metadata": {},
   "source": [
    "# Address Parser\n",
    "\n",
    "Is able to recognize named entities and format outputs based on a defined schema"
   ]
  },
  {
   "cell_type": "code",
   "execution_count": 6,
   "id": "ca1d5a28dab31b08",
   "metadata": {
    "ExecuteTime": {
     "end_time": "2024-03-25T23:32:11.865509Z",
     "start_time": "2024-03-25T23:32:11.862654Z"
    }
   },
   "outputs": [],
   "source": [
    "GCP_PROJECT_NAME = \"single-azimuth-413609\""
   ]
  },
  {
   "cell_type": "code",
   "execution_count": null,
   "id": "b3242ad3-7a3d-4cfa-a98b-b4cebd7b998e",
   "metadata": {
    "scrolled": true,
    "ExecuteTime": {
     "start_time": "2024-03-25T23:31:10.763925Z"
    }
   },
   "outputs": [],
   "source": [
    "!pip install --quiet --upgrade google-cloud-aiplatform \n",
    "!pip install --quiet --upgrade google-auth\n"
   ]
  },
  {
   "cell_type": "code",
   "execution_count": null,
   "id": "4cae5ee3-d532-403a-93ed-4d3887a137e9",
   "metadata": {},
   "outputs": [],
   "source": [
    "!gcloud auth application-default login --scopes=openid,https://www.googleapis.com/auth/userinfo.email,https://www.googleapis.com/auth/cloud-platform,https://www.googleapis.com/auth/sqlservice.login,https://www.googleapis.com/auth/drive"
   ]
  },
  {
   "cell_type": "code",
   "execution_count": null,
   "id": "49f6d9c4-8ae1-428b-8d91-c218af8e41d8",
   "metadata": {},
   "outputs": [],
   "source": [
    "!gcloud config set project {GCP_PROJECT_NAME}"
   ]
  },
  {
   "cell_type": "code",
   "execution_count": null,
   "id": "f9b0465a-4e53-433e-ac0c-244de5cb53bd",
   "metadata": {},
   "outputs": [],
   "source": [
    "!gcloud services enable aiplatform.googleapis.com"
   ]
  },
  {
   "cell_type": "code",
   "execution_count": 7,
   "id": "dee27648-0af0-42f8-9aae-8e48ca31322e",
   "metadata": {
    "ExecuteTime": {
     "end_time": "2024-03-25T23:32:16.700776Z",
     "start_time": "2024-03-25T23:32:15.573596Z"
    }
   },
   "outputs": [],
   "source": [
    "# Importing the library \n",
    "import google.auth\n",
    "\n",
    "# Setting up credentials\n",
    "credentials, _ = google.auth.default()\n",
    "# authed_http = google.auth.transport.requests.AuthorizedSession(credentials)"
   ]
  },
  {
   "cell_type": "code",
   "execution_count": null,
   "id": "775902c37c5f6779",
   "metadata": {},
   "outputs": [],
   "source": [
    "import vertexai\n",
    "from vertexai.preview.language_models import TextGenerationModel\n",
    "\n",
    "vertexai.init(project=GCP_PROJECT_NAME, location=\"us-central1\")\n",
    "parameters = {\n",
    "    \"candidate_count\": 1,\n",
    "    \"max_output_tokens\": 126,\n",
    "    \"temperature\": 0,\n",
    "    \"top_p\": 1\n",
    "}\n",
    "model = TextGenerationModel.from_pretrained(\"text-bison\")\n"
   ]
  },
  {
   "cell_type": "markdown",
   "id": "a6c24cde-8f6a-4093-986c-4fd93c2465d2",
   "metadata": {},
   "source": [
    "## Basic french address"
   ]
  },
  {
   "cell_type": "code",
   "execution_count": null,
   "id": "637ff1f5-b7c9-41dd-8a97-e02bb815e8c0",
   "metadata": {},
   "outputs": [],
   "source": [
    "response = model.predict(\n",
    "    \"\"\"Extract and split the address parameters from the text below in a JSON format.\n",
    "be very precise, differentiate the street number, multiplier, street type, street name, zip code, city\n",
    "provide a rating number to indicate your confidence level. 0 is the lowest confidence, 1 is the maximum.\n",
    "provide only one response for one address input\n",
    "\n",
    "Text: 37, rue du champ du pardon, 76000 rouen\n",
    "JSON: Text: 37, rue du champ du pardon, 76000 rouen\n",
    "JSON: {\n",
    "  \\\"street_number\\\": \\\"37\\\",\n",
    "  \\\"street_type\\\": \\\"rue\\\",\n",
    "  \\\"street_name\\\": \\\"du champ du pardon\\\",\n",
    "  \\\"zip_code\\\": \\\"76000\\\",\n",
    "  \\\"city\\\": \\\"rouen\\\",\n",
    "  \\\"confidence\\\": 1\n",
    "}\n",
    "\n",
    "Text: 10-82 Cavée St Gervais, 76000 rouen\n",
    "JSON: Text: 10-82 Cavée St Gervais, 76000 rouen\n",
    "JSON: {\n",
    "  \\\"street_number\\\": \\\"10-82\\\",\n",
    "  \\\"street_type\\\": \\\"Cavée\\\",\n",
    "  \\\"street_name\\\": \\\"St Gervais\\\",\n",
    "  \\\"zip_code\\\": \\\"76000\\\",\n",
    "  \\\"city\\\": \\\"rouen\\\",\n",
    "  \\\"confidence\\\": 1\n",
    "}\n",
    "\n",
    "Text: 1, rue de la Paix, 75008 Paris\n",
    "JSON:\n",
    "\"\"\",\n",
    "    **parameters\n",
    ")\n",
    "print(f\"Response from Model: {response.text}\")"
   ]
  },
  {
   "cell_type": "markdown",
   "id": "62753566-c97d-4878-9542-634b362c6b73",
   "metadata": {},
   "source": [
    "### Unusual French address"
   ]
  },
  {
   "cell_type": "code",
   "execution_count": null,
   "id": "6ca67753-ae7e-4607-bc5c-6c368e77203c",
   "metadata": {
    "scrolled": true
   },
   "outputs": [],
   "source": [
    "response = model.predict(\n",
    "    \"\"\"Extract and split the address parameters from the text below in a JSON format.\n",
    "be very precise, differentiate the street number, multiplier, street type, street name, zip code, city\n",
    "provide a rating number to indicate your confidence level. 0 is the lowest confidence, 1 is the maximum.\n",
    "provide only one response for one address input\n",
    "\n",
    "Text: 37, rue du champ du pardon, 76000 rouen\n",
    "JSON: Text: 37, rue du champ du pardon, 76000 rouen\n",
    "JSON: {\n",
    "  \\\"street_number\\\": \\\"37\\\",\n",
    "  \\\"street_type\\\": \\\"rue\\\",\n",
    "  \\\"street_name\\\": \\\"du champ du pardon\\\",\n",
    "  \\\"zip_code\\\": \\\"76000\\\",\n",
    "  \\\"city\\\": \\\"rouen\\\",\n",
    "  \\\"confidence\\\": 1\n",
    "}\n",
    "\n",
    "Text: 10-82 Cavée St Gervais, 76000 rouen\n",
    "JSON: Text: 10-82 Cavée St Gervais, 76000 rouen\n",
    "JSON: {\n",
    "  \\\"street_number\\\": \\\"10-82\\\",\n",
    "  \\\"street_type\\\": \\\"Cavée\\\",\n",
    "  \\\"street_name\\\": \\\"St Gervais\\\",\n",
    "  \\\"zip_code\\\": \\\"76000\\\",\n",
    "  \\\"city\\\": \\\"rouen\\\",\n",
    "  \\\"confidence\\\": 1\n",
    "}\n",
    "\n",
    "Text: 78 bis Cavee des Ecameaux 76500 Elbeuf\n",
    "JSON:\n",
    "\"\"\",\n",
    "    **parameters\n",
    ")\n",
    "print(f\"Response from Model: {response.text}\")"
   ]
  },
  {
   "cell_type": "code",
   "execution_count": null,
   "id": "413eea8e-c5e5-47ed-8fb1-2d488929a52f",
   "metadata": {},
   "outputs": [],
   "source": [
    "response = model.predict(\n",
    "    \"\"\"Extract and split the address parameters from the text below in a JSON format.\n",
    "be very precise, differentiate the street number, multiplier, street type, street name, zip code, city\n",
    "provide a rating number to indicate your confidence level. 0 is the lowest confidence, 1 is the maximum.\n",
    "provide only one response for one address input\n",
    "\n",
    "Text: 37, rue du champ du pardon, 76000 rouen\n",
    "JSON: Text: 37, rue du champ du pardon, 76000 rouen\n",
    "JSON: {\n",
    "  \\\"street_number\\\": \\\"37\\\",\n",
    "  \\\"street_type\\\": \\\"rue\\\",\n",
    "  \\\"street_name\\\": \\\"du champ du pardon\\\",\n",
    "  \\\"zip_code\\\": \\\"76000\\\",\n",
    "  \\\"city\\\": \\\"rouen\\\",\n",
    "  \\\"confidence\\\": 1\n",
    "}\n",
    "\n",
    "Text: 78 bis Cavee des Ecameaux 76500 Elbeuf\n",
    "JSON:\n",
    "\"\"\",\n",
    "    **parameters\n",
    ")\n",
    "print(f\"Response from Model: {response.text}\")"
   ]
  },
  {
   "cell_type": "markdown",
   "id": "7978bb58-65a9-48c9-82f7-f2361954ed34",
   "metadata": {},
   "source": [
    "## Complex US address"
   ]
  },
  {
   "cell_type": "code",
   "execution_count": null,
   "id": "dba8c333-cd10-468f-9889-dd29aa7782f9",
   "metadata": {},
   "outputs": [],
   "source": [
    "response = model.predict(\n",
    "    \"\"\"Extract and split the address parameters from the text below in a JSON format.\n",
    "be very precise, differentiate the street number, multiplier, street type, street name, zip code, city\n",
    "provide a rating number to indicate your confidence level. 0 is the lowest confidence, 1 is the maximum.\n",
    "provide only one response for one address input\n",
    "\n",
    "Text: 37, rue du champ du pardon, 76000 rouen\n",
    "JSON: Text: 37, rue du champ du pardon, 76000 rouen\n",
    "JSON: {\n",
    "  \\\"street_number\\\": \\\"37\\\",\n",
    "  \\\"street_type\\\": \\\"rue\\\",\n",
    "  \\\"street_name\\\": \\\"du champ du pardon\\\",\n",
    "  \\\"zip_code\\\": \\\"76000\\\",\n",
    "  \\\"city\\\": \\\"rouen\\\",\n",
    "  \\\"confidence\\\": 1\n",
    "}\n",
    "\n",
    "Text: 10-82 Cavée St Gervais, 76000 rouen\n",
    "JSON: Text: 10-82 Cavée St Gervais, 76000 rouen\n",
    "JSON: {\n",
    "  \\\"street_number\\\": \\\"10-82\\\",\n",
    "  \\\"street_type\\\": \\\"Cavée\\\",\n",
    "  \\\"street_name\\\": \\\"St Gervais\\\",\n",
    "  \\\"zip_code\\\": \\\"76000\\\",\n",
    "  \\\"city\\\": \\\"rouen\\\",\n",
    "  \\\"confidence\\\": 1\n",
    "}\n",
    "\n",
    "Text: C/o John Doe LLC, 111, 8th Ave Ste 1509, Oklahoma, 74136-1922, USA\n",
    "JSON:\n",
    "\"\"\",\n",
    "    **parameters\n",
    ")\n",
    "print(f\"Response from Model: {response.text}\")"
   ]
  },
  {
   "cell_type": "markdown",
   "id": "fa972c45-954e-4f02-a3d0-ad82862ceb1f",
   "metadata": {},
   "source": [
    "## German address \n",
    "\n",
    "generator at: https://tarjeta-credito.net/cvv/address-gen-germany/"
   ]
  },
  {
   "cell_type": "code",
   "execution_count": null,
   "id": "a28123c6-90eb-4cb1-833d-337ef946a0bd",
   "metadata": {},
   "outputs": [],
   "source": [
    "response = model.predict(\n",
    "    \"\"\"Extract and split the address parameters from the text below in a JSON format.\n",
    "be very precise, differentiate the street number, multiplier, street type, street name, zip code, city\n",
    "provide a rating number to indicate your confidence level. 0 is the lowest confidence, 1 is the maximum.\n",
    "provide only one response for one address input\n",
    "\n",
    "Text: 37, rue du champ du pardon, 76000 rouen\n",
    "JSON: Text: 37, rue du champ du pardon, 76000 rouen\n",
    "JSON: {\n",
    "  \\\"street_number\\\": \\\"37\\\",\n",
    "  \\\"street_type\\\": \\\"rue\\\",\n",
    "  \\\"street_name\\\": \\\"du champ du pardon\\\",\n",
    "  \\\"zip_code\\\": \\\"76000\\\",\n",
    "  \\\"city\\\": \\\"rouen\\\",\n",
    "  \\\"confidence\\\": 1\n",
    "}\n",
    "\n",
    "Text: 10-82 Cavée St Gervais, 76000 rouen\n",
    "JSON: Text: 10-82 Cavée St Gervais, 76000 rouen\n",
    "JSON: {\n",
    "  \\\"street_number\\\": \\\"10-82\\\",\n",
    "  \\\"street_type\\\": \\\"Cavée\\\",\n",
    "  \\\"street_name\\\": \\\"St Gervais\\\",\n",
    "  \\\"zip_code\\\": \\\"76000\\\",\n",
    "  \\\"city\\\": \\\"rouen\\\",\n",
    "  \\\"confidence\\\": 1\n",
    "}\n",
    "\n",
    "Text: Haßfurter Str. 1, 91056 Erlangen, Germany.\n",
    "JSON:\n",
    "\"\"\",\n",
    "    **parameters\n",
    ")\n",
    "print(f\"Response from Model: {response.text}\")"
   ]
  },
  {
   "cell_type": "markdown",
   "id": "936d8c91-028e-43f1-a397-68266f6e9625",
   "metadata": {},
   "source": [
    "### german address with Country not mentionned"
   ]
  },
  {
   "cell_type": "code",
   "execution_count": null,
   "id": "82c9c461-deb0-41e3-8250-3279343731d6",
   "metadata": {},
   "outputs": [],
   "source": [
    "response = model.predict(\n",
    "    \"\"\"Extract and split the address parameters from the text below in a JSON format.\n",
    "be very precise, differentiate the street number, multiplier, street type, street name, zip code, city and country\n",
    "provide a rating number to indicate your confidence level. 0 is the lowest confidence, 1 is the maximum.\n",
    "provide only one response for one address input\n",
    "\n",
    "Text: 37, rue du champ du pardon, 76000 rouen\n",
    "JSON: Text: 37, rue du champ du pardon, 76000 rouen\n",
    "JSON: {\n",
    "  \\\"street_number\\\": \\\"37\\\",\n",
    "  \\\"street_type\\\": \\\"rue\\\",\n",
    "  \\\"street_name\\\": \\\"du champ du pardon\\\",\n",
    "  \\\"zip_code\\\": \\\"76000\\\",\n",
    "  \\\"city\\\": \\\"rouen\\\",\n",
    "  \\\"country\\\": \\\"France\\\",\n",
    "  \\\"confidence\\\": 1\n",
    "}\n",
    "\n",
    "Text: 10-82 Cavée St Gervais, 76000 rouen\n",
    "JSON: Text: 10-82 Cavée St Gervais, 76000 rouen\n",
    "JSON: {\n",
    "  \\\"street_number\\\": \\\"10-82\\\",\n",
    "  \\\"street_type\\\": \\\"Cavée\\\",\n",
    "  \\\"street_name\\\": \\\"St Gervais\\\",\n",
    "  \\\"zip_code\\\": \\\"76000\\\",\n",
    "  \\\"city\\\": \\\"rouen\\\",\n",
    "  \\\"country\\\": \\\"France\\\",\n",
    "  \\\"confidence\\\": 1\n",
    "}\n",
    "\n",
    "Text: Auschnippe 9, 37170 Uslar\n",
    "JSON:\n",
    "\"\"\",\n",
    "    **parameters\n",
    ")\n",
    "print(f\"Response from Model: {response.text}\")"
   ]
  },
  {
   "cell_type": "markdown",
   "id": "84f5880b-8083-4ee4-bac7-64923f95c122",
   "metadata": {},
   "source": [
    "## Confidence level w/ False address"
   ]
  },
  {
   "cell_type": "code",
   "execution_count": null,
   "id": "303f4276-c8eb-4893-bc8d-cc50c060e086",
   "metadata": {},
   "outputs": [],
   "source": [
    "response = model.predict(\n",
    "    \"\"\"Extract and split the address parameters from the text below in a JSON format.\n",
    "be very precise, differentiate the street number, multiplier, street type, street name, zip code, city\n",
    "provide a rating number to indicate your confidence level. 0 is the lowest confidence, 1 is the maximum.\n",
    "provide only one response for one address input\n",
    "\n",
    "Text: 37, rue du champ du pardon, 76000 rouen\n",
    "JSON: \n",
    "{\n",
    "  \\\"street_number\\\": \\\"37\\\",\n",
    "  \\\"street_type\\\": \\\"rue\\\",\n",
    "  \\\"street_name\\\": \\\"du champ du pardon\\\",\n",
    "  \\\"zip_code\\\": \\\"76000\\\",\n",
    "  \\\"city\\\": \\\"rouen\\\",\n",
    "  \\\"confidence\\\": 1\n",
    "}\n",
    "\n",
    "Text: 10-82 Cavée St Gervais, 76000 rouen\n",
    "JSON: \n",
    "{\n",
    "  \\\"street_number\\\": \\\"10-82\\\",\n",
    "  \\\"street_type\\\": \\\"Cavée\\\",\n",
    "  \\\"street_name\\\": \\\"St Gervais\\\",\n",
    "  \\\"zip_code\\\": \\\"76000\\\",\n",
    "  \\\"city\\\": \\\"rouen\\\",\n",
    "  \\\"confidence\\\": 1\n",
    "}\n",
    "\n",
    "Text: ici c'est paris !, 75001 Paris\n",
    "JSON:\n",
    "\n",
    "\"\"\",\n",
    "    **parameters\n",
    ")\n",
    "print(f\"{response.text}\")"
   ]
  },
  {
   "cell_type": "markdown",
   "id": "cb57bc26-0cfc-4065-92f4-19f78f7f47b1",
   "metadata": {},
   "source": [
    "### Confidence level w/ False address and Country not mentioned"
   ]
  },
  {
   "cell_type": "code",
   "execution_count": null,
   "id": "de80400a-7bdf-4aed-9b48-c3fcde4cf5da",
   "metadata": {},
   "outputs": [],
   "source": [
    "response = model.predict(\n",
    "    \"\"\"Extract and split the address parameters from the text below in a JSON format.\n",
    "be very precise, differentiate the street number, multiplier, street type, street name, zip code, city\n",
    "provide a rating number to indicate your confidence level. 0 is the lowest confidence, 1 is the maximum.\n",
    "provide only one response for one address input\n",
    "\n",
    "Text: 37, rue du champ du pardon, 76000 rouen\n",
    "JSON: \n",
    "{\n",
    "  \\\"street_number\\\": \\\"37\\\",\n",
    "  \\\"street_type\\\": \\\"rue\\\",\n",
    "  \\\"street_name\\\": \\\"du champ du pardon\\\",\n",
    "  \\\"zip_code\\\": \\\"76000\\\",\n",
    "  \\\"city\\\": \\\"rouen\\\",\n",
    "  \\\"country\\\": \\\"France\\\",\n",
    "  \\\"confidence\\\": 1\n",
    "}\n",
    "\n",
    "Text: 10-82 Cavée St Gervais, 76000 rouen\n",
    "JSON: \n",
    "{\n",
    "  \\\"street_number\\\": \\\"10-82\\\",\n",
    "  \\\"street_type\\\": \\\"Cavée\\\",\n",
    "  \\\"street_name\\\": \\\"St Gervais\\\",\n",
    "  \\\"zip_code\\\": \\\"76000\\\",\n",
    "  \\\"city\\\": \\\"rouen\\\",\n",
    "  \\\"country\\\": \\\"France\\\",\n",
    "  \\\"confidence\\\": 1\n",
    "}\n",
    "\n",
    "Text: 452 quater grande rue general 85000 le palais vendee\n",
    "JSON:\n",
    "\n",
    "\"\"\",\n",
    "    **parameters\n",
    ")\n",
    "print(f\"{response.text}\")\n"
   ]
  },
  {
   "cell_type": "markdown",
   "id": "c6d9107b-2dfe-49e4-a40d-4e9c5f0ed49e",
   "metadata": {},
   "source": [
    "# Programmatic\n",
    "\n",
    "Using Langchain we can have a more programmatic way "
   ]
  },
  {
   "cell_type": "code",
   "execution_count": null,
   "id": "90e4c7f3-964a-411c-84c0-3b3178f1c18f",
   "metadata": {},
   "outputs": [],
   "source": [
    "!pip install --upgrade --quiet  langchain-core langchain-google-vertexai"
   ]
  },
  {
   "cell_type": "code",
   "execution_count": null,
   "id": "e8e1cb0f-a114-4ab1-b4fb-3b312e1b2319",
   "metadata": {},
   "outputs": [],
   "source": [
    "from langchain_google_vertexai import VertexAI\n",
    "\n",
    "# candidate count parameter missing ?\n",
    "model = VertexAI(model_name=\"text-bison\", top_p=1, temperature=0, max_output_tokens=126)"
   ]
  },
  {
   "cell_type": "code",
   "execution_count": 23,
   "id": "7788700263739715",
   "metadata": {
    "ExecuteTime": {
     "end_time": "2024-03-26T06:54:47.007845Z",
     "start_time": "2024-03-26T06:54:46.491517Z"
    }
   },
   "outputs": [],
   "source": [
    "\n",
    "from langchain_core.pydantic_v1 import BaseModel\n",
    "from typing import Optional\n",
    "\n",
    "from langchain_core.output_parsers import JsonOutputParser\n",
    "\n",
    "\n",
    "class Address(BaseModel):\n",
    "    street_number: Optional[str]\n",
    "    street_multiplier: Optional[str]\n",
    "    street_type: Optional[str]\n",
    "    street_name: Optional[str]\n",
    "    locality: Optional[str]  #lieu-dit\n",
    "    zip_code: Optional[str]\n",
    "    city: Optional[str]\n",
    "    country: Optional[str]\n",
    "    confidence: int\n",
    "\n",
    "\n",
    "parser = JsonOutputParser(pydantic_object=Address)\n",
    "# pprint(parser.get_format_instructions())\n"
   ]
  },
  {
   "cell_type": "code",
   "execution_count": null,
   "id": "a7c0db7ff6f9c5e7",
   "metadata": {},
   "outputs": [],
   "source": [
    "from langchain.prompts.few_shot import FewShotPromptTemplate\n",
    "from langchain.prompts import PromptTemplate\n",
    "\n",
    "examples = [\n",
    "    {\n",
    "        \"address\": \"37, rue du champ du pardon, 76000 rouen\",\n",
    "        \"answer\": \"\"\"{{\n",
    "  \\\"street_number\\\": \\\"37\\\",\n",
    "  \\\"street_type\\\": \\\"rue\\\",\n",
    "  \\\"street_name\\\": \\\"du champ du pardon\\\",\n",
    "  \\\"zip_code\\\": \\\"76000\\\",\n",
    "  \\\"city\\\": \\\"rouen\\\",\n",
    "  \\\"country\\\": \\\"France\\\",\n",
    "  \\\"confidence\\\": 1\n",
    "}}\"\"\"\n",
    "    },\n",
    "    {\n",
    "        \"address\": \"10-82 Cavée St Gervais, hameau de charette 76000 rouen\",\n",
    "        \"answer\": \"\"\"{{\n",
    "  \\\"street_number\\\": \\\"10-82\\\",\n",
    "  \\\"street_type\\\": \\\"Cavée\\\",\n",
    "  \\\"street_name\\\": \\\"St Gervais\\\",\n",
    "  \\\"locality\\\": \\\"hameau de charette\\\",\n",
    "  \\\"zip_code\\\": \\\"76000\\\",\n",
    "  \\\"city\\\": \\\"rouen\\\",\n",
    "  \\\"country\\\": \\\"France\\\",\n",
    "  \\\"confidence\\\": 1\n",
    "}}\"\"\"\n",
    "    },\n",
    "]\n",
    "\n",
    "prefix = \"\"\"Extract and split the address parameters from the text below in a JSON format.\n",
    "be very precise, differentiate the street number, multiplier, street type, street name, zip code, city\n",
    "provide a rating number to indicate your confidence level. 0 is the lowest confidence, 1 is the maximum.\n",
    "provide only one response for one address input\"\"\"\n",
    "\n",
    "example_prompt = PromptTemplate(\n",
    "    template=\"\"\"Text: {address}\\nJSON: {answer}\"\"\",\n",
    "    # template=\"\"\"Answer the user query.\\n{format_instructions}\\nText: {address}\\nJSON: {answer}\\n\"\"\",\n",
    "    input_variables=[\"address\", \"answer\"],\n",
    "    # partial_variables={\"format_instructions\": parser.get_format_instructions()}\n",
    ")\n",
    "\n",
    "# print(example_prompt.format(**examples[0]))\n",
    "\n",
    "prompt = FewShotPromptTemplate(\n",
    "    examples=examples,\n",
    "    example_prompt=example_prompt,\n",
    "    prefix=prefix,\n",
    "    suffix=\"Text: {address}\\nJSON:\",\n",
    "    input_variables=[\"address\"],\n",
    "\n",
    ")\n",
    "\n",
    "# print(prompt.format(address=\"78 bis Cavee des Ecameaux 76500 Elbeuf\"))\n",
    "\n",
    "\n",
    "chain = prompt | model | parser"
   ]
  },
  {
   "cell_type": "markdown",
   "id": "9e7bc0a77a3babd1",
   "metadata": {},
   "source": [
    "## Manual Testing"
   ]
  },
  {
   "cell_type": "code",
   "execution_count": null,
   "id": "c737638096eee2eb",
   "metadata": {},
   "outputs": [],
   "source": [
    "\n",
    "address = \"1 bis rue de la Paix, 75008 Paris\"\n",
    "Address(**chain.invoke({\"address\": address}))\n"
   ]
  },
  {
   "cell_type": "code",
   "execution_count": null,
   "id": "2ade3a5b2a7dd976",
   "metadata": {},
   "outputs": [],
   "source": [
    "\n",
    "address = \"Auschnippe 9, 37170 Uslar\"\n",
    "Address(**chain.invoke({\"address\": address}))\n"
   ]
  },
  {
   "cell_type": "code",
   "execution_count": null,
   "id": "b9c94ba6e5226b3a",
   "metadata": {},
   "outputs": [],
   "source": [
    "\n",
    "address = \"C/o John Doe LLC, 111, 8th Ave Ste 1509, Oklahoma, 74136-1922, USA\"\n",
    "add = Address(**chain.invoke({\"address\": address}))\n",
    "add\n"
   ]
  },
  {
   "cell_type": "markdown",
   "id": "cb287c45c1dd033c",
   "metadata": {},
   "source": [
    "### Serialize / Compress"
   ]
  },
  {
   "cell_type": "code",
   "execution_count": 5,
   "id": "cb4d113e194a9635",
   "metadata": {
    "ExecuteTime": {
     "end_time": "2024-03-25T23:32:04.829384Z",
     "start_time": "2024-03-25T23:32:04.804642Z"
    }
   },
   "outputs": [
    {
     "ename": "NameError",
     "evalue": "name 'add' is not defined",
     "output_type": "error",
     "traceback": [
      "\u001B[0;31m---------------------------------------------------------------------------\u001B[0m",
      "\u001B[0;31mNameError\u001B[0m                                 Traceback (most recent call last)",
      "Cell \u001B[0;32mIn[5], line 6\u001B[0m\n\u001B[1;32m      3\u001B[0m \u001B[38;5;28;01mimport\u001B[39;00m \u001B[38;5;21;01mzlib\u001B[39;00m\n\u001B[1;32m      5\u001B[0m \u001B[38;5;66;03m# size of object in bytes\u001B[39;00m\n\u001B[0;32m----> 6\u001B[0m pprint(sys\u001B[38;5;241m.\u001B[39mgetsizeof(\u001B[43madd\u001B[49m))\n\u001B[1;32m      7\u001B[0m pprint(sys\u001B[38;5;241m.\u001B[39mgetsizeof(add\u001B[38;5;241m.\u001B[39mjson()))\n\u001B[1;32m      8\u001B[0m pprint(sys\u001B[38;5;241m.\u001B[39mgetsizeof(zlib\u001B[38;5;241m.\u001B[39mcompress(add\u001B[38;5;241m.\u001B[39mjson()\u001B[38;5;241m.\u001B[39mencode())))\n",
      "\u001B[0;31mNameError\u001B[0m: name 'add' is not defined"
     ]
    }
   ],
   "source": [
    "import sys\n",
    "from pprint import pprint\n",
    "import zlib\n",
    "\n",
    "# size of object in bytes\n",
    "pprint(sys.getsizeof(add))\n",
    "pprint(sys.getsizeof(add.json()))\n",
    "pprint(sys.getsizeof(zlib.compress(add.json().encode())))"
   ]
  },
  {
   "cell_type": "markdown",
   "source": [
    "## Auto-Testing\n",
    "\n",
    "pre-requisite: Install dependencies: pandas, pyarrow, etc...\n",
    "\n",
    "Use of 'base nationale des Adresses' for French addresses (BAN)"
   ],
   "metadata": {
    "collapsed": false
   },
   "id": "60f42728c5cb29b5"
  },
  {
   "cell_type": "markdown",
   "source": [
    "#### Exploratory Data Analysis & Cleanup"
   ],
   "metadata": {
    "collapsed": false
   },
   "id": "cb8c689c256dd70"
  },
  {
   "cell_type": "code",
   "outputs": [],
   "source": [
    "import pandas as pd\n",
    "from pprint import pprint\n",
    "import numpy as np\n",
    "\n",
    "df_addresses = pd.read_parquet('./dataset/adresses-france-cleaned.parquet')\n"
   ],
   "metadata": {
    "collapsed": false,
    "ExecuteTime": {
     "end_time": "2024-03-26T07:47:06.264539Z",
     "start_time": "2024-03-26T07:47:03.964372Z"
    }
   },
   "id": "1bd525271173c666",
   "execution_count": 35
  },
  {
   "cell_type": "code",
   "outputs": [
    {
     "data": {
      "text/plain": "(3393705, 7)"
     },
     "execution_count": 36,
     "metadata": {},
     "output_type": "execute_result"
    }
   ],
   "source": [
    "\n",
    "df_addresses.shape"
   ],
   "metadata": {
    "collapsed": false,
    "ExecuteTime": {
     "end_time": "2024-03-26T07:47:07.790273Z",
     "start_time": "2024-03-26T07:47:07.786091Z"
    }
   },
   "id": "80f69804060e8847",
   "execution_count": 36
  },
  {
   "cell_type": "code",
   "outputs": [
    {
     "data": {
      "text/plain": "                                       id  numero  rep               nom_voie  \\\n__null_dask_index__                                                             \n0                      01001_4b50r5_00630     630                   la Chèvre   \n1                      01001_g0ru02_00108     108                   Clemencia   \n2                      01001_ngzlqw_00009       9                Imp des Epis   \n12                       01001_0165_00019      19        Route de la Fontaine   \n43                   01001_0165_00080_bis      80  bis   Route de la Fontaine   \n...                                   ...     ...  ...                    ...   \n576                      01002_0140_00008       8            Chemin du Lavoir   \n586                      01002_0095_00037      37       Ruelle de la Flotiere   \n591                      01002_0295_00020      20            Route des Vignes   \n598                      01002_0145_00002       2        Chemin Louis Lumiere   \n603                      01002_0160_00028      28               Rue du Moulin   \n\n                    code_postal              nom_commune nom_ld  \n__null_dask_index__                                              \n0                         01400  L'Abergement-Clémenciat         \n1                         01400  L'Abergement-Clémenciat         \n2                         01400  L'Abergement-Clémenciat         \n12                        01400  L'Abergement-Clémenciat         \n43                        01400  L'Abergement-Clémenciat         \n...                         ...                      ...    ...  \n576                       01640    L'Abergement-de-Varey         \n586                       01640    L'Abergement-de-Varey         \n591                       01640    L'Abergement-de-Varey         \n598                       01640    L'Abergement-de-Varey         \n603                       01640    L'Abergement-de-Varey         \n\n[100 rows x 7 columns]",
      "text/html": "<div>\n<style scoped>\n    .dataframe tbody tr th:only-of-type {\n        vertical-align: middle;\n    }\n\n    .dataframe tbody tr th {\n        vertical-align: top;\n    }\n\n    .dataframe thead th {\n        text-align: right;\n    }\n</style>\n<table border=\"1\" class=\"dataframe\">\n  <thead>\n    <tr style=\"text-align: right;\">\n      <th></th>\n      <th>id</th>\n      <th>numero</th>\n      <th>rep</th>\n      <th>nom_voie</th>\n      <th>code_postal</th>\n      <th>nom_commune</th>\n      <th>nom_ld</th>\n    </tr>\n    <tr>\n      <th>__null_dask_index__</th>\n      <th></th>\n      <th></th>\n      <th></th>\n      <th></th>\n      <th></th>\n      <th></th>\n      <th></th>\n    </tr>\n  </thead>\n  <tbody>\n    <tr>\n      <th>0</th>\n      <td>01001_4b50r5_00630</td>\n      <td>630</td>\n      <td></td>\n      <td>la Chèvre</td>\n      <td>01400</td>\n      <td>L'Abergement-Clémenciat</td>\n      <td></td>\n    </tr>\n    <tr>\n      <th>1</th>\n      <td>01001_g0ru02_00108</td>\n      <td>108</td>\n      <td></td>\n      <td>Clemencia</td>\n      <td>01400</td>\n      <td>L'Abergement-Clémenciat</td>\n      <td></td>\n    </tr>\n    <tr>\n      <th>2</th>\n      <td>01001_ngzlqw_00009</td>\n      <td>9</td>\n      <td></td>\n      <td>Imp des Epis</td>\n      <td>01400</td>\n      <td>L'Abergement-Clémenciat</td>\n      <td></td>\n    </tr>\n    <tr>\n      <th>12</th>\n      <td>01001_0165_00019</td>\n      <td>19</td>\n      <td></td>\n      <td>Route de la Fontaine</td>\n      <td>01400</td>\n      <td>L'Abergement-Clémenciat</td>\n      <td></td>\n    </tr>\n    <tr>\n      <th>43</th>\n      <td>01001_0165_00080_bis</td>\n      <td>80</td>\n      <td>bis</td>\n      <td>Route de la Fontaine</td>\n      <td>01400</td>\n      <td>L'Abergement-Clémenciat</td>\n      <td></td>\n    </tr>\n    <tr>\n      <th>...</th>\n      <td>...</td>\n      <td>...</td>\n      <td>...</td>\n      <td>...</td>\n      <td>...</td>\n      <td>...</td>\n      <td>...</td>\n    </tr>\n    <tr>\n      <th>576</th>\n      <td>01002_0140_00008</td>\n      <td>8</td>\n      <td></td>\n      <td>Chemin du Lavoir</td>\n      <td>01640</td>\n      <td>L'Abergement-de-Varey</td>\n      <td></td>\n    </tr>\n    <tr>\n      <th>586</th>\n      <td>01002_0095_00037</td>\n      <td>37</td>\n      <td></td>\n      <td>Ruelle de la Flotiere</td>\n      <td>01640</td>\n      <td>L'Abergement-de-Varey</td>\n      <td></td>\n    </tr>\n    <tr>\n      <th>591</th>\n      <td>01002_0295_00020</td>\n      <td>20</td>\n      <td></td>\n      <td>Route des Vignes</td>\n      <td>01640</td>\n      <td>L'Abergement-de-Varey</td>\n      <td></td>\n    </tr>\n    <tr>\n      <th>598</th>\n      <td>01002_0145_00002</td>\n      <td>2</td>\n      <td></td>\n      <td>Chemin Louis Lumiere</td>\n      <td>01640</td>\n      <td>L'Abergement-de-Varey</td>\n      <td></td>\n    </tr>\n    <tr>\n      <th>603</th>\n      <td>01002_0160_00028</td>\n      <td>28</td>\n      <td></td>\n      <td>Rue du Moulin</td>\n      <td>01640</td>\n      <td>L'Abergement-de-Varey</td>\n      <td></td>\n    </tr>\n  </tbody>\n</table>\n<p>100 rows × 7 columns</p>\n</div>"
     },
     "execution_count": 37,
     "metadata": {},
     "output_type": "execute_result"
    }
   ],
   "source": [
    "df_addresses.head(100)"
   ],
   "metadata": {
    "collapsed": false,
    "ExecuteTime": {
     "end_time": "2024-03-26T07:47:31.804040Z",
     "start_time": "2024-03-26T07:47:31.793588Z"
    }
   },
   "id": "fd669af5030b0377",
   "execution_count": 37
  },
  {
   "cell_type": "code",
   "outputs": [],
   "source": [
    "def dataframe_row_to_pydantic_object(row: pd.Series) -> Address:\n",
    "    \"\"\"\n",
    "    Converts a row from a Pandas DataFrame to a Pydantic object.\n",
    "    Args:\n",
    "        row (pd.Series): A single row from the DataFrame.\n",
    "    Returns:\n",
    "        SomeModel: A Pydantic object with the data from the row.\n",
    "    \"\"\"\n",
    "    #missing street_type\n",
    "    return Address(street_number=str(row['numero']), street_multiplier=row['rep'], street_name=row['nom_voie'],\n",
    "                   zip_code=str(row['code_postal']), city=row['nom_commune'], confidence=1)\n"
   ],
   "metadata": {
    "collapsed": false,
    "ExecuteTime": {
     "end_time": "2024-03-26T07:47:36.598909Z",
     "start_time": "2024-03-26T07:47:36.595144Z"
    }
   },
   "id": "f5956c69fb44a408",
   "execution_count": 38
  },
  {
   "cell_type": "code",
   "outputs": [
    {
     "data": {
      "text/plain": "Address(street_number='630', street_multiplier='', street_type=None, street_name='la Chèvre', locality=None, zip_code='01400', city=\"L'Abergement-Clémenciat\", country=None, confidence=1)"
     },
     "execution_count": 39,
     "metadata": {},
     "output_type": "execute_result"
    }
   ],
   "source": [
    "dataframe_row_to_pydantic_object(df_addresses.iloc[0])"
   ],
   "metadata": {
    "collapsed": false,
    "ExecuteTime": {
     "end_time": "2024-03-26T07:47:44.080247Z",
     "start_time": "2024-03-26T07:47:44.075590Z"
    }
   },
   "id": "c3d7b9a3a73e42b6",
   "execution_count": 39
  },
  {
   "cell_type": "code",
   "outputs": [],
   "source": [
    "def full_address_generator(row: pd.Series) -> str:\n",
    "    \"\"\"\n",
    "    Generates a one line address based on all the available fields from BAN\n",
    "    :param row: pd.Series of one address from BAN\n",
    "    :return: \n",
    "    \"\"\"\n",
    "    if row['nom_ld'] != '':\n",
    "        row['nom_ld'] = ', ' + row['nom_ld'] #todo here we are cheating a little bit, in order to differentiate the locality (lieu-dit) we insert a comma, actually otherwise even for a human it would be very difficult to differentiate ! \n",
    "    strings = [str(row['numero']), str(row['rep']), str(row['nom_voie']), str(row['nom_ld']), str(row['code_postal']),\n",
    "               str(row['nom_commune'])]\n",
    "    return ' '.join(filter(None, strings))\n",
    "    # return f\"{row['numero']}{('',' '+str(row['rep']))[row['rep'] == 'nan']}{' ' + row['nom_voie']}{('', ', '+str(row['nom_ld']))[row['nom_ld'] == 'nan']}{' '+str(row['code_postal'])}{' ' + row['nom_commune']}\""
   ],
   "metadata": {
    "collapsed": false,
    "ExecuteTime": {
     "end_time": "2024-03-26T07:47:48.424516Z",
     "start_time": "2024-03-26T07:47:48.419795Z"
    }
   },
   "id": "e5dd7e33d006e38b",
   "execution_count": 40
  },
  {
   "cell_type": "code",
   "outputs": [
    {
     "name": "stdout",
     "output_type": "stream",
     "text": [
      "id               01408_0146_00091\n",
      "numero                         91\n",
      "rep                              \n",
      "nom_voie         Chemin sur Roche\n",
      "code_postal                 01250\n",
      "nom_commune    Simandre-sur-Suran\n",
      "nom_ld                           \n",
      "Name: 34823, dtype: object\n"
     ]
    },
    {
     "data": {
      "text/plain": "'91 Chemin sur Roche 01250 Simandre-sur-Suran'"
     },
     "execution_count": 41,
     "metadata": {},
     "output_type": "execute_result"
    }
   ],
   "source": [
    "\n",
    "index = 4568\n",
    "pprint(df_addresses.iloc[index])\n",
    "full_address_generator(df_addresses.iloc[index])"
   ],
   "metadata": {
    "collapsed": false,
    "ExecuteTime": {
     "end_time": "2024-03-26T07:47:51.170245Z",
     "start_time": "2024-03-26T07:47:51.164494Z"
    }
   },
   "id": "d9687426db93ff9",
   "execution_count": 41
  },
  {
   "cell_type": "markdown",
   "source": [
    "Add one line address to Dataframe"
   ],
   "metadata": {
    "collapsed": false
   },
   "id": "61ea910aff0fffc1"
  },
  {
   "cell_type": "code",
   "outputs": [],
   "source": [
    "df_addresses['full_add'] = df_addresses.apply(lambda _row: full_address_generator(_row), axis=1)"
   ],
   "metadata": {
    "collapsed": false,
    "ExecuteTime": {
     "end_time": "2024-03-26T07:48:38.206153Z",
     "start_time": "2024-03-26T07:47:55.643053Z"
    }
   },
   "id": "8a3c090535ff458",
   "execution_count": 42
  },
  {
   "cell_type": "code",
   "outputs": [
    {
     "data": {
      "text/plain": "                                       id  numero  rep              nom_voie  \\\n__null_dask_index__                                                            \n0                      01001_4b50r5_00630     630                  la Chèvre   \n1                      01001_g0ru02_00108     108                  Clemencia   \n2                      01001_ngzlqw_00009       9               Imp des Epis   \n12                       01001_0165_00019      19       Route de la Fontaine   \n43                   01001_0165_00080_bis      80  bis  Route de la Fontaine   \n\n                    code_postal              nom_commune nom_ld  \\\n__null_dask_index__                                               \n0                         01400  L'Abergement-Clémenciat          \n1                         01400  L'Abergement-Clémenciat          \n2                         01400  L'Abergement-Clémenciat          \n12                        01400  L'Abergement-Clémenciat          \n43                        01400  L'Abergement-Clémenciat          \n\n                                                              full_add  \n__null_dask_index__                                                     \n0                          630 la Chèvre 01400 L'Abergement-Clémenciat  \n1                          108 Clemencia 01400 L'Abergement-Clémenciat  \n2                         9 Imp des Epis 01400 L'Abergement-Clémenciat  \n12                   19 Route de la Fontaine 01400 L'Abergement-Clé...  \n43                   80 bis Route de la Fontaine 01400 L'Abergement...  ",
      "text/html": "<div>\n<style scoped>\n    .dataframe tbody tr th:only-of-type {\n        vertical-align: middle;\n    }\n\n    .dataframe tbody tr th {\n        vertical-align: top;\n    }\n\n    .dataframe thead th {\n        text-align: right;\n    }\n</style>\n<table border=\"1\" class=\"dataframe\">\n  <thead>\n    <tr style=\"text-align: right;\">\n      <th></th>\n      <th>id</th>\n      <th>numero</th>\n      <th>rep</th>\n      <th>nom_voie</th>\n      <th>code_postal</th>\n      <th>nom_commune</th>\n      <th>nom_ld</th>\n      <th>full_add</th>\n    </tr>\n    <tr>\n      <th>__null_dask_index__</th>\n      <th></th>\n      <th></th>\n      <th></th>\n      <th></th>\n      <th></th>\n      <th></th>\n      <th></th>\n      <th></th>\n    </tr>\n  </thead>\n  <tbody>\n    <tr>\n      <th>0</th>\n      <td>01001_4b50r5_00630</td>\n      <td>630</td>\n      <td></td>\n      <td>la Chèvre</td>\n      <td>01400</td>\n      <td>L'Abergement-Clémenciat</td>\n      <td></td>\n      <td>630 la Chèvre 01400 L'Abergement-Clémenciat</td>\n    </tr>\n    <tr>\n      <th>1</th>\n      <td>01001_g0ru02_00108</td>\n      <td>108</td>\n      <td></td>\n      <td>Clemencia</td>\n      <td>01400</td>\n      <td>L'Abergement-Clémenciat</td>\n      <td></td>\n      <td>108 Clemencia 01400 L'Abergement-Clémenciat</td>\n    </tr>\n    <tr>\n      <th>2</th>\n      <td>01001_ngzlqw_00009</td>\n      <td>9</td>\n      <td></td>\n      <td>Imp des Epis</td>\n      <td>01400</td>\n      <td>L'Abergement-Clémenciat</td>\n      <td></td>\n      <td>9 Imp des Epis 01400 L'Abergement-Clémenciat</td>\n    </tr>\n    <tr>\n      <th>12</th>\n      <td>01001_0165_00019</td>\n      <td>19</td>\n      <td></td>\n      <td>Route de la Fontaine</td>\n      <td>01400</td>\n      <td>L'Abergement-Clémenciat</td>\n      <td></td>\n      <td>19 Route de la Fontaine 01400 L'Abergement-Clé...</td>\n    </tr>\n    <tr>\n      <th>43</th>\n      <td>01001_0165_00080_bis</td>\n      <td>80</td>\n      <td>bis</td>\n      <td>Route de la Fontaine</td>\n      <td>01400</td>\n      <td>L'Abergement-Clémenciat</td>\n      <td></td>\n      <td>80 bis Route de la Fontaine 01400 L'Abergement...</td>\n    </tr>\n  </tbody>\n</table>\n</div>"
     },
     "execution_count": 45,
     "metadata": {},
     "output_type": "execute_result"
    }
   ],
   "source": [
    "df_addresses.head()"
   ],
   "metadata": {
    "collapsed": false,
    "ExecuteTime": {
     "end_time": "2024-03-26T07:49:15.640977Z",
     "start_time": "2024-03-26T07:49:15.629476Z"
    }
   },
   "id": "329063a020022ccb",
   "execution_count": 45
  },
  {
   "cell_type": "markdown",
   "source": [
    "### Scoring on large dataset"
   ],
   "metadata": {
    "collapsed": false
   },
   "id": "b7309ed801a3fc26"
  },
  {
   "cell_type": "code",
   "outputs": [],
   "source": [
    "def score_ban_from_split(split: Address, ban: pd.Series, _print: bool = False) -> tuple[int, int]:\n",
    "    \"\"\"\n",
    "    Defines a score to compare an Address object and a pd.Series of BAN\n",
    "    :param split: Address object\n",
    "    :param ban: pd.Series row of BAN Dataframe\n",
    "    :param _print: print the input objects (debug purposes)\n",
    "    :return: score from 0 to 6 and _score one hot encoded from 0 to 111111\n",
    "    \"\"\"\n",
    "    if _print: \n",
    "        print(split)\n",
    "        print(ban)\n",
    "    _score = 0\n",
    "    if split.street_number == str(ban['numero']): _score += 1\n",
    "    if (not (bool(split.street_multiplier) | bool(ban['rep']))) | (\n",
    "            split.street_multiplier == str(ban['rep'])): _score += 10\n",
    "    if (split.street_type + ' ' + split.street_name) == str(ban['nom_voie']): _score += 100\n",
    "    if (not (bool(split.locality) | bool(ban['nom_ld']))) | (split.locality == ban['nom_ld']): _score += 1000\n",
    "    if split.zip_code == str(ban['code_postal']): _score += 10000\n",
    "    if split.city == str(ban['nom_commune']): _score += 100000\n",
    "    return str(_score).count('1'), _score\n"
   ],
   "metadata": {
    "collapsed": false,
    "ExecuteTime": {
     "end_time": "2024-03-26T07:49:41.542924Z",
     "start_time": "2024-03-26T07:49:41.538992Z"
    }
   },
   "id": "98721ae0b3ccf2ac",
   "execution_count": 46
  },
  {
   "cell_type": "code",
   "outputs": [
    {
     "ename": "NameError",
     "evalue": "name 'chain' is not defined",
     "output_type": "error",
     "traceback": [
      "\u001B[0;31m---------------------------------------------------------------------------\u001B[0m",
      "\u001B[0;31mNameError\u001B[0m                                 Traceback (most recent call last)",
      "Cell \u001B[0;32mIn[47], line 2\u001B[0m\n\u001B[1;32m      1\u001B[0m row \u001B[38;5;241m=\u001B[39m df_addresses\u001B[38;5;241m.\u001B[39miloc[\u001B[38;5;241m6892\u001B[39m]\n\u001B[0;32m----> 2\u001B[0m split_adr \u001B[38;5;241m=\u001B[39m Address(\u001B[38;5;241m*\u001B[39m\u001B[38;5;241m*\u001B[39m\u001B[43mchain\u001B[49m\u001B[38;5;241m.\u001B[39minvoke({\u001B[38;5;124m\"\u001B[39m\u001B[38;5;124maddress\u001B[39m\u001B[38;5;124m\"\u001B[39m: row[\u001B[38;5;124m'\u001B[39m\u001B[38;5;124mfull_add\u001B[39m\u001B[38;5;124m'\u001B[39m]}))\n\u001B[1;32m      3\u001B[0m score \u001B[38;5;241m=\u001B[39m score_ban_from_split(split_adr, row, \u001B[38;5;28;01mTrue\u001B[39;00m)\n\u001B[1;32m      4\u001B[0m score\n",
      "\u001B[0;31mNameError\u001B[0m: name 'chain' is not defined"
     ]
    }
   ],
   "source": [
    "row = df_addresses.iloc[6892]\n",
    "split_adr = Address(**chain.invoke({\"address\": row['full_add']}))\n",
    "score = score_ban_from_split(split_adr, row, True)\n",
    "score"
   ],
   "metadata": {
    "collapsed": false,
    "ExecuteTime": {
     "end_time": "2024-03-26T07:49:44.580091Z",
     "start_time": "2024-03-26T07:49:44.562398Z"
    }
   },
   "id": "ae6c63607913d277",
   "execution_count": 47
  },
  {
   "cell_type": "code",
   "outputs": [],
   "source": [
    "row = df_addresses.iloc[4564]\n",
    "split_adr = Address(**chain.invoke({\"address\": row['full_add']}))\n",
    "score = score_ban_from_split(split_adr, row, True)\n",
    "score"
   ],
   "metadata": {
    "collapsed": false
   },
   "id": "1392beeeeca4bf56",
   "execution_count": null
  },
  {
   "cell_type": "code",
   "outputs": [],
   "source": [
    "row = df_addresses.iloc[5521]\n",
    "split_adr = Address(**chain.invoke({\"address\": row['full_add']}))\n",
    "score = score_ban_from_split(split_adr, row, True)\n",
    "score"
   ],
   "metadata": {
    "collapsed": false
   },
   "id": "9b32210c497da674",
   "execution_count": null
  },
  {
   "cell_type": "code",
   "outputs": [],
   "source": [
    "row = df_addresses.iloc[11123]\n",
    "split_adr = Address(**chain.invoke({\"address\": row['full_add']}))\n",
    "score = score_ban_from_split(split_adr, row, True)\n",
    "score"
   ],
   "metadata": {
    "collapsed": false
   },
   "id": "f193508d972682f",
   "execution_count": null
  },
  {
   "cell_type": "code",
   "outputs": [],
   "source": [
    "row = df_addresses.iloc[5546]\n",
    "split_adr = Address(**chain.invoke({\"address\": row['full_add']}))\n",
    "score = score_ban_from_split(split_adr, row, 1)\n",
    "score"
   ],
   "metadata": {
    "collapsed": false
   },
   "id": "aa1652e42d8f5a45",
   "execution_count": null
  },
  {
   "cell_type": "markdown",
   "source": [
    "#### Score Compute\n",
    "\n",
    "We need to take a portion of the data set in order to minimize the cost\n",
    "we expect the 'score' column to contain the maximum possible returned e.g. (6, 111111)"
   ],
   "metadata": {
    "collapsed": false
   },
   "id": "4408949061423da4"
  },
  {
   "cell_type": "code",
   "outputs": [
    {
     "data": {
      "text/plain": "(3393705, 11)"
     },
     "execution_count": 32,
     "metadata": {},
     "output_type": "execute_result"
    }
   ],
   "source": [
    "df_addresses.shape"
   ],
   "metadata": {
    "collapsed": false,
    "ExecuteTime": {
     "end_time": "2024-03-26T06:56:42.507519Z",
     "start_time": "2024-03-26T06:56:42.504099Z"
    }
   },
   "id": "bdee4447d0593021",
   "execution_count": 32
  },
  {
   "cell_type": "code",
   "outputs": [
    {
     "data": {
      "text/plain": "(200, 8)"
     },
     "execution_count": 48,
     "metadata": {},
     "output_type": "execute_result"
    }
   ],
   "source": [
    "df_test = df_addresses.sample(200).copy()\n",
    "df_test.shape"
   ],
   "metadata": {
    "collapsed": false,
    "ExecuteTime": {
     "end_time": "2024-03-26T07:57:43.358068Z",
     "start_time": "2024-03-26T07:57:43.208379Z"
    }
   },
   "id": "d4e375483acadbb1",
   "execution_count": 48
  },
  {
   "cell_type": "code",
   "outputs": [
    {
     "data": {
      "text/plain": "                                         id  numero  rep  \\\n__null_dask_index__                                        \n54684                  84007_6630_00011_ter      11  ter   \n368587               33473_58bn1m_00001_bis       1  bis   \n196009                     27008_0050_00001       1        \n245047                   36145_3oge9x_00001       1        \n244272                 77201_0060_00014_bis      14  bis   \n...                                     ...     ...  ...   \n424360                   59523_nj44rs_00001       1        \n454815                     61460_0033_00001       1        \n359666                   06152_0295_00020_a      20    a   \n276719                     31557742_00004_a       4    a   \n379781                 47157_0780_00052_bis      52  bis   \n\n                                       nom_voie code_postal  \\\n__null_dask_index__                                           \n54684                       Pl des Trois-Pilats       84000   \n368587                                   Drouin       33920   \n196009                          Rue des Sablons       27460   \n245047                         La Blanchetterie       36290   \n244272                        Place de l’Eglise       77370   \n...                                         ...         ...   \n424360                  Residence des 4 Cantons       59262   \n454815                          Rue Jean Moulin       61470   \n359666                        Avenue Saint Roch       06560   \n276719               Allée des Frères Higouneng       31170   \n379781                Avenue du Maréchal Joffre       47200   \n\n                               nom_commune  nom_ld  \\\n__null_dask_index__                                  \n54684                              Avignon           \n368587                         Saint-Savin           \n196009                              Alizay           \n245047                             Obterre           \n244272                             Gastins           \n...                                    ...     ...   \n424360               Sainghin-en-Mélantois           \n454815                         Sap-en-Auge  le Sap   \n359666                            Valbonne           \n276719                       Tournefeuille           \n379781                            Marmande           \n\n                                                              full_add  \n__null_dask_index__                                                     \n54684                         11 ter Pl des Trois-Pilats 84000 Avignon  \n368587                                  1 bis Drouin 33920 Saint-Savin  \n196009                                  1 Rue des Sablons 27460 Alizay  \n245047                                1 La Blanchetterie 36290 Obterre  \n244272                          14 bis Place de l’Eglise 77370 Gastins  \n...                                                                ...  \n424360               1 Residence des 4 Cantons 59262 Sainghin-en-Mé...  \n454815                    1 Rue Jean Moulin , le Sap 61470 Sap-en-Auge  \n359666                           20 a Avenue Saint Roch 06560 Valbonne  \n276719               4 a Allée des Frères Higouneng 31170 Tournefeu...  \n379781                 52 bis Avenue du Maréchal Joffre 47200 Marmande  \n\n[200 rows x 8 columns]",
      "text/html": "<div>\n<style scoped>\n    .dataframe tbody tr th:only-of-type {\n        vertical-align: middle;\n    }\n\n    .dataframe tbody tr th {\n        vertical-align: top;\n    }\n\n    .dataframe thead th {\n        text-align: right;\n    }\n</style>\n<table border=\"1\" class=\"dataframe\">\n  <thead>\n    <tr style=\"text-align: right;\">\n      <th></th>\n      <th>id</th>\n      <th>numero</th>\n      <th>rep</th>\n      <th>nom_voie</th>\n      <th>code_postal</th>\n      <th>nom_commune</th>\n      <th>nom_ld</th>\n      <th>full_add</th>\n    </tr>\n    <tr>\n      <th>__null_dask_index__</th>\n      <th></th>\n      <th></th>\n      <th></th>\n      <th></th>\n      <th></th>\n      <th></th>\n      <th></th>\n      <th></th>\n    </tr>\n  </thead>\n  <tbody>\n    <tr>\n      <th>54684</th>\n      <td>84007_6630_00011_ter</td>\n      <td>11</td>\n      <td>ter</td>\n      <td>Pl des Trois-Pilats</td>\n      <td>84000</td>\n      <td>Avignon</td>\n      <td></td>\n      <td>11 ter Pl des Trois-Pilats 84000 Avignon</td>\n    </tr>\n    <tr>\n      <th>368587</th>\n      <td>33473_58bn1m_00001_bis</td>\n      <td>1</td>\n      <td>bis</td>\n      <td>Drouin</td>\n      <td>33920</td>\n      <td>Saint-Savin</td>\n      <td></td>\n      <td>1 bis Drouin 33920 Saint-Savin</td>\n    </tr>\n    <tr>\n      <th>196009</th>\n      <td>27008_0050_00001</td>\n      <td>1</td>\n      <td></td>\n      <td>Rue des Sablons</td>\n      <td>27460</td>\n      <td>Alizay</td>\n      <td></td>\n      <td>1 Rue des Sablons 27460 Alizay</td>\n    </tr>\n    <tr>\n      <th>245047</th>\n      <td>36145_3oge9x_00001</td>\n      <td>1</td>\n      <td></td>\n      <td>La Blanchetterie</td>\n      <td>36290</td>\n      <td>Obterre</td>\n      <td></td>\n      <td>1 La Blanchetterie 36290 Obterre</td>\n    </tr>\n    <tr>\n      <th>244272</th>\n      <td>77201_0060_00014_bis</td>\n      <td>14</td>\n      <td>bis</td>\n      <td>Place de l’Eglise</td>\n      <td>77370</td>\n      <td>Gastins</td>\n      <td></td>\n      <td>14 bis Place de l’Eglise 77370 Gastins</td>\n    </tr>\n    <tr>\n      <th>...</th>\n      <td>...</td>\n      <td>...</td>\n      <td>...</td>\n      <td>...</td>\n      <td>...</td>\n      <td>...</td>\n      <td>...</td>\n      <td>...</td>\n    </tr>\n    <tr>\n      <th>424360</th>\n      <td>59523_nj44rs_00001</td>\n      <td>1</td>\n      <td></td>\n      <td>Residence des 4 Cantons</td>\n      <td>59262</td>\n      <td>Sainghin-en-Mélantois</td>\n      <td></td>\n      <td>1 Residence des 4 Cantons 59262 Sainghin-en-Mé...</td>\n    </tr>\n    <tr>\n      <th>454815</th>\n      <td>61460_0033_00001</td>\n      <td>1</td>\n      <td></td>\n      <td>Rue Jean Moulin</td>\n      <td>61470</td>\n      <td>Sap-en-Auge</td>\n      <td>le Sap</td>\n      <td>1 Rue Jean Moulin , le Sap 61470 Sap-en-Auge</td>\n    </tr>\n    <tr>\n      <th>359666</th>\n      <td>06152_0295_00020_a</td>\n      <td>20</td>\n      <td>a</td>\n      <td>Avenue Saint Roch</td>\n      <td>06560</td>\n      <td>Valbonne</td>\n      <td></td>\n      <td>20 a Avenue Saint Roch 06560 Valbonne</td>\n    </tr>\n    <tr>\n      <th>276719</th>\n      <td>31557742_00004_a</td>\n      <td>4</td>\n      <td>a</td>\n      <td>Allée des Frères Higouneng</td>\n      <td>31170</td>\n      <td>Tournefeuille</td>\n      <td></td>\n      <td>4 a Allée des Frères Higouneng 31170 Tournefeu...</td>\n    </tr>\n    <tr>\n      <th>379781</th>\n      <td>47157_0780_00052_bis</td>\n      <td>52</td>\n      <td>bis</td>\n      <td>Avenue du Maréchal Joffre</td>\n      <td>47200</td>\n      <td>Marmande</td>\n      <td></td>\n      <td>52 bis Avenue du Maréchal Joffre 47200 Marmande</td>\n    </tr>\n  </tbody>\n</table>\n<p>200 rows × 8 columns</p>\n</div>"
     },
     "execution_count": 49,
     "metadata": {},
     "output_type": "execute_result"
    }
   ],
   "source": [
    "df_test.head(200)"
   ],
   "metadata": {
    "collapsed": false,
    "ExecuteTime": {
     "end_time": "2024-03-26T07:57:45.423227Z",
     "start_time": "2024-03-26T07:57:45.413892Z"
    }
   },
   "id": "50d2fc2eb349cae5",
   "execution_count": 49
  },
  {
   "cell_type": "code",
   "outputs": [],
   "source": [
    "def score_row(_row : pd.Series) -> tuple[int, int]:\n",
    "    _split_adr = Address(**chain.invoke({\"address\": row['full_add']}))\n",
    "    return score_ban_from_split(_split_adr, row)"
   ],
   "metadata": {
    "collapsed": false
   },
   "id": "d0a52a57a38ea258",
   "execution_count": null
  },
  {
   "cell_type": "code",
   "outputs": [],
   "source": [
    "df_test['score'] = df_test.apply(lambda _row: score_row(_row), axis=1)"
   ],
   "metadata": {
    "collapsed": false
   },
   "id": "752652d0cad84c91",
   "execution_count": null
  },
  {
   "cell_type": "code",
   "outputs": [],
   "source": [
    "df_test.head(100)"
   ],
   "metadata": {
    "collapsed": false
   },
   "id": "a128dc6d8f4e20dc",
   "execution_count": null
  },
  {
   "cell_type": "code",
   "outputs": [],
   "source": [],
   "metadata": {
    "collapsed": false
   },
   "id": "fa40705e3136919d"
  }
 ],
 "metadata": {
  "kernelspec": {
   "display_name": "Python 3 (ipykernel)",
   "language": "python",
   "name": "python3"
  },
  "language_info": {
   "codemirror_mode": {
    "name": "ipython",
    "version": 3
   },
   "file_extension": ".py",
   "mimetype": "text/x-python",
   "name": "python",
   "nbconvert_exporter": "python",
   "pygments_lexer": "ipython3",
   "version": "3.11.7"
  }
 },
 "nbformat": 4,
 "nbformat_minor": 5
}
