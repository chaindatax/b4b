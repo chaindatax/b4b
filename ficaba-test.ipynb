{
 "cells": [
  {
   "cell_type": "markdown",
   "id": "179ece711c060cec",
   "metadata": {},
   "source": [
    "# Address Parser\n",
    "\n",
    "Is able to recognize named entities and format outputs based on a defined schema"
   ]
  },
  {
   "cell_type": "code",
   "execution_count": 6,
   "id": "ca1d5a28dab31b08",
   "metadata": {
    "ExecuteTime": {
     "end_time": "2024-03-25T23:32:11.865509Z",
     "start_time": "2024-03-25T23:32:11.862654Z"
    }
   },
   "outputs": [],
   "source": [
    "GCP_PROJECT_NAME = \"single-azimuth-413609\""
   ]
  },
  {
   "cell_type": "code",
   "execution_count": null,
   "id": "b3242ad3-7a3d-4cfa-a98b-b4cebd7b998e",
   "metadata": {
    "scrolled": true,
    "ExecuteTime": {
     "start_time": "2024-03-25T23:31:10.763925Z"
    }
   },
   "outputs": [],
   "source": [
    "!pip install --quiet --upgrade google-cloud-aiplatform \n",
    "!pip install --quiet --upgrade google-auth\n"
   ]
  },
  {
   "cell_type": "code",
   "execution_count": null,
   "id": "4cae5ee3-d532-403a-93ed-4d3887a137e9",
   "metadata": {},
   "outputs": [],
   "source": [
    "!gcloud auth application-default login --scopes=openid,https://www.googleapis.com/auth/userinfo.email,https://www.googleapis.com/auth/cloud-platform,https://www.googleapis.com/auth/sqlservice.login,https://www.googleapis.com/auth/drive"
   ]
  },
  {
   "cell_type": "code",
   "execution_count": null,
   "id": "49f6d9c4-8ae1-428b-8d91-c218af8e41d8",
   "metadata": {},
   "outputs": [],
   "source": [
    "!gcloud config set project {GCP_PROJECT_NAME}"
   ]
  },
  {
   "cell_type": "code",
   "execution_count": null,
   "id": "f9b0465a-4e53-433e-ac0c-244de5cb53bd",
   "metadata": {},
   "outputs": [],
   "source": [
    "!gcloud services enable aiplatform.googleapis.com"
   ]
  },
  {
   "cell_type": "code",
   "execution_count": 7,
   "id": "dee27648-0af0-42f8-9aae-8e48ca31322e",
   "metadata": {
    "ExecuteTime": {
     "end_time": "2024-03-25T23:32:16.700776Z",
     "start_time": "2024-03-25T23:32:15.573596Z"
    }
   },
   "outputs": [],
   "source": [
    "# Importing the library \n",
    "import google.auth\n",
    "\n",
    "# Setting up credentials\n",
    "credentials, _ = google.auth.default()\n",
    "# authed_http = google.auth.transport.requests.AuthorizedSession(credentials)"
   ]
  },
  {
   "cell_type": "code",
   "execution_count": null,
   "id": "775902c37c5f6779",
   "metadata": {},
   "outputs": [],
   "source": [
    "import vertexai\n",
    "from vertexai.preview.language_models import TextGenerationModel\n",
    "\n",
    "vertexai.init(project=GCP_PROJECT_NAME, location=\"us-central1\")\n",
    "parameters = {\n",
    "    \"candidate_count\": 1,\n",
    "    \"max_output_tokens\": 126,\n",
    "    \"temperature\": 0,\n",
    "    \"top_p\": 1\n",
    "}\n",
    "model = TextGenerationModel.from_pretrained(\"text-bison\")\n"
   ]
  },
  {
   "cell_type": "markdown",
   "id": "a6c24cde-8f6a-4093-986c-4fd93c2465d2",
   "metadata": {},
   "source": [
    "## Basic french address"
   ]
  },
  {
   "cell_type": "code",
   "execution_count": null,
   "id": "637ff1f5-b7c9-41dd-8a97-e02bb815e8c0",
   "metadata": {},
   "outputs": [],
   "source": [
    "response = model.predict(\n",
    "    \"\"\"Extract and split the address parameters from the text below in a JSON format.\n",
    "be very precise, differentiate the street number, multiplier, street type, street name, zip code, city\n",
    "provide a rating number to indicate your confidence level. 0 is the lowest confidence, 1 is the maximum.\n",
    "provide only one response for one address input\n",
    "\n",
    "Text: 37, rue du champ du pardon, 76000 rouen\n",
    "JSON: Text: 37, rue du champ du pardon, 76000 rouen\n",
    "JSON: {\n",
    "  \\\"street_number\\\": \\\"37\\\",\n",
    "  \\\"street_type\\\": \\\"rue\\\",\n",
    "  \\\"street_name\\\": \\\"du champ du pardon\\\",\n",
    "  \\\"zip_code\\\": \\\"76000\\\",\n",
    "  \\\"city\\\": \\\"rouen\\\",\n",
    "  \\\"confidence\\\": 1\n",
    "}\n",
    "\n",
    "Text: 10-82 Cavée St Gervais, 76000 rouen\n",
    "JSON: Text: 10-82 Cavée St Gervais, 76000 rouen\n",
    "JSON: {\n",
    "  \\\"street_number\\\": \\\"10-82\\\",\n",
    "  \\\"street_type\\\": \\\"Cavée\\\",\n",
    "  \\\"street_name\\\": \\\"St Gervais\\\",\n",
    "  \\\"zip_code\\\": \\\"76000\\\",\n",
    "  \\\"city\\\": \\\"rouen\\\",\n",
    "  \\\"confidence\\\": 1\n",
    "}\n",
    "\n",
    "Text: 1, rue de la Paix, 75008 Paris\n",
    "JSON:\n",
    "\"\"\",\n",
    "    **parameters\n",
    ")\n",
    "print(f\"Response from Model: {response.text}\")"
   ]
  },
  {
   "cell_type": "markdown",
   "id": "62753566-c97d-4878-9542-634b362c6b73",
   "metadata": {},
   "source": [
    "### Unusual French address"
   ]
  },
  {
   "cell_type": "code",
   "execution_count": null,
   "id": "6ca67753-ae7e-4607-bc5c-6c368e77203c",
   "metadata": {
    "scrolled": true
   },
   "outputs": [],
   "source": [
    "response = model.predict(\n",
    "    \"\"\"Extract and split the address parameters from the text below in a JSON format.\n",
    "be very precise, differentiate the street number, multiplier, street type, street name, zip code, city\n",
    "provide a rating number to indicate your confidence level. 0 is the lowest confidence, 1 is the maximum.\n",
    "provide only one response for one address input\n",
    "\n",
    "Text: 37, rue du champ du pardon, 76000 rouen\n",
    "JSON: Text: 37, rue du champ du pardon, 76000 rouen\n",
    "JSON: {\n",
    "  \\\"street_number\\\": \\\"37\\\",\n",
    "  \\\"street_type\\\": \\\"rue\\\",\n",
    "  \\\"street_name\\\": \\\"du champ du pardon\\\",\n",
    "  \\\"zip_code\\\": \\\"76000\\\",\n",
    "  \\\"city\\\": \\\"rouen\\\",\n",
    "  \\\"confidence\\\": 1\n",
    "}\n",
    "\n",
    "Text: 10-82 Cavée St Gervais, 76000 rouen\n",
    "JSON: Text: 10-82 Cavée St Gervais, 76000 rouen\n",
    "JSON: {\n",
    "  \\\"street_number\\\": \\\"10-82\\\",\n",
    "  \\\"street_type\\\": \\\"Cavée\\\",\n",
    "  \\\"street_name\\\": \\\"St Gervais\\\",\n",
    "  \\\"zip_code\\\": \\\"76000\\\",\n",
    "  \\\"city\\\": \\\"rouen\\\",\n",
    "  \\\"confidence\\\": 1\n",
    "}\n",
    "\n",
    "Text: 78 bis Cavee des Ecameaux 76500 Elbeuf\n",
    "JSON:\n",
    "\"\"\",\n",
    "    **parameters\n",
    ")\n",
    "print(f\"Response from Model: {response.text}\")"
   ]
  },
  {
   "cell_type": "code",
   "execution_count": null,
   "id": "413eea8e-c5e5-47ed-8fb1-2d488929a52f",
   "metadata": {},
   "outputs": [],
   "source": [
    "response = model.predict(\n",
    "    \"\"\"Extract and split the address parameters from the text below in a JSON format.\n",
    "be very precise, differentiate the street number, multiplier, street type, street name, zip code, city\n",
    "provide a rating number to indicate your confidence level. 0 is the lowest confidence, 1 is the maximum.\n",
    "provide only one response for one address input\n",
    "\n",
    "Text: 37, rue du champ du pardon, 76000 rouen\n",
    "JSON: Text: 37, rue du champ du pardon, 76000 rouen\n",
    "JSON: {\n",
    "  \\\"street_number\\\": \\\"37\\\",\n",
    "  \\\"street_type\\\": \\\"rue\\\",\n",
    "  \\\"street_name\\\": \\\"du champ du pardon\\\",\n",
    "  \\\"zip_code\\\": \\\"76000\\\",\n",
    "  \\\"city\\\": \\\"rouen\\\",\n",
    "  \\\"confidence\\\": 1\n",
    "}\n",
    "\n",
    "Text: 78 bis Cavee des Ecameaux 76500 Elbeuf\n",
    "JSON:\n",
    "\"\"\",\n",
    "    **parameters\n",
    ")\n",
    "print(f\"Response from Model: {response.text}\")"
   ]
  },
  {
   "cell_type": "markdown",
   "id": "7978bb58-65a9-48c9-82f7-f2361954ed34",
   "metadata": {},
   "source": [
    "## Complex US address"
   ]
  },
  {
   "cell_type": "code",
   "execution_count": null,
   "id": "dba8c333-cd10-468f-9889-dd29aa7782f9",
   "metadata": {},
   "outputs": [],
   "source": [
    "response = model.predict(\n",
    "    \"\"\"Extract and split the address parameters from the text below in a JSON format.\n",
    "be very precise, differentiate the street number, multiplier, street type, street name, zip code, city\n",
    "provide a rating number to indicate your confidence level. 0 is the lowest confidence, 1 is the maximum.\n",
    "provide only one response for one address input\n",
    "\n",
    "Text: 37, rue du champ du pardon, 76000 rouen\n",
    "JSON: Text: 37, rue du champ du pardon, 76000 rouen\n",
    "JSON: {\n",
    "  \\\"street_number\\\": \\\"37\\\",\n",
    "  \\\"street_type\\\": \\\"rue\\\",\n",
    "  \\\"street_name\\\": \\\"du champ du pardon\\\",\n",
    "  \\\"zip_code\\\": \\\"76000\\\",\n",
    "  \\\"city\\\": \\\"rouen\\\",\n",
    "  \\\"confidence\\\": 1\n",
    "}\n",
    "\n",
    "Text: 10-82 Cavée St Gervais, 76000 rouen\n",
    "JSON: Text: 10-82 Cavée St Gervais, 76000 rouen\n",
    "JSON: {\n",
    "  \\\"street_number\\\": \\\"10-82\\\",\n",
    "  \\\"street_type\\\": \\\"Cavée\\\",\n",
    "  \\\"street_name\\\": \\\"St Gervais\\\",\n",
    "  \\\"zip_code\\\": \\\"76000\\\",\n",
    "  \\\"city\\\": \\\"rouen\\\",\n",
    "  \\\"confidence\\\": 1\n",
    "}\n",
    "\n",
    "Text: C/o John Doe LLC, 111, 8th Ave Ste 1509, Oklahoma, 74136-1922, USA\n",
    "JSON:\n",
    "\"\"\",\n",
    "    **parameters\n",
    ")\n",
    "print(f\"Response from Model: {response.text}\")"
   ]
  },
  {
   "cell_type": "markdown",
   "id": "fa972c45-954e-4f02-a3d0-ad82862ceb1f",
   "metadata": {},
   "source": [
    "## German address \n",
    "\n",
    "generator at: https://tarjeta-credito.net/cvv/address-gen-germany/"
   ]
  },
  {
   "cell_type": "code",
   "execution_count": null,
   "id": "a28123c6-90eb-4cb1-833d-337ef946a0bd",
   "metadata": {},
   "outputs": [],
   "source": [
    "response = model.predict(\n",
    "    \"\"\"Extract and split the address parameters from the text below in a JSON format.\n",
    "be very precise, differentiate the street number, multiplier, street type, street name, zip code, city\n",
    "provide a rating number to indicate your confidence level. 0 is the lowest confidence, 1 is the maximum.\n",
    "provide only one response for one address input\n",
    "\n",
    "Text: 37, rue du champ du pardon, 76000 rouen\n",
    "JSON: Text: 37, rue du champ du pardon, 76000 rouen\n",
    "JSON: {\n",
    "  \\\"street_number\\\": \\\"37\\\",\n",
    "  \\\"street_type\\\": \\\"rue\\\",\n",
    "  \\\"street_name\\\": \\\"du champ du pardon\\\",\n",
    "  \\\"zip_code\\\": \\\"76000\\\",\n",
    "  \\\"city\\\": \\\"rouen\\\",\n",
    "  \\\"confidence\\\": 1\n",
    "}\n",
    "\n",
    "Text: 10-82 Cavée St Gervais, 76000 rouen\n",
    "JSON: Text: 10-82 Cavée St Gervais, 76000 rouen\n",
    "JSON: {\n",
    "  \\\"street_number\\\": \\\"10-82\\\",\n",
    "  \\\"street_type\\\": \\\"Cavée\\\",\n",
    "  \\\"street_name\\\": \\\"St Gervais\\\",\n",
    "  \\\"zip_code\\\": \\\"76000\\\",\n",
    "  \\\"city\\\": \\\"rouen\\\",\n",
    "  \\\"confidence\\\": 1\n",
    "}\n",
    "\n",
    "Text: Haßfurter Str. 1, 91056 Erlangen, Germany.\n",
    "JSON:\n",
    "\"\"\",\n",
    "    **parameters\n",
    ")\n",
    "print(f\"Response from Model: {response.text}\")"
   ]
  },
  {
   "cell_type": "markdown",
   "id": "936d8c91-028e-43f1-a397-68266f6e9625",
   "metadata": {},
   "source": [
    "### german address with Country not mentionned"
   ]
  },
  {
   "cell_type": "code",
   "execution_count": null,
   "id": "82c9c461-deb0-41e3-8250-3279343731d6",
   "metadata": {},
   "outputs": [],
   "source": [
    "response = model.predict(\n",
    "    \"\"\"Extract and split the address parameters from the text below in a JSON format.\n",
    "be very precise, differentiate the street number, multiplier, street type, street name, zip code, city and country\n",
    "provide a rating number to indicate your confidence level. 0 is the lowest confidence, 1 is the maximum.\n",
    "provide only one response for one address input\n",
    "\n",
    "Text: 37, rue du champ du pardon, 76000 rouen\n",
    "JSON: Text: 37, rue du champ du pardon, 76000 rouen\n",
    "JSON: {\n",
    "  \\\"street_number\\\": \\\"37\\\",\n",
    "  \\\"street_type\\\": \\\"rue\\\",\n",
    "  \\\"street_name\\\": \\\"du champ du pardon\\\",\n",
    "  \\\"zip_code\\\": \\\"76000\\\",\n",
    "  \\\"city\\\": \\\"rouen\\\",\n",
    "  \\\"country\\\": \\\"France\\\",\n",
    "  \\\"confidence\\\": 1\n",
    "}\n",
    "\n",
    "Text: 10-82 Cavée St Gervais, 76000 rouen\n",
    "JSON: Text: 10-82 Cavée St Gervais, 76000 rouen\n",
    "JSON: {\n",
    "  \\\"street_number\\\": \\\"10-82\\\",\n",
    "  \\\"street_type\\\": \\\"Cavée\\\",\n",
    "  \\\"street_name\\\": \\\"St Gervais\\\",\n",
    "  \\\"zip_code\\\": \\\"76000\\\",\n",
    "  \\\"city\\\": \\\"rouen\\\",\n",
    "  \\\"country\\\": \\\"France\\\",\n",
    "  \\\"confidence\\\": 1\n",
    "}\n",
    "\n",
    "Text: Auschnippe 9, 37170 Uslar\n",
    "JSON:\n",
    "\"\"\",\n",
    "    **parameters\n",
    ")\n",
    "print(f\"Response from Model: {response.text}\")"
   ]
  },
  {
   "cell_type": "markdown",
   "id": "84f5880b-8083-4ee4-bac7-64923f95c122",
   "metadata": {},
   "source": [
    "## Confidence level w/ False address"
   ]
  },
  {
   "cell_type": "code",
   "execution_count": null,
   "id": "303f4276-c8eb-4893-bc8d-cc50c060e086",
   "metadata": {},
   "outputs": [],
   "source": [
    "response = model.predict(\n",
    "    \"\"\"Extract and split the address parameters from the text below in a JSON format.\n",
    "be very precise, differentiate the street number, multiplier, street type, street name, zip code, city\n",
    "provide a rating number to indicate your confidence level. 0 is the lowest confidence, 1 is the maximum.\n",
    "provide only one response for one address input\n",
    "\n",
    "Text: 37, rue du champ du pardon, 76000 rouen\n",
    "JSON: \n",
    "{\n",
    "  \\\"street_number\\\": \\\"37\\\",\n",
    "  \\\"street_type\\\": \\\"rue\\\",\n",
    "  \\\"street_name\\\": \\\"du champ du pardon\\\",\n",
    "  \\\"zip_code\\\": \\\"76000\\\",\n",
    "  \\\"city\\\": \\\"rouen\\\",\n",
    "  \\\"confidence\\\": 1\n",
    "}\n",
    "\n",
    "Text: 10-82 Cavée St Gervais, 76000 rouen\n",
    "JSON: \n",
    "{\n",
    "  \\\"street_number\\\": \\\"10-82\\\",\n",
    "  \\\"street_type\\\": \\\"Cavée\\\",\n",
    "  \\\"street_name\\\": \\\"St Gervais\\\",\n",
    "  \\\"zip_code\\\": \\\"76000\\\",\n",
    "  \\\"city\\\": \\\"rouen\\\",\n",
    "  \\\"confidence\\\": 1\n",
    "}\n",
    "\n",
    "Text: ici c'est paris !, 75001 Paris\n",
    "JSON:\n",
    "\n",
    "\"\"\",\n",
    "    **parameters\n",
    ")\n",
    "print(f\"{response.text}\")"
   ]
  },
  {
   "cell_type": "markdown",
   "id": "cb57bc26-0cfc-4065-92f4-19f78f7f47b1",
   "metadata": {},
   "source": [
    "### Confidence level w/ False address and Country not mentioned"
   ]
  },
  {
   "cell_type": "code",
   "execution_count": null,
   "id": "de80400a-7bdf-4aed-9b48-c3fcde4cf5da",
   "metadata": {},
   "outputs": [],
   "source": [
    "response = model.predict(\n",
    "    \"\"\"Extract and split the address parameters from the text below in a JSON format.\n",
    "be very precise, differentiate the street number, multiplier, street type, street name, zip code, city\n",
    "provide a rating number to indicate your confidence level. 0 is the lowest confidence, 1 is the maximum.\n",
    "provide only one response for one address input\n",
    "\n",
    "Text: 37, rue du champ du pardon, 76000 rouen\n",
    "JSON: \n",
    "{\n",
    "  \\\"street_number\\\": \\\"37\\\",\n",
    "  \\\"street_type\\\": \\\"rue\\\",\n",
    "  \\\"street_name\\\": \\\"du champ du pardon\\\",\n",
    "  \\\"zip_code\\\": \\\"76000\\\",\n",
    "  \\\"city\\\": \\\"rouen\\\",\n",
    "  \\\"country\\\": \\\"France\\\",\n",
    "  \\\"confidence\\\": 1\n",
    "}\n",
    "\n",
    "Text: 10-82 Cavée St Gervais, 76000 rouen\n",
    "JSON: \n",
    "{\n",
    "  \\\"street_number\\\": \\\"10-82\\\",\n",
    "  \\\"street_type\\\": \\\"Cavée\\\",\n",
    "  \\\"street_name\\\": \\\"St Gervais\\\",\n",
    "  \\\"zip_code\\\": \\\"76000\\\",\n",
    "  \\\"city\\\": \\\"rouen\\\",\n",
    "  \\\"country\\\": \\\"France\\\",\n",
    "  \\\"confidence\\\": 1\n",
    "}\n",
    "\n",
    "Text: 452 quater grande rue general 85000 le palais vendee\n",
    "JSON:\n",
    "\n",
    "\"\"\",\n",
    "    **parameters\n",
    ")\n",
    "print(f\"{response.text}\")\n"
   ]
  },
  {
   "cell_type": "markdown",
   "id": "c6d9107b-2dfe-49e4-a40d-4e9c5f0ed49e",
   "metadata": {},
   "source": [
    "# Programmatic\n",
    "\n",
    "Using Langchain we can have a more programmatic way "
   ]
  },
  {
   "cell_type": "code",
   "execution_count": null,
   "id": "90e4c7f3-964a-411c-84c0-3b3178f1c18f",
   "metadata": {},
   "outputs": [],
   "source": [
    "!pip install --upgrade --quiet  langchain-core langchain-google-vertexai"
   ]
  },
  {
   "cell_type": "code",
   "execution_count": null,
   "id": "e8e1cb0f-a114-4ab1-b4fb-3b312e1b2319",
   "metadata": {},
   "outputs": [],
   "source": [
    "from langchain_google_vertexai import VertexAI\n",
    "\n",
    "# candidate count parameter missing ?\n",
    "model = VertexAI(model_name=\"text-bison\", top_p=1, temperature=0, max_output_tokens=126)"
   ]
  },
  {
   "cell_type": "code",
   "execution_count": null,
   "id": "7788700263739715",
   "metadata": {},
   "outputs": [],
   "source": [
    "\n",
    "from langchain_core.pydantic_v1 import BaseModel\n",
    "from typing import Optional\n",
    "\n",
    "from langchain_core.output_parsers import JsonOutputParser\n",
    "\n",
    "\n",
    "class Address(BaseModel):\n",
    "    street_number: Optional[str]\n",
    "    street_multiplier: Optional[str]\n",
    "    street_type: Optional[str]\n",
    "    street_name: Optional[str]\n",
    "    locality: Optional[str]  #lieu-dit\n",
    "    zip_code: Optional[str]\n",
    "    city: Optional[str]\n",
    "    country: Optional[str]\n",
    "    confidence: int\n",
    "\n",
    "\n",
    "parser = JsonOutputParser(pydantic_object=Address)\n",
    "# pprint(parser.get_format_instructions())\n"
   ]
  },
  {
   "cell_type": "code",
   "execution_count": null,
   "id": "a7c0db7ff6f9c5e7",
   "metadata": {},
   "outputs": [],
   "source": [
    "from langchain.prompts.few_shot import FewShotPromptTemplate\n",
    "from langchain.prompts import PromptTemplate\n",
    "\n",
    "examples = [\n",
    "    {\n",
    "        \"address\": \"37, rue du champ du pardon, 76000 rouen\",\n",
    "        \"answer\": \"\"\"{{\n",
    "  \\\"street_number\\\": \\\"37\\\",\n",
    "  \\\"street_type\\\": \\\"rue\\\",\n",
    "  \\\"street_name\\\": \\\"du champ du pardon\\\",\n",
    "  \\\"zip_code\\\": \\\"76000\\\",\n",
    "  \\\"city\\\": \\\"rouen\\\",\n",
    "  \\\"country\\\": \\\"France\\\",\n",
    "  \\\"confidence\\\": 1\n",
    "}}\"\"\"\n",
    "    },\n",
    "    {\n",
    "        \"address\": \"10-82 Cavée St Gervais, hameau de charette 76000 rouen\",\n",
    "        \"answer\": \"\"\"{{\n",
    "  \\\"street_number\\\": \\\"10-82\\\",\n",
    "  \\\"street_type\\\": \\\"Cavée\\\",\n",
    "  \\\"street_name\\\": \\\"St Gervais\\\",\n",
    "  \\\"locality\\\": \\\"hameau de charette\\\",\n",
    "  \\\"zip_code\\\": \\\"76000\\\",\n",
    "  \\\"city\\\": \\\"rouen\\\",\n",
    "  \\\"country\\\": \\\"France\\\",\n",
    "  \\\"confidence\\\": 1\n",
    "}}\"\"\"\n",
    "    },\n",
    "]\n",
    "\n",
    "prefix = \"\"\"Extract and split the address parameters from the text below in a JSON format.\n",
    "be very precise, differentiate the street number, multiplier, street type, street name, zip code, city\n",
    "provide a rating number to indicate your confidence level. 0 is the lowest confidence, 1 is the maximum.\n",
    "provide only one response for one address input\"\"\"\n",
    "\n",
    "example_prompt = PromptTemplate(\n",
    "    template=\"\"\"Text: {address}\\nJSON: {answer}\"\"\",\n",
    "    # template=\"\"\"Answer the user query.\\n{format_instructions}\\nText: {address}\\nJSON: {answer}\\n\"\"\",\n",
    "    input_variables=[\"address\", \"answer\"],\n",
    "    # partial_variables={\"format_instructions\": parser.get_format_instructions()}\n",
    ")\n",
    "\n",
    "# print(example_prompt.format(**examples[0]))\n",
    "\n",
    "prompt = FewShotPromptTemplate(\n",
    "    examples=examples,\n",
    "    example_prompt=example_prompt,\n",
    "    prefix=prefix,\n",
    "    suffix=\"Text: {address}\\nJSON:\",\n",
    "    input_variables=[\"address\"],\n",
    "\n",
    ")\n",
    "\n",
    "# print(prompt.format(address=\"78 bis Cavee des Ecameaux 76500 Elbeuf\"))\n",
    "\n",
    "\n",
    "chain = prompt | model | parser"
   ]
  },
  {
   "cell_type": "markdown",
   "id": "9e7bc0a77a3babd1",
   "metadata": {},
   "source": [
    "## Manual Testing"
   ]
  },
  {
   "cell_type": "code",
   "execution_count": null,
   "id": "c737638096eee2eb",
   "metadata": {},
   "outputs": [],
   "source": [
    "\n",
    "address = \"1 bis rue de la Paix, 75008 Paris\"\n",
    "Address(**chain.invoke({\"address\": address}))\n"
   ]
  },
  {
   "cell_type": "code",
   "execution_count": null,
   "id": "2ade3a5b2a7dd976",
   "metadata": {},
   "outputs": [],
   "source": [
    "\n",
    "address = \"Auschnippe 9, 37170 Uslar\"\n",
    "Address(**chain.invoke({\"address\": address}))\n"
   ]
  },
  {
   "cell_type": "code",
   "execution_count": null,
   "id": "b9c94ba6e5226b3a",
   "metadata": {},
   "outputs": [],
   "source": [
    "\n",
    "address = \"C/o John Doe LLC, 111, 8th Ave Ste 1509, Oklahoma, 74136-1922, USA\"\n",
    "add = Address(**chain.invoke({\"address\": address}))\n",
    "add\n"
   ]
  },
  {
   "cell_type": "markdown",
   "id": "cb287c45c1dd033c",
   "metadata": {},
   "source": [
    "### Serialize / Compress"
   ]
  },
  {
   "cell_type": "code",
   "execution_count": 5,
   "id": "cb4d113e194a9635",
   "metadata": {
    "ExecuteTime": {
     "end_time": "2024-03-25T23:32:04.829384Z",
     "start_time": "2024-03-25T23:32:04.804642Z"
    }
   },
   "outputs": [
    {
     "ename": "NameError",
     "evalue": "name 'add' is not defined",
     "output_type": "error",
     "traceback": [
      "\u001B[0;31m---------------------------------------------------------------------------\u001B[0m",
      "\u001B[0;31mNameError\u001B[0m                                 Traceback (most recent call last)",
      "Cell \u001B[0;32mIn[5], line 6\u001B[0m\n\u001B[1;32m      3\u001B[0m \u001B[38;5;28;01mimport\u001B[39;00m \u001B[38;5;21;01mzlib\u001B[39;00m\n\u001B[1;32m      5\u001B[0m \u001B[38;5;66;03m# size of object in bytes\u001B[39;00m\n\u001B[0;32m----> 6\u001B[0m pprint(sys\u001B[38;5;241m.\u001B[39mgetsizeof(\u001B[43madd\u001B[49m))\n\u001B[1;32m      7\u001B[0m pprint(sys\u001B[38;5;241m.\u001B[39mgetsizeof(add\u001B[38;5;241m.\u001B[39mjson()))\n\u001B[1;32m      8\u001B[0m pprint(sys\u001B[38;5;241m.\u001B[39mgetsizeof(zlib\u001B[38;5;241m.\u001B[39mcompress(add\u001B[38;5;241m.\u001B[39mjson()\u001B[38;5;241m.\u001B[39mencode())))\n",
      "\u001B[0;31mNameError\u001B[0m: name 'add' is not defined"
     ]
    }
   ],
   "source": [
    "import sys\n",
    "from pprint import pprint\n",
    "import zlib\n",
    "\n",
    "# size of object in bytes\n",
    "pprint(sys.getsizeof(add))\n",
    "pprint(sys.getsizeof(add.json()))\n",
    "pprint(sys.getsizeof(zlib.compress(add.json().encode())))"
   ]
  },
  {
   "cell_type": "markdown",
   "source": [
    "## Auto-Testing\n",
    "\n",
    "pre-requisite: Install dependencies: pandas, pyarrow, etc...\n",
    "\n",
    "Use of 'base nationale des Adresses' for French addresses (BAN)"
   ],
   "metadata": {
    "collapsed": false
   },
   "id": "60f42728c5cb29b5"
  },
  {
   "cell_type": "markdown",
   "source": [
    "#### Exploratory Data Analysis & Cleanup"
   ],
   "metadata": {
    "collapsed": false
   },
   "id": "cb8c689c256dd70"
  },
  {
   "cell_type": "code",
   "outputs": [],
   "source": [
    "import dask.dataframe\n",
    "import pandas as pd\n",
    "from pprint import pprint\n",
    "import numpy as np\n",
    "\n",
    "# df_addresses = pd.read_csv('./dataset/adresses-01.csv', delimiter=';', low_memory=False)\n",
    "# df_addresses = pd.read_csv('./dataset/adresses-france.csv', delimiter=';', low_memory=False, index_col=0, usecols=['id', 'numero', 'rep', 'nom_voie', 'code_postal', 'nom_commune', 'alias', 'nom_ld', 'libelle_acheminement', 'nom_afnor'])\n",
    "\n",
    "df = dask.dataframe.read_csv('./dataset/adresses-france.csv', blocksize=\"100MB\", on_bad_lines='skip', delimiter=';', low_memory=False, dtype={'id_fantoir': 'object',\n",
    "                                                                                                                                              'nom_ancienne_commune': 'object',\n",
    "                                                                                                                                              'nom_ld': 'object',\n",
    "                                                                                                                                              'rep': 'object',\n",
    "                                                                                                                                              'code_postal': 'float64',\n",
    "                                                                                                                                              'code_insee': 'object'})\n",
    "df.to_parquet('./dataset/adresses-france.csv'.replace(\".csv\", \".parquet\"))\n",
    "\n"
   ],
   "metadata": {
    "collapsed": false,
    "ExecuteTime": {
     "end_time": "2024-03-25T23:55:13.076734Z",
     "start_time": "2024-03-25T23:53:27.153974Z"
    }
   },
   "id": "1bd525271173c666",
   "execution_count": 6
  },
  {
   "cell_type": "code",
   "outputs": [
    {
     "data": {
      "text/plain": "                   id id_fantoir  numero  rep      nom_voie  code_postal  \\\n0  01001_4b50r5_00630        NaN     630  NaN     la Chèvre       1400.0   \n1  01001_g0ru02_00108        NaN     108  NaN     Clemencia       1400.0   \n2  01001_ngzlqw_00009        NaN       9  NaN  Imp des Epis       1400.0   \n3  01001_ngzlqw_00023        NaN      23  NaN  Imp des Epis       1400.0   \n4  01001_ngzlqw_00026        NaN      26  NaN  Imp des Epis       1400.0   \n\n  code_insee              nom_commune  code_insee_ancienne_commune  \\\n0      01001  L'Abergement-Clémenciat                          NaN   \n1      01001  L'Abergement-Clémenciat                          NaN   \n2      01001  L'Abergement-Clémenciat                          NaN   \n3      01001  L'Abergement-Clémenciat                          NaN   \n4      01001  L'Abergement-Clémenciat                          NaN   \n\n  nom_ancienne_commune  ...        lat  type_position  alias  nom_ld  \\\n0                  NaN  ...  46.132481        segment    NaN     NaN   \n1                  NaN  ...  46.133867       parcelle    NaN     NaN   \n2                  NaN  ...  46.152646            NaN    NaN     NaN   \n3                  NaN  ...  46.152646            NaN    NaN     NaN   \n4                  NaN  ...  46.152646            NaN    NaN     NaN   \n\n      libelle_acheminement     nom_afnor source_position source_nom_voie  \\\n0  L'ABERGEMENT-CLEMENCIAT     LA CHEVRE        inconnue        inconnue   \n1  L'ABERGEMENT-CLEMENCIAT     CLEMENCIA        cadastre        cadastre   \n2  L'ABERGEMENT-CLEMENCIAT  IMP DES EPIS           arcep           arcep   \n3  L'ABERGEMENT-CLEMENCIAT  IMP DES EPIS           arcep           arcep   \n4  L'ABERGEMENT-CLEMENCIAT  IMP DES EPIS           arcep           arcep   \n\n  certification_commune   cad_parcelles  \n0                     0             NaN  \n1                     0  01001000ZL0263  \n2                     0             NaN  \n3                     0             NaN  \n4                     0             NaN  \n\n[5 rows x 23 columns]",
      "text/html": "<div>\n<style scoped>\n    .dataframe tbody tr th:only-of-type {\n        vertical-align: middle;\n    }\n\n    .dataframe tbody tr th {\n        vertical-align: top;\n    }\n\n    .dataframe thead th {\n        text-align: right;\n    }\n</style>\n<table border=\"1\" class=\"dataframe\">\n  <thead>\n    <tr style=\"text-align: right;\">\n      <th></th>\n      <th>id</th>\n      <th>id_fantoir</th>\n      <th>numero</th>\n      <th>rep</th>\n      <th>nom_voie</th>\n      <th>code_postal</th>\n      <th>code_insee</th>\n      <th>nom_commune</th>\n      <th>code_insee_ancienne_commune</th>\n      <th>nom_ancienne_commune</th>\n      <th>...</th>\n      <th>lat</th>\n      <th>type_position</th>\n      <th>alias</th>\n      <th>nom_ld</th>\n      <th>libelle_acheminement</th>\n      <th>nom_afnor</th>\n      <th>source_position</th>\n      <th>source_nom_voie</th>\n      <th>certification_commune</th>\n      <th>cad_parcelles</th>\n    </tr>\n  </thead>\n  <tbody>\n    <tr>\n      <th>0</th>\n      <td>01001_4b50r5_00630</td>\n      <td>NaN</td>\n      <td>630</td>\n      <td>NaN</td>\n      <td>la Chèvre</td>\n      <td>1400.0</td>\n      <td>01001</td>\n      <td>L'Abergement-Clémenciat</td>\n      <td>NaN</td>\n      <td>NaN</td>\n      <td>...</td>\n      <td>46.132481</td>\n      <td>segment</td>\n      <td>NaN</td>\n      <td>NaN</td>\n      <td>L'ABERGEMENT-CLEMENCIAT</td>\n      <td>LA CHEVRE</td>\n      <td>inconnue</td>\n      <td>inconnue</td>\n      <td>0</td>\n      <td>NaN</td>\n    </tr>\n    <tr>\n      <th>1</th>\n      <td>01001_g0ru02_00108</td>\n      <td>NaN</td>\n      <td>108</td>\n      <td>NaN</td>\n      <td>Clemencia</td>\n      <td>1400.0</td>\n      <td>01001</td>\n      <td>L'Abergement-Clémenciat</td>\n      <td>NaN</td>\n      <td>NaN</td>\n      <td>...</td>\n      <td>46.133867</td>\n      <td>parcelle</td>\n      <td>NaN</td>\n      <td>NaN</td>\n      <td>L'ABERGEMENT-CLEMENCIAT</td>\n      <td>CLEMENCIA</td>\n      <td>cadastre</td>\n      <td>cadastre</td>\n      <td>0</td>\n      <td>01001000ZL0263</td>\n    </tr>\n    <tr>\n      <th>2</th>\n      <td>01001_ngzlqw_00009</td>\n      <td>NaN</td>\n      <td>9</td>\n      <td>NaN</td>\n      <td>Imp des Epis</td>\n      <td>1400.0</td>\n      <td>01001</td>\n      <td>L'Abergement-Clémenciat</td>\n      <td>NaN</td>\n      <td>NaN</td>\n      <td>...</td>\n      <td>46.152646</td>\n      <td>NaN</td>\n      <td>NaN</td>\n      <td>NaN</td>\n      <td>L'ABERGEMENT-CLEMENCIAT</td>\n      <td>IMP DES EPIS</td>\n      <td>arcep</td>\n      <td>arcep</td>\n      <td>0</td>\n      <td>NaN</td>\n    </tr>\n    <tr>\n      <th>3</th>\n      <td>01001_ngzlqw_00023</td>\n      <td>NaN</td>\n      <td>23</td>\n      <td>NaN</td>\n      <td>Imp des Epis</td>\n      <td>1400.0</td>\n      <td>01001</td>\n      <td>L'Abergement-Clémenciat</td>\n      <td>NaN</td>\n      <td>NaN</td>\n      <td>...</td>\n      <td>46.152646</td>\n      <td>NaN</td>\n      <td>NaN</td>\n      <td>NaN</td>\n      <td>L'ABERGEMENT-CLEMENCIAT</td>\n      <td>IMP DES EPIS</td>\n      <td>arcep</td>\n      <td>arcep</td>\n      <td>0</td>\n      <td>NaN</td>\n    </tr>\n    <tr>\n      <th>4</th>\n      <td>01001_ngzlqw_00026</td>\n      <td>NaN</td>\n      <td>26</td>\n      <td>NaN</td>\n      <td>Imp des Epis</td>\n      <td>1400.0</td>\n      <td>01001</td>\n      <td>L'Abergement-Clémenciat</td>\n      <td>NaN</td>\n      <td>NaN</td>\n      <td>...</td>\n      <td>46.152646</td>\n      <td>NaN</td>\n      <td>NaN</td>\n      <td>NaN</td>\n      <td>L'ABERGEMENT-CLEMENCIAT</td>\n      <td>IMP DES EPIS</td>\n      <td>arcep</td>\n      <td>arcep</td>\n      <td>0</td>\n      <td>NaN</td>\n    </tr>\n  </tbody>\n</table>\n<p>5 rows × 23 columns</p>\n</div>"
     },
     "execution_count": 9,
     "metadata": {},
     "output_type": "execute_result"
    }
   ],
   "source": [
    "df.head()\n"
   ],
   "metadata": {
    "collapsed": false,
    "ExecuteTime": {
     "end_time": "2024-03-25T23:58:15.351315Z",
     "start_time": "2024-03-25T23:58:13.689460Z"
    }
   },
   "id": "7cf88b0f83fd218a",
   "execution_count": 9
  },
  {
   "cell_type": "code",
   "outputs": [],
   "source": [
    "df_addresses = pd.read_parquet('./dataset/adresses-france.parquet')"
   ],
   "metadata": {
    "collapsed": false,
    "ExecuteTime": {
     "end_time": "2024-03-25T23:59:31.260369Z",
     "start_time": "2024-03-25T23:59:10.684422Z"
    }
   },
   "id": "267c19551924789b",
   "execution_count": 10
  },
  {
   "cell_type": "code",
   "outputs": [
    {
     "data": {
      "text/plain": "(26108166, 23)"
     },
     "execution_count": 11,
     "metadata": {},
     "output_type": "execute_result"
    }
   ],
   "source": [
    "\n",
    "df_addresses.shape"
   ],
   "metadata": {
    "collapsed": false,
    "ExecuteTime": {
     "end_time": "2024-03-25T23:59:39.283778Z",
     "start_time": "2024-03-25T23:59:39.280511Z"
    }
   },
   "id": "80f69804060e8847",
   "execution_count": 11
  },
  {
   "cell_type": "code",
   "outputs": [
    {
     "data": {
      "text/plain": "                                     id id_fantoir  numero   rep  \\\n__null_dask_index__                                                \n0                    01001_4b50r5_00630       None     630  None   \n1                    01001_g0ru02_00108       None     108  None   \n2                    01001_ngzlqw_00009       None       9  None   \n3                    01001_ngzlqw_00023       None      23  None   \n4                    01001_ngzlqw_00026       None      26  None   \n\n                         nom_voie  code_postal code_insee  \\\n__null_dask_index__                                         \n0                       la Chèvre       1400.0      01001   \n1                       Clemencia       1400.0      01001   \n2                    Imp des Epis       1400.0      01001   \n3                    Imp des Epis       1400.0      01001   \n4                    Imp des Epis       1400.0      01001   \n\n                                 nom_commune  code_insee_ancienne_commune  \\\n__null_dask_index__                                                         \n0                    L'Abergement-Clémenciat                          NaN   \n1                    L'Abergement-Clémenciat                          NaN   \n2                    L'Abergement-Clémenciat                          NaN   \n3                    L'Abergement-Clémenciat                          NaN   \n4                    L'Abergement-Clémenciat                          NaN   \n\n                    nom_ancienne_commune  ...        lat  type_position  \\\n__null_dask_index__                       ...                             \n0                                   None  ...  46.132481        segment   \n1                                   None  ...  46.133867       parcelle   \n2                                   None  ...  46.152646           None   \n3                                   None  ...  46.152646           None   \n4                                   None  ...  46.152646           None   \n\n                     alias  nom_ld     libelle_acheminement     nom_afnor  \\\n__null_dask_index__                                                         \n0                      NaN    None  L'ABERGEMENT-CLEMENCIAT     LA CHEVRE   \n1                      NaN    None  L'ABERGEMENT-CLEMENCIAT     CLEMENCIA   \n2                      NaN    None  L'ABERGEMENT-CLEMENCIAT  IMP DES EPIS   \n3                      NaN    None  L'ABERGEMENT-CLEMENCIAT  IMP DES EPIS   \n4                      NaN    None  L'ABERGEMENT-CLEMENCIAT  IMP DES EPIS   \n\n                    source_position source_nom_voie certification_commune  \\\n__null_dask_index__                                                         \n0                          inconnue        inconnue                     0   \n1                          cadastre        cadastre                     0   \n2                             arcep           arcep                     0   \n3                             arcep           arcep                     0   \n4                             arcep           arcep                     0   \n\n                      cad_parcelles  \n__null_dask_index__                  \n0                              None  \n1                    01001000ZL0263  \n2                              None  \n3                              None  \n4                              None  \n\n[5 rows x 23 columns]",
      "text/html": "<div>\n<style scoped>\n    .dataframe tbody tr th:only-of-type {\n        vertical-align: middle;\n    }\n\n    .dataframe tbody tr th {\n        vertical-align: top;\n    }\n\n    .dataframe thead th {\n        text-align: right;\n    }\n</style>\n<table border=\"1\" class=\"dataframe\">\n  <thead>\n    <tr style=\"text-align: right;\">\n      <th></th>\n      <th>id</th>\n      <th>id_fantoir</th>\n      <th>numero</th>\n      <th>rep</th>\n      <th>nom_voie</th>\n      <th>code_postal</th>\n      <th>code_insee</th>\n      <th>nom_commune</th>\n      <th>code_insee_ancienne_commune</th>\n      <th>nom_ancienne_commune</th>\n      <th>...</th>\n      <th>lat</th>\n      <th>type_position</th>\n      <th>alias</th>\n      <th>nom_ld</th>\n      <th>libelle_acheminement</th>\n      <th>nom_afnor</th>\n      <th>source_position</th>\n      <th>source_nom_voie</th>\n      <th>certification_commune</th>\n      <th>cad_parcelles</th>\n    </tr>\n    <tr>\n      <th>__null_dask_index__</th>\n      <th></th>\n      <th></th>\n      <th></th>\n      <th></th>\n      <th></th>\n      <th></th>\n      <th></th>\n      <th></th>\n      <th></th>\n      <th></th>\n      <th></th>\n      <th></th>\n      <th></th>\n      <th></th>\n      <th></th>\n      <th></th>\n      <th></th>\n      <th></th>\n      <th></th>\n      <th></th>\n      <th></th>\n    </tr>\n  </thead>\n  <tbody>\n    <tr>\n      <th>0</th>\n      <td>01001_4b50r5_00630</td>\n      <td>None</td>\n      <td>630</td>\n      <td>None</td>\n      <td>la Chèvre</td>\n      <td>1400.0</td>\n      <td>01001</td>\n      <td>L'Abergement-Clémenciat</td>\n      <td>NaN</td>\n      <td>None</td>\n      <td>...</td>\n      <td>46.132481</td>\n      <td>segment</td>\n      <td>NaN</td>\n      <td>None</td>\n      <td>L'ABERGEMENT-CLEMENCIAT</td>\n      <td>LA CHEVRE</td>\n      <td>inconnue</td>\n      <td>inconnue</td>\n      <td>0</td>\n      <td>None</td>\n    </tr>\n    <tr>\n      <th>1</th>\n      <td>01001_g0ru02_00108</td>\n      <td>None</td>\n      <td>108</td>\n      <td>None</td>\n      <td>Clemencia</td>\n      <td>1400.0</td>\n      <td>01001</td>\n      <td>L'Abergement-Clémenciat</td>\n      <td>NaN</td>\n      <td>None</td>\n      <td>...</td>\n      <td>46.133867</td>\n      <td>parcelle</td>\n      <td>NaN</td>\n      <td>None</td>\n      <td>L'ABERGEMENT-CLEMENCIAT</td>\n      <td>CLEMENCIA</td>\n      <td>cadastre</td>\n      <td>cadastre</td>\n      <td>0</td>\n      <td>01001000ZL0263</td>\n    </tr>\n    <tr>\n      <th>2</th>\n      <td>01001_ngzlqw_00009</td>\n      <td>None</td>\n      <td>9</td>\n      <td>None</td>\n      <td>Imp des Epis</td>\n      <td>1400.0</td>\n      <td>01001</td>\n      <td>L'Abergement-Clémenciat</td>\n      <td>NaN</td>\n      <td>None</td>\n      <td>...</td>\n      <td>46.152646</td>\n      <td>None</td>\n      <td>NaN</td>\n      <td>None</td>\n      <td>L'ABERGEMENT-CLEMENCIAT</td>\n      <td>IMP DES EPIS</td>\n      <td>arcep</td>\n      <td>arcep</td>\n      <td>0</td>\n      <td>None</td>\n    </tr>\n    <tr>\n      <th>3</th>\n      <td>01001_ngzlqw_00023</td>\n      <td>None</td>\n      <td>23</td>\n      <td>None</td>\n      <td>Imp des Epis</td>\n      <td>1400.0</td>\n      <td>01001</td>\n      <td>L'Abergement-Clémenciat</td>\n      <td>NaN</td>\n      <td>None</td>\n      <td>...</td>\n      <td>46.152646</td>\n      <td>None</td>\n      <td>NaN</td>\n      <td>None</td>\n      <td>L'ABERGEMENT-CLEMENCIAT</td>\n      <td>IMP DES EPIS</td>\n      <td>arcep</td>\n      <td>arcep</td>\n      <td>0</td>\n      <td>None</td>\n    </tr>\n    <tr>\n      <th>4</th>\n      <td>01001_ngzlqw_00026</td>\n      <td>None</td>\n      <td>26</td>\n      <td>None</td>\n      <td>Imp des Epis</td>\n      <td>1400.0</td>\n      <td>01001</td>\n      <td>L'Abergement-Clémenciat</td>\n      <td>NaN</td>\n      <td>None</td>\n      <td>...</td>\n      <td>46.152646</td>\n      <td>None</td>\n      <td>NaN</td>\n      <td>None</td>\n      <td>L'ABERGEMENT-CLEMENCIAT</td>\n      <td>IMP DES EPIS</td>\n      <td>arcep</td>\n      <td>arcep</td>\n      <td>0</td>\n      <td>None</td>\n    </tr>\n  </tbody>\n</table>\n<p>5 rows × 23 columns</p>\n</div>"
     },
     "execution_count": 12,
     "metadata": {},
     "output_type": "execute_result"
    }
   ],
   "source": [
    "df_addresses.head()"
   ],
   "metadata": {
    "collapsed": false,
    "ExecuteTime": {
     "end_time": "2024-03-26T00:00:29.651056Z",
     "start_time": "2024-03-26T00:00:29.635786Z"
    }
   },
   "id": "e4366c6ddf9fccb8",
   "execution_count": 12
  },
  {
   "cell_type": "code",
   "outputs": [],
   "source": [
    "df_addresses.drop(\n",
    "    columns=['id_fantoir', 'code_insee', 'code_insee_ancienne_commune', 'nom_ancienne_commune', 'x', 'y', 'lon', 'lat',\n",
    "             'type_position', 'source_position', 'source_nom_voie', 'certification_commune', 'cad_parcelles'],\n",
    "    inplace=True)"
   ],
   "metadata": {
    "collapsed": false,
    "ExecuteTime": {
     "end_time": "2024-03-26T00:00:41.729694Z",
     "start_time": "2024-03-26T00:00:40.065276Z"
    }
   },
   "id": "a555ce1acf4815bd",
   "execution_count": 13
  },
  {
   "cell_type": "code",
   "outputs": [],
   "source": [
    "df_addresses.replace(np.nan, '', regex=True, inplace=True)\n",
    "df_addresses.replace('_1', '', regex=True, inplace=True)\n"
   ],
   "metadata": {
    "collapsed": false,
    "is_executing": true,
    "ExecuteTime": {
     "start_time": "2024-03-26T00:00:45.073457Z"
    }
   },
   "id": "d7a96b162bf97c76",
   "execution_count": null
  },
  {
   "cell_type": "code",
   "outputs": [],
   "source": [
    "df_addresses.drop_duplicates(['rep', 'nom_voie', 'nom_commune', 'nom_ld'], inplace=True)\n",
    "df_addresses.shape"
   ],
   "metadata": {
    "collapsed": false
   },
   "id": "b8672004144ceb10",
   "execution_count": null
  },
  {
   "cell_type": "code",
   "outputs": [],
   "source": [
    "df_addresses.head(100)"
   ],
   "metadata": {
    "collapsed": false
   },
   "id": "fd669af5030b0377",
   "execution_count": null
  },
  {
   "cell_type": "code",
   "outputs": [],
   "source": [
    "def dataframe_row_to_pydantic_object(row: pd.Series) -> Address:\n",
    "    \"\"\"\n",
    "    Converts a row from a Pandas DataFrame to a Pydantic object.\n",
    "    Args:\n",
    "        row (pd.Series): A single row from the DataFrame.\n",
    "    Returns:\n",
    "        SomeModel: A Pydantic object with the data from the row.\n",
    "    \"\"\"\n",
    "    #missing street_type\n",
    "    return Address(street_number=str(row['numero']), street_multiplier=row['rep'], street_name=row['nom_voie'],\n",
    "                   zip_code=str(row['code_postal']), city=row['nom_commune'], confidence=1)\n"
   ],
   "metadata": {
    "collapsed": false
   },
   "id": "f5956c69fb44a408",
   "execution_count": null
  },
  {
   "cell_type": "code",
   "outputs": [],
   "source": [
    "dataframe_row_to_pydantic_object(df_addresses.iloc[0])"
   ],
   "metadata": {
    "collapsed": false
   },
   "id": "c3d7b9a3a73e42b6",
   "execution_count": null
  },
  {
   "cell_type": "code",
   "outputs": [],
   "source": [],
   "metadata": {
    "collapsed": false
   },
   "id": "1d3e72e595d49235",
   "execution_count": null
  },
  {
   "cell_type": "code",
   "outputs": [],
   "source": [
    "def full_address_generator(row: pd.Series) -> str:\n",
    "    \"\"\"\n",
    "    Generates a one line address based on all the available fields from BAN\n",
    "    :param row: pd.Series of one address from BAN\n",
    "    :return: \n",
    "    \"\"\"\n",
    "    if row['nom_ld'] != '':\n",
    "        row['nom_ld'] = ', ' + row['nom_ld'] #todo here we are cheating a little bit, in order to differentiate the locality (lieu-dit) we insert a comma, actually otherwise even for a human it would be very difficult to differentiate ! \n",
    "    strings = [str(row['numero']), str(row['rep']), str(row['nom_voie']), str(row['nom_ld']), str(row['code_postal']),\n",
    "               str(row['nom_commune'])]\n",
    "    return ' '.join(filter(None, strings))\n",
    "    # return f\"{row['numero']}{('',' '+str(row['rep']))[row['rep'] == 'nan']}{' ' + row['nom_voie']}{('', ', '+str(row['nom_ld']))[row['nom_ld'] == 'nan']}{' '+str(row['code_postal'])}{' ' + row['nom_commune']}\""
   ],
   "metadata": {
    "collapsed": false
   },
   "id": "e5dd7e33d006e38b",
   "execution_count": null
  },
  {
   "cell_type": "code",
   "outputs": [],
   "source": [
    "\n",
    "index = 4568\n",
    "pprint(df_addresses.iloc[index])\n",
    "full_address_generator(df_addresses.iloc[index])"
   ],
   "metadata": {
    "collapsed": false
   },
   "id": "d9687426db93ff9",
   "execution_count": null
  },
  {
   "cell_type": "markdown",
   "source": [
    "Add one line address to Dataframe"
   ],
   "metadata": {
    "collapsed": false
   },
   "id": "61ea910aff0fffc1"
  },
  {
   "cell_type": "code",
   "outputs": [],
   "source": [
    "df_addresses['full_add'] = df_addresses.apply(lambda _row: full_address_generator(_row), axis=1)"
   ],
   "metadata": {
    "collapsed": false
   },
   "id": "8a3c090535ff458",
   "execution_count": null
  },
  {
   "cell_type": "code",
   "outputs": [],
   "source": [
    "df_addresses.head(50)"
   ],
   "metadata": {
    "collapsed": false
   },
   "id": "329063a020022ccb",
   "execution_count": null
  },
  {
   "cell_type": "markdown",
   "source": [
    "### Scoring on large dataset"
   ],
   "metadata": {
    "collapsed": false
   },
   "id": "b7309ed801a3fc26"
  },
  {
   "cell_type": "code",
   "outputs": [],
   "source": [
    "def score_ban_from_split(split: Address, ban: pd.Series, _print: bool = False) -> tuple[int, int]:\n",
    "    \"\"\"\n",
    "    Defines a score to compare an Address object and a pd.Series of BAN\n",
    "    :param split: Address object\n",
    "    :param ban: pd.Series row of BAN Dataframe\n",
    "    :param _print: print the input objects (debug purposes)\n",
    "    :return: score from 0 to 6 and _score one hot encoded from 0 to 111111\n",
    "    \"\"\"\n",
    "    if _print: \n",
    "        print(split)\n",
    "        print(ban)\n",
    "    _score = 0\n",
    "    if split.street_number == str(ban['numero']): _score += 1\n",
    "    if (not (bool(split.street_multiplier) | bool(ban['rep']))) | (\n",
    "            split.street_multiplier == str(ban['rep'])): _score += 10\n",
    "    if (split.street_type + ' ' + split.street_name) == str(ban['nom_voie']): _score += 100\n",
    "    if (not (bool(split.locality) | bool(ban['nom_ld']))) | (split.locality == ban['nom_ld']): _score += 1000\n",
    "    if split.zip_code == str(ban['code_postal']): _score += 10000\n",
    "    if split.city == str(ban['nom_commune']): _score += 100000\n",
    "    return str(_score).count('1'), _score\n"
   ],
   "metadata": {
    "collapsed": false
   },
   "id": "98721ae0b3ccf2ac",
   "execution_count": null
  },
  {
   "cell_type": "code",
   "outputs": [],
   "source": [
    "row = df_addresses.iloc[6892]\n",
    "split_adr = Address(**chain.invoke({\"address\": row['full_add']}))\n",
    "score = score_ban_from_split(split_adr, row, True)\n",
    "score"
   ],
   "metadata": {
    "collapsed": false
   },
   "id": "ae6c63607913d277",
   "execution_count": null
  },
  {
   "cell_type": "code",
   "outputs": [],
   "source": [
    "row = df_addresses.iloc[4564]\n",
    "split_adr = Address(**chain.invoke({\"address\": row['full_add']}))\n",
    "score = score_ban_from_split(split_adr, row, True)\n",
    "score"
   ],
   "metadata": {
    "collapsed": false
   },
   "id": "1392beeeeca4bf56",
   "execution_count": null
  },
  {
   "cell_type": "code",
   "outputs": [],
   "source": [
    "row = df_addresses.iloc[5521]\n",
    "split_adr = Address(**chain.invoke({\"address\": row['full_add']}))\n",
    "score = score_ban_from_split(split_adr, row, True)\n",
    "score"
   ],
   "metadata": {
    "collapsed": false
   },
   "id": "9b32210c497da674",
   "execution_count": null
  },
  {
   "cell_type": "code",
   "outputs": [],
   "source": [
    "row = df_addresses.iloc[11123]\n",
    "split_adr = Address(**chain.invoke({\"address\": row['full_add']}))\n",
    "score = score_ban_from_split(split_adr, row, True)\n",
    "score"
   ],
   "metadata": {
    "collapsed": false
   },
   "id": "f193508d972682f",
   "execution_count": null
  },
  {
   "cell_type": "code",
   "outputs": [],
   "source": [
    "row = df_addresses.iloc[5546]\n",
    "split_adr = Address(**chain.invoke({\"address\": row['full_add']}))\n",
    "score = score_ban_from_split(split_adr, row, 1)\n",
    "score"
   ],
   "metadata": {
    "collapsed": false
   },
   "id": "aa1652e42d8f5a45",
   "execution_count": null
  },
  {
   "cell_type": "markdown",
   "source": [
    "#### Score Compute\n",
    "\n",
    "We need to take a portion of the data set in order to minimize the cost\n",
    "we expect the 'score' column to contain the maximum possible returned e.g. (6, 111111)"
   ],
   "metadata": {
    "collapsed": false
   },
   "id": "4408949061423da4"
  },
  {
   "cell_type": "code",
   "outputs": [],
   "source": [
    "df_addresses.shape"
   ],
   "metadata": {
    "collapsed": false
   },
   "id": "bdee4447d0593021",
   "execution_count": null
  },
  {
   "cell_type": "code",
   "outputs": [],
   "source": [
    "df_test = df_addresses.sample(100).copy()\n",
    "df_test.shape"
   ],
   "metadata": {
    "collapsed": false
   },
   "id": "d4e375483acadbb1",
   "execution_count": null
  },
  {
   "cell_type": "code",
   "outputs": [],
   "source": [
    "def score_row(_row : pd.Series) -> tuple[int, int]:\n",
    "    _split_adr = Address(**chain.invoke({\"address\": row['full_add']}))\n",
    "    return score_ban_from_split(_split_adr, row)"
   ],
   "metadata": {
    "collapsed": false
   },
   "id": "d0a52a57a38ea258",
   "execution_count": null
  },
  {
   "cell_type": "code",
   "outputs": [],
   "source": [
    "df_test['score'] = df_test.apply(lambda _row: score_row(_row), axis=1)"
   ],
   "metadata": {
    "collapsed": false
   },
   "id": "752652d0cad84c91",
   "execution_count": null
  },
  {
   "cell_type": "code",
   "outputs": [],
   "source": [
    "df_test.head(100)"
   ],
   "metadata": {
    "collapsed": false
   },
   "id": "a128dc6d8f4e20dc",
   "execution_count": null
  },
  {
   "cell_type": "code",
   "outputs": [],
   "source": [],
   "metadata": {
    "collapsed": false
   },
   "id": "fa40705e3136919d"
  }
 ],
 "metadata": {
  "kernelspec": {
   "display_name": "Python 3 (ipykernel)",
   "language": "python",
   "name": "python3"
  },
  "language_info": {
   "codemirror_mode": {
    "name": "ipython",
    "version": 3
   },
   "file_extension": ".py",
   "mimetype": "text/x-python",
   "name": "python",
   "nbconvert_exporter": "python",
   "pygments_lexer": "ipython3",
   "version": "3.11.7"
  }
 },
 "nbformat": 4,
 "nbformat_minor": 5
}
