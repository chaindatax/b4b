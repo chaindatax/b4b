{
 "cells": [
  {
   "cell_type": "markdown",
   "id": "179ece711c060cec",
   "metadata": {},
   "source": [
    "# Address Parser\n",
    "\n",
    "Is able to recognize named entities and format outputs based on a defined schema"
   ]
  },
  {
   "cell_type": "code",
   "execution_count": 1,
   "id": "ca1d5a28dab31b08",
   "metadata": {
    "ExecuteTime": {
     "end_time": "2024-02-08T09:42:16.690414484Z",
     "start_time": "2024-02-08T09:42:16.689317152Z"
    }
   },
   "outputs": [],
   "source": [
    "GCP_PROJECT_NAME = \"single-azimuth-413609\""
   ]
  },
  {
   "cell_type": "code",
   "execution_count": 2,
   "id": "b3242ad3-7a3d-4cfa-a98b-b4cebd7b998e",
   "metadata": {
    "scrolled": true,
    "ExecuteTime": {
     "end_time": "2024-02-08T09:42:22.263666854Z",
     "start_time": "2024-02-08T09:42:19.180807119Z"
    }
   },
   "outputs": [
    {
     "name": "stdout",
     "output_type": "stream",
     "text": [
      "\r\n",
      "\u001B[1m[\u001B[0m\u001B[34;49mnotice\u001B[0m\u001B[1;39;49m]\u001B[0m\u001B[39;49m A new release of pip available: \u001B[0m\u001B[31;49m22.3.1\u001B[0m\u001B[39;49m -> \u001B[0m\u001B[32;49m24.0\u001B[0m\r\n",
      "\u001B[1m[\u001B[0m\u001B[34;49mnotice\u001B[0m\u001B[1;39;49m]\u001B[0m\u001B[39;49m To update, run: \u001B[0m\u001B[32;49mpip install --upgrade pip\u001B[0m\r\n",
      "\r\n",
      "\u001B[1m[\u001B[0m\u001B[34;49mnotice\u001B[0m\u001B[1;39;49m]\u001B[0m\u001B[39;49m A new release of pip available: \u001B[0m\u001B[31;49m22.3.1\u001B[0m\u001B[39;49m -> \u001B[0m\u001B[32;49m24.0\u001B[0m\r\n",
      "\u001B[1m[\u001B[0m\u001B[34;49mnotice\u001B[0m\u001B[1;39;49m]\u001B[0m\u001B[39;49m To update, run: \u001B[0m\u001B[32;49mpip install --upgrade pip\u001B[0m\r\n"
     ]
    }
   ],
   "source": [
    "!pip install --quiet --upgrade google-cloud-aiplatform \n",
    "!pip install --quiet --upgrade google-auth\n"
   ]
  },
  {
   "cell_type": "code",
   "execution_count": 3,
   "id": "4cae5ee3-d532-403a-93ed-4d3887a137e9",
   "metadata": {
    "ExecuteTime": {
     "end_time": "2024-02-08T09:42:32.978478065Z",
     "start_time": "2024-02-08T09:42:23.908489716Z"
    }
   },
   "outputs": [
    {
     "name": "stdout",
     "output_type": "stream",
     "text": [
      "Your browser has been opened to visit:\r\n",
      "\r\n",
      "    https://accounts.google.com/o/oauth2/auth?response_type=code&client_id=764086051850-6qr4p6gpi6hn506pt8ejuq83di341hur.apps.googleusercontent.com&redirect_uri=http%3A%2F%2Flocalhost%3A8085%2F&scope=openid+https%3A%2F%2Fwww.googleapis.com%2Fauth%2Fuserinfo.email+https%3A%2F%2Fwww.googleapis.com%2Fauth%2Fcloud-platform+https%3A%2F%2Fwww.googleapis.com%2Fauth%2Fsqlservice.login+https%3A%2F%2Fwww.googleapis.com%2Fauth%2Fdrive+https%3A%2F%2Fwww.googleapis.com%2Fauth%2Faccounts.reauth&state=4oCvq3SgCR1jnwxtixGt6ZhLgBjEdr&access_type=offline&code_challenge=02T-ecmi9TvqMRQBMLwo_sVSitQqmN2SprRemd3fwfU&code_challenge_method=S256\r\n",
      "\r\n",
      "\r\n",
      "Credentials saved to file: [/home/vincent/.config/gcloud/application_default_credentials.json]\r\n",
      "\r\n",
      "These credentials will be used by any library that requests Application Default Credentials (ADC).\r\n",
      "\r\n",
      "Quota project \"single-azimuth-413609\" was added to ADC which can be used by Google client libraries for billing and quota. Note that some services may still bill the project owning the resource.\r\n"
     ]
    }
   ],
   "source": [
    "!gcloud auth application-default login --scopes=openid,https://www.googleapis.com/auth/userinfo.email,https://www.googleapis.com/auth/cloud-platform,https://www.googleapis.com/auth/sqlservice.login,https://www.googleapis.com/auth/drive"
   ]
  },
  {
   "cell_type": "code",
   "execution_count": 4,
   "id": "49f6d9c4-8ae1-428b-8d91-c218af8e41d8",
   "metadata": {
    "ExecuteTime": {
     "end_time": "2024-02-08T09:42:40.714172716Z",
     "start_time": "2024-02-08T09:42:39.301726375Z"
    }
   },
   "outputs": [
    {
     "name": "stdout",
     "output_type": "stream",
     "text": [
      "Updated property [core/project].\r\n"
     ]
    }
   ],
   "source": [
    "!gcloud config set project {GCP_PROJECT_NAME}"
   ]
  },
  {
   "cell_type": "code",
   "execution_count": 5,
   "id": "f9b0465a-4e53-433e-ac0c-244de5cb53bd",
   "metadata": {
    "ExecuteTime": {
     "end_time": "2024-02-08T09:42:43.514547358Z",
     "start_time": "2024-02-08T09:42:41.921417968Z"
    }
   },
   "outputs": [],
   "source": [
    "!gcloud services enable aiplatform.googleapis.com"
   ]
  },
  {
   "cell_type": "code",
   "execution_count": 8,
   "id": "dee27648-0af0-42f8-9aae-8e48ca31322e",
   "metadata": {
    "ExecuteTime": {
     "end_time": "2024-02-08T09:44:34.982955170Z",
     "start_time": "2024-02-08T09:44:34.391777863Z"
    }
   },
   "outputs": [],
   "source": [
    "# Importing the library \n",
    "import google.auth\n",
    "\n",
    "# Setting up credentials\n",
    "credentials, _ = google.auth.default()\n",
    "# authed_http = google.auth.transport.requests.AuthorizedSession(credentials)"
   ]
  },
  {
   "cell_type": "code",
   "execution_count": 9,
   "id": "775902c37c5f6779",
   "metadata": {
    "ExecuteTime": {
     "end_time": "2024-02-08T09:46:20.312113854Z",
     "start_time": "2024-02-08T09:46:18.274390075Z"
    }
   },
   "outputs": [],
   "source": [
    "import vertexai\n",
    "from vertexai.preview.language_models import TextGenerationModel\n",
    "\n",
    "vertexai.init(project=GCP_PROJECT_NAME, location=\"us-central1\")\n",
    "parameters = {\n",
    "    \"candidate_count\": 1,\n",
    "    \"max_output_tokens\": 126,\n",
    "    \"temperature\": 0,\n",
    "    \"top_p\": 1\n",
    "}\n",
    "model = TextGenerationModel.from_pretrained(\"text-bison\")\n"
   ]
  },
  {
   "cell_type": "markdown",
   "id": "a6c24cde-8f6a-4093-986c-4fd93c2465d2",
   "metadata": {},
   "source": [
    "## Basic french address"
   ]
  },
  {
   "cell_type": "code",
   "execution_count": 10,
   "id": "637ff1f5-b7c9-41dd-8a97-e02bb815e8c0",
   "metadata": {
    "ExecuteTime": {
     "end_time": "2024-02-08T09:46:27.991623573Z",
     "start_time": "2024-02-08T09:46:25.643012577Z"
    }
   },
   "outputs": [
    {
     "name": "stdout",
     "output_type": "stream",
     "text": [
      "Response from Model:  {\n",
      "  \"street_number\": \"1\",\n",
      "  \"street_type\": \"rue\",\n",
      "  \"street_name\": \"de la Paix\",\n",
      "  \"zip_code\": \"75008\",\n",
      "  \"city\": \"Paris\",\n",
      "  \"confidence\": 1\n",
      "}\n"
     ]
    }
   ],
   "source": [
    "response = model.predict(\n",
    "    \"\"\"Extract and split the address parameters from the text below in a JSON format.\n",
    "be very precise, differentiate the street number, multiplier, street type, street name, zip code, city\n",
    "provide a rating number to indicate your confidence level. 0 is the lowest confidence, 1 is the maximum.\n",
    "provide only one response for one address input\n",
    "\n",
    "Text: 37, rue du champ du pardon, 76000 rouen\n",
    "JSON: Text: 37, rue du champ du pardon, 76000 rouen\n",
    "JSON: {\n",
    "  \\\"street_number\\\": \\\"37\\\",\n",
    "  \\\"street_type\\\": \\\"rue\\\",\n",
    "  \\\"street_name\\\": \\\"du champ du pardon\\\",\n",
    "  \\\"zip_code\\\": \\\"76000\\\",\n",
    "  \\\"city\\\": \\\"rouen\\\",\n",
    "  \\\"confidence\\\": 1\n",
    "}\n",
    "\n",
    "Text: 10-82 Cavée St Gervais, 76000 rouen\n",
    "JSON: Text: 10-82 Cavée St Gervais, 76000 rouen\n",
    "JSON: {\n",
    "  \\\"street_number\\\": \\\"10-82\\\",\n",
    "  \\\"street_type\\\": \\\"Cavée\\\",\n",
    "  \\\"street_name\\\": \\\"St Gervais\\\",\n",
    "  \\\"zip_code\\\": \\\"76000\\\",\n",
    "  \\\"city\\\": \\\"rouen\\\",\n",
    "  \\\"confidence\\\": 1\n",
    "}\n",
    "\n",
    "Text: 1, rue de la Paix, 75008 Paris\n",
    "JSON:\n",
    "\"\"\",\n",
    "    **parameters\n",
    ")\n",
    "print(f\"Response from Model: {response.text}\")"
   ]
  },
  {
   "cell_type": "markdown",
   "id": "62753566-c97d-4878-9542-634b362c6b73",
   "metadata": {},
   "source": [
    "### Unusual French address"
   ]
  },
  {
   "cell_type": "code",
   "execution_count": 11,
   "id": "6ca67753-ae7e-4607-bc5c-6c368e77203c",
   "metadata": {
    "ExecuteTime": {
     "end_time": "2024-02-08T08:22:02.987981651Z",
     "start_time": "2024-02-08T08:22:02.195509924Z"
    },
    "scrolled": true
   },
   "outputs": [
    {
     "name": "stdout",
     "output_type": "stream",
     "text": [
      "Response from Model:  {\n",
      "  \"street_number\": \"78\",\n",
      "  \"street_multiplier\": \"bis\",\n",
      "  \"street_type\": \"Cavee\",\n",
      "  \"street_name\": \"des Ecameaux\",\n",
      "  \"zip_code\": \"76500\",\n",
      "  \"city\": \"Elbeuf\",\n",
      "  \"confidence\": 1\n",
      "}\n"
     ]
    }
   ],
   "source": [
    "response = model.predict(\n",
    "    \"\"\"Extract and split the address parameters from the text below in a JSON format.\n",
    "be very precise, differentiate the street number, multiplier, street type, street name, zip code, city\n",
    "provide a rating number to indicate your confidence level. 0 is the lowest confidence, 1 is the maximum.\n",
    "provide only one response for one address input\n",
    "\n",
    "Text: 37, rue du champ du pardon, 76000 rouen\n",
    "JSON: Text: 37, rue du champ du pardon, 76000 rouen\n",
    "JSON: {\n",
    "  \\\"street_number\\\": \\\"37\\\",\n",
    "  \\\"street_type\\\": \\\"rue\\\",\n",
    "  \\\"street_name\\\": \\\"du champ du pardon\\\",\n",
    "  \\\"zip_code\\\": \\\"76000\\\",\n",
    "  \\\"city\\\": \\\"rouen\\\",\n",
    "  \\\"confidence\\\": 1\n",
    "}\n",
    "\n",
    "Text: 10-82 Cavée St Gervais, 76000 rouen\n",
    "JSON: Text: 10-82 Cavée St Gervais, 76000 rouen\n",
    "JSON: {\n",
    "  \\\"street_number\\\": \\\"10-82\\\",\n",
    "  \\\"street_type\\\": \\\"Cavée\\\",\n",
    "  \\\"street_name\\\": \\\"St Gervais\\\",\n",
    "  \\\"zip_code\\\": \\\"76000\\\",\n",
    "  \\\"city\\\": \\\"rouen\\\",\n",
    "  \\\"confidence\\\": 1\n",
    "}\n",
    "\n",
    "Text: 78 bis Cavee des Ecameaux 76500 Elbeuf\n",
    "JSON:\n",
    "\"\"\",\n",
    "    **parameters\n",
    ")\n",
    "print(f\"Response from Model: {response.text}\")"
   ]
  },
  {
   "cell_type": "code",
   "execution_count": 12,
   "id": "413eea8e-c5e5-47ed-8fb1-2d488929a52f",
   "metadata": {
    "ExecuteTime": {
     "end_time": "2024-02-08T08:23:08.723293398Z",
     "start_time": "2024-02-08T08:23:07.886492894Z"
    }
   },
   "outputs": [
    {
     "name": "stdout",
     "output_type": "stream",
     "text": [
      "Response from Model:  {\n",
      "  \"street_number\": \"78\",\n",
      "  \"street_multiplier\": \"bis\",\n",
      "  \"street_type\": \"Cavee\",\n",
      "  \"street_name\": \"des Ecameaux\",\n",
      "  \"zip_code\": \"76500\",\n",
      "  \"city\": \"Elbeuf\",\n",
      "  \"confidence\": 1\n",
      "}\n"
     ]
    }
   ],
   "source": [
    "response = model.predict(\n",
    "    \"\"\"Extract and split the address parameters from the text below in a JSON format.\n",
    "be very precise, differentiate the street number, multiplier, street type, street name, zip code, city\n",
    "provide a rating number to indicate your confidence level. 0 is the lowest confidence, 1 is the maximum.\n",
    "provide only one response for one address input\n",
    "\n",
    "Text: 37, rue du champ du pardon, 76000 rouen\n",
    "JSON: Text: 37, rue du champ du pardon, 76000 rouen\n",
    "JSON: {\n",
    "  \\\"street_number\\\": \\\"37\\\",\n",
    "  \\\"street_type\\\": \\\"rue\\\",\n",
    "  \\\"street_name\\\": \\\"du champ du pardon\\\",\n",
    "  \\\"zip_code\\\": \\\"76000\\\",\n",
    "  \\\"city\\\": \\\"rouen\\\",\n",
    "  \\\"confidence\\\": 1\n",
    "}\n",
    "\n",
    "Text: 78 bis Cavee des Ecameaux 76500 Elbeuf\n",
    "JSON:\n",
    "\"\"\",\n",
    "    **parameters\n",
    ")\n",
    "print(f\"Response from Model: {response.text}\")"
   ]
  },
  {
   "cell_type": "markdown",
   "id": "7978bb58-65a9-48c9-82f7-f2361954ed34",
   "metadata": {},
   "source": [
    "## Complex US address"
   ]
  },
  {
   "cell_type": "code",
   "execution_count": 13,
   "id": "dba8c333-cd10-468f-9889-dd29aa7782f9",
   "metadata": {
    "ExecuteTime": {
     "end_time": "2024-02-08T08:23:11.812618419Z",
     "start_time": "2024-02-08T08:23:10.856853789Z"
    }
   },
   "outputs": [
    {
     "name": "stdout",
     "output_type": "stream",
     "text": [
      "Response from Model:  {\n",
      "  \"street_number\": \"111\",\n",
      "  \"street_multiplier\": \"8th\",\n",
      "  \"street_type\": \"Ave\",\n",
      "  \"street_name\": \"Ste 1509\",\n",
      "  \"zip_code\": \"74136-1922\",\n",
      "  \"city\": \"Oklahoma\",\n",
      "  \"country\": \"USA\",\n",
      "  \"confidence\": 1\n",
      "}\n"
     ]
    }
   ],
   "source": [
    "response = model.predict(\n",
    "    \"\"\"Extract and split the address parameters from the text below in a JSON format.\n",
    "be very precise, differentiate the street number, multiplier, street type, street name, zip code, city\n",
    "provide a rating number to indicate your confidence level. 0 is the lowest confidence, 1 is the maximum.\n",
    "provide only one response for one address input\n",
    "\n",
    "Text: 37, rue du champ du pardon, 76000 rouen\n",
    "JSON: Text: 37, rue du champ du pardon, 76000 rouen\n",
    "JSON: {\n",
    "  \\\"street_number\\\": \\\"37\\\",\n",
    "  \\\"street_type\\\": \\\"rue\\\",\n",
    "  \\\"street_name\\\": \\\"du champ du pardon\\\",\n",
    "  \\\"zip_code\\\": \\\"76000\\\",\n",
    "  \\\"city\\\": \\\"rouen\\\",\n",
    "  \\\"confidence\\\": 1\n",
    "}\n",
    "\n",
    "Text: 10-82 Cavée St Gervais, 76000 rouen\n",
    "JSON: Text: 10-82 Cavée St Gervais, 76000 rouen\n",
    "JSON: {\n",
    "  \\\"street_number\\\": \\\"10-82\\\",\n",
    "  \\\"street_type\\\": \\\"Cavée\\\",\n",
    "  \\\"street_name\\\": \\\"St Gervais\\\",\n",
    "  \\\"zip_code\\\": \\\"76000\\\",\n",
    "  \\\"city\\\": \\\"rouen\\\",\n",
    "  \\\"confidence\\\": 1\n",
    "}\n",
    "\n",
    "Text: C/o John Doe LLC, 111, 8th Ave Ste 1509, Oklahoma, 74136-1922, USA\n",
    "JSON:\n",
    "\"\"\",\n",
    "    **parameters\n",
    ")\n",
    "print(f\"Response from Model: {response.text}\")"
   ]
  },
  {
   "cell_type": "markdown",
   "id": "fa972c45-954e-4f02-a3d0-ad82862ceb1f",
   "metadata": {},
   "source": [
    "## German address \n",
    "\n",
    "generator at: https://tarjeta-credito.net/cvv/address-gen-germany/"
   ]
  },
  {
   "cell_type": "code",
   "execution_count": 14,
   "id": "a28123c6-90eb-4cb1-833d-337ef946a0bd",
   "metadata": {
    "ExecuteTime": {
     "end_time": "2024-02-08T08:23:14.536764258Z",
     "start_time": "2024-02-08T08:23:13.682352185Z"
    }
   },
   "outputs": [
    {
     "name": "stdout",
     "output_type": "stream",
     "text": [
      "Response from Model:  {\n",
      "  \"street_number\": \"1\",\n",
      "  \"street_type\": \"Str.\",\n",
      "  \"street_name\": \"Haßfurter\",\n",
      "  \"zip_code\": \"91056\",\n",
      "  \"city\": \"Erlangen\",\n",
      "  \"country\": \"Germany\",\n",
      "  \"confidence\": 1\n",
      "}\n"
     ]
    }
   ],
   "source": [
    "response = model.predict(\n",
    "    \"\"\"Extract and split the address parameters from the text below in a JSON format.\n",
    "be very precise, differentiate the street number, multiplier, street type, street name, zip code, city\n",
    "provide a rating number to indicate your confidence level. 0 is the lowest confidence, 1 is the maximum.\n",
    "provide only one response for one address input\n",
    "\n",
    "Text: 37, rue du champ du pardon, 76000 rouen\n",
    "JSON: Text: 37, rue du champ du pardon, 76000 rouen\n",
    "JSON: {\n",
    "  \\\"street_number\\\": \\\"37\\\",\n",
    "  \\\"street_type\\\": \\\"rue\\\",\n",
    "  \\\"street_name\\\": \\\"du champ du pardon\\\",\n",
    "  \\\"zip_code\\\": \\\"76000\\\",\n",
    "  \\\"city\\\": \\\"rouen\\\",\n",
    "  \\\"confidence\\\": 1\n",
    "}\n",
    "\n",
    "Text: 10-82 Cavée St Gervais, 76000 rouen\n",
    "JSON: Text: 10-82 Cavée St Gervais, 76000 rouen\n",
    "JSON: {\n",
    "  \\\"street_number\\\": \\\"10-82\\\",\n",
    "  \\\"street_type\\\": \\\"Cavée\\\",\n",
    "  \\\"street_name\\\": \\\"St Gervais\\\",\n",
    "  \\\"zip_code\\\": \\\"76000\\\",\n",
    "  \\\"city\\\": \\\"rouen\\\",\n",
    "  \\\"confidence\\\": 1\n",
    "}\n",
    "\n",
    "Text: Haßfurter Str. 1, 91056 Erlangen, Germany.\n",
    "JSON:\n",
    "\"\"\",\n",
    "    **parameters\n",
    ")\n",
    "print(f\"Response from Model: {response.text}\")"
   ]
  },
  {
   "cell_type": "markdown",
   "id": "936d8c91-028e-43f1-a397-68266f6e9625",
   "metadata": {},
   "source": [
    "### german address with Country not mentionned"
   ]
  },
  {
   "cell_type": "code",
   "execution_count": 15,
   "id": "82c9c461-deb0-41e3-8250-3279343731d6",
   "metadata": {
    "ExecuteTime": {
     "end_time": "2024-02-08T08:23:16.631464748Z",
     "start_time": "2024-02-08T08:23:15.540425394Z"
    }
   },
   "outputs": [
    {
     "name": "stdout",
     "output_type": "stream",
     "text": [
      "Response from Model:  {\n",
      "  \"street_number\": \"9\",\n",
      "  \"street_name\": \"Auschnippe\",\n",
      "  \"zip_code\": \"37170\",\n",
      "  \"city\": \"Uslar\",\n",
      "  \"country\": \"Germany\",\n",
      "  \"confidence\": 1\n",
      "}\n"
     ]
    }
   ],
   "source": [
    "response = model.predict(\n",
    "    \"\"\"Extract and split the address parameters from the text below in a JSON format.\n",
    "be very precise, differentiate the street number, multiplier, street type, street name, zip code, city and country\n",
    "provide a rating number to indicate your confidence level. 0 is the lowest confidence, 1 is the maximum.\n",
    "provide only one response for one address input\n",
    "\n",
    "Text: 37, rue du champ du pardon, 76000 rouen\n",
    "JSON: Text: 37, rue du champ du pardon, 76000 rouen\n",
    "JSON: {\n",
    "  \\\"street_number\\\": \\\"37\\\",\n",
    "  \\\"street_type\\\": \\\"rue\\\",\n",
    "  \\\"street_name\\\": \\\"du champ du pardon\\\",\n",
    "  \\\"zip_code\\\": \\\"76000\\\",\n",
    "  \\\"city\\\": \\\"rouen\\\",\n",
    "  \\\"country\\\": \\\"France\\\",\n",
    "  \\\"confidence\\\": 1\n",
    "}\n",
    "\n",
    "Text: 10-82 Cavée St Gervais, 76000 rouen\n",
    "JSON: Text: 10-82 Cavée St Gervais, 76000 rouen\n",
    "JSON: {\n",
    "  \\\"street_number\\\": \\\"10-82\\\",\n",
    "  \\\"street_type\\\": \\\"Cavée\\\",\n",
    "  \\\"street_name\\\": \\\"St Gervais\\\",\n",
    "  \\\"zip_code\\\": \\\"76000\\\",\n",
    "  \\\"city\\\": \\\"rouen\\\",\n",
    "  \\\"country\\\": \\\"France\\\",\n",
    "  \\\"confidence\\\": 1\n",
    "}\n",
    "\n",
    "Text: Auschnippe 9, 37170 Uslar\n",
    "JSON:\n",
    "\"\"\",\n",
    "    **parameters\n",
    ")\n",
    "print(f\"Response from Model: {response.text}\")"
   ]
  },
  {
   "cell_type": "markdown",
   "id": "84f5880b-8083-4ee4-bac7-64923f95c122",
   "metadata": {},
   "source": [
    "## Confidence level w/ False address"
   ]
  },
  {
   "cell_type": "code",
   "execution_count": 16,
   "id": "303f4276-c8eb-4893-bc8d-cc50c060e086",
   "metadata": {
    "ExecuteTime": {
     "end_time": "2024-02-08T08:23:18.337697215Z",
     "start_time": "2024-02-08T08:23:17.561669936Z"
    }
   },
   "outputs": [
    {
     "name": "stdout",
     "output_type": "stream",
     "text": [
      " {\n",
      "  \"street_number\": null,\n",
      "  \"street_type\": null,\n",
      "  \"street_name\": null,\n",
      "  \"zip_code\": \"75001\",\n",
      "  \"city\": \"Paris\",\n",
      "  \"confidence\": 0.5\n",
      "}\n"
     ]
    }
   ],
   "source": [
    "response = model.predict(\n",
    "    \"\"\"Extract and split the address parameters from the text below in a JSON format.\n",
    "be very precise, differentiate the street number, multiplier, street type, street name, zip code, city\n",
    "provide a rating number to indicate your confidence level. 0 is the lowest confidence, 1 is the maximum.\n",
    "provide only one response for one address input\n",
    "\n",
    "Text: 37, rue du champ du pardon, 76000 rouen\n",
    "JSON: \n",
    "{\n",
    "  \\\"street_number\\\": \\\"37\\\",\n",
    "  \\\"street_type\\\": \\\"rue\\\",\n",
    "  \\\"street_name\\\": \\\"du champ du pardon\\\",\n",
    "  \\\"zip_code\\\": \\\"76000\\\",\n",
    "  \\\"city\\\": \\\"rouen\\\",\n",
    "  \\\"confidence\\\": 1\n",
    "}\n",
    "\n",
    "Text: 10-82 Cavée St Gervais, 76000 rouen\n",
    "JSON: \n",
    "{\n",
    "  \\\"street_number\\\": \\\"10-82\\\",\n",
    "  \\\"street_type\\\": \\\"Cavée\\\",\n",
    "  \\\"street_name\\\": \\\"St Gervais\\\",\n",
    "  \\\"zip_code\\\": \\\"76000\\\",\n",
    "  \\\"city\\\": \\\"rouen\\\",\n",
    "  \\\"confidence\\\": 1\n",
    "}\n",
    "\n",
    "Text: ici c'est paris !, 75001 Paris\n",
    "JSON:\n",
    "\n",
    "\"\"\",\n",
    "    **parameters\n",
    ")\n",
    "print(f\"{response.text}\")"
   ]
  },
  {
   "cell_type": "markdown",
   "id": "cb57bc26-0cfc-4065-92f4-19f78f7f47b1",
   "metadata": {},
   "source": [
    "### Confidence level w/ False address and Country not mentioned"
   ]
  },
  {
   "cell_type": "code",
   "execution_count": 17,
   "id": "de80400a-7bdf-4aed-9b48-c3fcde4cf5da",
   "metadata": {
    "ExecuteTime": {
     "end_time": "2024-02-08T08:23:20.291116337Z",
     "start_time": "2024-02-08T08:23:19.344803518Z"
    }
   },
   "outputs": [
    {
     "name": "stdout",
     "output_type": "stream",
     "text": [
      " {\n",
      "  \"street_number\": \"452\",\n",
      "  \"street_multiplier\": \"quater\",\n",
      "  \"street_type\": \"grande rue\",\n",
      "  \"street_name\": \"general\",\n",
      "  \"zip_code\": \"85000\",\n",
      "  \"city\": \"le palais\",\n",
      "  \"department\": \"vendee\",\n",
      "  \"country\": \"France\",\n",
      "  \"confidence\": 1\n",
      "}\n"
     ]
    }
   ],
   "source": [
    "response = model.predict(\n",
    "    \"\"\"Extract and split the address parameters from the text below in a JSON format.\n",
    "be very precise, differentiate the street number, multiplier, street type, street name, zip code, city\n",
    "provide a rating number to indicate your confidence level. 0 is the lowest confidence, 1 is the maximum.\n",
    "provide only one response for one address input\n",
    "\n",
    "Text: 37, rue du champ du pardon, 76000 rouen\n",
    "JSON: \n",
    "{\n",
    "  \\\"street_number\\\": \\\"37\\\",\n",
    "  \\\"street_type\\\": \\\"rue\\\",\n",
    "  \\\"street_name\\\": \\\"du champ du pardon\\\",\n",
    "  \\\"zip_code\\\": \\\"76000\\\",\n",
    "  \\\"city\\\": \\\"rouen\\\",\n",
    "  \\\"country\\\": \\\"France\\\",\n",
    "  \\\"confidence\\\": 1\n",
    "}\n",
    "\n",
    "Text: 10-82 Cavée St Gervais, 76000 rouen\n",
    "JSON: \n",
    "{\n",
    "  \\\"street_number\\\": \\\"10-82\\\",\n",
    "  \\\"street_type\\\": \\\"Cavée\\\",\n",
    "  \\\"street_name\\\": \\\"St Gervais\\\",\n",
    "  \\\"zip_code\\\": \\\"76000\\\",\n",
    "  \\\"city\\\": \\\"rouen\\\",\n",
    "  \\\"country\\\": \\\"France\\\",\n",
    "  \\\"confidence\\\": 1\n",
    "}\n",
    "\n",
    "Text: 452 quater grande rue general 85000 le palais vendee\n",
    "JSON:\n",
    "\n",
    "\"\"\",\n",
    "    **parameters\n",
    ")\n",
    "print(f\"{response.text}\")\n"
   ]
  },
  {
   "cell_type": "markdown",
   "id": "c6d9107b-2dfe-49e4-a40d-4e9c5f0ed49e",
   "metadata": {},
   "source": [
    "## Programmatic\n",
    "\n",
    "Using Langchain we can have a more programmatic way "
   ]
  },
  {
   "cell_type": "code",
   "execution_count": 18,
   "id": "90e4c7f3-964a-411c-84c0-3b3178f1c18f",
   "metadata": {
    "ExecuteTime": {
     "end_time": "2024-02-08T08:23:26.532678118Z",
     "start_time": "2024-02-08T08:23:22.932248893Z"
    }
   },
   "outputs": [
    {
     "name": "stdout",
     "output_type": "stream",
     "text": [
      "\r\n",
      "\u001B[1m[\u001B[0m\u001B[34;49mnotice\u001B[0m\u001B[1;39;49m]\u001B[0m\u001B[39;49m A new release of pip available: \u001B[0m\u001B[31;49m22.3.1\u001B[0m\u001B[39;49m -> \u001B[0m\u001B[32;49m23.3.2\u001B[0m\r\n",
      "\u001B[1m[\u001B[0m\u001B[34;49mnotice\u001B[0m\u001B[1;39;49m]\u001B[0m\u001B[39;49m To update, run: \u001B[0m\u001B[32;49mpip install --upgrade pip\u001B[0m\r\n"
     ]
    }
   ],
   "source": [
    "!pip install --upgrade --quiet  langchain-core langchain-google-vertexai"
   ]
  },
  {
   "cell_type": "code",
   "execution_count": 19,
   "id": "e8e1cb0f-a114-4ab1-b4fb-3b312e1b2319",
   "metadata": {
    "ExecuteTime": {
     "end_time": "2024-02-08T08:23:32.666204821Z",
     "start_time": "2024-02-08T08:23:31.080090284Z"
    }
   },
   "outputs": [],
   "source": [
    "from langchain_google_vertexai import VertexAI\n",
    "\n",
    "# candidate count parameter missing ?\n",
    "model = VertexAI(model_name=\"text-bison\", top_p=1, temperature=0, max_output_tokens=126)"
   ]
  },
  {
   "cell_type": "code",
   "execution_count": 20,
   "id": "7788700263739715",
   "metadata": {
    "ExecuteTime": {
     "end_time": "2024-02-08T08:24:42.382250880Z",
     "start_time": "2024-02-08T08:24:42.372038141Z"
    }
   },
   "outputs": [],
   "source": [
    "\n",
    "from langchain_core.pydantic_v1 import BaseModel\n",
    "from typing import Optional\n",
    "\n",
    "from langchain_core.output_parsers import JsonOutputParser\n",
    "\n",
    "\n",
    "class Address(BaseModel):\n",
    "    street_number: Optional[str]\n",
    "    street_multiplier: Optional[str]\n",
    "    street_type: Optional[str]\n",
    "    street_name: Optional[str]\n",
    "    zip_code: Optional[str]\n",
    "    city: Optional[str]\n",
    "    country: Optional[str]\n",
    "    confidence: int\n",
    "\n",
    "\n",
    "parser = JsonOutputParser(pydantic_object=Address)\n",
    "# pprint(parser.get_format_instructions())\n"
   ]
  },
  {
   "cell_type": "code",
   "execution_count": 21,
   "id": "a7c0db7ff6f9c5e7",
   "metadata": {
    "ExecuteTime": {
     "end_time": "2024-02-08T08:24:44.607209333Z",
     "start_time": "2024-02-08T08:24:44.565309262Z"
    }
   },
   "outputs": [],
   "source": [
    "from langchain.prompts.few_shot import FewShotPromptTemplate\n",
    "from langchain.prompts import PromptTemplate\n",
    "\n",
    "examples = [\n",
    "    {\n",
    "        \"address\": \"37, rue du champ du pardon, 76000 rouen\",\n",
    "        \"answer\": \"\"\"{{\n",
    "  \\\"street_number\\\": \\\"37\\\",\n",
    "  \\\"street_type\\\": \\\"rue\\\",\n",
    "  \\\"street_name\\\": \\\"du champ du pardon\\\",\n",
    "  \\\"zip_code\\\": \\\"76000\\\",\n",
    "  \\\"city\\\": \\\"rouen\\\",\n",
    "  \\\"country\\\": \\\"France\\\",\n",
    "  \\\"confidence\\\": 1\n",
    "}}\"\"\"\n",
    "    },\n",
    "    {\n",
    "        \"address\": \"10-82 Cavée St Gervais, 76000 rouen\",\n",
    "        \"answer\": \"\"\"{{\n",
    "  \\\"street_number\\\": \\\"10-82\\\",\n",
    "  \\\"street_type\\\": \\\"Cavée\\\",\n",
    "  \\\"street_name\\\": \\\"St Gervais\\\",\n",
    "  \\\"zip_code\\\": \\\"76000\\\",\n",
    "  \\\"city\\\": \\\"rouen\\\",\n",
    "  \\\"country\\\": \\\"France\\\",\n",
    "  \\\"confidence\\\": 1\n",
    "}}\"\"\"\n",
    "    },\n",
    "]\n",
    "\n",
    "prefix = \"\"\"Extract and split the address parameters from the text below in a JSON format.\n",
    "be very precise, differentiate the street number, multiplier, street type, street name, zip code, city\n",
    "provide a rating number to indicate your confidence level. 0 is the lowest confidence, 1 is the maximum.\n",
    "provide only one response for one address input\"\"\"\n",
    "\n",
    "example_prompt = PromptTemplate(\n",
    "    template=\"\"\"Text: {address}\\nJSON: {answer}\"\"\",\n",
    "    # template=\"\"\"Answer the user query.\\n{format_instructions}\\nText: {address}\\nJSON: {answer}\\n\"\"\",\n",
    "    input_variables=[\"address\", \"answer\"],\n",
    "    # partial_variables={\"format_instructions\": parser.get_format_instructions()}\n",
    ")\n",
    "\n",
    "# print(example_prompt.format(**examples[0]))\n",
    "\n",
    "prompt = FewShotPromptTemplate(\n",
    "    examples=examples,\n",
    "    example_prompt=example_prompt,\n",
    "    prefix=prefix,\n",
    "    suffix=\"Text: {address}\\nJSON:\",\n",
    "    input_variables=[\"address\"],\n",
    "\n",
    ")\n",
    "\n",
    "# print(prompt.format(address=\"78 bis Cavee des Ecameaux 76500 Elbeuf\"))\n",
    "\n",
    "\n",
    "chain = prompt | model | parser"
   ]
  },
  {
   "cell_type": "markdown",
   "id": "9e7bc0a77a3babd1",
   "metadata": {},
   "source": [
    "### Testing"
   ]
  },
  {
   "cell_type": "code",
   "execution_count": 22,
   "id": "c737638096eee2eb",
   "metadata": {
    "ExecuteTime": {
     "end_time": "2024-02-08T08:24:48.980659426Z",
     "start_time": "2024-02-08T08:24:47.592599754Z"
    }
   },
   "outputs": [
    {
     "data": {
      "text/plain": [
       "Address(street_number='1', street_multiplier='bis', street_type='rue', street_name='de la Paix', zip_code='75008', city='Paris', country='France', confidence=1)"
      ]
     },
     "execution_count": 22,
     "metadata": {},
     "output_type": "execute_result"
    }
   ],
   "source": [
    "\n",
    "address = \"1 bis rue de la Paix, 75008 Paris\"\n",
    "Address(**chain.invoke({\"address\": address}))\n"
   ]
  },
  {
   "cell_type": "code",
   "execution_count": 23,
   "id": "2ade3a5b2a7dd976",
   "metadata": {
    "ExecuteTime": {
     "end_time": "2024-02-08T08:24:50.607949270Z",
     "start_time": "2024-02-08T08:24:49.907972657Z"
    }
   },
   "outputs": [
    {
     "data": {
      "text/plain": [
       "Address(street_number='9', street_multiplier=None, street_type=None, street_name='Auschnippe', zip_code='37170', city='Uslar', country='Germany', confidence=1)"
      ]
     },
     "execution_count": 23,
     "metadata": {},
     "output_type": "execute_result"
    }
   ],
   "source": [
    "\n",
    "address = \"Auschnippe 9, 37170 Uslar\"\n",
    "Address(**chain.invoke({\"address\": address}))\n"
   ]
  },
  {
   "cell_type": "code",
   "execution_count": 24,
   "id": "b9c94ba6e5226b3a",
   "metadata": {
    "ExecuteTime": {
     "end_time": "2024-02-08T08:24:52.211949210Z",
     "start_time": "2024-02-08T08:24:51.292562044Z"
    }
   },
   "outputs": [
    {
     "data": {
      "text/plain": [
       "Address(street_number='111', street_multiplier='8th', street_type='Ave', street_name='Ste 1509', zip_code='74136-1922', city='Oklahoma', country='USA', confidence=1)"
      ]
     },
     "execution_count": 24,
     "metadata": {},
     "output_type": "execute_result"
    }
   ],
   "source": [
    "\n",
    "address = \"C/o John Doe LLC, 111, 8th Ave Ste 1509, Oklahoma, 74136-1922, USA\"\n",
    "add = Address(**chain.invoke({\"address\": address}))\n",
    "add\n"
   ]
  },
  {
   "cell_type": "markdown",
   "id": "cb287c45c1dd033c",
   "metadata": {},
   "source": [
    "### Serialize / Compress"
   ]
  },
  {
   "cell_type": "code",
   "execution_count": 25,
   "id": "cb4d113e194a9635",
   "metadata": {
    "ExecuteTime": {
     "end_time": "2024-02-08T08:24:54.172376802Z",
     "start_time": "2024-02-08T08:24:54.141503932Z"
    }
   },
   "outputs": [
    {
     "name": "stdout",
     "output_type": "stream",
     "text": [
      "56\n",
      "231\n",
      "164\n"
     ]
    }
   ],
   "source": [
    "import sys\n",
    "from pprint import pprint\n",
    "import zlib\n",
    "# size of object in bytes\n",
    "pprint(sys.getsizeof(add))\n",
    "pprint(sys.getsizeof(add.json()))\n",
    "pprint(sys.getsizeof(zlib.compress(add.json().encode())))"
   ]
  },
  {
   "cell_type": "code",
   "execution_count": null,
   "id": "4277fa53efee4d9d",
   "metadata": {},
   "outputs": [],
   "source": []
  }
 ],
 "metadata": {
  "kernelspec": {
   "display_name": "Python 3 (ipykernel)",
   "language": "python",
   "name": "python3"
  },
  "language_info": {
   "codemirror_mode": {
    "name": "ipython",
    "version": 3
   },
   "file_extension": ".py",
   "mimetype": "text/x-python",
   "name": "python",
   "nbconvert_exporter": "python",
   "pygments_lexer": "ipython3",
   "version": "3.11.7"
  }
 },
 "nbformat": 4,
 "nbformat_minor": 5
}
