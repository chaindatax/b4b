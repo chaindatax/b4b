{
 "cells": [
  {
   "cell_type": "markdown",
   "id": "179ece711c060cec",
   "metadata": {},
   "source": [
    "# Address Parser\n",
    "\n",
    "Is able to recognize named entities and format outputs based on a defined schema"
   ]
  },
  {
   "cell_type": "code",
   "execution_count": 2,
   "id": "ca1d5a28dab31b08",
   "metadata": {
    "ExecuteTime": {
     "end_time": "2024-03-25T20:54:36.049203Z",
     "start_time": "2024-03-25T20:54:36.042081Z"
    }
   },
   "outputs": [],
   "source": [
    "GCP_PROJECT_NAME = \"single-azimuth-413609\""
   ]
  },
  {
   "cell_type": "code",
   "execution_count": 3,
   "id": "b3242ad3-7a3d-4cfa-a98b-b4cebd7b998e",
   "metadata": {
    "scrolled": true,
    "ExecuteTime": {
     "end_time": "2024-03-25T20:55:06.973881Z",
     "start_time": "2024-03-25T20:54:36.952328Z"
    }
   },
   "outputs": [],
   "source": [
    "!pip install --quiet --upgrade google-cloud-aiplatform \n",
    "!pip install --quiet --upgrade google-auth\n"
   ]
  },
  {
   "cell_type": "code",
   "execution_count": 4,
   "id": "4cae5ee3-d532-403a-93ed-4d3887a137e9",
   "metadata": {
    "ExecuteTime": {
     "end_time": "2024-03-25T20:55:32.488759Z",
     "start_time": "2024-03-25T20:55:19.806714Z"
    }
   },
   "outputs": [
    {
     "name": "stdout",
     "output_type": "stream",
     "text": [
      "Your browser has been opened to visit:\r\n",
      "\r\n",
      "    https://accounts.google.com/o/oauth2/auth?response_type=code&client_id=764086051850-6qr4p6gpi6hn506pt8ejuq83di341hur.apps.googleusercontent.com&redirect_uri=http%3A%2F%2Flocalhost%3A8085%2F&scope=openid+https%3A%2F%2Fwww.googleapis.com%2Fauth%2Fuserinfo.email+https%3A%2F%2Fwww.googleapis.com%2Fauth%2Fcloud-platform+https%3A%2F%2Fwww.googleapis.com%2Fauth%2Fsqlservice.login+https%3A%2F%2Fwww.googleapis.com%2Fauth%2Fdrive&state=ohnZjOP1pHG2kIxpwyDENK8XTXZ9QC&access_type=offline&code_challenge=ZHNCIx6oCKxTn6lwiocCauzz-wUpTSl6dyzBE1dLyiI&code_challenge_method=S256\r\n",
      "\r\n",
      "\r\n",
      "Credentials saved to file: [/Users/vincentjuge/.config/gcloud/application_default_credentials.json]\r\n",
      "\r\n",
      "These credentials will be used by any library that requests Application Default Credentials (ADC).\r\n",
      "\r\n",
      "Quota project \"single-azimuth-413609\" was added to ADC which can be used by Google client libraries for billing and quota. Note that some services may still bill the project owning the resource.\r\n"
     ]
    }
   ],
   "source": [
    "!gcloud auth application-default login --scopes=openid,https://www.googleapis.com/auth/userinfo.email,https://www.googleapis.com/auth/cloud-platform,https://www.googleapis.com/auth/sqlservice.login,https://www.googleapis.com/auth/drive"
   ]
  },
  {
   "cell_type": "code",
   "execution_count": 5,
   "id": "49f6d9c4-8ae1-428b-8d91-c218af8e41d8",
   "metadata": {
    "ExecuteTime": {
     "end_time": "2024-03-25T20:55:40.561891Z",
     "start_time": "2024-03-25T20:55:37.600255Z"
    }
   },
   "outputs": [
    {
     "name": "stdout",
     "output_type": "stream",
     "text": [
      "Updated property [core/project].\r\n"
     ]
    }
   ],
   "source": [
    "!gcloud config set project {GCP_PROJECT_NAME}"
   ]
  },
  {
   "cell_type": "code",
   "execution_count": 6,
   "id": "f9b0465a-4e53-433e-ac0c-244de5cb53bd",
   "metadata": {
    "ExecuteTime": {
     "end_time": "2024-03-25T20:55:43.741360Z",
     "start_time": "2024-03-25T20:55:41.389183Z"
    }
   },
   "outputs": [],
   "source": [
    "!gcloud services enable aiplatform.googleapis.com"
   ]
  },
  {
   "cell_type": "code",
   "execution_count": 7,
   "id": "dee27648-0af0-42f8-9aae-8e48ca31322e",
   "metadata": {
    "ExecuteTime": {
     "end_time": "2024-03-25T20:55:47.662536Z",
     "start_time": "2024-03-25T20:55:46.468276Z"
    }
   },
   "outputs": [],
   "source": [
    "# Importing the library \n",
    "import google.auth\n",
    "\n",
    "# Setting up credentials\n",
    "credentials, _ = google.auth.default()\n",
    "# authed_http = google.auth.transport.requests.AuthorizedSession(credentials)"
   ]
  },
  {
   "cell_type": "code",
   "execution_count": 8,
   "id": "775902c37c5f6779",
   "metadata": {
    "ExecuteTime": {
     "end_time": "2024-03-25T20:56:03.418527Z",
     "start_time": "2024-03-25T20:55:49.813529Z"
    }
   },
   "outputs": [],
   "source": [
    "import vertexai\n",
    "from vertexai.preview.language_models import TextGenerationModel\n",
    "\n",
    "vertexai.init(project=GCP_PROJECT_NAME, location=\"us-central1\")\n",
    "parameters = {\n",
    "    \"candidate_count\": 1,\n",
    "    \"max_output_tokens\": 126,\n",
    "    \"temperature\": 0,\n",
    "    \"top_p\": 1\n",
    "}\n",
    "model = TextGenerationModel.from_pretrained(\"text-bison\")\n"
   ]
  },
  {
   "cell_type": "markdown",
   "id": "a6c24cde-8f6a-4093-986c-4fd93c2465d2",
   "metadata": {},
   "source": [
    "## Basic french address"
   ]
  },
  {
   "cell_type": "code",
   "execution_count": 9,
   "id": "637ff1f5-b7c9-41dd-8a97-e02bb815e8c0",
   "metadata": {
    "ExecuteTime": {
     "end_time": "2024-03-25T20:57:16.905093Z",
     "start_time": "2024-03-25T20:57:14.177541Z"
    }
   },
   "outputs": [
    {
     "name": "stdout",
     "output_type": "stream",
     "text": [
      "Response from Model:  {\n",
      "  \"street_number\": \"1\",\n",
      "  \"street_type\": \"rue\",\n",
      "  \"street_name\": \"de la Paix\",\n",
      "  \"zip_code\": \"75008\",\n",
      "  \"city\": \"Paris\",\n",
      "  \"confidence\": 1\n",
      "}\n"
     ]
    }
   ],
   "source": [
    "response = model.predict(\n",
    "    \"\"\"Extract and split the address parameters from the text below in a JSON format.\n",
    "be very precise, differentiate the street number, multiplier, street type, street name, zip code, city\n",
    "provide a rating number to indicate your confidence level. 0 is the lowest confidence, 1 is the maximum.\n",
    "provide only one response for one address input\n",
    "\n",
    "Text: 37, rue du champ du pardon, 76000 rouen\n",
    "JSON: Text: 37, rue du champ du pardon, 76000 rouen\n",
    "JSON: {\n",
    "  \\\"street_number\\\": \\\"37\\\",\n",
    "  \\\"street_type\\\": \\\"rue\\\",\n",
    "  \\\"street_name\\\": \\\"du champ du pardon\\\",\n",
    "  \\\"zip_code\\\": \\\"76000\\\",\n",
    "  \\\"city\\\": \\\"rouen\\\",\n",
    "  \\\"confidence\\\": 1\n",
    "}\n",
    "\n",
    "Text: 10-82 Cavée St Gervais, 76000 rouen\n",
    "JSON: Text: 10-82 Cavée St Gervais, 76000 rouen\n",
    "JSON: {\n",
    "  \\\"street_number\\\": \\\"10-82\\\",\n",
    "  \\\"street_type\\\": \\\"Cavée\\\",\n",
    "  \\\"street_name\\\": \\\"St Gervais\\\",\n",
    "  \\\"zip_code\\\": \\\"76000\\\",\n",
    "  \\\"city\\\": \\\"rouen\\\",\n",
    "  \\\"confidence\\\": 1\n",
    "}\n",
    "\n",
    "Text: 1, rue de la Paix, 75008 Paris\n",
    "JSON:\n",
    "\"\"\",\n",
    "    **parameters\n",
    ")\n",
    "print(f\"Response from Model: {response.text}\")"
   ]
  },
  {
   "cell_type": "markdown",
   "id": "62753566-c97d-4878-9542-634b362c6b73",
   "metadata": {},
   "source": [
    "### Unusual French address"
   ]
  },
  {
   "cell_type": "code",
   "execution_count": 10,
   "id": "6ca67753-ae7e-4607-bc5c-6c368e77203c",
   "metadata": {
    "scrolled": true,
    "ExecuteTime": {
     "end_time": "2024-03-25T20:58:54.858245Z",
     "start_time": "2024-03-25T20:58:53.671238Z"
    }
   },
   "outputs": [
    {
     "name": "stdout",
     "output_type": "stream",
     "text": [
      "Response from Model:  {\n",
      "  \"street_number\": \"78\",\n",
      "  \"street_multiplier\": \"bis\",\n",
      "  \"street_type\": \"Cavee\",\n",
      "  \"street_name\": \"des Ecameaux\",\n",
      "  \"zip_code\": \"76500\",\n",
      "  \"city\": \"Elbeuf\",\n",
      "  \"confidence\": 1\n",
      "}\n"
     ]
    }
   ],
   "source": [
    "response = model.predict(\n",
    "    \"\"\"Extract and split the address parameters from the text below in a JSON format.\n",
    "be very precise, differentiate the street number, multiplier, street type, street name, zip code, city\n",
    "provide a rating number to indicate your confidence level. 0 is the lowest confidence, 1 is the maximum.\n",
    "provide only one response for one address input\n",
    "\n",
    "Text: 37, rue du champ du pardon, 76000 rouen\n",
    "JSON: Text: 37, rue du champ du pardon, 76000 rouen\n",
    "JSON: {\n",
    "  \\\"street_number\\\": \\\"37\\\",\n",
    "  \\\"street_type\\\": \\\"rue\\\",\n",
    "  \\\"street_name\\\": \\\"du champ du pardon\\\",\n",
    "  \\\"zip_code\\\": \\\"76000\\\",\n",
    "  \\\"city\\\": \\\"rouen\\\",\n",
    "  \\\"confidence\\\": 1\n",
    "}\n",
    "\n",
    "Text: 10-82 Cavée St Gervais, 76000 rouen\n",
    "JSON: Text: 10-82 Cavée St Gervais, 76000 rouen\n",
    "JSON: {\n",
    "  \\\"street_number\\\": \\\"10-82\\\",\n",
    "  \\\"street_type\\\": \\\"Cavée\\\",\n",
    "  \\\"street_name\\\": \\\"St Gervais\\\",\n",
    "  \\\"zip_code\\\": \\\"76000\\\",\n",
    "  \\\"city\\\": \\\"rouen\\\",\n",
    "  \\\"confidence\\\": 1\n",
    "}\n",
    "\n",
    "Text: 78 bis Cavee des Ecameaux 76500 Elbeuf\n",
    "JSON:\n",
    "\"\"\",\n",
    "    **parameters\n",
    ")\n",
    "print(f\"Response from Model: {response.text}\")"
   ]
  },
  {
   "cell_type": "code",
   "execution_count": 364,
   "id": "413eea8e-c5e5-47ed-8fb1-2d488929a52f",
   "metadata": {
    "ExecuteTime": {
     "end_time": "2024-02-11T21:14:40.963276955Z",
     "start_time": "2024-02-11T21:14:40.163998708Z"
    }
   },
   "outputs": [
    {
     "name": "stdout",
     "output_type": "stream",
     "text": [
      "Response from Model:  {\n",
      "  \"street_number\": \"78\",\n",
      "  \"street_multiplier\": \"bis\",\n",
      "  \"street_type\": \"Cavee\",\n",
      "  \"street_name\": \"des Ecameaux\",\n",
      "  \"zip_code\": \"76500\",\n",
      "  \"city\": \"Elbeuf\",\n",
      "  \"confidence\": 1\n",
      "}\n"
     ]
    }
   ],
   "source": [
    "response = model.predict(\n",
    "    \"\"\"Extract and split the address parameters from the text below in a JSON format.\n",
    "be very precise, differentiate the street number, multiplier, street type, street name, zip code, city\n",
    "provide a rating number to indicate your confidence level. 0 is the lowest confidence, 1 is the maximum.\n",
    "provide only one response for one address input\n",
    "\n",
    "Text: 37, rue du champ du pardon, 76000 rouen\n",
    "JSON: Text: 37, rue du champ du pardon, 76000 rouen\n",
    "JSON: {\n",
    "  \\\"street_number\\\": \\\"37\\\",\n",
    "  \\\"street_type\\\": \\\"rue\\\",\n",
    "  \\\"street_name\\\": \\\"du champ du pardon\\\",\n",
    "  \\\"zip_code\\\": \\\"76000\\\",\n",
    "  \\\"city\\\": \\\"rouen\\\",\n",
    "  \\\"confidence\\\": 1\n",
    "}\n",
    "\n",
    "Text: 78 bis Cavee des Ecameaux 76500 Elbeuf\n",
    "JSON:\n",
    "\"\"\",\n",
    "    **parameters\n",
    ")\n",
    "print(f\"Response from Model: {response.text}\")"
   ]
  },
  {
   "cell_type": "markdown",
   "id": "7978bb58-65a9-48c9-82f7-f2361954ed34",
   "metadata": {},
   "source": [
    "## Complex US address"
   ]
  },
  {
   "cell_type": "code",
   "execution_count": 365,
   "id": "dba8c333-cd10-468f-9889-dd29aa7782f9",
   "metadata": {
    "ExecuteTime": {
     "end_time": "2024-02-11T21:14:41.837394444Z",
     "start_time": "2024-02-11T21:14:40.965301865Z"
    }
   },
   "outputs": [
    {
     "name": "stdout",
     "output_type": "stream",
     "text": [
      "Response from Model:  {\n",
      "  \"street_number\": \"111\",\n",
      "  \"street_multiplier\": \"8th\",\n",
      "  \"street_type\": \"Ave\",\n",
      "  \"street_name\": \"Ste 1509\",\n",
      "  \"zip_code\": \"74136-1922\",\n",
      "  \"city\": \"Oklahoma\",\n",
      "  \"country\": \"USA\",\n",
      "  \"confidence\": 1\n",
      "}\n"
     ]
    }
   ],
   "source": [
    "response = model.predict(\n",
    "    \"\"\"Extract and split the address parameters from the text below in a JSON format.\n",
    "be very precise, differentiate the street number, multiplier, street type, street name, zip code, city\n",
    "provide a rating number to indicate your confidence level. 0 is the lowest confidence, 1 is the maximum.\n",
    "provide only one response for one address input\n",
    "\n",
    "Text: 37, rue du champ du pardon, 76000 rouen\n",
    "JSON: Text: 37, rue du champ du pardon, 76000 rouen\n",
    "JSON: {\n",
    "  \\\"street_number\\\": \\\"37\\\",\n",
    "  \\\"street_type\\\": \\\"rue\\\",\n",
    "  \\\"street_name\\\": \\\"du champ du pardon\\\",\n",
    "  \\\"zip_code\\\": \\\"76000\\\",\n",
    "  \\\"city\\\": \\\"rouen\\\",\n",
    "  \\\"confidence\\\": 1\n",
    "}\n",
    "\n",
    "Text: 10-82 Cavée St Gervais, 76000 rouen\n",
    "JSON: Text: 10-82 Cavée St Gervais, 76000 rouen\n",
    "JSON: {\n",
    "  \\\"street_number\\\": \\\"10-82\\\",\n",
    "  \\\"street_type\\\": \\\"Cavée\\\",\n",
    "  \\\"street_name\\\": \\\"St Gervais\\\",\n",
    "  \\\"zip_code\\\": \\\"76000\\\",\n",
    "  \\\"city\\\": \\\"rouen\\\",\n",
    "  \\\"confidence\\\": 1\n",
    "}\n",
    "\n",
    "Text: C/o John Doe LLC, 111, 8th Ave Ste 1509, Oklahoma, 74136-1922, USA\n",
    "JSON:\n",
    "\"\"\",\n",
    "    **parameters\n",
    ")\n",
    "print(f\"Response from Model: {response.text}\")"
   ]
  },
  {
   "cell_type": "markdown",
   "id": "fa972c45-954e-4f02-a3d0-ad82862ceb1f",
   "metadata": {},
   "source": [
    "## German address \n",
    "\n",
    "generator at: https://tarjeta-credito.net/cvv/address-gen-germany/"
   ]
  },
  {
   "cell_type": "code",
   "execution_count": 366,
   "id": "a28123c6-90eb-4cb1-833d-337ef946a0bd",
   "metadata": {
    "ExecuteTime": {
     "end_time": "2024-02-11T21:14:42.595651651Z",
     "start_time": "2024-02-11T21:14:41.837974351Z"
    }
   },
   "outputs": [
    {
     "name": "stdout",
     "output_type": "stream",
     "text": [
      "Response from Model:  {\n",
      "  \"street_number\": \"1\",\n",
      "  \"street_type\": \"Str.\",\n",
      "  \"street_name\": \"Haßfurter\",\n",
      "  \"zip_code\": \"91056\",\n",
      "  \"city\": \"Erlangen\",\n",
      "  \"country\": \"Germany\",\n",
      "  \"confidence\": 1\n",
      "}\n"
     ]
    }
   ],
   "source": [
    "response = model.predict(\n",
    "    \"\"\"Extract and split the address parameters from the text below in a JSON format.\n",
    "be very precise, differentiate the street number, multiplier, street type, street name, zip code, city\n",
    "provide a rating number to indicate your confidence level. 0 is the lowest confidence, 1 is the maximum.\n",
    "provide only one response for one address input\n",
    "\n",
    "Text: 37, rue du champ du pardon, 76000 rouen\n",
    "JSON: Text: 37, rue du champ du pardon, 76000 rouen\n",
    "JSON: {\n",
    "  \\\"street_number\\\": \\\"37\\\",\n",
    "  \\\"street_type\\\": \\\"rue\\\",\n",
    "  \\\"street_name\\\": \\\"du champ du pardon\\\",\n",
    "  \\\"zip_code\\\": \\\"76000\\\",\n",
    "  \\\"city\\\": \\\"rouen\\\",\n",
    "  \\\"confidence\\\": 1\n",
    "}\n",
    "\n",
    "Text: 10-82 Cavée St Gervais, 76000 rouen\n",
    "JSON: Text: 10-82 Cavée St Gervais, 76000 rouen\n",
    "JSON: {\n",
    "  \\\"street_number\\\": \\\"10-82\\\",\n",
    "  \\\"street_type\\\": \\\"Cavée\\\",\n",
    "  \\\"street_name\\\": \\\"St Gervais\\\",\n",
    "  \\\"zip_code\\\": \\\"76000\\\",\n",
    "  \\\"city\\\": \\\"rouen\\\",\n",
    "  \\\"confidence\\\": 1\n",
    "}\n",
    "\n",
    "Text: Haßfurter Str. 1, 91056 Erlangen, Germany.\n",
    "JSON:\n",
    "\"\"\",\n",
    "    **parameters\n",
    ")\n",
    "print(f\"Response from Model: {response.text}\")"
   ]
  },
  {
   "cell_type": "markdown",
   "id": "936d8c91-028e-43f1-a397-68266f6e9625",
   "metadata": {},
   "source": [
    "### german address with Country not mentionned"
   ]
  },
  {
   "cell_type": "code",
   "execution_count": 367,
   "id": "82c9c461-deb0-41e3-8250-3279343731d6",
   "metadata": {
    "ExecuteTime": {
     "end_time": "2024-02-11T21:14:43.361508230Z",
     "start_time": "2024-02-11T21:14:42.596481525Z"
    }
   },
   "outputs": [
    {
     "name": "stdout",
     "output_type": "stream",
     "text": [
      "Response from Model:  {\n",
      "  \"street_number\": \"9\",\n",
      "  \"street_name\": \"Auschnippe\",\n",
      "  \"zip_code\": \"37170\",\n",
      "  \"city\": \"Uslar\",\n",
      "  \"country\": \"Germany\",\n",
      "  \"confidence\": 1\n",
      "}\n"
     ]
    }
   ],
   "source": [
    "response = model.predict(\n",
    "    \"\"\"Extract and split the address parameters from the text below in a JSON format.\n",
    "be very precise, differentiate the street number, multiplier, street type, street name, zip code, city and country\n",
    "provide a rating number to indicate your confidence level. 0 is the lowest confidence, 1 is the maximum.\n",
    "provide only one response for one address input\n",
    "\n",
    "Text: 37, rue du champ du pardon, 76000 rouen\n",
    "JSON: Text: 37, rue du champ du pardon, 76000 rouen\n",
    "JSON: {\n",
    "  \\\"street_number\\\": \\\"37\\\",\n",
    "  \\\"street_type\\\": \\\"rue\\\",\n",
    "  \\\"street_name\\\": \\\"du champ du pardon\\\",\n",
    "  \\\"zip_code\\\": \\\"76000\\\",\n",
    "  \\\"city\\\": \\\"rouen\\\",\n",
    "  \\\"country\\\": \\\"France\\\",\n",
    "  \\\"confidence\\\": 1\n",
    "}\n",
    "\n",
    "Text: 10-82 Cavée St Gervais, 76000 rouen\n",
    "JSON: Text: 10-82 Cavée St Gervais, 76000 rouen\n",
    "JSON: {\n",
    "  \\\"street_number\\\": \\\"10-82\\\",\n",
    "  \\\"street_type\\\": \\\"Cavée\\\",\n",
    "  \\\"street_name\\\": \\\"St Gervais\\\",\n",
    "  \\\"zip_code\\\": \\\"76000\\\",\n",
    "  \\\"city\\\": \\\"rouen\\\",\n",
    "  \\\"country\\\": \\\"France\\\",\n",
    "  \\\"confidence\\\": 1\n",
    "}\n",
    "\n",
    "Text: Auschnippe 9, 37170 Uslar\n",
    "JSON:\n",
    "\"\"\",\n",
    "    **parameters\n",
    ")\n",
    "print(f\"Response from Model: {response.text}\")"
   ]
  },
  {
   "cell_type": "markdown",
   "id": "84f5880b-8083-4ee4-bac7-64923f95c122",
   "metadata": {},
   "source": [
    "## Confidence level w/ False address"
   ]
  },
  {
   "cell_type": "code",
   "execution_count": 368,
   "id": "303f4276-c8eb-4893-bc8d-cc50c060e086",
   "metadata": {
    "ExecuteTime": {
     "end_time": "2024-02-11T21:14:44.133491969Z",
     "start_time": "2024-02-11T21:14:43.360540272Z"
    }
   },
   "outputs": [
    {
     "name": "stdout",
     "output_type": "stream",
     "text": [
      " {\n",
      "  \"street_number\": null,\n",
      "  \"street_type\": null,\n",
      "  \"street_name\": null,\n",
      "  \"zip_code\": \"75001\",\n",
      "  \"city\": \"Paris\",\n",
      "  \"confidence\": 0.5\n",
      "}\n"
     ]
    }
   ],
   "source": [
    "response = model.predict(\n",
    "    \"\"\"Extract and split the address parameters from the text below in a JSON format.\n",
    "be very precise, differentiate the street number, multiplier, street type, street name, zip code, city\n",
    "provide a rating number to indicate your confidence level. 0 is the lowest confidence, 1 is the maximum.\n",
    "provide only one response for one address input\n",
    "\n",
    "Text: 37, rue du champ du pardon, 76000 rouen\n",
    "JSON: \n",
    "{\n",
    "  \\\"street_number\\\": \\\"37\\\",\n",
    "  \\\"street_type\\\": \\\"rue\\\",\n",
    "  \\\"street_name\\\": \\\"du champ du pardon\\\",\n",
    "  \\\"zip_code\\\": \\\"76000\\\",\n",
    "  \\\"city\\\": \\\"rouen\\\",\n",
    "  \\\"confidence\\\": 1\n",
    "}\n",
    "\n",
    "Text: 10-82 Cavée St Gervais, 76000 rouen\n",
    "JSON: \n",
    "{\n",
    "  \\\"street_number\\\": \\\"10-82\\\",\n",
    "  \\\"street_type\\\": \\\"Cavée\\\",\n",
    "  \\\"street_name\\\": \\\"St Gervais\\\",\n",
    "  \\\"zip_code\\\": \\\"76000\\\",\n",
    "  \\\"city\\\": \\\"rouen\\\",\n",
    "  \\\"confidence\\\": 1\n",
    "}\n",
    "\n",
    "Text: ici c'est paris !, 75001 Paris\n",
    "JSON:\n",
    "\n",
    "\"\"\",\n",
    "    **parameters\n",
    ")\n",
    "print(f\"{response.text}\")"
   ]
  },
  {
   "cell_type": "markdown",
   "id": "cb57bc26-0cfc-4065-92f4-19f78f7f47b1",
   "metadata": {},
   "source": [
    "### Confidence level w/ False address and Country not mentioned"
   ]
  },
  {
   "cell_type": "code",
   "execution_count": 369,
   "id": "de80400a-7bdf-4aed-9b48-c3fcde4cf5da",
   "metadata": {
    "ExecuteTime": {
     "end_time": "2024-02-11T21:14:45.078223004Z",
     "start_time": "2024-02-11T21:14:44.136622011Z"
    }
   },
   "outputs": [
    {
     "name": "stdout",
     "output_type": "stream",
     "text": [
      " {\n",
      "  \"street_number\": \"452\",\n",
      "  \"street_multiplier\": \"quater\",\n",
      "  \"street_type\": \"grande rue\",\n",
      "  \"street_name\": \"general\",\n",
      "  \"zip_code\": \"85000\",\n",
      "  \"city\": \"le palais\",\n",
      "  \"department\": \"vendee\",\n",
      "  \"country\": \"France\",\n",
      "  \"confidence\": 1\n",
      "}\n"
     ]
    }
   ],
   "source": [
    "response = model.predict(\n",
    "    \"\"\"Extract and split the address parameters from the text below in a JSON format.\n",
    "be very precise, differentiate the street number, multiplier, street type, street name, zip code, city\n",
    "provide a rating number to indicate your confidence level. 0 is the lowest confidence, 1 is the maximum.\n",
    "provide only one response for one address input\n",
    "\n",
    "Text: 37, rue du champ du pardon, 76000 rouen\n",
    "JSON: \n",
    "{\n",
    "  \\\"street_number\\\": \\\"37\\\",\n",
    "  \\\"street_type\\\": \\\"rue\\\",\n",
    "  \\\"street_name\\\": \\\"du champ du pardon\\\",\n",
    "  \\\"zip_code\\\": \\\"76000\\\",\n",
    "  \\\"city\\\": \\\"rouen\\\",\n",
    "  \\\"country\\\": \\\"France\\\",\n",
    "  \\\"confidence\\\": 1\n",
    "}\n",
    "\n",
    "Text: 10-82 Cavée St Gervais, 76000 rouen\n",
    "JSON: \n",
    "{\n",
    "  \\\"street_number\\\": \\\"10-82\\\",\n",
    "  \\\"street_type\\\": \\\"Cavée\\\",\n",
    "  \\\"street_name\\\": \\\"St Gervais\\\",\n",
    "  \\\"zip_code\\\": \\\"76000\\\",\n",
    "  \\\"city\\\": \\\"rouen\\\",\n",
    "  \\\"country\\\": \\\"France\\\",\n",
    "  \\\"confidence\\\": 1\n",
    "}\n",
    "\n",
    "Text: 452 quater grande rue general 85000 le palais vendee\n",
    "JSON:\n",
    "\n",
    "\"\"\",\n",
    "    **parameters\n",
    ")\n",
    "print(f\"{response.text}\")\n"
   ]
  },
  {
   "cell_type": "markdown",
   "id": "c6d9107b-2dfe-49e4-a40d-4e9c5f0ed49e",
   "metadata": {},
   "source": [
    "# Programmatic\n",
    "\n",
    "Using Langchain we can have a more programmatic way "
   ]
  },
  {
   "cell_type": "code",
   "execution_count": 370,
   "id": "90e4c7f3-964a-411c-84c0-3b3178f1c18f",
   "metadata": {
    "ExecuteTime": {
     "end_time": "2024-02-11T21:14:47.481315531Z",
     "start_time": "2024-02-11T21:14:45.112275341Z"
    }
   },
   "outputs": [
    {
     "name": "stdout",
     "output_type": "stream",
     "text": [
      "\r\n",
      "\u001B[1m[\u001B[0m\u001B[34;49mnotice\u001B[0m\u001B[1;39;49m]\u001B[0m\u001B[39;49m A new release of pip available: \u001B[0m\u001B[31;49m22.3.1\u001B[0m\u001B[39;49m -> \u001B[0m\u001B[32;49m24.0\u001B[0m\r\n",
      "\u001B[1m[\u001B[0m\u001B[34;49mnotice\u001B[0m\u001B[1;39;49m]\u001B[0m\u001B[39;49m To update, run: \u001B[0m\u001B[32;49mpip install --upgrade pip\u001B[0m\r\n"
     ]
    }
   ],
   "source": [
    "!pip install --upgrade --quiet  langchain-core langchain-google-vertexai"
   ]
  },
  {
   "cell_type": "code",
   "execution_count": 371,
   "id": "e8e1cb0f-a114-4ab1-b4fb-3b312e1b2319",
   "metadata": {
    "ExecuteTime": {
     "end_time": "2024-02-11T21:14:48.724253176Z",
     "start_time": "2024-02-11T21:14:47.487256855Z"
    }
   },
   "outputs": [],
   "source": [
    "from langchain_google_vertexai import VertexAI\n",
    "\n",
    "# candidate count parameter missing ?\n",
    "model = VertexAI(model_name=\"text-bison\", top_p=1, temperature=0, max_output_tokens=126)"
   ]
  },
  {
   "cell_type": "code",
   "execution_count": 372,
   "id": "7788700263739715",
   "metadata": {
    "ExecuteTime": {
     "end_time": "2024-02-11T21:14:48.728997865Z",
     "start_time": "2024-02-11T21:14:48.725419100Z"
    }
   },
   "outputs": [],
   "source": [
    "\n",
    "from langchain_core.pydantic_v1 import BaseModel\n",
    "from typing import Optional\n",
    "\n",
    "from langchain_core.output_parsers import JsonOutputParser\n",
    "\n",
    "\n",
    "class Address(BaseModel):\n",
    "    street_number: Optional[str]\n",
    "    street_multiplier: Optional[str]\n",
    "    street_type: Optional[str]\n",
    "    street_name: Optional[str]\n",
    "    locality: Optional[str]  #lieu-dit\n",
    "    zip_code: Optional[str]\n",
    "    city: Optional[str]\n",
    "    country: Optional[str]\n",
    "    confidence: int\n",
    "\n",
    "\n",
    "parser = JsonOutputParser(pydantic_object=Address)\n",
    "# pprint(parser.get_format_instructions())\n"
   ]
  },
  {
   "cell_type": "code",
   "execution_count": 373,
   "id": "a7c0db7ff6f9c5e7",
   "metadata": {
    "ExecuteTime": {
     "end_time": "2024-02-11T21:14:48.740937714Z",
     "start_time": "2024-02-11T21:14:48.730429507Z"
    }
   },
   "outputs": [],
   "source": [
    "from langchain.prompts.few_shot import FewShotPromptTemplate\n",
    "from langchain.prompts import PromptTemplate\n",
    "\n",
    "examples = [\n",
    "    {\n",
    "        \"address\": \"37, rue du champ du pardon, 76000 rouen\",\n",
    "        \"answer\": \"\"\"{{\n",
    "  \\\"street_number\\\": \\\"37\\\",\n",
    "  \\\"street_type\\\": \\\"rue\\\",\n",
    "  \\\"street_name\\\": \\\"du champ du pardon\\\",\n",
    "  \\\"zip_code\\\": \\\"76000\\\",\n",
    "  \\\"city\\\": \\\"rouen\\\",\n",
    "  \\\"country\\\": \\\"France\\\",\n",
    "  \\\"confidence\\\": 1\n",
    "}}\"\"\"\n",
    "    },\n",
    "    {\n",
    "        \"address\": \"10-82 Cavée St Gervais, hameau de charette 76000 rouen\",\n",
    "        \"answer\": \"\"\"{{\n",
    "  \\\"street_number\\\": \\\"10-82\\\",\n",
    "  \\\"street_type\\\": \\\"Cavée\\\",\n",
    "  \\\"street_name\\\": \\\"St Gervais\\\",\n",
    "  \\\"locality\\\": \\\"hameau de charette\\\",\n",
    "  \\\"zip_code\\\": \\\"76000\\\",\n",
    "  \\\"city\\\": \\\"rouen\\\",\n",
    "  \\\"country\\\": \\\"France\\\",\n",
    "  \\\"confidence\\\": 1\n",
    "}}\"\"\"\n",
    "    },\n",
    "]\n",
    "\n",
    "prefix = \"\"\"Extract and split the address parameters from the text below in a JSON format.\n",
    "be very precise, differentiate the street number, multiplier, street type, street name, zip code, city\n",
    "provide a rating number to indicate your confidence level. 0 is the lowest confidence, 1 is the maximum.\n",
    "provide only one response for one address input\"\"\"\n",
    "\n",
    "example_prompt = PromptTemplate(\n",
    "    template=\"\"\"Text: {address}\\nJSON: {answer}\"\"\",\n",
    "    # template=\"\"\"Answer the user query.\\n{format_instructions}\\nText: {address}\\nJSON: {answer}\\n\"\"\",\n",
    "    input_variables=[\"address\", \"answer\"],\n",
    "    # partial_variables={\"format_instructions\": parser.get_format_instructions()}\n",
    ")\n",
    "\n",
    "# print(example_prompt.format(**examples[0]))\n",
    "\n",
    "prompt = FewShotPromptTemplate(\n",
    "    examples=examples,\n",
    "    example_prompt=example_prompt,\n",
    "    prefix=prefix,\n",
    "    suffix=\"Text: {address}\\nJSON:\",\n",
    "    input_variables=[\"address\"],\n",
    "\n",
    ")\n",
    "\n",
    "# print(prompt.format(address=\"78 bis Cavee des Ecameaux 76500 Elbeuf\"))\n",
    "\n",
    "\n",
    "chain = prompt | model | parser"
   ]
  },
  {
   "cell_type": "markdown",
   "id": "9e7bc0a77a3babd1",
   "metadata": {},
   "source": [
    "## Manual Testing"
   ]
  },
  {
   "cell_type": "code",
   "execution_count": 374,
   "id": "c737638096eee2eb",
   "metadata": {
    "ExecuteTime": {
     "end_time": "2024-02-11T21:14:49.982429317Z",
     "start_time": "2024-02-11T21:14:48.737485593Z"
    }
   },
   "outputs": [
    {
     "data": {
      "text/plain": "Address(street_number='1', street_multiplier='bis', street_type='rue', street_name='de la Paix', locality=None, zip_code='75008', city='Paris', country='France', confidence=1)"
     },
     "execution_count": 374,
     "metadata": {},
     "output_type": "execute_result"
    }
   ],
   "source": [
    "\n",
    "address = \"1 bis rue de la Paix, 75008 Paris\"\n",
    "Address(**chain.invoke({\"address\": address}))\n"
   ]
  },
  {
   "cell_type": "code",
   "execution_count": 375,
   "id": "2ade3a5b2a7dd976",
   "metadata": {
    "ExecuteTime": {
     "end_time": "2024-02-11T21:14:50.709212912Z",
     "start_time": "2024-02-11T21:14:49.983064146Z"
    }
   },
   "outputs": [
    {
     "data": {
      "text/plain": "Address(street_number='9', street_multiplier=None, street_type=None, street_name='Auschnippe', locality=None, zip_code='37170', city='Uslar', country='Germany', confidence=1)"
     },
     "execution_count": 375,
     "metadata": {},
     "output_type": "execute_result"
    }
   ],
   "source": [
    "\n",
    "address = \"Auschnippe 9, 37170 Uslar\"\n",
    "Address(**chain.invoke({\"address\": address}))\n"
   ]
  },
  {
   "cell_type": "code",
   "execution_count": 376,
   "id": "b9c94ba6e5226b3a",
   "metadata": {
    "ExecuteTime": {
     "end_time": "2024-02-11T21:14:51.560397330Z",
     "start_time": "2024-02-11T21:14:50.708108380Z"
    }
   },
   "outputs": [
    {
     "data": {
      "text/plain": "Address(street_number='111', street_multiplier='8th', street_type='Ave', street_name='Ste 1509', locality=None, zip_code='74136-1922', city='Oklahoma', country='USA', confidence=1)"
     },
     "execution_count": 376,
     "metadata": {},
     "output_type": "execute_result"
    }
   ],
   "source": [
    "\n",
    "address = \"C/o John Doe LLC, 111, 8th Ave Ste 1509, Oklahoma, 74136-1922, USA\"\n",
    "add = Address(**chain.invoke({\"address\": address}))\n",
    "add\n"
   ]
  },
  {
   "cell_type": "markdown",
   "id": "cb287c45c1dd033c",
   "metadata": {},
   "source": [
    "### Serialize / Compress"
   ]
  },
  {
   "cell_type": "code",
   "execution_count": 377,
   "id": "cb4d113e194a9635",
   "metadata": {
    "ExecuteTime": {
     "end_time": "2024-02-11T21:14:51.567116746Z",
     "start_time": "2024-02-11T21:14:51.560933585Z"
    }
   },
   "outputs": [
    {
     "name": "stdout",
     "output_type": "stream",
     "text": [
      "56\n",
      "249\n",
      "174\n"
     ]
    }
   ],
   "source": [
    "import sys\n",
    "from pprint import pprint\n",
    "import zlib\n",
    "\n",
    "# size of object in bytes\n",
    "pprint(sys.getsizeof(add))\n",
    "pprint(sys.getsizeof(add.json()))\n",
    "pprint(sys.getsizeof(zlib.compress(add.json().encode())))"
   ]
  },
  {
   "cell_type": "markdown",
   "source": [
    "## Auto-Testing\n",
    "\n",
    "pre-requisite: Install dependencies: pandas, pyarrow, etc...\n",
    "\n",
    "Use of 'base nationale des Adresses' for French addresses (BAN)"
   ],
   "metadata": {
    "collapsed": false
   },
   "id": "60f42728c5cb29b5"
  },
  {
   "cell_type": "markdown",
   "source": [
    "#### Exploratory Data Analysis & Cleanup"
   ],
   "metadata": {
    "collapsed": false
   },
   "id": "cb8c689c256dd70"
  },
  {
   "cell_type": "code",
   "outputs": [
    {
     "data": {
      "text/plain": "(265542, 23)"
     },
     "execution_count": 401,
     "metadata": {},
     "output_type": "execute_result"
    }
   ],
   "source": [
    "import pandas as pd\n",
    "from pprint import pprint\n",
    "import numpy as np\n",
    "\n",
    "df_addresses = pd.read_csv('./dataset/adresses-01.csv', delimiter=';', low_memory=False)\n",
    "df_addresses.shape"
   ],
   "metadata": {
    "collapsed": false,
    "ExecuteTime": {
     "end_time": "2024-02-12T20:11:56.619150371Z",
     "start_time": "2024-02-12T20:11:55.823698511Z"
    }
   },
   "id": "80f69804060e8847",
   "execution_count": 401
  },
  {
   "cell_type": "code",
   "outputs": [
    {
     "data": {
      "text/plain": "                   id id_fantoir  numero  rep      nom_voie  code_postal  \\\n0  01001_4b50r5_00630        NaN     630  NaN     la Chèvre         1400   \n1  01001_g0ru02_00108        NaN     108  NaN     Clemencia         1400   \n2  01001_ngzlqw_00009        NaN       9  NaN  Imp des Epis         1400   \n3  01001_ngzlqw_00023        NaN      23  NaN  Imp des Epis         1400   \n4  01001_ngzlqw_00026        NaN      26  NaN  Imp des Epis         1400   \n\n   code_insee              nom_commune  code_insee_ancienne_commune  \\\n0        1001  L'Abergement-Clémenciat                          NaN   \n1        1001  L'Abergement-Clémenciat                          NaN   \n2        1001  L'Abergement-Clémenciat                          NaN   \n3        1001  L'Abergement-Clémenciat                          NaN   \n4        1001  L'Abergement-Clémenciat                          NaN   \n\n  nom_ancienne_commune  ...        lat  type_position  alias  nom_ld  \\\n0                  NaN  ...  46.132481        segment    NaN     NaN   \n1                  NaN  ...  46.133867       parcelle    NaN     NaN   \n2                  NaN  ...  46.152646            NaN    NaN     NaN   \n3                  NaN  ...  46.152646            NaN    NaN     NaN   \n4                  NaN  ...  46.152646            NaN    NaN     NaN   \n\n      libelle_acheminement     nom_afnor source_position source_nom_voie  \\\n0  L'ABERGEMENT-CLEMENCIAT     LA CHEVRE        inconnue        inconnue   \n1  L'ABERGEMENT-CLEMENCIAT     CLEMENCIA        cadastre        cadastre   \n2  L'ABERGEMENT-CLEMENCIAT  IMP DES EPIS           arcep           arcep   \n3  L'ABERGEMENT-CLEMENCIAT  IMP DES EPIS           arcep           arcep   \n4  L'ABERGEMENT-CLEMENCIAT  IMP DES EPIS           arcep           arcep   \n\n  certification_commune   cad_parcelles  \n0                     0             NaN  \n1                     0  01001000ZL0263  \n2                     0             NaN  \n3                     0             NaN  \n4                     0             NaN  \n\n[5 rows x 23 columns]",
      "text/html": "<div>\n<style scoped>\n    .dataframe tbody tr th:only-of-type {\n        vertical-align: middle;\n    }\n\n    .dataframe tbody tr th {\n        vertical-align: top;\n    }\n\n    .dataframe thead th {\n        text-align: right;\n    }\n</style>\n<table border=\"1\" class=\"dataframe\">\n  <thead>\n    <tr style=\"text-align: right;\">\n      <th></th>\n      <th>id</th>\n      <th>id_fantoir</th>\n      <th>numero</th>\n      <th>rep</th>\n      <th>nom_voie</th>\n      <th>code_postal</th>\n      <th>code_insee</th>\n      <th>nom_commune</th>\n      <th>code_insee_ancienne_commune</th>\n      <th>nom_ancienne_commune</th>\n      <th>...</th>\n      <th>lat</th>\n      <th>type_position</th>\n      <th>alias</th>\n      <th>nom_ld</th>\n      <th>libelle_acheminement</th>\n      <th>nom_afnor</th>\n      <th>source_position</th>\n      <th>source_nom_voie</th>\n      <th>certification_commune</th>\n      <th>cad_parcelles</th>\n    </tr>\n  </thead>\n  <tbody>\n    <tr>\n      <th>0</th>\n      <td>01001_4b50r5_00630</td>\n      <td>NaN</td>\n      <td>630</td>\n      <td>NaN</td>\n      <td>la Chèvre</td>\n      <td>1400</td>\n      <td>1001</td>\n      <td>L'Abergement-Clémenciat</td>\n      <td>NaN</td>\n      <td>NaN</td>\n      <td>...</td>\n      <td>46.132481</td>\n      <td>segment</td>\n      <td>NaN</td>\n      <td>NaN</td>\n      <td>L'ABERGEMENT-CLEMENCIAT</td>\n      <td>LA CHEVRE</td>\n      <td>inconnue</td>\n      <td>inconnue</td>\n      <td>0</td>\n      <td>NaN</td>\n    </tr>\n    <tr>\n      <th>1</th>\n      <td>01001_g0ru02_00108</td>\n      <td>NaN</td>\n      <td>108</td>\n      <td>NaN</td>\n      <td>Clemencia</td>\n      <td>1400</td>\n      <td>1001</td>\n      <td>L'Abergement-Clémenciat</td>\n      <td>NaN</td>\n      <td>NaN</td>\n      <td>...</td>\n      <td>46.133867</td>\n      <td>parcelle</td>\n      <td>NaN</td>\n      <td>NaN</td>\n      <td>L'ABERGEMENT-CLEMENCIAT</td>\n      <td>CLEMENCIA</td>\n      <td>cadastre</td>\n      <td>cadastre</td>\n      <td>0</td>\n      <td>01001000ZL0263</td>\n    </tr>\n    <tr>\n      <th>2</th>\n      <td>01001_ngzlqw_00009</td>\n      <td>NaN</td>\n      <td>9</td>\n      <td>NaN</td>\n      <td>Imp des Epis</td>\n      <td>1400</td>\n      <td>1001</td>\n      <td>L'Abergement-Clémenciat</td>\n      <td>NaN</td>\n      <td>NaN</td>\n      <td>...</td>\n      <td>46.152646</td>\n      <td>NaN</td>\n      <td>NaN</td>\n      <td>NaN</td>\n      <td>L'ABERGEMENT-CLEMENCIAT</td>\n      <td>IMP DES EPIS</td>\n      <td>arcep</td>\n      <td>arcep</td>\n      <td>0</td>\n      <td>NaN</td>\n    </tr>\n    <tr>\n      <th>3</th>\n      <td>01001_ngzlqw_00023</td>\n      <td>NaN</td>\n      <td>23</td>\n      <td>NaN</td>\n      <td>Imp des Epis</td>\n      <td>1400</td>\n      <td>1001</td>\n      <td>L'Abergement-Clémenciat</td>\n      <td>NaN</td>\n      <td>NaN</td>\n      <td>...</td>\n      <td>46.152646</td>\n      <td>NaN</td>\n      <td>NaN</td>\n      <td>NaN</td>\n      <td>L'ABERGEMENT-CLEMENCIAT</td>\n      <td>IMP DES EPIS</td>\n      <td>arcep</td>\n      <td>arcep</td>\n      <td>0</td>\n      <td>NaN</td>\n    </tr>\n    <tr>\n      <th>4</th>\n      <td>01001_ngzlqw_00026</td>\n      <td>NaN</td>\n      <td>26</td>\n      <td>NaN</td>\n      <td>Imp des Epis</td>\n      <td>1400</td>\n      <td>1001</td>\n      <td>L'Abergement-Clémenciat</td>\n      <td>NaN</td>\n      <td>NaN</td>\n      <td>...</td>\n      <td>46.152646</td>\n      <td>NaN</td>\n      <td>NaN</td>\n      <td>NaN</td>\n      <td>L'ABERGEMENT-CLEMENCIAT</td>\n      <td>IMP DES EPIS</td>\n      <td>arcep</td>\n      <td>arcep</td>\n      <td>0</td>\n      <td>NaN</td>\n    </tr>\n  </tbody>\n</table>\n<p>5 rows × 23 columns</p>\n</div>"
     },
     "execution_count": 402,
     "metadata": {},
     "output_type": "execute_result"
    }
   ],
   "source": [
    "df_addresses.head()"
   ],
   "metadata": {
    "collapsed": false,
    "ExecuteTime": {
     "end_time": "2024-02-12T20:12:00.659257509Z",
     "start_time": "2024-02-12T20:12:00.617747380Z"
    }
   },
   "id": "e4366c6ddf9fccb8",
   "execution_count": 402
  },
  {
   "cell_type": "code",
   "outputs": [],
   "source": [
    "df_addresses.drop(\n",
    "    columns=['id_fantoir', 'code_insee', 'code_insee_ancienne_commune', 'nom_ancienne_commune', 'x', 'y', 'lon', 'lat',\n",
    "             'type_position', 'source_position', 'source_nom_voie', 'certification_commune', 'cad_parcelles'],\n",
    "    inplace=True)"
   ],
   "metadata": {
    "collapsed": false,
    "ExecuteTime": {
     "end_time": "2024-02-12T20:12:01.864355171Z",
     "start_time": "2024-02-12T20:12:01.799145109Z"
    }
   },
   "id": "a555ce1acf4815bd",
   "execution_count": 403
  },
  {
   "cell_type": "code",
   "outputs": [],
   "source": [
    "df_addresses.replace(np.nan, '', regex=True, inplace=True)\n",
    "df_addresses.replace('_1', '', regex=True, inplace=True)\n"
   ],
   "metadata": {
    "collapsed": false,
    "ExecuteTime": {
     "end_time": "2024-02-12T20:12:27.938527027Z",
     "start_time": "2024-02-12T20:12:27.333111445Z"
    }
   },
   "id": "d7a96b162bf97c76",
   "execution_count": 405
  },
  {
   "cell_type": "code",
   "outputs": [
    {
     "data": {
      "text/plain": "(36449, 10)"
     },
     "execution_count": 406,
     "metadata": {},
     "output_type": "execute_result"
    }
   ],
   "source": [
    "df_addresses.drop_duplicates(['rep', 'nom_voie', 'nom_commune', 'nom_ld'], inplace=True)\n",
    "df_addresses.shape"
   ],
   "metadata": {
    "collapsed": false,
    "ExecuteTime": {
     "end_time": "2024-02-12T20:12:28.565990926Z",
     "start_time": "2024-02-12T20:12:28.505152360Z"
    }
   },
   "id": "b8672004144ceb10",
   "execution_count": 406
  },
  {
   "cell_type": "code",
   "outputs": [
    {
     "data": {
      "text/plain": "                       id  numero  rep               nom_voie  code_postal  \\\n0      01001_4b50r5_00630     630                   la Chèvre         1400   \n1      01001_g0ru02_00108     108                   Clemencia         1400   \n2      01001_ngzlqw_00009       9                Imp des Epis         1400   \n12       01001_0165_00019      19        Route de la Fontaine         1400   \n43   01001_0165_00080_bis      80  bis   Route de la Fontaine         1400   \n..                    ...     ...  ...                    ...          ...   \n576      01002_0140_00008       8            Chemin du Lavoir         1640   \n586      01002_0095_00037      37       Ruelle de la Flotiere         1640   \n591      01002_0295_00020      20            Route des Vignes         1640   \n598      01002_0145_00002       2        Chemin Louis Lumiere         1640   \n603      01002_0160_00028      28               Rue du Moulin         1640   \n\n                 nom_commune alias nom_ld      libelle_acheminement  \\\n0    L'Abergement-Clémenciat                L'ABERGEMENT-CLEMENCIAT   \n1    L'Abergement-Clémenciat                L'ABERGEMENT-CLEMENCIAT   \n2    L'Abergement-Clémenciat                L'ABERGEMENT-CLEMENCIAT   \n12   L'Abergement-Clémenciat                L'ABERGEMENT-CLEMENCIAT   \n43   L'Abergement-Clémenciat                L'ABERGEMENT-CLEMENCIAT   \n..                       ...   ...    ...                       ...   \n576    L'Abergement-de-Varey               ABERGEMENT-DE-VAREY (L )   \n586    L'Abergement-de-Varey               ABERGEMENT-DE-VAREY (L )   \n591    L'Abergement-de-Varey               ABERGEMENT-DE-VAREY (L )   \n598    L'Abergement-de-Varey               ABERGEMENT-DE-VAREY (L )   \n603    L'Abergement-de-Varey               ABERGEMENT-DE-VAREY (L )   \n\n                 nom_afnor  \n0                LA CHEVRE  \n1                CLEMENCIA  \n2             IMP DES EPIS  \n12    ROUTE DE LA FONTAINE  \n43    ROUTE DE LA FONTAINE  \n..                     ...  \n576       CHEMIN DU LAVOIR  \n586  RUELLE DE LA FLOTIERE  \n591       ROUTE DES VIGNES  \n598   CHEMIN LOUIS LUMIERE  \n603          RUE DU MOULIN  \n\n[100 rows x 10 columns]",
      "text/html": "<div>\n<style scoped>\n    .dataframe tbody tr th:only-of-type {\n        vertical-align: middle;\n    }\n\n    .dataframe tbody tr th {\n        vertical-align: top;\n    }\n\n    .dataframe thead th {\n        text-align: right;\n    }\n</style>\n<table border=\"1\" class=\"dataframe\">\n  <thead>\n    <tr style=\"text-align: right;\">\n      <th></th>\n      <th>id</th>\n      <th>numero</th>\n      <th>rep</th>\n      <th>nom_voie</th>\n      <th>code_postal</th>\n      <th>nom_commune</th>\n      <th>alias</th>\n      <th>nom_ld</th>\n      <th>libelle_acheminement</th>\n      <th>nom_afnor</th>\n    </tr>\n  </thead>\n  <tbody>\n    <tr>\n      <th>0</th>\n      <td>01001_4b50r5_00630</td>\n      <td>630</td>\n      <td></td>\n      <td>la Chèvre</td>\n      <td>1400</td>\n      <td>L'Abergement-Clémenciat</td>\n      <td></td>\n      <td></td>\n      <td>L'ABERGEMENT-CLEMENCIAT</td>\n      <td>LA CHEVRE</td>\n    </tr>\n    <tr>\n      <th>1</th>\n      <td>01001_g0ru02_00108</td>\n      <td>108</td>\n      <td></td>\n      <td>Clemencia</td>\n      <td>1400</td>\n      <td>L'Abergement-Clémenciat</td>\n      <td></td>\n      <td></td>\n      <td>L'ABERGEMENT-CLEMENCIAT</td>\n      <td>CLEMENCIA</td>\n    </tr>\n    <tr>\n      <th>2</th>\n      <td>01001_ngzlqw_00009</td>\n      <td>9</td>\n      <td></td>\n      <td>Imp des Epis</td>\n      <td>1400</td>\n      <td>L'Abergement-Clémenciat</td>\n      <td></td>\n      <td></td>\n      <td>L'ABERGEMENT-CLEMENCIAT</td>\n      <td>IMP DES EPIS</td>\n    </tr>\n    <tr>\n      <th>12</th>\n      <td>01001_0165_00019</td>\n      <td>19</td>\n      <td></td>\n      <td>Route de la Fontaine</td>\n      <td>1400</td>\n      <td>L'Abergement-Clémenciat</td>\n      <td></td>\n      <td></td>\n      <td>L'ABERGEMENT-CLEMENCIAT</td>\n      <td>ROUTE DE LA FONTAINE</td>\n    </tr>\n    <tr>\n      <th>43</th>\n      <td>01001_0165_00080_bis</td>\n      <td>80</td>\n      <td>bis</td>\n      <td>Route de la Fontaine</td>\n      <td>1400</td>\n      <td>L'Abergement-Clémenciat</td>\n      <td></td>\n      <td></td>\n      <td>L'ABERGEMENT-CLEMENCIAT</td>\n      <td>ROUTE DE LA FONTAINE</td>\n    </tr>\n    <tr>\n      <th>...</th>\n      <td>...</td>\n      <td>...</td>\n      <td>...</td>\n      <td>...</td>\n      <td>...</td>\n      <td>...</td>\n      <td>...</td>\n      <td>...</td>\n      <td>...</td>\n      <td>...</td>\n    </tr>\n    <tr>\n      <th>576</th>\n      <td>01002_0140_00008</td>\n      <td>8</td>\n      <td></td>\n      <td>Chemin du Lavoir</td>\n      <td>1640</td>\n      <td>L'Abergement-de-Varey</td>\n      <td></td>\n      <td></td>\n      <td>ABERGEMENT-DE-VAREY (L )</td>\n      <td>CHEMIN DU LAVOIR</td>\n    </tr>\n    <tr>\n      <th>586</th>\n      <td>01002_0095_00037</td>\n      <td>37</td>\n      <td></td>\n      <td>Ruelle de la Flotiere</td>\n      <td>1640</td>\n      <td>L'Abergement-de-Varey</td>\n      <td></td>\n      <td></td>\n      <td>ABERGEMENT-DE-VAREY (L )</td>\n      <td>RUELLE DE LA FLOTIERE</td>\n    </tr>\n    <tr>\n      <th>591</th>\n      <td>01002_0295_00020</td>\n      <td>20</td>\n      <td></td>\n      <td>Route des Vignes</td>\n      <td>1640</td>\n      <td>L'Abergement-de-Varey</td>\n      <td></td>\n      <td></td>\n      <td>ABERGEMENT-DE-VAREY (L )</td>\n      <td>ROUTE DES VIGNES</td>\n    </tr>\n    <tr>\n      <th>598</th>\n      <td>01002_0145_00002</td>\n      <td>2</td>\n      <td></td>\n      <td>Chemin Louis Lumiere</td>\n      <td>1640</td>\n      <td>L'Abergement-de-Varey</td>\n      <td></td>\n      <td></td>\n      <td>ABERGEMENT-DE-VAREY (L )</td>\n      <td>CHEMIN LOUIS LUMIERE</td>\n    </tr>\n    <tr>\n      <th>603</th>\n      <td>01002_0160_00028</td>\n      <td>28</td>\n      <td></td>\n      <td>Rue du Moulin</td>\n      <td>1640</td>\n      <td>L'Abergement-de-Varey</td>\n      <td></td>\n      <td></td>\n      <td>ABERGEMENT-DE-VAREY (L )</td>\n      <td>RUE DU MOULIN</td>\n    </tr>\n  </tbody>\n</table>\n<p>100 rows × 10 columns</p>\n</div>"
     },
     "execution_count": 407,
     "metadata": {},
     "output_type": "execute_result"
    }
   ],
   "source": [
    "df_addresses.head(100)"
   ],
   "metadata": {
    "collapsed": false,
    "ExecuteTime": {
     "end_time": "2024-02-12T20:12:31.713470131Z",
     "start_time": "2024-02-12T20:12:31.665428865Z"
    }
   },
   "id": "fd669af5030b0377",
   "execution_count": 407
  },
  {
   "cell_type": "code",
   "outputs": [],
   "source": [
    "def dataframe_row_to_pydantic_object(row: pd.Series) -> Address:\n",
    "    \"\"\"\n",
    "    Converts a row from a Pandas DataFrame to a Pydantic object.\n",
    "    Args:\n",
    "        row (pd.Series): A single row from the DataFrame.\n",
    "    Returns:\n",
    "        SomeModel: A Pydantic object with the data from the row.\n",
    "    \"\"\"\n",
    "    #missing street_type\n",
    "    return Address(street_number=str(row['numero']), street_multiplier=row['rep'], street_name=row['nom_voie'],\n",
    "                   zip_code=str(row['code_postal']), city=row['nom_commune'], confidence=1)\n"
   ],
   "metadata": {
    "collapsed": false,
    "ExecuteTime": {
     "end_time": "2024-02-12T20:12:34.420983232Z",
     "start_time": "2024-02-12T20:12:34.362955505Z"
    }
   },
   "id": "f5956c69fb44a408",
   "execution_count": 408
  },
  {
   "cell_type": "code",
   "outputs": [
    {
     "data": {
      "text/plain": "Address(street_number='630', street_multiplier='', street_type=None, street_name='la Chèvre', locality=None, zip_code='1400', city=\"L'Abergement-Clémenciat\", country=None, confidence=1)"
     },
     "execution_count": 409,
     "metadata": {},
     "output_type": "execute_result"
    }
   ],
   "source": [
    "dataframe_row_to_pydantic_object(df_addresses.iloc[0])"
   ],
   "metadata": {
    "collapsed": false,
    "ExecuteTime": {
     "end_time": "2024-02-12T20:12:35.225470542Z",
     "start_time": "2024-02-12T20:12:35.186537252Z"
    }
   },
   "id": "c3d7b9a3a73e42b6",
   "execution_count": 409
  },
  {
   "cell_type": "code",
   "outputs": [],
   "source": [],
   "metadata": {
    "collapsed": false,
    "ExecuteTime": {
     "end_time": "2024-02-12T20:12:35.960709215Z",
     "start_time": "2024-02-12T20:12:35.915398046Z"
    }
   },
   "id": "1d3e72e595d49235",
   "execution_count": 409
  },
  {
   "cell_type": "code",
   "outputs": [],
   "source": [
    "def full_address_generator(row: pd.Series) -> str:\n",
    "    \"\"\"\n",
    "    Generates a one line address based on all the available fields from BAN\n",
    "    :param row: pd.Series of one address from BAN\n",
    "    :return: \n",
    "    \"\"\"\n",
    "    if row['nom_ld'] != '':\n",
    "        row['nom_ld'] = ', ' + row['nom_ld'] #todo here we are cheating a little bit, in order to differentiate the locality (lieu-dit) we insert a comma, actually otherwise even for a human it would be very difficult to differentiate ! \n",
    "    strings = [str(row['numero']), str(row['rep']), str(row['nom_voie']), str(row['nom_ld']), str(row['code_postal']),\n",
    "               str(row['nom_commune'])]\n",
    "    return ' '.join(filter(None, strings))\n",
    "    # return f\"{row['numero']}{('',' '+str(row['rep']))[row['rep'] == 'nan']}{' ' + row['nom_voie']}{('', ', '+str(row['nom_ld']))[row['nom_ld'] == 'nan']}{' '+str(row['code_postal'])}{' ' + row['nom_commune']}\""
   ],
   "metadata": {
    "collapsed": false,
    "ExecuteTime": {
     "end_time": "2024-02-12T20:12:36.466991107Z",
     "start_time": "2024-02-12T20:12:36.433410380Z"
    }
   },
   "id": "e5dd7e33d006e38b",
   "execution_count": 410
  },
  {
   "cell_type": "code",
   "outputs": [
    {
     "name": "stdout",
     "output_type": "stream",
     "text": [
      "id                      01407_0054_00001\n",
      "numero                                 1\n",
      "rep                                     \n",
      "nom_voie                  Allee Serrulaz\n",
      "code_postal                         1420\n",
      "nom_commune                      Seyssel\n",
      "alias                                   \n",
      "nom_ld                                  \n",
      "libelle_acheminement             SEYSSEL\n",
      "nom_afnor                 ALLEE SERRULAZ\n",
      "Name: 34853, dtype: object\n"
     ]
    },
    {
     "data": {
      "text/plain": "'1 Allee Serrulaz 1420 Seyssel'"
     },
     "execution_count": 411,
     "metadata": {},
     "output_type": "execute_result"
    }
   ],
   "source": [
    "\n",
    "index = 4568\n",
    "pprint(df_addresses.iloc[index])\n",
    "full_address_generator(df_addresses.iloc[index])"
   ],
   "metadata": {
    "collapsed": false,
    "ExecuteTime": {
     "end_time": "2024-02-12T20:12:37.144173892Z",
     "start_time": "2024-02-12T20:12:37.073642767Z"
    }
   },
   "id": "d9687426db93ff9",
   "execution_count": 411
  },
  {
   "cell_type": "markdown",
   "source": [
    "Add one line address to Dataframe"
   ],
   "metadata": {
    "collapsed": false
   },
   "id": "61ea910aff0fffc1"
  },
  {
   "cell_type": "code",
   "outputs": [],
   "source": [
    "df_addresses['full_add'] = df_addresses.apply(lambda _row: full_address_generator(_row), axis=1)"
   ],
   "metadata": {
    "collapsed": false,
    "ExecuteTime": {
     "end_time": "2024-02-12T20:12:43.003562627Z",
     "start_time": "2024-02-12T20:12:42.522305399Z"
    }
   },
   "id": "8a3c090535ff458",
   "execution_count": 412
  },
  {
   "cell_type": "code",
   "outputs": [
    {
     "data": {
      "text/plain": "                       id  numero  rep                          nom_voie  \\\n0      01001_4b50r5_00630     630                              la Chèvre   \n1      01001_g0ru02_00108     108                              Clemencia   \n2      01001_ngzlqw_00009       9                           Imp des Epis   \n12       01001_0165_00019      19                   Route de la Fontaine   \n43   01001_0165_00080_bis      80  bis              Route de la Fontaine   \n44       01001_0115_00095      95                    Route de Clémenciat   \n59     01001_0115_00218_c     218    c               Route de Clémenciat   \n60       01001_0370_00036      36                     Impasse des Soyeux   \n66   01001_0370_00038_bis      38  bis                Impasse des Soyeux   \n67       01001_0250_00024      24                     Impasse des Merles   \n77   01001_0250_00037_bis      37  bis                Impasse des Merles   \n79       01001_0175_00072      72                     Route des Garaudes   \n108  01001_0175_00362_bis     362  bis                Route des Garaudes   \n109      01001_0395_00009       9                Impasse des Vers à Soie   \n114      01001_0290_00005       5                      Chemin de l'Ordre   \n119      01001_0170_00420     420                      Route de la Fraze   \n122  01001_0170_00549_bis     549  bis                 Route de la Fraze   \n123      01001_0150_00031      31                 Impasse des Eglantiers   \n127      01001_0300_00016      16                 Impasse du Panoramique   \n141      01001_0195_00036      36                   Chemin des Gravelles   \n142      01001_0027_00476     476                      Route des Basques   \n153      01001_0005_00026      26                    Impasse des Acacias   \n161      01001_0040_00041      41                       Impasse Bellevue   \n169      01001_0190_00018      18                Route des Grands Champs   \n184      01001_0095_00023      23                       Route du Château   \n195      01001_0335_00034      34                        Impasse du Plat   \n204      01001_0085_00028      28                     Rue des Charmilles   \n211  01001_0085_00053_bis      53  bis                Rue des Charmilles   \n212      01001_0270_00014      14                        Rue des Muriers   \n220      01001_0310_00049      49                       Route du Paradis   \n228      01001_0390_00397     397                     Route de Vernisson   \n229      01001_0330_00025      25                   Chemin de la Planche   \n231      01001_0410_00005       5                      Chemin des Vignes   \n240      01001_0375_00027      27                           Rue du Stade   \n252      01001_0145_00054      54                       Rue des Ecoliers   \n261      01001_0385_00020      20                   Impasse des Tilleuls   \n270      01001_0265_00038      38                      Rue de Munetville   \n292      01001_0340_00080      80                       Chemin de Polain   \n293  01001_0340_00080_bis      80  bis                  Chemin de Polain   \n294      01001_0260_00001       1                          Route du Mont   \n300      01001_0125_00002       2                Impasse des Coquelicots   \n306      01001_0400_00101     101                         Rue des Viards   \n309      01001_0110_00009       9                      Rue des 5 Chemins   \n322      01001_0280_00014      14                 Chemin de la Nicolière   \n325      01001_0345_00095      95                Chemin de la Pommerelle   \n328      01001_0180_00072      72                   Chemin de la Genette   \n330      01001_0365_00041      41                      Chemin sous Brody   \n332      01001_0230_00056      56                      Impasse des Lilas   \n340      01001_0200_00054      54                    Route du Guillermet   \n343      01001_0090_00570     570       Route de la Charrière des Bottes   \n\n     code_postal              nom_commune alias nom_ld  \\\n0           1400  L'Abergement-Clémenciat                \n1           1400  L'Abergement-Clémenciat                \n2           1400  L'Abergement-Clémenciat                \n12          1400  L'Abergement-Clémenciat                \n43          1400  L'Abergement-Clémenciat                \n44          1400  L'Abergement-Clémenciat                \n59          1400  L'Abergement-Clémenciat                \n60          1400  L'Abergement-Clémenciat                \n66          1400  L'Abergement-Clémenciat                \n67          1400  L'Abergement-Clémenciat                \n77          1400  L'Abergement-Clémenciat                \n79          1400  L'Abergement-Clémenciat                \n108         1400  L'Abergement-Clémenciat                \n109         1400  L'Abergement-Clémenciat                \n114         1400  L'Abergement-Clémenciat                \n119         1400  L'Abergement-Clémenciat                \n122         1400  L'Abergement-Clémenciat                \n123         1400  L'Abergement-Clémenciat                \n127         1400  L'Abergement-Clémenciat                \n141         1400  L'Abergement-Clémenciat                \n142         1400  L'Abergement-Clémenciat                \n153         1400  L'Abergement-Clémenciat                \n161         1400  L'Abergement-Clémenciat                \n169         1400  L'Abergement-Clémenciat                \n184         1400  L'Abergement-Clémenciat                \n195         1400  L'Abergement-Clémenciat                \n204         1400  L'Abergement-Clémenciat                \n211         1400  L'Abergement-Clémenciat                \n212         1400  L'Abergement-Clémenciat                \n220         1400  L'Abergement-Clémenciat                \n228         1400  L'Abergement-Clémenciat                \n229         1400  L'Abergement-Clémenciat                \n231         1400  L'Abergement-Clémenciat                \n240         1400  L'Abergement-Clémenciat                \n252         1400  L'Abergement-Clémenciat                \n261         1400  L'Abergement-Clémenciat                \n270         1400  L'Abergement-Clémenciat                \n292         1400  L'Abergement-Clémenciat                \n293         1400  L'Abergement-Clémenciat                \n294         1400  L'Abergement-Clémenciat                \n300         1400  L'Abergement-Clémenciat                \n306         1400  L'Abergement-Clémenciat                \n309         1400  L'Abergement-Clémenciat                \n322         1400  L'Abergement-Clémenciat                \n325         1400  L'Abergement-Clémenciat                \n328         1400  L'Abergement-Clémenciat                \n330         1400  L'Abergement-Clémenciat                \n332         1400  L'Abergement-Clémenciat                \n340         1400  L'Abergement-Clémenciat                \n343         1400  L'Abergement-Clémenciat                \n\n        libelle_acheminement                         nom_afnor  \\\n0    L'ABERGEMENT-CLEMENCIAT                         LA CHEVRE   \n1    L'ABERGEMENT-CLEMENCIAT                         CLEMENCIA   \n2    L'ABERGEMENT-CLEMENCIAT                      IMP DES EPIS   \n12   L'ABERGEMENT-CLEMENCIAT              ROUTE DE LA FONTAINE   \n43   L'ABERGEMENT-CLEMENCIAT              ROUTE DE LA FONTAINE   \n44   L'ABERGEMENT-CLEMENCIAT               ROUTE DE CLEMENCIAT   \n59   L'ABERGEMENT-CLEMENCIAT               ROUTE DE CLEMENCIAT   \n60   L'ABERGEMENT-CLEMENCIAT                IMPASSE DES SOYEUX   \n66   L'ABERGEMENT-CLEMENCIAT                IMPASSE DES SOYEUX   \n67   L'ABERGEMENT-CLEMENCIAT                IMPASSE DES MERLES   \n77   L'ABERGEMENT-CLEMENCIAT                IMPASSE DES MERLES   \n79   L'ABERGEMENT-CLEMENCIAT                ROUTE DES GARAUDES   \n108  L'ABERGEMENT-CLEMENCIAT                ROUTE DES GARAUDES   \n109  L'ABERGEMENT-CLEMENCIAT           IMPASSE DES VERS A SOIE   \n114  L'ABERGEMENT-CLEMENCIAT                 CHEMIN DE L ORDRE   \n119  L'ABERGEMENT-CLEMENCIAT                 ROUTE DE LA FRAZE   \n122  L'ABERGEMENT-CLEMENCIAT                 ROUTE DE LA FRAZE   \n123  L'ABERGEMENT-CLEMENCIAT            IMPASSE DES EGLANTIERS   \n127  L'ABERGEMENT-CLEMENCIAT            IMPASSE DU PANORAMIQUE   \n141  L'ABERGEMENT-CLEMENCIAT              CHEMIN DES GRAVELLES   \n142  L'ABERGEMENT-CLEMENCIAT                 ROUTE DES BASQUES   \n153  L'ABERGEMENT-CLEMENCIAT               IMPASSE DES ACACIAS   \n161  L'ABERGEMENT-CLEMENCIAT                  IMPASSE BELLEVUE   \n169  L'ABERGEMENT-CLEMENCIAT           ROUTE DES GRANDS CHAMPS   \n184  L'ABERGEMENT-CLEMENCIAT                  ROUTE DU CHATEAU   \n195  L'ABERGEMENT-CLEMENCIAT                   IMPASSE DU PLAT   \n204  L'ABERGEMENT-CLEMENCIAT                RUE DES CHARMILLES   \n211  L'ABERGEMENT-CLEMENCIAT                RUE DES CHARMILLES   \n212  L'ABERGEMENT-CLEMENCIAT                   RUE DES MURIERS   \n220  L'ABERGEMENT-CLEMENCIAT                  ROUTE DU PARADIS   \n228  L'ABERGEMENT-CLEMENCIAT                ROUTE DE VERNISSON   \n229  L'ABERGEMENT-CLEMENCIAT              CHEMIN DE LA PLANCHE   \n231  L'ABERGEMENT-CLEMENCIAT                 CHEMIN DES VIGNES   \n240  L'ABERGEMENT-CLEMENCIAT                      RUE DU STADE   \n252  L'ABERGEMENT-CLEMENCIAT                  RUE DES ECOLIERS   \n261  L'ABERGEMENT-CLEMENCIAT              IMPASSE DES TILLEULS   \n270  L'ABERGEMENT-CLEMENCIAT                 RUE DE MUNETVILLE   \n292  L'ABERGEMENT-CLEMENCIAT                  CHEMIN DE POLAIN   \n293  L'ABERGEMENT-CLEMENCIAT                  CHEMIN DE POLAIN   \n294  L'ABERGEMENT-CLEMENCIAT                     ROUTE DU MONT   \n300  L'ABERGEMENT-CLEMENCIAT           IMPASSE DES COQUELICOTS   \n306  L'ABERGEMENT-CLEMENCIAT                    RUE DES VIARDS   \n309  L'ABERGEMENT-CLEMENCIAT                 RUE DES 5 CHEMINS   \n322  L'ABERGEMENT-CLEMENCIAT            CHEMIN DE LA NICOLIERE   \n325  L'ABERGEMENT-CLEMENCIAT           CHEMIN DE LA POMMERELLE   \n328  L'ABERGEMENT-CLEMENCIAT              CHEMIN DE LA GENETTE   \n330  L'ABERGEMENT-CLEMENCIAT                 CHEMIN SOUS BRODY   \n332  L'ABERGEMENT-CLEMENCIAT                 IMPASSE DES LILAS   \n340  L'ABERGEMENT-CLEMENCIAT               ROUTE DU GUILLERMET   \n343  L'ABERGEMENT-CLEMENCIAT  ROUTE DE LA CHARRIERE DES BOTTES   \n\n                                              full_add  \n0           630 la Chèvre 1400 L'Abergement-Clémenciat  \n1           108 Clemencia 1400 L'Abergement-Clémenciat  \n2          9 Imp des Epis 1400 L'Abergement-Clémenciat  \n12   19 Route de la Fontaine 1400 L'Abergement-Clém...  \n43   80 bis Route de la Fontaine 1400 L'Abergement-...  \n44   95 Route de Clémenciat 1400 L'Abergement-Cléme...  \n59   218 c Route de Clémenciat 1400 L'Abergement-Cl...  \n60   36 Impasse des Soyeux 1400 L'Abergement-Clémen...  \n66   38 bis Impasse des Soyeux 1400 L'Abergement-Cl...  \n67   24 Impasse des Merles 1400 L'Abergement-Clémen...  \n77   37 bis Impasse des Merles 1400 L'Abergement-Cl...  \n79   72 Route des Garaudes 1400 L'Abergement-Clémen...  \n108  362 bis Route des Garaudes 1400 L'Abergement-C...  \n109  9 Impasse des Vers à Soie 1400 L'Abergement-Cl...  \n114   5 Chemin de l'Ordre 1400 L'Abergement-Clémenciat  \n119  420 Route de la Fraze 1400 L'Abergement-Clémen...  \n122  549 bis Route de la Fraze 1400 L'Abergement-Cl...  \n123  31 Impasse des Eglantiers 1400 L'Abergement-Cl...  \n127  16 Impasse du Panoramique 1400 L'Abergement-Cl...  \n141  36 Chemin des Gravelles 1400 L'Abergement-Clém...  \n142  476 Route des Basques 1400 L'Abergement-Clémen...  \n153  26 Impasse des Acacias 1400 L'Abergement-Cléme...  \n161   41 Impasse Bellevue 1400 L'Abergement-Clémenciat  \n169  18 Route des Grands Champs 1400 L'Abergement-C...  \n184   23 Route du Château 1400 L'Abergement-Clémenciat  \n195    34 Impasse du Plat 1400 L'Abergement-Clémenciat  \n204  28 Rue des Charmilles 1400 L'Abergement-Clémen...  \n211  53 bis Rue des Charmilles 1400 L'Abergement-Cl...  \n212    14 Rue des Muriers 1400 L'Abergement-Clémenciat  \n220   49 Route du Paradis 1400 L'Abergement-Clémenciat  \n228  397 Route de Vernisson 1400 L'Abergement-Cléme...  \n229  25 Chemin de la Planche 1400 L'Abergement-Clém...  \n231   5 Chemin des Vignes 1400 L'Abergement-Clémenciat  \n240       27 Rue du Stade 1400 L'Abergement-Clémenciat  \n252   54 Rue des Ecoliers 1400 L'Abergement-Clémenciat  \n261  20 Impasse des Tilleuls 1400 L'Abergement-Clém...  \n270  38 Rue de Munetville 1400 L'Abergement-Clémenciat  \n292   80 Chemin de Polain 1400 L'Abergement-Clémenciat  \n293  80 bis Chemin de Polain 1400 L'Abergement-Clém...  \n294       1 Route du Mont 1400 L'Abergement-Clémenciat  \n300  2 Impasse des Coquelicots 1400 L'Abergement-Cl...  \n306    101 Rue des Viards 1400 L'Abergement-Clémenciat  \n309   9 Rue des 5 Chemins 1400 L'Abergement-Clémenciat  \n322  14 Chemin de la Nicolière 1400 L'Abergement-Cl...  \n325  95 Chemin de la Pommerelle 1400 L'Abergement-C...  \n328  72 Chemin de la Genette 1400 L'Abergement-Clém...  \n330  41 Chemin sous Brody 1400 L'Abergement-Clémenciat  \n332  56 Impasse des Lilas 1400 L'Abergement-Clémenciat  \n340  54 Route du Guillermet 1400 L'Abergement-Cléme...  \n343  570 Route de la Charrière des Bottes 1400 L'Ab...  ",
      "text/html": "<div>\n<style scoped>\n    .dataframe tbody tr th:only-of-type {\n        vertical-align: middle;\n    }\n\n    .dataframe tbody tr th {\n        vertical-align: top;\n    }\n\n    .dataframe thead th {\n        text-align: right;\n    }\n</style>\n<table border=\"1\" class=\"dataframe\">\n  <thead>\n    <tr style=\"text-align: right;\">\n      <th></th>\n      <th>id</th>\n      <th>numero</th>\n      <th>rep</th>\n      <th>nom_voie</th>\n      <th>code_postal</th>\n      <th>nom_commune</th>\n      <th>alias</th>\n      <th>nom_ld</th>\n      <th>libelle_acheminement</th>\n      <th>nom_afnor</th>\n      <th>full_add</th>\n    </tr>\n  </thead>\n  <tbody>\n    <tr>\n      <th>0</th>\n      <td>01001_4b50r5_00630</td>\n      <td>630</td>\n      <td></td>\n      <td>la Chèvre</td>\n      <td>1400</td>\n      <td>L'Abergement-Clémenciat</td>\n      <td></td>\n      <td></td>\n      <td>L'ABERGEMENT-CLEMENCIAT</td>\n      <td>LA CHEVRE</td>\n      <td>630 la Chèvre 1400 L'Abergement-Clémenciat</td>\n    </tr>\n    <tr>\n      <th>1</th>\n      <td>01001_g0ru02_00108</td>\n      <td>108</td>\n      <td></td>\n      <td>Clemencia</td>\n      <td>1400</td>\n      <td>L'Abergement-Clémenciat</td>\n      <td></td>\n      <td></td>\n      <td>L'ABERGEMENT-CLEMENCIAT</td>\n      <td>CLEMENCIA</td>\n      <td>108 Clemencia 1400 L'Abergement-Clémenciat</td>\n    </tr>\n    <tr>\n      <th>2</th>\n      <td>01001_ngzlqw_00009</td>\n      <td>9</td>\n      <td></td>\n      <td>Imp des Epis</td>\n      <td>1400</td>\n      <td>L'Abergement-Clémenciat</td>\n      <td></td>\n      <td></td>\n      <td>L'ABERGEMENT-CLEMENCIAT</td>\n      <td>IMP DES EPIS</td>\n      <td>9 Imp des Epis 1400 L'Abergement-Clémenciat</td>\n    </tr>\n    <tr>\n      <th>12</th>\n      <td>01001_0165_00019</td>\n      <td>19</td>\n      <td></td>\n      <td>Route de la Fontaine</td>\n      <td>1400</td>\n      <td>L'Abergement-Clémenciat</td>\n      <td></td>\n      <td></td>\n      <td>L'ABERGEMENT-CLEMENCIAT</td>\n      <td>ROUTE DE LA FONTAINE</td>\n      <td>19 Route de la Fontaine 1400 L'Abergement-Clém...</td>\n    </tr>\n    <tr>\n      <th>43</th>\n      <td>01001_0165_00080_bis</td>\n      <td>80</td>\n      <td>bis</td>\n      <td>Route de la Fontaine</td>\n      <td>1400</td>\n      <td>L'Abergement-Clémenciat</td>\n      <td></td>\n      <td></td>\n      <td>L'ABERGEMENT-CLEMENCIAT</td>\n      <td>ROUTE DE LA FONTAINE</td>\n      <td>80 bis Route de la Fontaine 1400 L'Abergement-...</td>\n    </tr>\n    <tr>\n      <th>44</th>\n      <td>01001_0115_00095</td>\n      <td>95</td>\n      <td></td>\n      <td>Route de Clémenciat</td>\n      <td>1400</td>\n      <td>L'Abergement-Clémenciat</td>\n      <td></td>\n      <td></td>\n      <td>L'ABERGEMENT-CLEMENCIAT</td>\n      <td>ROUTE DE CLEMENCIAT</td>\n      <td>95 Route de Clémenciat 1400 L'Abergement-Cléme...</td>\n    </tr>\n    <tr>\n      <th>59</th>\n      <td>01001_0115_00218_c</td>\n      <td>218</td>\n      <td>c</td>\n      <td>Route de Clémenciat</td>\n      <td>1400</td>\n      <td>L'Abergement-Clémenciat</td>\n      <td></td>\n      <td></td>\n      <td>L'ABERGEMENT-CLEMENCIAT</td>\n      <td>ROUTE DE CLEMENCIAT</td>\n      <td>218 c Route de Clémenciat 1400 L'Abergement-Cl...</td>\n    </tr>\n    <tr>\n      <th>60</th>\n      <td>01001_0370_00036</td>\n      <td>36</td>\n      <td></td>\n      <td>Impasse des Soyeux</td>\n      <td>1400</td>\n      <td>L'Abergement-Clémenciat</td>\n      <td></td>\n      <td></td>\n      <td>L'ABERGEMENT-CLEMENCIAT</td>\n      <td>IMPASSE DES SOYEUX</td>\n      <td>36 Impasse des Soyeux 1400 L'Abergement-Clémen...</td>\n    </tr>\n    <tr>\n      <th>66</th>\n      <td>01001_0370_00038_bis</td>\n      <td>38</td>\n      <td>bis</td>\n      <td>Impasse des Soyeux</td>\n      <td>1400</td>\n      <td>L'Abergement-Clémenciat</td>\n      <td></td>\n      <td></td>\n      <td>L'ABERGEMENT-CLEMENCIAT</td>\n      <td>IMPASSE DES SOYEUX</td>\n      <td>38 bis Impasse des Soyeux 1400 L'Abergement-Cl...</td>\n    </tr>\n    <tr>\n      <th>67</th>\n      <td>01001_0250_00024</td>\n      <td>24</td>\n      <td></td>\n      <td>Impasse des Merles</td>\n      <td>1400</td>\n      <td>L'Abergement-Clémenciat</td>\n      <td></td>\n      <td></td>\n      <td>L'ABERGEMENT-CLEMENCIAT</td>\n      <td>IMPASSE DES MERLES</td>\n      <td>24 Impasse des Merles 1400 L'Abergement-Clémen...</td>\n    </tr>\n    <tr>\n      <th>77</th>\n      <td>01001_0250_00037_bis</td>\n      <td>37</td>\n      <td>bis</td>\n      <td>Impasse des Merles</td>\n      <td>1400</td>\n      <td>L'Abergement-Clémenciat</td>\n      <td></td>\n      <td></td>\n      <td>L'ABERGEMENT-CLEMENCIAT</td>\n      <td>IMPASSE DES MERLES</td>\n      <td>37 bis Impasse des Merles 1400 L'Abergement-Cl...</td>\n    </tr>\n    <tr>\n      <th>79</th>\n      <td>01001_0175_00072</td>\n      <td>72</td>\n      <td></td>\n      <td>Route des Garaudes</td>\n      <td>1400</td>\n      <td>L'Abergement-Clémenciat</td>\n      <td></td>\n      <td></td>\n      <td>L'ABERGEMENT-CLEMENCIAT</td>\n      <td>ROUTE DES GARAUDES</td>\n      <td>72 Route des Garaudes 1400 L'Abergement-Clémen...</td>\n    </tr>\n    <tr>\n      <th>108</th>\n      <td>01001_0175_00362_bis</td>\n      <td>362</td>\n      <td>bis</td>\n      <td>Route des Garaudes</td>\n      <td>1400</td>\n      <td>L'Abergement-Clémenciat</td>\n      <td></td>\n      <td></td>\n      <td>L'ABERGEMENT-CLEMENCIAT</td>\n      <td>ROUTE DES GARAUDES</td>\n      <td>362 bis Route des Garaudes 1400 L'Abergement-C...</td>\n    </tr>\n    <tr>\n      <th>109</th>\n      <td>01001_0395_00009</td>\n      <td>9</td>\n      <td></td>\n      <td>Impasse des Vers à Soie</td>\n      <td>1400</td>\n      <td>L'Abergement-Clémenciat</td>\n      <td></td>\n      <td></td>\n      <td>L'ABERGEMENT-CLEMENCIAT</td>\n      <td>IMPASSE DES VERS A SOIE</td>\n      <td>9 Impasse des Vers à Soie 1400 L'Abergement-Cl...</td>\n    </tr>\n    <tr>\n      <th>114</th>\n      <td>01001_0290_00005</td>\n      <td>5</td>\n      <td></td>\n      <td>Chemin de l'Ordre</td>\n      <td>1400</td>\n      <td>L'Abergement-Clémenciat</td>\n      <td></td>\n      <td></td>\n      <td>L'ABERGEMENT-CLEMENCIAT</td>\n      <td>CHEMIN DE L ORDRE</td>\n      <td>5 Chemin de l'Ordre 1400 L'Abergement-Clémenciat</td>\n    </tr>\n    <tr>\n      <th>119</th>\n      <td>01001_0170_00420</td>\n      <td>420</td>\n      <td></td>\n      <td>Route de la Fraze</td>\n      <td>1400</td>\n      <td>L'Abergement-Clémenciat</td>\n      <td></td>\n      <td></td>\n      <td>L'ABERGEMENT-CLEMENCIAT</td>\n      <td>ROUTE DE LA FRAZE</td>\n      <td>420 Route de la Fraze 1400 L'Abergement-Clémen...</td>\n    </tr>\n    <tr>\n      <th>122</th>\n      <td>01001_0170_00549_bis</td>\n      <td>549</td>\n      <td>bis</td>\n      <td>Route de la Fraze</td>\n      <td>1400</td>\n      <td>L'Abergement-Clémenciat</td>\n      <td></td>\n      <td></td>\n      <td>L'ABERGEMENT-CLEMENCIAT</td>\n      <td>ROUTE DE LA FRAZE</td>\n      <td>549 bis Route de la Fraze 1400 L'Abergement-Cl...</td>\n    </tr>\n    <tr>\n      <th>123</th>\n      <td>01001_0150_00031</td>\n      <td>31</td>\n      <td></td>\n      <td>Impasse des Eglantiers</td>\n      <td>1400</td>\n      <td>L'Abergement-Clémenciat</td>\n      <td></td>\n      <td></td>\n      <td>L'ABERGEMENT-CLEMENCIAT</td>\n      <td>IMPASSE DES EGLANTIERS</td>\n      <td>31 Impasse des Eglantiers 1400 L'Abergement-Cl...</td>\n    </tr>\n    <tr>\n      <th>127</th>\n      <td>01001_0300_00016</td>\n      <td>16</td>\n      <td></td>\n      <td>Impasse du Panoramique</td>\n      <td>1400</td>\n      <td>L'Abergement-Clémenciat</td>\n      <td></td>\n      <td></td>\n      <td>L'ABERGEMENT-CLEMENCIAT</td>\n      <td>IMPASSE DU PANORAMIQUE</td>\n      <td>16 Impasse du Panoramique 1400 L'Abergement-Cl...</td>\n    </tr>\n    <tr>\n      <th>141</th>\n      <td>01001_0195_00036</td>\n      <td>36</td>\n      <td></td>\n      <td>Chemin des Gravelles</td>\n      <td>1400</td>\n      <td>L'Abergement-Clémenciat</td>\n      <td></td>\n      <td></td>\n      <td>L'ABERGEMENT-CLEMENCIAT</td>\n      <td>CHEMIN DES GRAVELLES</td>\n      <td>36 Chemin des Gravelles 1400 L'Abergement-Clém...</td>\n    </tr>\n    <tr>\n      <th>142</th>\n      <td>01001_0027_00476</td>\n      <td>476</td>\n      <td></td>\n      <td>Route des Basques</td>\n      <td>1400</td>\n      <td>L'Abergement-Clémenciat</td>\n      <td></td>\n      <td></td>\n      <td>L'ABERGEMENT-CLEMENCIAT</td>\n      <td>ROUTE DES BASQUES</td>\n      <td>476 Route des Basques 1400 L'Abergement-Clémen...</td>\n    </tr>\n    <tr>\n      <th>153</th>\n      <td>01001_0005_00026</td>\n      <td>26</td>\n      <td></td>\n      <td>Impasse des Acacias</td>\n      <td>1400</td>\n      <td>L'Abergement-Clémenciat</td>\n      <td></td>\n      <td></td>\n      <td>L'ABERGEMENT-CLEMENCIAT</td>\n      <td>IMPASSE DES ACACIAS</td>\n      <td>26 Impasse des Acacias 1400 L'Abergement-Cléme...</td>\n    </tr>\n    <tr>\n      <th>161</th>\n      <td>01001_0040_00041</td>\n      <td>41</td>\n      <td></td>\n      <td>Impasse Bellevue</td>\n      <td>1400</td>\n      <td>L'Abergement-Clémenciat</td>\n      <td></td>\n      <td></td>\n      <td>L'ABERGEMENT-CLEMENCIAT</td>\n      <td>IMPASSE BELLEVUE</td>\n      <td>41 Impasse Bellevue 1400 L'Abergement-Clémenciat</td>\n    </tr>\n    <tr>\n      <th>169</th>\n      <td>01001_0190_00018</td>\n      <td>18</td>\n      <td></td>\n      <td>Route des Grands Champs</td>\n      <td>1400</td>\n      <td>L'Abergement-Clémenciat</td>\n      <td></td>\n      <td></td>\n      <td>L'ABERGEMENT-CLEMENCIAT</td>\n      <td>ROUTE DES GRANDS CHAMPS</td>\n      <td>18 Route des Grands Champs 1400 L'Abergement-C...</td>\n    </tr>\n    <tr>\n      <th>184</th>\n      <td>01001_0095_00023</td>\n      <td>23</td>\n      <td></td>\n      <td>Route du Château</td>\n      <td>1400</td>\n      <td>L'Abergement-Clémenciat</td>\n      <td></td>\n      <td></td>\n      <td>L'ABERGEMENT-CLEMENCIAT</td>\n      <td>ROUTE DU CHATEAU</td>\n      <td>23 Route du Château 1400 L'Abergement-Clémenciat</td>\n    </tr>\n    <tr>\n      <th>195</th>\n      <td>01001_0335_00034</td>\n      <td>34</td>\n      <td></td>\n      <td>Impasse du Plat</td>\n      <td>1400</td>\n      <td>L'Abergement-Clémenciat</td>\n      <td></td>\n      <td></td>\n      <td>L'ABERGEMENT-CLEMENCIAT</td>\n      <td>IMPASSE DU PLAT</td>\n      <td>34 Impasse du Plat 1400 L'Abergement-Clémenciat</td>\n    </tr>\n    <tr>\n      <th>204</th>\n      <td>01001_0085_00028</td>\n      <td>28</td>\n      <td></td>\n      <td>Rue des Charmilles</td>\n      <td>1400</td>\n      <td>L'Abergement-Clémenciat</td>\n      <td></td>\n      <td></td>\n      <td>L'ABERGEMENT-CLEMENCIAT</td>\n      <td>RUE DES CHARMILLES</td>\n      <td>28 Rue des Charmilles 1400 L'Abergement-Clémen...</td>\n    </tr>\n    <tr>\n      <th>211</th>\n      <td>01001_0085_00053_bis</td>\n      <td>53</td>\n      <td>bis</td>\n      <td>Rue des Charmilles</td>\n      <td>1400</td>\n      <td>L'Abergement-Clémenciat</td>\n      <td></td>\n      <td></td>\n      <td>L'ABERGEMENT-CLEMENCIAT</td>\n      <td>RUE DES CHARMILLES</td>\n      <td>53 bis Rue des Charmilles 1400 L'Abergement-Cl...</td>\n    </tr>\n    <tr>\n      <th>212</th>\n      <td>01001_0270_00014</td>\n      <td>14</td>\n      <td></td>\n      <td>Rue des Muriers</td>\n      <td>1400</td>\n      <td>L'Abergement-Clémenciat</td>\n      <td></td>\n      <td></td>\n      <td>L'ABERGEMENT-CLEMENCIAT</td>\n      <td>RUE DES MURIERS</td>\n      <td>14 Rue des Muriers 1400 L'Abergement-Clémenciat</td>\n    </tr>\n    <tr>\n      <th>220</th>\n      <td>01001_0310_00049</td>\n      <td>49</td>\n      <td></td>\n      <td>Route du Paradis</td>\n      <td>1400</td>\n      <td>L'Abergement-Clémenciat</td>\n      <td></td>\n      <td></td>\n      <td>L'ABERGEMENT-CLEMENCIAT</td>\n      <td>ROUTE DU PARADIS</td>\n      <td>49 Route du Paradis 1400 L'Abergement-Clémenciat</td>\n    </tr>\n    <tr>\n      <th>228</th>\n      <td>01001_0390_00397</td>\n      <td>397</td>\n      <td></td>\n      <td>Route de Vernisson</td>\n      <td>1400</td>\n      <td>L'Abergement-Clémenciat</td>\n      <td></td>\n      <td></td>\n      <td>L'ABERGEMENT-CLEMENCIAT</td>\n      <td>ROUTE DE VERNISSON</td>\n      <td>397 Route de Vernisson 1400 L'Abergement-Cléme...</td>\n    </tr>\n    <tr>\n      <th>229</th>\n      <td>01001_0330_00025</td>\n      <td>25</td>\n      <td></td>\n      <td>Chemin de la Planche</td>\n      <td>1400</td>\n      <td>L'Abergement-Clémenciat</td>\n      <td></td>\n      <td></td>\n      <td>L'ABERGEMENT-CLEMENCIAT</td>\n      <td>CHEMIN DE LA PLANCHE</td>\n      <td>25 Chemin de la Planche 1400 L'Abergement-Clém...</td>\n    </tr>\n    <tr>\n      <th>231</th>\n      <td>01001_0410_00005</td>\n      <td>5</td>\n      <td></td>\n      <td>Chemin des Vignes</td>\n      <td>1400</td>\n      <td>L'Abergement-Clémenciat</td>\n      <td></td>\n      <td></td>\n      <td>L'ABERGEMENT-CLEMENCIAT</td>\n      <td>CHEMIN DES VIGNES</td>\n      <td>5 Chemin des Vignes 1400 L'Abergement-Clémenciat</td>\n    </tr>\n    <tr>\n      <th>240</th>\n      <td>01001_0375_00027</td>\n      <td>27</td>\n      <td></td>\n      <td>Rue du Stade</td>\n      <td>1400</td>\n      <td>L'Abergement-Clémenciat</td>\n      <td></td>\n      <td></td>\n      <td>L'ABERGEMENT-CLEMENCIAT</td>\n      <td>RUE DU STADE</td>\n      <td>27 Rue du Stade 1400 L'Abergement-Clémenciat</td>\n    </tr>\n    <tr>\n      <th>252</th>\n      <td>01001_0145_00054</td>\n      <td>54</td>\n      <td></td>\n      <td>Rue des Ecoliers</td>\n      <td>1400</td>\n      <td>L'Abergement-Clémenciat</td>\n      <td></td>\n      <td></td>\n      <td>L'ABERGEMENT-CLEMENCIAT</td>\n      <td>RUE DES ECOLIERS</td>\n      <td>54 Rue des Ecoliers 1400 L'Abergement-Clémenciat</td>\n    </tr>\n    <tr>\n      <th>261</th>\n      <td>01001_0385_00020</td>\n      <td>20</td>\n      <td></td>\n      <td>Impasse des Tilleuls</td>\n      <td>1400</td>\n      <td>L'Abergement-Clémenciat</td>\n      <td></td>\n      <td></td>\n      <td>L'ABERGEMENT-CLEMENCIAT</td>\n      <td>IMPASSE DES TILLEULS</td>\n      <td>20 Impasse des Tilleuls 1400 L'Abergement-Clém...</td>\n    </tr>\n    <tr>\n      <th>270</th>\n      <td>01001_0265_00038</td>\n      <td>38</td>\n      <td></td>\n      <td>Rue de Munetville</td>\n      <td>1400</td>\n      <td>L'Abergement-Clémenciat</td>\n      <td></td>\n      <td></td>\n      <td>L'ABERGEMENT-CLEMENCIAT</td>\n      <td>RUE DE MUNETVILLE</td>\n      <td>38 Rue de Munetville 1400 L'Abergement-Clémenciat</td>\n    </tr>\n    <tr>\n      <th>292</th>\n      <td>01001_0340_00080</td>\n      <td>80</td>\n      <td></td>\n      <td>Chemin de Polain</td>\n      <td>1400</td>\n      <td>L'Abergement-Clémenciat</td>\n      <td></td>\n      <td></td>\n      <td>L'ABERGEMENT-CLEMENCIAT</td>\n      <td>CHEMIN DE POLAIN</td>\n      <td>80 Chemin de Polain 1400 L'Abergement-Clémenciat</td>\n    </tr>\n    <tr>\n      <th>293</th>\n      <td>01001_0340_00080_bis</td>\n      <td>80</td>\n      <td>bis</td>\n      <td>Chemin de Polain</td>\n      <td>1400</td>\n      <td>L'Abergement-Clémenciat</td>\n      <td></td>\n      <td></td>\n      <td>L'ABERGEMENT-CLEMENCIAT</td>\n      <td>CHEMIN DE POLAIN</td>\n      <td>80 bis Chemin de Polain 1400 L'Abergement-Clém...</td>\n    </tr>\n    <tr>\n      <th>294</th>\n      <td>01001_0260_00001</td>\n      <td>1</td>\n      <td></td>\n      <td>Route du Mont</td>\n      <td>1400</td>\n      <td>L'Abergement-Clémenciat</td>\n      <td></td>\n      <td></td>\n      <td>L'ABERGEMENT-CLEMENCIAT</td>\n      <td>ROUTE DU MONT</td>\n      <td>1 Route du Mont 1400 L'Abergement-Clémenciat</td>\n    </tr>\n    <tr>\n      <th>300</th>\n      <td>01001_0125_00002</td>\n      <td>2</td>\n      <td></td>\n      <td>Impasse des Coquelicots</td>\n      <td>1400</td>\n      <td>L'Abergement-Clémenciat</td>\n      <td></td>\n      <td></td>\n      <td>L'ABERGEMENT-CLEMENCIAT</td>\n      <td>IMPASSE DES COQUELICOTS</td>\n      <td>2 Impasse des Coquelicots 1400 L'Abergement-Cl...</td>\n    </tr>\n    <tr>\n      <th>306</th>\n      <td>01001_0400_00101</td>\n      <td>101</td>\n      <td></td>\n      <td>Rue des Viards</td>\n      <td>1400</td>\n      <td>L'Abergement-Clémenciat</td>\n      <td></td>\n      <td></td>\n      <td>L'ABERGEMENT-CLEMENCIAT</td>\n      <td>RUE DES VIARDS</td>\n      <td>101 Rue des Viards 1400 L'Abergement-Clémenciat</td>\n    </tr>\n    <tr>\n      <th>309</th>\n      <td>01001_0110_00009</td>\n      <td>9</td>\n      <td></td>\n      <td>Rue des 5 Chemins</td>\n      <td>1400</td>\n      <td>L'Abergement-Clémenciat</td>\n      <td></td>\n      <td></td>\n      <td>L'ABERGEMENT-CLEMENCIAT</td>\n      <td>RUE DES 5 CHEMINS</td>\n      <td>9 Rue des 5 Chemins 1400 L'Abergement-Clémenciat</td>\n    </tr>\n    <tr>\n      <th>322</th>\n      <td>01001_0280_00014</td>\n      <td>14</td>\n      <td></td>\n      <td>Chemin de la Nicolière</td>\n      <td>1400</td>\n      <td>L'Abergement-Clémenciat</td>\n      <td></td>\n      <td></td>\n      <td>L'ABERGEMENT-CLEMENCIAT</td>\n      <td>CHEMIN DE LA NICOLIERE</td>\n      <td>14 Chemin de la Nicolière 1400 L'Abergement-Cl...</td>\n    </tr>\n    <tr>\n      <th>325</th>\n      <td>01001_0345_00095</td>\n      <td>95</td>\n      <td></td>\n      <td>Chemin de la Pommerelle</td>\n      <td>1400</td>\n      <td>L'Abergement-Clémenciat</td>\n      <td></td>\n      <td></td>\n      <td>L'ABERGEMENT-CLEMENCIAT</td>\n      <td>CHEMIN DE LA POMMERELLE</td>\n      <td>95 Chemin de la Pommerelle 1400 L'Abergement-C...</td>\n    </tr>\n    <tr>\n      <th>328</th>\n      <td>01001_0180_00072</td>\n      <td>72</td>\n      <td></td>\n      <td>Chemin de la Genette</td>\n      <td>1400</td>\n      <td>L'Abergement-Clémenciat</td>\n      <td></td>\n      <td></td>\n      <td>L'ABERGEMENT-CLEMENCIAT</td>\n      <td>CHEMIN DE LA GENETTE</td>\n      <td>72 Chemin de la Genette 1400 L'Abergement-Clém...</td>\n    </tr>\n    <tr>\n      <th>330</th>\n      <td>01001_0365_00041</td>\n      <td>41</td>\n      <td></td>\n      <td>Chemin sous Brody</td>\n      <td>1400</td>\n      <td>L'Abergement-Clémenciat</td>\n      <td></td>\n      <td></td>\n      <td>L'ABERGEMENT-CLEMENCIAT</td>\n      <td>CHEMIN SOUS BRODY</td>\n      <td>41 Chemin sous Brody 1400 L'Abergement-Clémenciat</td>\n    </tr>\n    <tr>\n      <th>332</th>\n      <td>01001_0230_00056</td>\n      <td>56</td>\n      <td></td>\n      <td>Impasse des Lilas</td>\n      <td>1400</td>\n      <td>L'Abergement-Clémenciat</td>\n      <td></td>\n      <td></td>\n      <td>L'ABERGEMENT-CLEMENCIAT</td>\n      <td>IMPASSE DES LILAS</td>\n      <td>56 Impasse des Lilas 1400 L'Abergement-Clémenciat</td>\n    </tr>\n    <tr>\n      <th>340</th>\n      <td>01001_0200_00054</td>\n      <td>54</td>\n      <td></td>\n      <td>Route du Guillermet</td>\n      <td>1400</td>\n      <td>L'Abergement-Clémenciat</td>\n      <td></td>\n      <td></td>\n      <td>L'ABERGEMENT-CLEMENCIAT</td>\n      <td>ROUTE DU GUILLERMET</td>\n      <td>54 Route du Guillermet 1400 L'Abergement-Cléme...</td>\n    </tr>\n    <tr>\n      <th>343</th>\n      <td>01001_0090_00570</td>\n      <td>570</td>\n      <td></td>\n      <td>Route de la Charrière des Bottes</td>\n      <td>1400</td>\n      <td>L'Abergement-Clémenciat</td>\n      <td></td>\n      <td></td>\n      <td>L'ABERGEMENT-CLEMENCIAT</td>\n      <td>ROUTE DE LA CHARRIERE DES BOTTES</td>\n      <td>570 Route de la Charrière des Bottes 1400 L'Ab...</td>\n    </tr>\n  </tbody>\n</table>\n</div>"
     },
     "execution_count": 413,
     "metadata": {},
     "output_type": "execute_result"
    }
   ],
   "source": [
    "df_addresses.head(50)"
   ],
   "metadata": {
    "collapsed": false,
    "ExecuteTime": {
     "end_time": "2024-02-12T20:12:44.809185961Z",
     "start_time": "2024-02-12T20:12:44.767611481Z"
    }
   },
   "id": "329063a020022ccb",
   "execution_count": 413
  },
  {
   "cell_type": "markdown",
   "source": [
    "### Scoring on large dataset"
   ],
   "metadata": {
    "collapsed": false
   },
   "id": "b7309ed801a3fc26"
  },
  {
   "cell_type": "code",
   "outputs": [],
   "source": [
    "def score_ban_from_split(split: Address, ban: pd.Series, _print: bool = False) -> tuple[int, int]:\n",
    "    \"\"\"\n",
    "    Defines a score to compare an Address object and a pd.Series of BAN\n",
    "    :param split: Address object\n",
    "    :param ban: pd.Series row of BAN Dataframe\n",
    "    :param _print: print the input objects (debug purposes)\n",
    "    :return: score from 0 to 6 and _score one hot encoded from 0 to 111111\n",
    "    \"\"\"\n",
    "    if _print: \n",
    "        print(split)\n",
    "        print(ban)\n",
    "    _score = 0\n",
    "    if split.street_number == str(ban['numero']): _score += 1\n",
    "    if (not (bool(split.street_multiplier) | bool(ban['rep']))) | (\n",
    "            split.street_multiplier == str(ban['rep'])): _score += 10\n",
    "    if (split.street_type + ' ' + split.street_name) == str(ban['nom_voie']): _score += 100\n",
    "    if (not (bool(split.locality) | bool(ban['nom_ld']))) | (split.locality == ban['nom_ld']): _score += 1000\n",
    "    if split.zip_code == str(ban['code_postal']): _score += 10000\n",
    "    if split.city == str(ban['nom_commune']): _score += 100000\n",
    "    return str(_score).count('1'), _score\n"
   ],
   "metadata": {
    "collapsed": false,
    "ExecuteTime": {
     "end_time": "2024-02-12T20:12:51.574124805Z",
     "start_time": "2024-02-12T20:12:51.539147818Z"
    }
   },
   "id": "98721ae0b3ccf2ac",
   "execution_count": 414
  },
  {
   "cell_type": "code",
   "outputs": [
    {
     "name": "stdout",
     "output_type": "stream",
     "text": [
      "street_number='132' street_multiplier=None street_type='Chemin' street_name='du Champ Fleuret' locality=None zip_code='1310' city='Saint-Martin-le-Châtel' country='France' confidence=1\n",
      "id                                                       01375_0095_00132\n",
      "numero                                                                132\n",
      "rep                                                                      \n",
      "nom_voie                                          Chemin du Champ Fleuret\n",
      "code_postal                                                          1310\n",
      "nom_commune                                        Saint-Martin-le-Châtel\n",
      "alias                                                                    \n",
      "nom_ld                                                                   \n",
      "libelle_acheminement                               SAINT-MARTIN-LE-CHATEL\n",
      "nom_afnor                                         CHEMIN DU CHAMP FLEURET\n",
      "full_add                132 Chemin du Champ Fleuret 1310 Saint-Martin-...\n",
      "Name: 50322, dtype: object\n"
     ]
    },
    {
     "data": {
      "text/plain": "(6, 111111)"
     },
     "execution_count": 415,
     "metadata": {},
     "output_type": "execute_result"
    }
   ],
   "source": [
    "row = df_addresses.iloc[6892]\n",
    "split_adr = Address(**chain.invoke({\"address\": row['full_add']}))\n",
    "score = score_ban_from_split(split_adr, row, True)\n",
    "score"
   ],
   "metadata": {
    "collapsed": false,
    "ExecuteTime": {
     "end_time": "2024-02-12T20:12:53.943738021Z",
     "start_time": "2024-02-12T20:12:52.455393263Z"
    }
   },
   "id": "ae6c63607913d277",
   "execution_count": 415
  },
  {
   "cell_type": "code",
   "outputs": [
    {
     "name": "stdout",
     "output_type": "stream",
     "text": [
      "street_number='1' street_multiplier=None street_type='Montee' street_name='de Perouse' locality=None zip_code='1420' city='Seyssel' country='France' confidence=1\n",
      "id                                      01407_0042_00001\n",
      "numero                                                 1\n",
      "rep                                                     \n",
      "nom_voie                               Montee de Perouse\n",
      "code_postal                                         1420\n",
      "nom_commune                                      Seyssel\n",
      "alias                                                   \n",
      "nom_ld                                                  \n",
      "libelle_acheminement                             SEYSSEL\n",
      "nom_afnor                              MONTEE DE PEROUSE\n",
      "full_add                1 Montee de Perouse 1420 Seyssel\n",
      "Name: 34832, dtype: object\n"
     ]
    },
    {
     "data": {
      "text/plain": "(6, 111111)"
     },
     "execution_count": 416,
     "metadata": {},
     "output_type": "execute_result"
    }
   ],
   "source": [
    "row = df_addresses.iloc[4564]\n",
    "split_adr = Address(**chain.invoke({\"address\": row['full_add']}))\n",
    "score = score_ban_from_split(split_adr, row, True)\n",
    "score"
   ],
   "metadata": {
    "collapsed": false,
    "ExecuteTime": {
     "end_time": "2024-02-12T20:13:01.560138288Z",
     "start_time": "2024-02-12T20:12:59.668081809Z"
    }
   },
   "id": "1392beeeeca4bf56",
   "execution_count": 416
  },
  {
   "cell_type": "code",
   "outputs": [
    {
     "name": "stdout",
     "output_type": "stream",
     "text": [
      "street_number='96' street_multiplier=None street_type='Chemin' street_name='des Capettes' locality=None zip_code='1270' city='Salavre' country='France' confidence=1\n",
      "id                                         01391_0041_00096\n",
      "numero                                                   96\n",
      "rep                                                        \n",
      "nom_voie                                Chemin des Capettes\n",
      "code_postal                                            1270\n",
      "nom_commune                                         Salavre\n",
      "alias                                                      \n",
      "nom_ld                                                     \n",
      "libelle_acheminement                                SALAVRE\n",
      "nom_afnor                               CHEMIN DES CAPETTES\n",
      "full_add                96 Chemin des Capettes 1270 Salavre\n",
      "Name: 41617, dtype: object\n"
     ]
    },
    {
     "data": {
      "text/plain": "(6, 111111)"
     },
     "execution_count": 417,
     "metadata": {},
     "output_type": "execute_result"
    }
   ],
   "source": [
    "row = df_addresses.iloc[5521]\n",
    "split_adr = Address(**chain.invoke({\"address\": row['full_add']}))\n",
    "score = score_ban_from_split(split_adr, row, True)\n",
    "score"
   ],
   "metadata": {
    "collapsed": false,
    "ExecuteTime": {
     "end_time": "2024-02-12T20:13:04.543472978Z",
     "start_time": "2024-02-12T20:13:03.708591892Z"
    }
   },
   "id": "9b32210c497da674",
   "execution_count": 417
  },
  {
   "cell_type": "code",
   "outputs": [
    {
     "name": "stdout",
     "output_type": "stream",
     "text": [
      "street_number='45' street_multiplier='bis' street_type='Route' street_name='de Ceyzériat' locality=None zip_code='1250' city='Revonnas' country='France' confidence=1\n",
      "id                                         01321_0045_00045_bis\n",
      "numero                                                       45\n",
      "rep                                                         bis\n",
      "nom_voie                                     Route de Ceyzériat\n",
      "code_postal                                                1250\n",
      "nom_commune                                            Revonnas\n",
      "alias                                                          \n",
      "nom_ld                                                         \n",
      "libelle_acheminement                                   REVONNAS\n",
      "nom_afnor                                    ROUTE DE CEYZERIAT\n",
      "full_add                45 bis Route de Ceyzériat 1250 Revonnas\n",
      "Name: 79434, dtype: object\n"
     ]
    },
    {
     "data": {
      "text/plain": "(6, 111111)"
     },
     "execution_count": 418,
     "metadata": {},
     "output_type": "execute_result"
    }
   ],
   "source": [
    "row = df_addresses.iloc[11123]\n",
    "split_adr = Address(**chain.invoke({\"address\": row['full_add']}))\n",
    "score = score_ban_from_split(split_adr, row, True)\n",
    "score"
   ],
   "metadata": {
    "collapsed": false,
    "ExecuteTime": {
     "end_time": "2024-02-12T20:13:07.125144297Z",
     "start_time": "2024-02-12T20:13:06.198472120Z"
    }
   },
   "id": "f193508d972682f",
   "execution_count": 418
  },
  {
   "cell_type": "code",
   "outputs": [
    {
     "name": "stdout",
     "output_type": "stream",
     "text": [
      "street_number='611' street_multiplier='bis' street_type='Chemin' street_name='de Cleyriat' locality=None zip_code='1270' city='Salavre' country='France' confidence=1\n",
      "id                                         01391_0056_00611_bis\n",
      "numero                                                      611\n",
      "rep                                                         bis\n",
      "nom_voie                                     Chemin de Cleyriat\n",
      "code_postal                                                1270\n",
      "nom_commune                                             Salavre\n",
      "alias                                                          \n",
      "nom_ld                                                         \n",
      "libelle_acheminement                                    SALAVRE\n",
      "nom_afnor                                    CHEMIN DE CLEYRIAT\n",
      "full_add                611 bis Chemin de Cleyriat 1270 Salavre\n",
      "Name: 41739, dtype: object\n"
     ]
    },
    {
     "data": {
      "text/plain": "(6, 111111)"
     },
     "execution_count": 419,
     "metadata": {},
     "output_type": "execute_result"
    }
   ],
   "source": [
    "row = df_addresses.iloc[5546]\n",
    "split_adr = Address(**chain.invoke({\"address\": row['full_add']}))\n",
    "score = score_ban_from_split(split_adr, row, 1)\n",
    "score"
   ],
   "metadata": {
    "collapsed": false,
    "ExecuteTime": {
     "end_time": "2024-02-12T20:13:13.997583196Z",
     "start_time": "2024-02-12T20:13:12.637327487Z"
    }
   },
   "id": "aa1652e42d8f5a45",
   "execution_count": 419
  },
  {
   "cell_type": "markdown",
   "source": [
    "#### Score Compute\n",
    "\n",
    "We need to take a portion of the data set in order to minimize the cost\n",
    "we expect the 'score' column to contain the maximum possible returned e.g. (6, 111111)"
   ],
   "metadata": {
    "collapsed": false
   },
   "id": "4408949061423da4"
  },
  {
   "cell_type": "code",
   "outputs": [
    {
     "data": {
      "text/plain": "(36449, 11)"
     },
     "execution_count": 420,
     "metadata": {},
     "output_type": "execute_result"
    }
   ],
   "source": [
    "df_addresses.shape"
   ],
   "metadata": {
    "collapsed": false,
    "ExecuteTime": {
     "end_time": "2024-02-12T20:13:15.862966509Z",
     "start_time": "2024-02-12T20:13:15.830613311Z"
    }
   },
   "id": "bdee4447d0593021",
   "execution_count": 420
  },
  {
   "cell_type": "code",
   "outputs": [
    {
     "data": {
      "text/plain": "(100, 11)"
     },
     "execution_count": 421,
     "metadata": {},
     "output_type": "execute_result"
    }
   ],
   "source": [
    "df_test = df_addresses.sample(100).copy()\n",
    "df_test.shape"
   ],
   "metadata": {
    "collapsed": false,
    "ExecuteTime": {
     "end_time": "2024-02-12T20:13:17.524549545Z",
     "start_time": "2024-02-12T20:13:17.489506487Z"
    }
   },
   "id": "d4e375483acadbb1",
   "execution_count": 421
  },
  {
   "cell_type": "code",
   "outputs": [],
   "source": [
    "def score_row(_row : pd.Series) -> tuple[int, int]:\n",
    "    _split_adr = Address(**chain.invoke({\"address\": row['full_add']}))\n",
    "    return score_ban_from_split(_split_adr, row)"
   ],
   "metadata": {
    "collapsed": false,
    "ExecuteTime": {
     "end_time": "2024-02-12T20:13:19.201744008Z",
     "start_time": "2024-02-12T20:13:19.194665336Z"
    }
   },
   "id": "d0a52a57a38ea258",
   "execution_count": 422
  },
  {
   "cell_type": "code",
   "outputs": [],
   "source": [
    "df_test['score'] = df_test.apply(lambda _row: score_row(_row), axis=1)"
   ],
   "metadata": {
    "collapsed": false,
    "ExecuteTime": {
     "end_time": "2024-02-12T20:14:54.419505248Z",
     "start_time": "2024-02-12T20:13:20.033515955Z"
    }
   },
   "id": "752652d0cad84c91",
   "execution_count": 423
  },
  {
   "cell_type": "code",
   "outputs": [
    {
     "data": {
      "text/plain": "                        id  numero rep                       nom_voie  \\\n31144     01419_0029_00003       3         Impasse du Bout des Champs   \n72555     01342_0012_00011      11                 Impasse des Berges   \n206592    01093_0267_00032      32                     Impasse du Lac   \n77770     01328_0800_00052      52           Impasse du Petit Chapuis   \n30264   01419_0060_00041_a      41   a            Rue de la collonges   \n...                    ...     ...  ..                            ...   \n36254   01403_0190_00005_a       5   a                  Rue du Verger   \n258605  01024_0010_00694_e     694   e                 Route de Bourg   \n219639  01071_0190_00195_c     195   c               Route de Pitegny   \n218910    01069_0125_00286     286               Chemin des Peupliers   \n128760  01246_2vkuzo_02780    2780      Route de St Genis sur Menthon   \n\n        code_postal               nom_commune alias        nom_ld  \\\n31144          1710                    Thoiry                       \n72555          1120              Sainte-Croix        Sainte Croix   \n206592         1400  Châtillon-sur-Chalaronne                       \n77770          1400                    Romans                       \n30264          1710                    Thoiry                       \n...             ...                       ...   ...           ...   \n36254          1470       Serrières-de-Briord                       \n258605         1340                  Attignat                       \n219639         1170                     Cessy                       \n218910         1240                  Certines                       \n128760         1660                  Mézériat                       \n\n            libelle_acheminement                      nom_afnor  \\\n31144                     THOIRY     IMPASSE DU BOUT DES CHAMPS   \n72555               SAINTE-CROIX             IMPASSE DES BERGES   \n206592  CHATILLON-SUR-CHALARONNE                 IMPASSE DU LAC   \n77770                     ROMANS       IMPASSE DU PETIT CHAPUIS   \n30264                     THOIRY            RUE DE LA COLLONGES   \n...                          ...                            ...   \n36254        SERRIERES-DE-BRIORD                  RUE DU VERGER   \n258605                  ATTIGNAT                 ROUTE DE BOURG   \n219639                     CESSY               ROUTE DE PITEGNY   \n218910                  CERTINES           CHEMIN DES PEUPLIERS   \n128760                  MEZERIAT  ROUTE DE ST GENIS SUR MENTHON   \n\n                                                 full_add        score  \n31144            3 Impasse du Bout des Champs 1710 Thoiry  (6, 111111)  \n72555   11 Impasse des Berges , Sainte Croix 1120 Sain...  (6, 111111)  \n206592    32 Impasse du Lac 1400 Châtillon-sur-Chalaronne  (6, 111111)  \n77770             52 Impasse du Petit Chapuis 1400 Romans  (6, 111111)  \n30264                41 a Rue de la collonges 1710 Thoiry  (6, 111111)  \n...                                                   ...          ...  \n36254          5 a Rue du Verger 1470 Serrières-de-Briord  (6, 111111)  \n258605                 694 e Route de Bourg 1340 Attignat  (6, 111111)  \n219639                  195 c Route de Pitegny 1170 Cessy  (6, 111111)  \n218910             286 Chemin des Peupliers 1240 Certines  (6, 111111)  \n128760   2780 Route de St Genis sur Menthon 1660 Mézériat  (6, 111111)  \n\n[100 rows x 12 columns]",
      "text/html": "<div>\n<style scoped>\n    .dataframe tbody tr th:only-of-type {\n        vertical-align: middle;\n    }\n\n    .dataframe tbody tr th {\n        vertical-align: top;\n    }\n\n    .dataframe thead th {\n        text-align: right;\n    }\n</style>\n<table border=\"1\" class=\"dataframe\">\n  <thead>\n    <tr style=\"text-align: right;\">\n      <th></th>\n      <th>id</th>\n      <th>numero</th>\n      <th>rep</th>\n      <th>nom_voie</th>\n      <th>code_postal</th>\n      <th>nom_commune</th>\n      <th>alias</th>\n      <th>nom_ld</th>\n      <th>libelle_acheminement</th>\n      <th>nom_afnor</th>\n      <th>full_add</th>\n      <th>score</th>\n    </tr>\n  </thead>\n  <tbody>\n    <tr>\n      <th>31144</th>\n      <td>01419_0029_00003</td>\n      <td>3</td>\n      <td></td>\n      <td>Impasse du Bout des Champs</td>\n      <td>1710</td>\n      <td>Thoiry</td>\n      <td></td>\n      <td></td>\n      <td>THOIRY</td>\n      <td>IMPASSE DU BOUT DES CHAMPS</td>\n      <td>3 Impasse du Bout des Champs 1710 Thoiry</td>\n      <td>(6, 111111)</td>\n    </tr>\n    <tr>\n      <th>72555</th>\n      <td>01342_0012_00011</td>\n      <td>11</td>\n      <td></td>\n      <td>Impasse des Berges</td>\n      <td>1120</td>\n      <td>Sainte-Croix</td>\n      <td></td>\n      <td>Sainte Croix</td>\n      <td>SAINTE-CROIX</td>\n      <td>IMPASSE DES BERGES</td>\n      <td>11 Impasse des Berges , Sainte Croix 1120 Sain...</td>\n      <td>(6, 111111)</td>\n    </tr>\n    <tr>\n      <th>206592</th>\n      <td>01093_0267_00032</td>\n      <td>32</td>\n      <td></td>\n      <td>Impasse du Lac</td>\n      <td>1400</td>\n      <td>Châtillon-sur-Chalaronne</td>\n      <td></td>\n      <td></td>\n      <td>CHATILLON-SUR-CHALARONNE</td>\n      <td>IMPASSE DU LAC</td>\n      <td>32 Impasse du Lac 1400 Châtillon-sur-Chalaronne</td>\n      <td>(6, 111111)</td>\n    </tr>\n    <tr>\n      <th>77770</th>\n      <td>01328_0800_00052</td>\n      <td>52</td>\n      <td></td>\n      <td>Impasse du Petit Chapuis</td>\n      <td>1400</td>\n      <td>Romans</td>\n      <td></td>\n      <td></td>\n      <td>ROMANS</td>\n      <td>IMPASSE DU PETIT CHAPUIS</td>\n      <td>52 Impasse du Petit Chapuis 1400 Romans</td>\n      <td>(6, 111111)</td>\n    </tr>\n    <tr>\n      <th>30264</th>\n      <td>01419_0060_00041_a</td>\n      <td>41</td>\n      <td>a</td>\n      <td>Rue de la collonges</td>\n      <td>1710</td>\n      <td>Thoiry</td>\n      <td></td>\n      <td></td>\n      <td>THOIRY</td>\n      <td>RUE DE LA COLLONGES</td>\n      <td>41 a Rue de la collonges 1710 Thoiry</td>\n      <td>(6, 111111)</td>\n    </tr>\n    <tr>\n      <th>...</th>\n      <td>...</td>\n      <td>...</td>\n      <td>...</td>\n      <td>...</td>\n      <td>...</td>\n      <td>...</td>\n      <td>...</td>\n      <td>...</td>\n      <td>...</td>\n      <td>...</td>\n      <td>...</td>\n      <td>...</td>\n    </tr>\n    <tr>\n      <th>36254</th>\n      <td>01403_0190_00005_a</td>\n      <td>5</td>\n      <td>a</td>\n      <td>Rue du Verger</td>\n      <td>1470</td>\n      <td>Serrières-de-Briord</td>\n      <td></td>\n      <td></td>\n      <td>SERRIERES-DE-BRIORD</td>\n      <td>RUE DU VERGER</td>\n      <td>5 a Rue du Verger 1470 Serrières-de-Briord</td>\n      <td>(6, 111111)</td>\n    </tr>\n    <tr>\n      <th>258605</th>\n      <td>01024_0010_00694_e</td>\n      <td>694</td>\n      <td>e</td>\n      <td>Route de Bourg</td>\n      <td>1340</td>\n      <td>Attignat</td>\n      <td></td>\n      <td></td>\n      <td>ATTIGNAT</td>\n      <td>ROUTE DE BOURG</td>\n      <td>694 e Route de Bourg 1340 Attignat</td>\n      <td>(6, 111111)</td>\n    </tr>\n    <tr>\n      <th>219639</th>\n      <td>01071_0190_00195_c</td>\n      <td>195</td>\n      <td>c</td>\n      <td>Route de Pitegny</td>\n      <td>1170</td>\n      <td>Cessy</td>\n      <td></td>\n      <td></td>\n      <td>CESSY</td>\n      <td>ROUTE DE PITEGNY</td>\n      <td>195 c Route de Pitegny 1170 Cessy</td>\n      <td>(6, 111111)</td>\n    </tr>\n    <tr>\n      <th>218910</th>\n      <td>01069_0125_00286</td>\n      <td>286</td>\n      <td></td>\n      <td>Chemin des Peupliers</td>\n      <td>1240</td>\n      <td>Certines</td>\n      <td></td>\n      <td></td>\n      <td>CERTINES</td>\n      <td>CHEMIN DES PEUPLIERS</td>\n      <td>286 Chemin des Peupliers 1240 Certines</td>\n      <td>(6, 111111)</td>\n    </tr>\n    <tr>\n      <th>128760</th>\n      <td>01246_2vkuzo_02780</td>\n      <td>2780</td>\n      <td></td>\n      <td>Route de St Genis sur Menthon</td>\n      <td>1660</td>\n      <td>Mézériat</td>\n      <td></td>\n      <td></td>\n      <td>MEZERIAT</td>\n      <td>ROUTE DE ST GENIS SUR MENTHON</td>\n      <td>2780 Route de St Genis sur Menthon 1660 Mézériat</td>\n      <td>(6, 111111)</td>\n    </tr>\n  </tbody>\n</table>\n<p>100 rows × 12 columns</p>\n</div>"
     },
     "execution_count": 424,
     "metadata": {},
     "output_type": "execute_result"
    }
   ],
   "source": [
    "df_test.head(100)"
   ],
   "metadata": {
    "collapsed": false,
    "ExecuteTime": {
     "end_time": "2024-02-12T20:14:54.471726942Z",
     "start_time": "2024-02-12T20:14:54.460067856Z"
    }
   },
   "id": "a128dc6d8f4e20dc",
   "execution_count": 424
  },
  {
   "cell_type": "code",
   "outputs": [],
   "source": [],
   "metadata": {
    "collapsed": false
   },
   "id": "fa40705e3136919d"
  }
 ],
 "metadata": {
  "kernelspec": {
   "display_name": "Python 3 (ipykernel)",
   "language": "python",
   "name": "python3"
  },
  "language_info": {
   "codemirror_mode": {
    "name": "ipython",
    "version": 3
   },
   "file_extension": ".py",
   "mimetype": "text/x-python",
   "name": "python",
   "nbconvert_exporter": "python",
   "pygments_lexer": "ipython3",
   "version": "3.11.7"
  }
 },
 "nbformat": 4,
 "nbformat_minor": 5
}
