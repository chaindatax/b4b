{
 "cells": [
  {
   "cell_type": "markdown",
   "id": "179ece711c060cec",
   "metadata": {},
   "source": [
    "# Address Parser\n",
    "\n",
    "Is able to recognize named entities and format outputs based on a defined schema"
   ]
  },
  {
   "cell_type": "code",
   "execution_count": 1,
   "id": "ca1d5a28dab31b08",
   "metadata": {
    "ExecuteTime": {
     "end_time": "2024-02-08T09:42:16.690414484Z",
     "start_time": "2024-02-08T09:42:16.689317152Z"
    }
   },
   "outputs": [],
   "source": [
    "\n",
    "\n",
    "GCP_PROJECT_NAME = \"single-azimuth-413609\""
   ]
  },
  {
   "cell_type": "code",
   "execution_count": 2,
   "id": "b3242ad3-7a3d-4cfa-a98b-b4cebd7b998e",
   "metadata": {
    "scrolled": true,
    "ExecuteTime": {
     "end_time": "2024-02-08T09:42:22.263666854Z",
     "start_time": "2024-02-08T09:42:19.180807119Z"
    }
   },
   "outputs": [
    {
     "name": "stdout",
     "output_type": "stream",
     "text": [
      "\r\n",
      "\u001B[1m[\u001B[0m\u001B[34;49mnotice\u001B[0m\u001B[1;39;49m]\u001B[0m\u001B[39;49m A new release of pip available: \u001B[0m\u001B[31;49m22.3.1\u001B[0m\u001B[39;49m -> \u001B[0m\u001B[32;49m24.0\u001B[0m\r\n",
      "\u001B[1m[\u001B[0m\u001B[34;49mnotice\u001B[0m\u001B[1;39;49m]\u001B[0m\u001B[39;49m To update, run: \u001B[0m\u001B[32;49mpip install --upgrade pip\u001B[0m\r\n",
      "\r\n",
      "\u001B[1m[\u001B[0m\u001B[34;49mnotice\u001B[0m\u001B[1;39;49m]\u001B[0m\u001B[39;49m A new release of pip available: \u001B[0m\u001B[31;49m22.3.1\u001B[0m\u001B[39;49m -> \u001B[0m\u001B[32;49m24.0\u001B[0m\r\n",
      "\u001B[1m[\u001B[0m\u001B[34;49mnotice\u001B[0m\u001B[1;39;49m]\u001B[0m\u001B[39;49m To update, run: \u001B[0m\u001B[32;49mpip install --upgrade pip\u001B[0m\r\n"
     ]
    }
   ],
   "source": [
    "!pip install --quiet --upgrade google-cloud-aiplatform \n",
    "!pip install --quiet --upgrade google-auth\n"
   ]
  },
  {
   "cell_type": "code",
   "execution_count": 3,
   "id": "4cae5ee3-d532-403a-93ed-4d3887a137e9",
   "metadata": {
    "ExecuteTime": {
     "end_time": "2024-02-08T09:42:32.978478065Z",
     "start_time": "2024-02-08T09:42:23.908489716Z"
    }
   },
   "outputs": [
    {
     "name": "stdout",
     "output_type": "stream",
     "text": [
      "Your browser has been opened to visit:\r\n",
      "\r\n",
      "    https://accounts.google.com/o/oauth2/auth?response_type=code&client_id=764086051850-6qr4p6gpi6hn506pt8ejuq83di341hur.apps.googleusercontent.com&redirect_uri=http%3A%2F%2Flocalhost%3A8085%2F&scope=openid+https%3A%2F%2Fwww.googleapis.com%2Fauth%2Fuserinfo.email+https%3A%2F%2Fwww.googleapis.com%2Fauth%2Fcloud-platform+https%3A%2F%2Fwww.googleapis.com%2Fauth%2Fsqlservice.login+https%3A%2F%2Fwww.googleapis.com%2Fauth%2Fdrive+https%3A%2F%2Fwww.googleapis.com%2Fauth%2Faccounts.reauth&state=4oCvq3SgCR1jnwxtixGt6ZhLgBjEdr&access_type=offline&code_challenge=02T-ecmi9TvqMRQBMLwo_sVSitQqmN2SprRemd3fwfU&code_challenge_method=S256\r\n",
      "\r\n",
      "\r\n",
      "Credentials saved to file: [/home/vincent/.config/gcloud/application_default_credentials.json]\r\n",
      "\r\n",
      "These credentials will be used by any library that requests Application Default Credentials (ADC).\r\n",
      "\r\n",
      "Quota project \"single-azimuth-413609\" was added to ADC which can be used by Google client libraries for billing and quota. Note that some services may still bill the project owning the resource.\r\n"
     ]
    }
   ],
   "source": [
    "!gcloud auth application-default login --scopes=openid,https://www.googleapis.com/auth/userinfo.email,https://www.googleapis.com/auth/cloud-platform,https://www.googleapis.com/auth/sqlservice.login,https://www.googleapis.com/auth/drive"
   ]
  },
  {
   "cell_type": "code",
   "execution_count": 4,
   "id": "49f6d9c4-8ae1-428b-8d91-c218af8e41d8",
   "metadata": {
    "ExecuteTime": {
     "end_time": "2024-02-08T09:42:40.714172716Z",
     "start_time": "2024-02-08T09:42:39.301726375Z"
    }
   },
   "outputs": [
    {
     "name": "stdout",
     "output_type": "stream",
     "text": [
      "Updated property [core/project].\r\n"
     ]
    }
   ],
   "source": [
    "!gcloud config set project {GCP_PROJECT_NAME}"
   ]
  },
  {
   "cell_type": "code",
   "execution_count": 5,
   "id": "f9b0465a-4e53-433e-ac0c-244de5cb53bd",
   "metadata": {
    "ExecuteTime": {
     "end_time": "2024-02-08T09:42:43.514547358Z",
     "start_time": "2024-02-08T09:42:41.921417968Z"
    }
   },
   "outputs": [],
   "source": [
    "!gcloud services enable aiplatform.googleapis.com"
   ]
  },
  {
   "cell_type": "code",
   "execution_count": 8,
   "id": "dee27648-0af0-42f8-9aae-8e48ca31322e",
   "metadata": {
    "ExecuteTime": {
     "end_time": "2024-02-08T09:44:34.982955170Z",
     "start_time": "2024-02-08T09:44:34.391777863Z"
    }
   },
   "outputs": [],
   "source": [
    "# Importing the library \n",
    "import google.auth\n",
    "\n",
    "# Setting up credentials\n",
    "credentials, _ = google.auth.default()\n",
    "# authed_http = google.auth.transport.requests.AuthorizedSession(credentials)"
   ]
  },
  {
   "cell_type": "code",
   "execution_count": 9,
   "id": "775902c37c5f6779",
   "metadata": {
    "ExecuteTime": {
     "end_time": "2024-02-08T09:46:20.312113854Z",
     "start_time": "2024-02-08T09:46:18.274390075Z"
    }
   },
   "outputs": [],
   "source": [
    "import vertexai\n",
    "from vertexai.preview.language_models import TextGenerationModel\n",
    "\n",
    "vertexai.init(project=GCP_PROJECT_NAME, location=\"us-central1\")\n",
    "parameters = {\n",
    "    \"candidate_count\": 1,\n",
    "    \"max_output_tokens\": 126,\n",
    "    \"temperature\": 0,\n",
    "    \"top_p\": 1\n",
    "}\n",
    "model = TextGenerationModel.from_pretrained(\"text-bison\")\n"
   ]
  },
  {
   "cell_type": "markdown",
   "id": "a6c24cde-8f6a-4093-986c-4fd93c2465d2",
   "metadata": {},
   "source": [
    "## Basic french address"
   ]
  },
  {
   "cell_type": "code",
   "execution_count": 10,
   "id": "637ff1f5-b7c9-41dd-8a97-e02bb815e8c0",
   "metadata": {
    "ExecuteTime": {
     "end_time": "2024-02-08T09:46:27.991623573Z",
     "start_time": "2024-02-08T09:46:25.643012577Z"
    }
   },
   "outputs": [
    {
     "name": "stdout",
     "output_type": "stream",
     "text": [
      "Response from Model:  {\n",
      "  \"street_number\": \"1\",\n",
      "  \"street_type\": \"rue\",\n",
      "  \"street_name\": \"de la Paix\",\n",
      "  \"zip_code\": \"75008\",\n",
      "  \"city\": \"Paris\",\n",
      "  \"confidence\": 1\n",
      "}\n"
     ]
    }
   ],
   "source": [
    "response = model.predict(\n",
    "    \"\"\"Extract and split the address parameters from the text below in a JSON format.\n",
    "be very precise, differentiate the street number, multiplier, street type, street name, zip code, city\n",
    "provide a rating number to indicate your confidence level. 0 is the lowest confidence, 1 is the maximum.\n",
    "provide only one response for one address input\n",
    "\n",
    "Text: 37, rue du champ du pardon, 76000 rouen\n",
    "JSON: Text: 37, rue du champ du pardon, 76000 rouen\n",
    "JSON: {\n",
    "  \\\"street_number\\\": \\\"37\\\",\n",
    "  \\\"street_type\\\": \\\"rue\\\",\n",
    "  \\\"street_name\\\": \\\"du champ du pardon\\\",\n",
    "  \\\"zip_code\\\": \\\"76000\\\",\n",
    "  \\\"city\\\": \\\"rouen\\\",\n",
    "  \\\"confidence\\\": 1\n",
    "}\n",
    "\n",
    "Text: 10-82 Cavée St Gervais, 76000 rouen\n",
    "JSON: Text: 10-82 Cavée St Gervais, 76000 rouen\n",
    "JSON: {\n",
    "  \\\"street_number\\\": \\\"10-82\\\",\n",
    "  \\\"street_type\\\": \\\"Cavée\\\",\n",
    "  \\\"street_name\\\": \\\"St Gervais\\\",\n",
    "  \\\"zip_code\\\": \\\"76000\\\",\n",
    "  \\\"city\\\": \\\"rouen\\\",\n",
    "  \\\"confidence\\\": 1\n",
    "}\n",
    "\n",
    "Text: 1, rue de la Paix, 75008 Paris\n",
    "JSON:\n",
    "\"\"\",\n",
    "    **parameters\n",
    ")\n",
    "print(f\"Response from Model: {response.text}\")"
   ]
  },
  {
   "cell_type": "markdown",
   "id": "62753566-c97d-4878-9542-634b362c6b73",
   "metadata": {},
   "source": [
    "### Unusual French address"
   ]
  },
  {
   "cell_type": "code",
   "execution_count": 11,
   "id": "6ca67753-ae7e-4607-bc5c-6c368e77203c",
   "metadata": {
    "ExecuteTime": {
     "end_time": "2024-02-08T08:22:02.987981651Z",
     "start_time": "2024-02-08T08:22:02.195509924Z"
    },
    "scrolled": true
   },
   "outputs": [
    {
     "name": "stdout",
     "output_type": "stream",
     "text": [
      "Response from Model:  {\n",
      "  \"street_number\": \"78\",\n",
      "  \"street_multiplier\": \"bis\",\n",
      "  \"street_type\": \"Cavee\",\n",
      "  \"street_name\": \"des Ecameaux\",\n",
      "  \"zip_code\": \"76500\",\n",
      "  \"city\": \"Elbeuf\",\n",
      "  \"confidence\": 1\n",
      "}\n"
     ]
    }
   ],
   "source": [
    "response = model.predict(\n",
    "    \"\"\"Extract and split the address parameters from the text below in a JSON format.\n",
    "be very precise, differentiate the street number, multiplier, street type, street name, zip code, city\n",
    "provide a rating number to indicate your confidence level. 0 is the lowest confidence, 1 is the maximum.\n",
    "provide only one response for one address input\n",
    "\n",
    "Text: 37, rue du champ du pardon, 76000 rouen\n",
    "JSON: Text: 37, rue du champ du pardon, 76000 rouen\n",
    "JSON: {\n",
    "  \\\"street_number\\\": \\\"37\\\",\n",
    "  \\\"street_type\\\": \\\"rue\\\",\n",
    "  \\\"street_name\\\": \\\"du champ du pardon\\\",\n",
    "  \\\"zip_code\\\": \\\"76000\\\",\n",
    "  \\\"city\\\": \\\"rouen\\\",\n",
    "  \\\"confidence\\\": 1\n",
    "}\n",
    "\n",
    "Text: 10-82 Cavée St Gervais, 76000 rouen\n",
    "JSON: Text: 10-82 Cavée St Gervais, 76000 rouen\n",
    "JSON: {\n",
    "  \\\"street_number\\\": \\\"10-82\\\",\n",
    "  \\\"street_type\\\": \\\"Cavée\\\",\n",
    "  \\\"street_name\\\": \\\"St Gervais\\\",\n",
    "  \\\"zip_code\\\": \\\"76000\\\",\n",
    "  \\\"city\\\": \\\"rouen\\\",\n",
    "  \\\"confidence\\\": 1\n",
    "}\n",
    "\n",
    "Text: 78 bis Cavee des Ecameaux 76500 Elbeuf\n",
    "JSON:\n",
    "\"\"\",\n",
    "    **parameters\n",
    ")\n",
    "print(f\"Response from Model: {response.text}\")"
   ]
  },
  {
   "cell_type": "code",
   "execution_count": 12,
   "id": "413eea8e-c5e5-47ed-8fb1-2d488929a52f",
   "metadata": {
    "ExecuteTime": {
     "end_time": "2024-02-08T08:23:08.723293398Z",
     "start_time": "2024-02-08T08:23:07.886492894Z"
    }
   },
   "outputs": [
    {
     "name": "stdout",
     "output_type": "stream",
     "text": [
      "Response from Model:  {\n",
      "  \"street_number\": \"78\",\n",
      "  \"street_multiplier\": \"bis\",\n",
      "  \"street_type\": \"Cavee\",\n",
      "  \"street_name\": \"des Ecameaux\",\n",
      "  \"zip_code\": \"76500\",\n",
      "  \"city\": \"Elbeuf\",\n",
      "  \"confidence\": 1\n",
      "}\n"
     ]
    }
   ],
   "source": [
    "response = model.predict(\n",
    "    \"\"\"Extract and split the address parameters from the text below in a JSON format.\n",
    "be very precise, differentiate the street number, multiplier, street type, street name, zip code, city\n",
    "provide a rating number to indicate your confidence level. 0 is the lowest confidence, 1 is the maximum.\n",
    "provide only one response for one address input\n",
    "\n",
    "Text: 37, rue du champ du pardon, 76000 rouen\n",
    "JSON: Text: 37, rue du champ du pardon, 76000 rouen\n",
    "JSON: {\n",
    "  \\\"street_number\\\": \\\"37\\\",\n",
    "  \\\"street_type\\\": \\\"rue\\\",\n",
    "  \\\"street_name\\\": \\\"du champ du pardon\\\",\n",
    "  \\\"zip_code\\\": \\\"76000\\\",\n",
    "  \\\"city\\\": \\\"rouen\\\",\n",
    "  \\\"confidence\\\": 1\n",
    "}\n",
    "\n",
    "Text: 78 bis Cavee des Ecameaux 76500 Elbeuf\n",
    "JSON:\n",
    "\"\"\",\n",
    "    **parameters\n",
    ")\n",
    "print(f\"Response from Model: {response.text}\")"
   ]
  },
  {
   "cell_type": "markdown",
   "id": "7978bb58-65a9-48c9-82f7-f2361954ed34",
   "metadata": {},
   "source": [
    "## Complex US address"
   ]
  },
  {
   "cell_type": "code",
   "execution_count": 13,
   "id": "dba8c333-cd10-468f-9889-dd29aa7782f9",
   "metadata": {
    "ExecuteTime": {
     "end_time": "2024-02-08T08:23:11.812618419Z",
     "start_time": "2024-02-08T08:23:10.856853789Z"
    }
   },
   "outputs": [
    {
     "name": "stdout",
     "output_type": "stream",
     "text": [
      "Response from Model:  {\n",
      "  \"street_number\": \"111\",\n",
      "  \"street_multiplier\": \"8th\",\n",
      "  \"street_type\": \"Ave\",\n",
      "  \"street_name\": \"Ste 1509\",\n",
      "  \"zip_code\": \"74136-1922\",\n",
      "  \"city\": \"Oklahoma\",\n",
      "  \"country\": \"USA\",\n",
      "  \"confidence\": 1\n",
      "}\n"
     ]
    }
   ],
   "source": [
    "response = model.predict(\n",
    "    \"\"\"Extract and split the address parameters from the text below in a JSON format.\n",
    "be very precise, differentiate the street number, multiplier, street type, street name, zip code, city\n",
    "provide a rating number to indicate your confidence level. 0 is the lowest confidence, 1 is the maximum.\n",
    "provide only one response for one address input\n",
    "\n",
    "Text: 37, rue du champ du pardon, 76000 rouen\n",
    "JSON: Text: 37, rue du champ du pardon, 76000 rouen\n",
    "JSON: {\n",
    "  \\\"street_number\\\": \\\"37\\\",\n",
    "  \\\"street_type\\\": \\\"rue\\\",\n",
    "  \\\"street_name\\\": \\\"du champ du pardon\\\",\n",
    "  \\\"zip_code\\\": \\\"76000\\\",\n",
    "  \\\"city\\\": \\\"rouen\\\",\n",
    "  \\\"confidence\\\": 1\n",
    "}\n",
    "\n",
    "Text: 10-82 Cavée St Gervais, 76000 rouen\n",
    "JSON: Text: 10-82 Cavée St Gervais, 76000 rouen\n",
    "JSON: {\n",
    "  \\\"street_number\\\": \\\"10-82\\\",\n",
    "  \\\"street_type\\\": \\\"Cavée\\\",\n",
    "  \\\"street_name\\\": \\\"St Gervais\\\",\n",
    "  \\\"zip_code\\\": \\\"76000\\\",\n",
    "  \\\"city\\\": \\\"rouen\\\",\n",
    "  \\\"confidence\\\": 1\n",
    "}\n",
    "\n",
    "Text: C/o John Doe LLC, 111, 8th Ave Ste 1509, Oklahoma, 74136-1922, USA\n",
    "JSON:\n",
    "\"\"\",\n",
    "    **parameters\n",
    ")\n",
    "print(f\"Response from Model: {response.text}\")"
   ]
  },
  {
   "cell_type": "markdown",
   "id": "fa972c45-954e-4f02-a3d0-ad82862ceb1f",
   "metadata": {},
   "source": [
    "## German address \n",
    "\n",
    "generator at: https://tarjeta-credito.net/cvv/address-gen-germany/"
   ]
  },
  {
   "cell_type": "code",
   "execution_count": 14,
   "id": "a28123c6-90eb-4cb1-833d-337ef946a0bd",
   "metadata": {
    "ExecuteTime": {
     "end_time": "2024-02-08T08:23:14.536764258Z",
     "start_time": "2024-02-08T08:23:13.682352185Z"
    }
   },
   "outputs": [
    {
     "name": "stdout",
     "output_type": "stream",
     "text": [
      "Response from Model:  {\n",
      "  \"street_number\": \"1\",\n",
      "  \"street_type\": \"Str.\",\n",
      "  \"street_name\": \"Haßfurter\",\n",
      "  \"zip_code\": \"91056\",\n",
      "  \"city\": \"Erlangen\",\n",
      "  \"country\": \"Germany\",\n",
      "  \"confidence\": 1\n",
      "}\n"
     ]
    }
   ],
   "source": [
    "response = model.predict(\n",
    "    \"\"\"Extract and split the address parameters from the text below in a JSON format.\n",
    "be very precise, differentiate the street number, multiplier, street type, street name, zip code, city\n",
    "provide a rating number to indicate your confidence level. 0 is the lowest confidence, 1 is the maximum.\n",
    "provide only one response for one address input\n",
    "\n",
    "Text: 37, rue du champ du pardon, 76000 rouen\n",
    "JSON: Text: 37, rue du champ du pardon, 76000 rouen\n",
    "JSON: {\n",
    "  \\\"street_number\\\": \\\"37\\\",\n",
    "  \\\"street_type\\\": \\\"rue\\\",\n",
    "  \\\"street_name\\\": \\\"du champ du pardon\\\",\n",
    "  \\\"zip_code\\\": \\\"76000\\\",\n",
    "  \\\"city\\\": \\\"rouen\\\",\n",
    "  \\\"confidence\\\": 1\n",
    "}\n",
    "\n",
    "Text: 10-82 Cavée St Gervais, 76000 rouen\n",
    "JSON: Text: 10-82 Cavée St Gervais, 76000 rouen\n",
    "JSON: {\n",
    "  \\\"street_number\\\": \\\"10-82\\\",\n",
    "  \\\"street_type\\\": \\\"Cavée\\\",\n",
    "  \\\"street_name\\\": \\\"St Gervais\\\",\n",
    "  \\\"zip_code\\\": \\\"76000\\\",\n",
    "  \\\"city\\\": \\\"rouen\\\",\n",
    "  \\\"confidence\\\": 1\n",
    "}\n",
    "\n",
    "Text: Haßfurter Str. 1, 91056 Erlangen, Germany.\n",
    "JSON:\n",
    "\"\"\",\n",
    "    **parameters\n",
    ")\n",
    "print(f\"Response from Model: {response.text}\")"
   ]
  },
  {
   "cell_type": "markdown",
   "id": "936d8c91-028e-43f1-a397-68266f6e9625",
   "metadata": {},
   "source": [
    "### german address with Country not mentionned"
   ]
  },
  {
   "cell_type": "code",
   "execution_count": 15,
   "id": "82c9c461-deb0-41e3-8250-3279343731d6",
   "metadata": {
    "ExecuteTime": {
     "end_time": "2024-02-08T08:23:16.631464748Z",
     "start_time": "2024-02-08T08:23:15.540425394Z"
    }
   },
   "outputs": [
    {
     "name": "stdout",
     "output_type": "stream",
     "text": [
      "Response from Model:  {\n",
      "  \"street_number\": \"9\",\n",
      "  \"street_name\": \"Auschnippe\",\n",
      "  \"zip_code\": \"37170\",\n",
      "  \"city\": \"Uslar\",\n",
      "  \"country\": \"Germany\",\n",
      "  \"confidence\": 1\n",
      "}\n"
     ]
    }
   ],
   "source": [
    "response = model.predict(\n",
    "    \"\"\"Extract and split the address parameters from the text below in a JSON format.\n",
    "be very precise, differentiate the street number, multiplier, street type, street name, zip code, city and country\n",
    "provide a rating number to indicate your confidence level. 0 is the lowest confidence, 1 is the maximum.\n",
    "provide only one response for one address input\n",
    "\n",
    "Text: 37, rue du champ du pardon, 76000 rouen\n",
    "JSON: Text: 37, rue du champ du pardon, 76000 rouen\n",
    "JSON: {\n",
    "  \\\"street_number\\\": \\\"37\\\",\n",
    "  \\\"street_type\\\": \\\"rue\\\",\n",
    "  \\\"street_name\\\": \\\"du champ du pardon\\\",\n",
    "  \\\"zip_code\\\": \\\"76000\\\",\n",
    "  \\\"city\\\": \\\"rouen\\\",\n",
    "  \\\"country\\\": \\\"France\\\",\n",
    "  \\\"confidence\\\": 1\n",
    "}\n",
    "\n",
    "Text: 10-82 Cavée St Gervais, 76000 rouen\n",
    "JSON: Text: 10-82 Cavée St Gervais, 76000 rouen\n",
    "JSON: {\n",
    "  \\\"street_number\\\": \\\"10-82\\\",\n",
    "  \\\"street_type\\\": \\\"Cavée\\\",\n",
    "  \\\"street_name\\\": \\\"St Gervais\\\",\n",
    "  \\\"zip_code\\\": \\\"76000\\\",\n",
    "  \\\"city\\\": \\\"rouen\\\",\n",
    "  \\\"country\\\": \\\"France\\\",\n",
    "  \\\"confidence\\\": 1\n",
    "}\n",
    "\n",
    "Text: Auschnippe 9, 37170 Uslar\n",
    "JSON:\n",
    "\"\"\",\n",
    "    **parameters\n",
    ")\n",
    "print(f\"Response from Model: {response.text}\")"
   ]
  },
  {
   "cell_type": "markdown",
   "id": "84f5880b-8083-4ee4-bac7-64923f95c122",
   "metadata": {},
   "source": [
    "## Confidence level w/ False address"
   ]
  },
  {
   "cell_type": "code",
   "execution_count": 16,
   "id": "303f4276-c8eb-4893-bc8d-cc50c060e086",
   "metadata": {
    "ExecuteTime": {
     "end_time": "2024-02-08T08:23:18.337697215Z",
     "start_time": "2024-02-08T08:23:17.561669936Z"
    }
   },
   "outputs": [
    {
     "name": "stdout",
     "output_type": "stream",
     "text": [
      " {\n",
      "  \"street_number\": null,\n",
      "  \"street_type\": null,\n",
      "  \"street_name\": null,\n",
      "  \"zip_code\": \"75001\",\n",
      "  \"city\": \"Paris\",\n",
      "  \"confidence\": 0.5\n",
      "}\n"
     ]
    }
   ],
   "source": [
    "response = model.predict(\n",
    "    \"\"\"Extract and split the address parameters from the text below in a JSON format.\n",
    "be very precise, differentiate the street number, multiplier, street type, street name, zip code, city\n",
    "provide a rating number to indicate your confidence level. 0 is the lowest confidence, 1 is the maximum.\n",
    "provide only one response for one address input\n",
    "\n",
    "Text: 37, rue du champ du pardon, 76000 rouen\n",
    "JSON: \n",
    "{\n",
    "  \\\"street_number\\\": \\\"37\\\",\n",
    "  \\\"street_type\\\": \\\"rue\\\",\n",
    "  \\\"street_name\\\": \\\"du champ du pardon\\\",\n",
    "  \\\"zip_code\\\": \\\"76000\\\",\n",
    "  \\\"city\\\": \\\"rouen\\\",\n",
    "  \\\"confidence\\\": 1\n",
    "}\n",
    "\n",
    "Text: 10-82 Cavée St Gervais, 76000 rouen\n",
    "JSON: \n",
    "{\n",
    "  \\\"street_number\\\": \\\"10-82\\\",\n",
    "  \\\"street_type\\\": \\\"Cavée\\\",\n",
    "  \\\"street_name\\\": \\\"St Gervais\\\",\n",
    "  \\\"zip_code\\\": \\\"76000\\\",\n",
    "  \\\"city\\\": \\\"rouen\\\",\n",
    "  \\\"confidence\\\": 1\n",
    "}\n",
    "\n",
    "Text: ici c'est paris !, 75001 Paris\n",
    "JSON:\n",
    "\n",
    "\"\"\",\n",
    "    **parameters\n",
    ")\n",
    "print(f\"{response.text}\")"
   ]
  },
  {
   "cell_type": "markdown",
   "id": "cb57bc26-0cfc-4065-92f4-19f78f7f47b1",
   "metadata": {},
   "source": [
    "### Confidence level w/ False address and Country not mentioned"
   ]
  },
  {
   "cell_type": "code",
   "execution_count": 17,
   "id": "de80400a-7bdf-4aed-9b48-c3fcde4cf5da",
   "metadata": {
    "ExecuteTime": {
     "end_time": "2024-02-08T08:23:20.291116337Z",
     "start_time": "2024-02-08T08:23:19.344803518Z"
    }
   },
   "outputs": [
    {
     "name": "stdout",
     "output_type": "stream",
     "text": [
      " {\n",
      "  \"street_number\": \"452\",\n",
      "  \"street_multiplier\": \"quater\",\n",
      "  \"street_type\": \"grande rue\",\n",
      "  \"street_name\": \"general\",\n",
      "  \"zip_code\": \"85000\",\n",
      "  \"city\": \"le palais\",\n",
      "  \"department\": \"vendee\",\n",
      "  \"country\": \"France\",\n",
      "  \"confidence\": 1\n",
      "}\n"
     ]
    }
   ],
   "source": [
    "response = model.predict(\n",
    "    \"\"\"Extract and split the address parameters from the text below in a JSON format.\n",
    "be very precise, differentiate the street number, multiplier, street type, street name, zip code, city\n",
    "provide a rating number to indicate your confidence level. 0 is the lowest confidence, 1 is the maximum.\n",
    "provide only one response for one address input\n",
    "\n",
    "Text: 37, rue du champ du pardon, 76000 rouen\n",
    "JSON: \n",
    "{\n",
    "  \\\"street_number\\\": \\\"37\\\",\n",
    "  \\\"street_type\\\": \\\"rue\\\",\n",
    "  \\\"street_name\\\": \\\"du champ du pardon\\\",\n",
    "  \\\"zip_code\\\": \\\"76000\\\",\n",
    "  \\\"city\\\": \\\"rouen\\\",\n",
    "  \\\"country\\\": \\\"France\\\",\n",
    "  \\\"confidence\\\": 1\n",
    "}\n",
    "\n",
    "Text: 10-82 Cavée St Gervais, 76000 rouen\n",
    "JSON: \n",
    "{\n",
    "  \\\"street_number\\\": \\\"10-82\\\",\n",
    "  \\\"street_type\\\": \\\"Cavée\\\",\n",
    "  \\\"street_name\\\": \\\"St Gervais\\\",\n",
    "  \\\"zip_code\\\": \\\"76000\\\",\n",
    "  \\\"city\\\": \\\"rouen\\\",\n",
    "  \\\"country\\\": \\\"France\\\",\n",
    "  \\\"confidence\\\": 1\n",
    "}\n",
    "\n",
    "Text: 452 quater grande rue general 85000 le palais vendee\n",
    "JSON:\n",
    "\n",
    "\"\"\",\n",
    "    **parameters\n",
    ")\n",
    "print(f\"{response.text}\")\n"
   ]
  },
  {
   "cell_type": "markdown",
   "id": "c6d9107b-2dfe-49e4-a40d-4e9c5f0ed49e",
   "metadata": {},
   "source": [
    "## Programmatic\n",
    "\n",
    "Using Langchain we can have a more programmatic way "
   ]
  },
  {
   "cell_type": "code",
   "execution_count": 110,
   "id": "90e4c7f3-964a-411c-84c0-3b3178f1c18f",
   "metadata": {
    "ExecuteTime": {
     "end_time": "2024-02-11T11:20:04.382415197Z",
     "start_time": "2024-02-11T11:20:02.147643620Z"
    }
   },
   "outputs": [
    {
     "name": "stdout",
     "output_type": "stream",
     "text": [
      "\r\n",
      "\u001B[1m[\u001B[0m\u001B[34;49mnotice\u001B[0m\u001B[1;39;49m]\u001B[0m\u001B[39;49m A new release of pip available: \u001B[0m\u001B[31;49m22.3.1\u001B[0m\u001B[39;49m -> \u001B[0m\u001B[32;49m24.0\u001B[0m\r\n",
      "\u001B[1m[\u001B[0m\u001B[34;49mnotice\u001B[0m\u001B[1;39;49m]\u001B[0m\u001B[39;49m To update, run: \u001B[0m\u001B[32;49mpip install --upgrade pip\u001B[0m\r\n"
     ]
    }
   ],
   "source": [
    "!pip install --upgrade --quiet  langchain-core langchain-google-vertexai"
   ]
  },
  {
   "cell_type": "code",
   "execution_count": 112,
   "id": "e8e1cb0f-a114-4ab1-b4fb-3b312e1b2319",
   "metadata": {
    "ExecuteTime": {
     "end_time": "2024-02-11T11:20:25.242896209Z",
     "start_time": "2024-02-11T11:20:23.939020662Z"
    }
   },
   "outputs": [],
   "source": [
    "from langchain_google_vertexai import VertexAI\n",
    "\n",
    "# candidate count parameter missing ?\n",
    "model = VertexAI(model_name=\"text-bison\", top_p=1, temperature=0, max_output_tokens=126)"
   ]
  },
  {
   "cell_type": "code",
   "execution_count": 120,
   "id": "7788700263739715",
   "metadata": {
    "ExecuteTime": {
     "end_time": "2024-02-11T11:23:20.544000623Z",
     "start_time": "2024-02-11T11:23:20.536678415Z"
    }
   },
   "outputs": [],
   "source": [
    "\n",
    "from langchain_core.pydantic_v1 import BaseModel\n",
    "from typing import Optional\n",
    "\n",
    "from langchain_core.output_parsers import JsonOutputParser\n",
    "\n",
    "\n",
    "class Address(BaseModel):\n",
    "    street_number: Optional[str]\n",
    "    street_multiplier: Optional[str]\n",
    "    street_type: Optional[str]\n",
    "    street_name: Optional[str]\n",
    "    locality: Optional[str]  #lieu-dit\n",
    "    zip_code: Optional[str]\n",
    "    city: Optional[str]\n",
    "    country: Optional[str]\n",
    "    confidence: int\n",
    "\n",
    "\n",
    "parser = JsonOutputParser(pydantic_object=Address)\n",
    "# pprint(parser.get_format_instructions())\n"
   ]
  },
  {
   "cell_type": "code",
   "execution_count": 118,
   "id": "a7c0db7ff6f9c5e7",
   "metadata": {
    "ExecuteTime": {
     "end_time": "2024-02-11T11:23:09.742654071Z",
     "start_time": "2024-02-11T11:23:09.737960535Z"
    }
   },
   "outputs": [],
   "source": [
    "from langchain.prompts.few_shot import FewShotPromptTemplate\n",
    "from langchain.prompts import PromptTemplate\n",
    "\n",
    "examples = [\n",
    "    {\n",
    "        \"address\": \"37, rue du champ du pardon, 76000 rouen\",\n",
    "        \"answer\": \"\"\"{{\n",
    "  \\\"street_number\\\": \\\"37\\\",\n",
    "  \\\"street_type\\\": \\\"rue\\\",\n",
    "  \\\"street_name\\\": \\\"du champ du pardon\\\",\n",
    "  \\\"zip_code\\\": \\\"76000\\\",\n",
    "  \\\"city\\\": \\\"rouen\\\",\n",
    "  \\\"country\\\": \\\"France\\\",\n",
    "  \\\"confidence\\\": 1\n",
    "}}\"\"\"\n",
    "    },\n",
    "    {\n",
    "        \"address\": \"10-82 Cavée St Gervais, hameau de charette 76000 rouen\",\n",
    "        \"answer\": \"\"\"{{\n",
    "  \\\"street_number\\\": \\\"10-82\\\",\n",
    "  \\\"street_type\\\": \\\"Cavée\\\",\n",
    "  \\\"street_name\\\": \\\"St Gervais\\\",\n",
    "  \\\"locality\\\": \\\"hameau de charette\\\",\n",
    "  \\\"zip_code\\\": \\\"76000\\\",\n",
    "  \\\"city\\\": \\\"rouen\\\",\n",
    "  \\\"country\\\": \\\"France\\\",\n",
    "  \\\"confidence\\\": 1\n",
    "}}\"\"\"\n",
    "    },\n",
    "]\n",
    "\n",
    "prefix = \"\"\"Extract and split the address parameters from the text below in a JSON format.\n",
    "be very precise, differentiate the street number, multiplier, street type, street name, zip code, city\n",
    "provide a rating number to indicate your confidence level. 0 is the lowest confidence, 1 is the maximum.\n",
    "provide only one response for one address input\"\"\"\n",
    "\n",
    "example_prompt = PromptTemplate(\n",
    "    template=\"\"\"Text: {address}\\nJSON: {answer}\"\"\",\n",
    "    # template=\"\"\"Answer the user query.\\n{format_instructions}\\nText: {address}\\nJSON: {answer}\\n\"\"\",\n",
    "    input_variables=[\"address\", \"answer\"],\n",
    "    # partial_variables={\"format_instructions\": parser.get_format_instructions()}\n",
    ")\n",
    "\n",
    "# print(example_prompt.format(**examples[0]))\n",
    "\n",
    "prompt = FewShotPromptTemplate(\n",
    "    examples=examples,\n",
    "    example_prompt=example_prompt,\n",
    "    prefix=prefix,\n",
    "    suffix=\"Text: {address}\\nJSON:\",\n",
    "    input_variables=[\"address\"],\n",
    "\n",
    ")\n",
    "\n",
    "# print(prompt.format(address=\"78 bis Cavee des Ecameaux 76500 Elbeuf\"))\n",
    "\n",
    "\n",
    "chain = prompt | model | parser"
   ]
  },
  {
   "cell_type": "markdown",
   "id": "9e7bc0a77a3babd1",
   "metadata": {},
   "source": [
    "### Testing"
   ]
  },
  {
   "cell_type": "code",
   "execution_count": 121,
   "id": "c737638096eee2eb",
   "metadata": {
    "ExecuteTime": {
     "end_time": "2024-02-11T11:23:24.938154968Z",
     "start_time": "2024-02-11T11:23:24.043617135Z"
    }
   },
   "outputs": [
    {
     "data": {
      "text/plain": "Address(street_number='1', street_multiplier='bis', street_type='rue', street_name='de la Paix', locality=None, zip_code='75008', city='Paris', country='France', confidence=1)"
     },
     "execution_count": 121,
     "metadata": {},
     "output_type": "execute_result"
    }
   ],
   "source": [
    "\n",
    "address = \"1 bis rue de la Paix, 75008 Paris\"\n",
    "Address(**chain.invoke({\"address\": address}))\n"
   ]
  },
  {
   "cell_type": "code",
   "execution_count": 122,
   "id": "2ade3a5b2a7dd976",
   "metadata": {
    "ExecuteTime": {
     "end_time": "2024-02-11T11:23:29.134470412Z",
     "start_time": "2024-02-11T11:23:28.410807077Z"
    }
   },
   "outputs": [
    {
     "data": {
      "text/plain": "Address(street_number='9', street_multiplier=None, street_type=None, street_name='Auschnippe', locality=None, zip_code='37170', city='Uslar', country='Germany', confidence=1)"
     },
     "execution_count": 122,
     "metadata": {},
     "output_type": "execute_result"
    }
   ],
   "source": [
    "\n",
    "address = \"Auschnippe 9, 37170 Uslar\"\n",
    "Address(**chain.invoke({\"address\": address}))\n"
   ]
  },
  {
   "cell_type": "code",
   "execution_count": 24,
   "id": "b9c94ba6e5226b3a",
   "metadata": {
    "ExecuteTime": {
     "end_time": "2024-02-08T08:24:52.211949210Z",
     "start_time": "2024-02-08T08:24:51.292562044Z"
    }
   },
   "outputs": [
    {
     "data": {
      "text/plain": [
       "Address(street_number='111', street_multiplier='8th', street_type='Ave', street_name='Ste 1509', zip_code='74136-1922', city='Oklahoma', country='USA', confidence=1)"
      ]
     },
     "execution_count": 24,
     "metadata": {},
     "output_type": "execute_result"
    }
   ],
   "source": [
    "\n",
    "address = \"C/o John Doe LLC, 111, 8th Ave Ste 1509, Oklahoma, 74136-1922, USA\"\n",
    "add = Address(**chain.invoke({\"address\": address}))\n",
    "add\n"
   ]
  },
  {
   "cell_type": "markdown",
   "id": "cb287c45c1dd033c",
   "metadata": {},
   "source": [
    "### Serialize / Compress"
   ]
  },
  {
   "cell_type": "code",
   "execution_count": 25,
   "id": "cb4d113e194a9635",
   "metadata": {
    "ExecuteTime": {
     "end_time": "2024-02-08T08:24:54.172376802Z",
     "start_time": "2024-02-08T08:24:54.141503932Z"
    }
   },
   "outputs": [
    {
     "name": "stdout",
     "output_type": "stream",
     "text": [
      "56\n",
      "231\n",
      "164\n"
     ]
    }
   ],
   "source": [
    "import sys\n",
    "from pprint import pprint\n",
    "import zlib\n",
    "\n",
    "# size of object in bytes\n",
    "pprint(sys.getsizeof(add))\n",
    "pprint(sys.getsizeof(add.json()))\n",
    "pprint(sys.getsizeof(zlib.compress(add.json().encode())))"
   ]
  },
  {
   "cell_type": "markdown",
   "source": [
    "## Auto-Testing\n",
    "\n",
    "pre-requisite: Install dependencies: pandas, pyarrow, etc...\n",
    "\n",
    "Use of 'base nationale des Adresses' for French addresses (BAN)"
   ],
   "metadata": {
    "collapsed": false
   },
   "id": "60f42728c5cb29b5"
  },
  {
   "cell_type": "markdown",
   "source": [
    "#### Exploratory Data Analysis & Cleanup"
   ],
   "metadata": {
    "collapsed": false
   },
   "id": "cb8c689c256dd70"
  },
  {
   "cell_type": "code",
   "outputs": [],
   "source": [
    "import pandas as pd\n",
    "from pprint import pprint\n",
    "import numpy as np\n",
    "\n",
    "df_addresses = pd.read_csv('./dataset/adresses-01.csv', delimiter=';', low_memory=False)\n"
   ],
   "metadata": {
    "collapsed": false,
    "ExecuteTime": {
     "end_time": "2024-02-11T10:35:04.269253822Z",
     "start_time": "2024-02-11T10:35:03.523020306Z"
    }
   },
   "id": "80f69804060e8847",
   "execution_count": 5
  },
  {
   "cell_type": "code",
   "outputs": [
    {
     "data": {
      "text/plain": "                   id id_fantoir  numero  rep      nom_voie  code_postal  \\\n0  01001_4b50r5_00630        NaN     630  NaN     la Chèvre         1400   \n1  01001_g0ru02_00108        NaN     108  NaN     Clemencia         1400   \n2  01001_ngzlqw_00009        NaN       9  NaN  Imp des Epis         1400   \n3  01001_ngzlqw_00023        NaN      23  NaN  Imp des Epis         1400   \n4  01001_ngzlqw_00026        NaN      26  NaN  Imp des Epis         1400   \n\n   code_insee              nom_commune  code_insee_ancienne_commune  \\\n0        1001  L'Abergement-Clémenciat                          NaN   \n1        1001  L'Abergement-Clémenciat                          NaN   \n2        1001  L'Abergement-Clémenciat                          NaN   \n3        1001  L'Abergement-Clémenciat                          NaN   \n4        1001  L'Abergement-Clémenciat                          NaN   \n\n  nom_ancienne_commune  ...        lat  type_position  alias  nom_ld  \\\n0                  NaN  ...  46.132481        segment    NaN     NaN   \n1                  NaN  ...  46.133867       parcelle    NaN     NaN   \n2                  NaN  ...  46.152646            NaN    NaN     NaN   \n3                  NaN  ...  46.152646            NaN    NaN     NaN   \n4                  NaN  ...  46.152646            NaN    NaN     NaN   \n\n      libelle_acheminement     nom_afnor source_position source_nom_voie  \\\n0  L'ABERGEMENT-CLEMENCIAT     LA CHEVRE        inconnue        inconnue   \n1  L'ABERGEMENT-CLEMENCIAT     CLEMENCIA        cadastre        cadastre   \n2  L'ABERGEMENT-CLEMENCIAT  IMP DES EPIS           arcep           arcep   \n3  L'ABERGEMENT-CLEMENCIAT  IMP DES EPIS           arcep           arcep   \n4  L'ABERGEMENT-CLEMENCIAT  IMP DES EPIS           arcep           arcep   \n\n  certification_commune   cad_parcelles  \n0                     0             NaN  \n1                     0  01001000ZL0263  \n2                     0             NaN  \n3                     0             NaN  \n4                     0             NaN  \n\n[5 rows x 23 columns]",
      "text/html": "<div>\n<style scoped>\n    .dataframe tbody tr th:only-of-type {\n        vertical-align: middle;\n    }\n\n    .dataframe tbody tr th {\n        vertical-align: top;\n    }\n\n    .dataframe thead th {\n        text-align: right;\n    }\n</style>\n<table border=\"1\" class=\"dataframe\">\n  <thead>\n    <tr style=\"text-align: right;\">\n      <th></th>\n      <th>id</th>\n      <th>id_fantoir</th>\n      <th>numero</th>\n      <th>rep</th>\n      <th>nom_voie</th>\n      <th>code_postal</th>\n      <th>code_insee</th>\n      <th>nom_commune</th>\n      <th>code_insee_ancienne_commune</th>\n      <th>nom_ancienne_commune</th>\n      <th>...</th>\n      <th>lat</th>\n      <th>type_position</th>\n      <th>alias</th>\n      <th>nom_ld</th>\n      <th>libelle_acheminement</th>\n      <th>nom_afnor</th>\n      <th>source_position</th>\n      <th>source_nom_voie</th>\n      <th>certification_commune</th>\n      <th>cad_parcelles</th>\n    </tr>\n  </thead>\n  <tbody>\n    <tr>\n      <th>0</th>\n      <td>01001_4b50r5_00630</td>\n      <td>NaN</td>\n      <td>630</td>\n      <td>NaN</td>\n      <td>la Chèvre</td>\n      <td>1400</td>\n      <td>1001</td>\n      <td>L'Abergement-Clémenciat</td>\n      <td>NaN</td>\n      <td>NaN</td>\n      <td>...</td>\n      <td>46.132481</td>\n      <td>segment</td>\n      <td>NaN</td>\n      <td>NaN</td>\n      <td>L'ABERGEMENT-CLEMENCIAT</td>\n      <td>LA CHEVRE</td>\n      <td>inconnue</td>\n      <td>inconnue</td>\n      <td>0</td>\n      <td>NaN</td>\n    </tr>\n    <tr>\n      <th>1</th>\n      <td>01001_g0ru02_00108</td>\n      <td>NaN</td>\n      <td>108</td>\n      <td>NaN</td>\n      <td>Clemencia</td>\n      <td>1400</td>\n      <td>1001</td>\n      <td>L'Abergement-Clémenciat</td>\n      <td>NaN</td>\n      <td>NaN</td>\n      <td>...</td>\n      <td>46.133867</td>\n      <td>parcelle</td>\n      <td>NaN</td>\n      <td>NaN</td>\n      <td>L'ABERGEMENT-CLEMENCIAT</td>\n      <td>CLEMENCIA</td>\n      <td>cadastre</td>\n      <td>cadastre</td>\n      <td>0</td>\n      <td>01001000ZL0263</td>\n    </tr>\n    <tr>\n      <th>2</th>\n      <td>01001_ngzlqw_00009</td>\n      <td>NaN</td>\n      <td>9</td>\n      <td>NaN</td>\n      <td>Imp des Epis</td>\n      <td>1400</td>\n      <td>1001</td>\n      <td>L'Abergement-Clémenciat</td>\n      <td>NaN</td>\n      <td>NaN</td>\n      <td>...</td>\n      <td>46.152646</td>\n      <td>NaN</td>\n      <td>NaN</td>\n      <td>NaN</td>\n      <td>L'ABERGEMENT-CLEMENCIAT</td>\n      <td>IMP DES EPIS</td>\n      <td>arcep</td>\n      <td>arcep</td>\n      <td>0</td>\n      <td>NaN</td>\n    </tr>\n    <tr>\n      <th>3</th>\n      <td>01001_ngzlqw_00023</td>\n      <td>NaN</td>\n      <td>23</td>\n      <td>NaN</td>\n      <td>Imp des Epis</td>\n      <td>1400</td>\n      <td>1001</td>\n      <td>L'Abergement-Clémenciat</td>\n      <td>NaN</td>\n      <td>NaN</td>\n      <td>...</td>\n      <td>46.152646</td>\n      <td>NaN</td>\n      <td>NaN</td>\n      <td>NaN</td>\n      <td>L'ABERGEMENT-CLEMENCIAT</td>\n      <td>IMP DES EPIS</td>\n      <td>arcep</td>\n      <td>arcep</td>\n      <td>0</td>\n      <td>NaN</td>\n    </tr>\n    <tr>\n      <th>4</th>\n      <td>01001_ngzlqw_00026</td>\n      <td>NaN</td>\n      <td>26</td>\n      <td>NaN</td>\n      <td>Imp des Epis</td>\n      <td>1400</td>\n      <td>1001</td>\n      <td>L'Abergement-Clémenciat</td>\n      <td>NaN</td>\n      <td>NaN</td>\n      <td>...</td>\n      <td>46.152646</td>\n      <td>NaN</td>\n      <td>NaN</td>\n      <td>NaN</td>\n      <td>L'ABERGEMENT-CLEMENCIAT</td>\n      <td>IMP DES EPIS</td>\n      <td>arcep</td>\n      <td>arcep</td>\n      <td>0</td>\n      <td>NaN</td>\n    </tr>\n  </tbody>\n</table>\n<p>5 rows × 23 columns</p>\n</div>"
     },
     "execution_count": 6,
     "metadata": {},
     "output_type": "execute_result"
    }
   ],
   "source": [
    "df_addresses.head()"
   ],
   "metadata": {
    "collapsed": false,
    "ExecuteTime": {
     "end_time": "2024-02-11T10:35:17.500212716Z",
     "start_time": "2024-02-11T10:35:17.457987042Z"
    }
   },
   "id": "e4366c6ddf9fccb8",
   "execution_count": 6
  },
  {
   "cell_type": "code",
   "outputs": [],
   "source": [
    "df_addresses.drop(\n",
    "    columns=['id_fantoir', 'code_insee', 'code_insee_ancienne_commune', 'nom_ancienne_commune', 'x', 'y', 'lon', 'lat',\n",
    "             'type_position', 'source_position', 'source_nom_voie', 'certification_commune', 'cad_parcelles'],\n",
    "    inplace=True)"
   ],
   "metadata": {
    "collapsed": false,
    "ExecuteTime": {
     "end_time": "2024-02-11T10:39:08.333767299Z",
     "start_time": "2024-02-11T10:39:08.286695897Z"
    }
   },
   "id": "a555ce1acf4815bd",
   "execution_count": 9
  },
  {
   "cell_type": "code",
   "outputs": [],
   "source": [
    "df_addresses.replace(np.nan, '', regex=True, inplace=True)"
   ],
   "metadata": {
    "collapsed": false,
    "ExecuteTime": {
     "end_time": "2024-02-11T11:18:00.498153119Z",
     "start_time": "2024-02-11T11:18:00.439706968Z"
    }
   },
   "id": "d7a96b162bf97c76",
   "execution_count": 104
  },
  {
   "cell_type": "code",
   "outputs": [],
   "source": [],
   "metadata": {
    "collapsed": false
   },
   "id": "fd669af5030b0377"
  },
  {
   "cell_type": "code",
   "outputs": [],
   "source": [
    "def dataframe_row_to_pydantic_object(row: pd.Series) -> Address:\n",
    "    \"\"\"\n",
    "    Converts a row from a Pandas DataFrame to a Pydantic object.\n",
    "    Args:\n",
    "        row (pd.Series): A single row from the DataFrame.\n",
    "    Returns:\n",
    "        SomeModel: A Pydantic object with the data from the row.\n",
    "    \"\"\"\n",
    "    #missing street_type\n",
    "    return Address(street_number=str(row['numero']), street_multiplier=row['rep'], street_name=row['nom_voie'],\n",
    "                   zip_code=str(row['code_postal']), city=row['nom_commune'], confidence=1)\n"
   ],
   "metadata": {
    "collapsed": false,
    "ExecuteTime": {
     "end_time": "2024-02-11T10:54:51.697860020Z",
     "start_time": "2024-02-11T10:54:51.689624986Z"
    }
   },
   "id": "f5956c69fb44a408",
   "execution_count": 30
  },
  {
   "cell_type": "code",
   "outputs": [
    {
     "data": {
      "text/plain": "Address(street_number='630', street_multiplier='', street_type=None, street_name='la Chèvre', zip_code='1400', city=\"L'Abergement-Clémenciat\", country=None, confidence=1)"
     },
     "execution_count": 106,
     "metadata": {},
     "output_type": "execute_result"
    }
   ],
   "source": [
    "dataframe_row_to_pydantic_object(df_addresses.iloc[0])"
   ],
   "metadata": {
    "collapsed": false,
    "ExecuteTime": {
     "end_time": "2024-02-11T11:18:10.247356007Z",
     "start_time": "2024-02-11T11:18:10.243988646Z"
    }
   },
   "id": "c3d7b9a3a73e42b6",
   "execution_count": 106
  },
  {
   "cell_type": "code",
   "outputs": [],
   "source": [],
   "metadata": {
    "collapsed": false
   },
   "id": "1d3e72e595d49235"
  },
  {
   "cell_type": "code",
   "outputs": [],
   "source": [
    "def full_address_generator(row: pd.Series) -> str:\n",
    "    \"\"\"\n",
    "    Generates a one line address based on all the available fields from BAN\n",
    "    :param row: pd.Series of one address from BAN\n",
    "    :return: \n",
    "    \"\"\"\n",
    "    if row['nom_ld'] != '':\n",
    "        row['nom_ld'] = ', ' + row['nom_ld']\n",
    "    strings = [str(row['numero']), str(row['rep']), str(row['nom_voie']), str(row['nom_ld']), str(row['code_postal']),\n",
    "               str(row['nom_commune'])]\n",
    "    return ' '.join(filter(None, strings))\n",
    "    # return f\"{row['numero']}{('',' '+str(row['rep']))[row['rep'] == 'nan']}{' ' + row['nom_voie']}{('', ', '+str(row['nom_ld']))[row['nom_ld'] == 'nan']}{' '+str(row['code_postal'])}{' ' + row['nom_commune']}\""
   ],
   "metadata": {
    "collapsed": false,
    "ExecuteTime": {
     "end_time": "2024-02-11T19:41:27.692448433Z",
     "start_time": "2024-02-11T19:41:27.666896273Z"
    }
   },
   "id": "e5dd7e33d006e38b",
   "execution_count": 191
  },
  {
   "cell_type": "code",
   "outputs": [
    {
     "name": "stdout",
     "output_type": "stream",
     "text": [
      "id                              01384_tjsb7l_00004\n",
      "numero                                           4\n",
      "rep                                               \n",
      "nom_voie                Impasse aux Vignes d'Amont\n",
      "code_postal                                   1230\n",
      "nom_commune                 Saint-Rambert-en-Bugey\n",
      "alias                                             \n",
      "nom_ld                          Hameau de Grattoux\n",
      "libelle_acheminement        SAINT-RAMBERT-EN-BUGEY\n",
      "nom_afnor               IMPASSE AUX VIGNES D AMONT\n",
      "Name: 45682, dtype: object\n"
     ]
    },
    {
     "data": {
      "text/plain": "\"4 Impasse aux Vignes d'Amont Hameau de Grattoux 1230 Saint-Rambert-en-Bugey\""
     },
     "execution_count": 141,
     "metadata": {},
     "output_type": "execute_result"
    }
   ],
   "source": [
    "\n",
    "index = 45682\n",
    "pprint(df_addresses.iloc[index])\n",
    "full_address_generator(df_addresses.iloc[index])"
   ],
   "metadata": {
    "collapsed": false,
    "ExecuteTime": {
     "end_time": "2024-02-11T11:34:38.003719467Z",
     "start_time": "2024-02-11T11:34:37.949090715Z"
    }
   },
   "id": "d9687426db93ff9",
   "execution_count": 141
  },
  {
   "cell_type": "markdown",
   "source": [
    "Add one line address to Dataframe"
   ],
   "metadata": {
    "collapsed": false
   },
   "id": "61ea910aff0fffc1"
  },
  {
   "cell_type": "code",
   "outputs": [],
   "source": [
    "df_addresses['full_add'] = df_addresses.apply(lambda _row: full_address_generator(_row), axis=1)"
   ],
   "metadata": {
    "collapsed": false,
    "ExecuteTime": {
     "end_time": "2024-02-11T19:41:34.489792621Z",
     "start_time": "2024-02-11T19:41:31.199701888Z"
    }
   },
   "id": "8a3c090535ff458",
   "execution_count": 192
  },
  {
   "cell_type": "code",
   "outputs": [
    {
     "data": {
      "text/plain": "                      id  numero  rep              nom_voie  code_postal  \\\n0     01001_4b50r5_00630     630                  la Chèvre         1400   \n1     01001_g0ru02_00108     108                  Clemencia         1400   \n2     01001_ngzlqw_00009       9               Imp des Epis         1400   \n3     01001_ngzlqw_00023      23               Imp des Epis         1400   \n4     01001_ngzlqw_00026      26               Imp des Epis         1400   \n5     01001_ngzlqw_00028      28               Imp des Epis         1400   \n6     01001_ngzlqw_00033      33               Imp des Epis         1400   \n7     01001_ngzlqw_00035      35               Imp des Epis         1400   \n8     01001_ngzlqw_00040      40               Imp des Epis         1400   \n9     01001_ngzlqw_00048      48               Imp des Epis         1400   \n10    01001_ngzlqw_00049      49               Imp des Epis         1400   \n11    01001_ngzlqw_00057      57               Imp des Epis         1400   \n12      01001_0165_00019      19       Route de la Fontaine         1400   \n13      01001_0165_00035      35       Route de la Fontaine         1400   \n14      01001_0165_00048      48       Route de la Fontaine         1400   \n15      01001_0165_00050      50       Route de la Fontaine         1400   \n16      01001_0165_00059      59       Route de la Fontaine         1400   \n17      01001_0165_00060      60       Route de la Fontaine         1400   \n18      01001_0165_00080      80       Route de la Fontaine         1400   \n19      01001_0165_00084      84       Route de la Fontaine         1400   \n20      01001_0165_00104     104       Route de la Fontaine         1400   \n21      01001_0165_00119     119       Route de la Fontaine         1400   \n22      01001_0165_00120     120       Route de la Fontaine         1400   \n23      01001_0165_00136     136       Route de la Fontaine         1400   \n24      01001_0165_00158     158       Route de la Fontaine         1400   \n25      01001_0165_00174     174       Route de la Fontaine         1400   \n26      01001_0165_00176     176       Route de la Fontaine         1400   \n27      01001_0165_00177     177       Route de la Fontaine         1400   \n28      01001_0165_00179     179       Route de la Fontaine         1400   \n29      01001_0165_00203     203       Route de la Fontaine         1400   \n30      01001_0165_00204     204       Route de la Fontaine         1400   \n31      01001_0165_00256     256       Route de la Fontaine         1400   \n32      01001_0165_00291     291       Route de la Fontaine         1400   \n33      01001_0165_00313     313       Route de la Fontaine         1400   \n34      01001_0165_00317     317       Route de la Fontaine         1400   \n35      01001_0165_00328     328       Route de la Fontaine         1400   \n36      01001_0165_00381     381       Route de la Fontaine         1400   \n37      01001_0165_00414     414       Route de la Fontaine         1400   \n38      01001_0165_00452     452       Route de la Fontaine         1400   \n39      01001_0165_00486     486       Route de la Fontaine         1400   \n40      01001_0165_00495     495       Route de la Fontaine         1400   \n41      01001_0165_00931     931       Route de la Fontaine         1400   \n42      01001_0165_00977     977       Route de la Fontaine         1400   \n43  01001_0165_00080_bis      80  bis  Route de la Fontaine         1400   \n44      01001_0115_00095      95        Route de Clémenciat         1400   \n45      01001_0115_00101     101        Route de Clémenciat         1400   \n46      01001_0115_00103     103        Route de Clémenciat         1400   \n47      01001_0115_00157     157        Route de Clémenciat         1400   \n48      01001_0115_00194     194        Route de Clémenciat         1400   \n49      01001_0115_00197     197        Route de Clémenciat         1400   \n\n                nom_commune alias nom_ld     libelle_acheminement  \\\n0   L'Abergement-Clémenciat               L'ABERGEMENT-CLEMENCIAT   \n1   L'Abergement-Clémenciat               L'ABERGEMENT-CLEMENCIAT   \n2   L'Abergement-Clémenciat               L'ABERGEMENT-CLEMENCIAT   \n3   L'Abergement-Clémenciat               L'ABERGEMENT-CLEMENCIAT   \n4   L'Abergement-Clémenciat               L'ABERGEMENT-CLEMENCIAT   \n5   L'Abergement-Clémenciat               L'ABERGEMENT-CLEMENCIAT   \n6   L'Abergement-Clémenciat               L'ABERGEMENT-CLEMENCIAT   \n7   L'Abergement-Clémenciat               L'ABERGEMENT-CLEMENCIAT   \n8   L'Abergement-Clémenciat               L'ABERGEMENT-CLEMENCIAT   \n9   L'Abergement-Clémenciat               L'ABERGEMENT-CLEMENCIAT   \n10  L'Abergement-Clémenciat               L'ABERGEMENT-CLEMENCIAT   \n11  L'Abergement-Clémenciat               L'ABERGEMENT-CLEMENCIAT   \n12  L'Abergement-Clémenciat               L'ABERGEMENT-CLEMENCIAT   \n13  L'Abergement-Clémenciat               L'ABERGEMENT-CLEMENCIAT   \n14  L'Abergement-Clémenciat               L'ABERGEMENT-CLEMENCIAT   \n15  L'Abergement-Clémenciat               L'ABERGEMENT-CLEMENCIAT   \n16  L'Abergement-Clémenciat               L'ABERGEMENT-CLEMENCIAT   \n17  L'Abergement-Clémenciat               L'ABERGEMENT-CLEMENCIAT   \n18  L'Abergement-Clémenciat               L'ABERGEMENT-CLEMENCIAT   \n19  L'Abergement-Clémenciat               L'ABERGEMENT-CLEMENCIAT   \n20  L'Abergement-Clémenciat               L'ABERGEMENT-CLEMENCIAT   \n21  L'Abergement-Clémenciat               L'ABERGEMENT-CLEMENCIAT   \n22  L'Abergement-Clémenciat               L'ABERGEMENT-CLEMENCIAT   \n23  L'Abergement-Clémenciat               L'ABERGEMENT-CLEMENCIAT   \n24  L'Abergement-Clémenciat               L'ABERGEMENT-CLEMENCIAT   \n25  L'Abergement-Clémenciat               L'ABERGEMENT-CLEMENCIAT   \n26  L'Abergement-Clémenciat               L'ABERGEMENT-CLEMENCIAT   \n27  L'Abergement-Clémenciat               L'ABERGEMENT-CLEMENCIAT   \n28  L'Abergement-Clémenciat               L'ABERGEMENT-CLEMENCIAT   \n29  L'Abergement-Clémenciat               L'ABERGEMENT-CLEMENCIAT   \n30  L'Abergement-Clémenciat               L'ABERGEMENT-CLEMENCIAT   \n31  L'Abergement-Clémenciat               L'ABERGEMENT-CLEMENCIAT   \n32  L'Abergement-Clémenciat               L'ABERGEMENT-CLEMENCIAT   \n33  L'Abergement-Clémenciat               L'ABERGEMENT-CLEMENCIAT   \n34  L'Abergement-Clémenciat               L'ABERGEMENT-CLEMENCIAT   \n35  L'Abergement-Clémenciat               L'ABERGEMENT-CLEMENCIAT   \n36  L'Abergement-Clémenciat               L'ABERGEMENT-CLEMENCIAT   \n37  L'Abergement-Clémenciat               L'ABERGEMENT-CLEMENCIAT   \n38  L'Abergement-Clémenciat               L'ABERGEMENT-CLEMENCIAT   \n39  L'Abergement-Clémenciat               L'ABERGEMENT-CLEMENCIAT   \n40  L'Abergement-Clémenciat               L'ABERGEMENT-CLEMENCIAT   \n41  L'Abergement-Clémenciat               L'ABERGEMENT-CLEMENCIAT   \n42  L'Abergement-Clémenciat               L'ABERGEMENT-CLEMENCIAT   \n43  L'Abergement-Clémenciat               L'ABERGEMENT-CLEMENCIAT   \n44  L'Abergement-Clémenciat               L'ABERGEMENT-CLEMENCIAT   \n45  L'Abergement-Clémenciat               L'ABERGEMENT-CLEMENCIAT   \n46  L'Abergement-Clémenciat               L'ABERGEMENT-CLEMENCIAT   \n47  L'Abergement-Clémenciat               L'ABERGEMENT-CLEMENCIAT   \n48  L'Abergement-Clémenciat               L'ABERGEMENT-CLEMENCIAT   \n49  L'Abergement-Clémenciat               L'ABERGEMENT-CLEMENCIAT   \n\n               nom_afnor                                           full_add  \n0              LA CHEVRE         630 la Chèvre 1400 L'Abergement-Clémenciat  \n1              CLEMENCIA         108 Clemencia 1400 L'Abergement-Clémenciat  \n2           IMP DES EPIS        9 Imp des Epis 1400 L'Abergement-Clémenciat  \n3           IMP DES EPIS       23 Imp des Epis 1400 L'Abergement-Clémenciat  \n4           IMP DES EPIS       26 Imp des Epis 1400 L'Abergement-Clémenciat  \n5           IMP DES EPIS       28 Imp des Epis 1400 L'Abergement-Clémenciat  \n6           IMP DES EPIS       33 Imp des Epis 1400 L'Abergement-Clémenciat  \n7           IMP DES EPIS       35 Imp des Epis 1400 L'Abergement-Clémenciat  \n8           IMP DES EPIS       40 Imp des Epis 1400 L'Abergement-Clémenciat  \n9           IMP DES EPIS       48 Imp des Epis 1400 L'Abergement-Clémenciat  \n10          IMP DES EPIS       49 Imp des Epis 1400 L'Abergement-Clémenciat  \n11          IMP DES EPIS       57 Imp des Epis 1400 L'Abergement-Clémenciat  \n12  ROUTE DE LA FONTAINE  19 Route de la Fontaine 1400 L'Abergement-Clém...  \n13  ROUTE DE LA FONTAINE  35 Route de la Fontaine 1400 L'Abergement-Clém...  \n14  ROUTE DE LA FONTAINE  48 Route de la Fontaine 1400 L'Abergement-Clém...  \n15  ROUTE DE LA FONTAINE  50 Route de la Fontaine 1400 L'Abergement-Clém...  \n16  ROUTE DE LA FONTAINE  59 Route de la Fontaine 1400 L'Abergement-Clém...  \n17  ROUTE DE LA FONTAINE  60 Route de la Fontaine 1400 L'Abergement-Clém...  \n18  ROUTE DE LA FONTAINE  80 Route de la Fontaine 1400 L'Abergement-Clém...  \n19  ROUTE DE LA FONTAINE  84 Route de la Fontaine 1400 L'Abergement-Clém...  \n20  ROUTE DE LA FONTAINE  104 Route de la Fontaine 1400 L'Abergement-Clé...  \n21  ROUTE DE LA FONTAINE  119 Route de la Fontaine 1400 L'Abergement-Clé...  \n22  ROUTE DE LA FONTAINE  120 Route de la Fontaine 1400 L'Abergement-Clé...  \n23  ROUTE DE LA FONTAINE  136 Route de la Fontaine 1400 L'Abergement-Clé...  \n24  ROUTE DE LA FONTAINE  158 Route de la Fontaine 1400 L'Abergement-Clé...  \n25  ROUTE DE LA FONTAINE  174 Route de la Fontaine 1400 L'Abergement-Clé...  \n26  ROUTE DE LA FONTAINE  176 Route de la Fontaine 1400 L'Abergement-Clé...  \n27  ROUTE DE LA FONTAINE  177 Route de la Fontaine 1400 L'Abergement-Clé...  \n28  ROUTE DE LA FONTAINE  179 Route de la Fontaine 1400 L'Abergement-Clé...  \n29  ROUTE DE LA FONTAINE  203 Route de la Fontaine 1400 L'Abergement-Clé...  \n30  ROUTE DE LA FONTAINE  204 Route de la Fontaine 1400 L'Abergement-Clé...  \n31  ROUTE DE LA FONTAINE  256 Route de la Fontaine 1400 L'Abergement-Clé...  \n32  ROUTE DE LA FONTAINE  291 Route de la Fontaine 1400 L'Abergement-Clé...  \n33  ROUTE DE LA FONTAINE  313 Route de la Fontaine 1400 L'Abergement-Clé...  \n34  ROUTE DE LA FONTAINE  317 Route de la Fontaine 1400 L'Abergement-Clé...  \n35  ROUTE DE LA FONTAINE  328 Route de la Fontaine 1400 L'Abergement-Clé...  \n36  ROUTE DE LA FONTAINE  381 Route de la Fontaine 1400 L'Abergement-Clé...  \n37  ROUTE DE LA FONTAINE  414 Route de la Fontaine 1400 L'Abergement-Clé...  \n38  ROUTE DE LA FONTAINE  452 Route de la Fontaine 1400 L'Abergement-Clé...  \n39  ROUTE DE LA FONTAINE  486 Route de la Fontaine 1400 L'Abergement-Clé...  \n40  ROUTE DE LA FONTAINE  495 Route de la Fontaine 1400 L'Abergement-Clé...  \n41  ROUTE DE LA FONTAINE  931 Route de la Fontaine 1400 L'Abergement-Clé...  \n42  ROUTE DE LA FONTAINE  977 Route de la Fontaine 1400 L'Abergement-Clé...  \n43  ROUTE DE LA FONTAINE  80 bis Route de la Fontaine 1400 L'Abergement-...  \n44   ROUTE DE CLEMENCIAT  95 Route de Clémenciat 1400 L'Abergement-Cléme...  \n45   ROUTE DE CLEMENCIAT  101 Route de Clémenciat 1400 L'Abergement-Clém...  \n46   ROUTE DE CLEMENCIAT  103 Route de Clémenciat 1400 L'Abergement-Clém...  \n47   ROUTE DE CLEMENCIAT  157 Route de Clémenciat 1400 L'Abergement-Clém...  \n48   ROUTE DE CLEMENCIAT  194 Route de Clémenciat 1400 L'Abergement-Clém...  \n49   ROUTE DE CLEMENCIAT  197 Route de Clémenciat 1400 L'Abergement-Clém...  ",
      "text/html": "<div>\n<style scoped>\n    .dataframe tbody tr th:only-of-type {\n        vertical-align: middle;\n    }\n\n    .dataframe tbody tr th {\n        vertical-align: top;\n    }\n\n    .dataframe thead th {\n        text-align: right;\n    }\n</style>\n<table border=\"1\" class=\"dataframe\">\n  <thead>\n    <tr style=\"text-align: right;\">\n      <th></th>\n      <th>id</th>\n      <th>numero</th>\n      <th>rep</th>\n      <th>nom_voie</th>\n      <th>code_postal</th>\n      <th>nom_commune</th>\n      <th>alias</th>\n      <th>nom_ld</th>\n      <th>libelle_acheminement</th>\n      <th>nom_afnor</th>\n      <th>full_add</th>\n    </tr>\n  </thead>\n  <tbody>\n    <tr>\n      <th>0</th>\n      <td>01001_4b50r5_00630</td>\n      <td>630</td>\n      <td></td>\n      <td>la Chèvre</td>\n      <td>1400</td>\n      <td>L'Abergement-Clémenciat</td>\n      <td></td>\n      <td></td>\n      <td>L'ABERGEMENT-CLEMENCIAT</td>\n      <td>LA CHEVRE</td>\n      <td>630 la Chèvre 1400 L'Abergement-Clémenciat</td>\n    </tr>\n    <tr>\n      <th>1</th>\n      <td>01001_g0ru02_00108</td>\n      <td>108</td>\n      <td></td>\n      <td>Clemencia</td>\n      <td>1400</td>\n      <td>L'Abergement-Clémenciat</td>\n      <td></td>\n      <td></td>\n      <td>L'ABERGEMENT-CLEMENCIAT</td>\n      <td>CLEMENCIA</td>\n      <td>108 Clemencia 1400 L'Abergement-Clémenciat</td>\n    </tr>\n    <tr>\n      <th>2</th>\n      <td>01001_ngzlqw_00009</td>\n      <td>9</td>\n      <td></td>\n      <td>Imp des Epis</td>\n      <td>1400</td>\n      <td>L'Abergement-Clémenciat</td>\n      <td></td>\n      <td></td>\n      <td>L'ABERGEMENT-CLEMENCIAT</td>\n      <td>IMP DES EPIS</td>\n      <td>9 Imp des Epis 1400 L'Abergement-Clémenciat</td>\n    </tr>\n    <tr>\n      <th>3</th>\n      <td>01001_ngzlqw_00023</td>\n      <td>23</td>\n      <td></td>\n      <td>Imp des Epis</td>\n      <td>1400</td>\n      <td>L'Abergement-Clémenciat</td>\n      <td></td>\n      <td></td>\n      <td>L'ABERGEMENT-CLEMENCIAT</td>\n      <td>IMP DES EPIS</td>\n      <td>23 Imp des Epis 1400 L'Abergement-Clémenciat</td>\n    </tr>\n    <tr>\n      <th>4</th>\n      <td>01001_ngzlqw_00026</td>\n      <td>26</td>\n      <td></td>\n      <td>Imp des Epis</td>\n      <td>1400</td>\n      <td>L'Abergement-Clémenciat</td>\n      <td></td>\n      <td></td>\n      <td>L'ABERGEMENT-CLEMENCIAT</td>\n      <td>IMP DES EPIS</td>\n      <td>26 Imp des Epis 1400 L'Abergement-Clémenciat</td>\n    </tr>\n    <tr>\n      <th>5</th>\n      <td>01001_ngzlqw_00028</td>\n      <td>28</td>\n      <td></td>\n      <td>Imp des Epis</td>\n      <td>1400</td>\n      <td>L'Abergement-Clémenciat</td>\n      <td></td>\n      <td></td>\n      <td>L'ABERGEMENT-CLEMENCIAT</td>\n      <td>IMP DES EPIS</td>\n      <td>28 Imp des Epis 1400 L'Abergement-Clémenciat</td>\n    </tr>\n    <tr>\n      <th>6</th>\n      <td>01001_ngzlqw_00033</td>\n      <td>33</td>\n      <td></td>\n      <td>Imp des Epis</td>\n      <td>1400</td>\n      <td>L'Abergement-Clémenciat</td>\n      <td></td>\n      <td></td>\n      <td>L'ABERGEMENT-CLEMENCIAT</td>\n      <td>IMP DES EPIS</td>\n      <td>33 Imp des Epis 1400 L'Abergement-Clémenciat</td>\n    </tr>\n    <tr>\n      <th>7</th>\n      <td>01001_ngzlqw_00035</td>\n      <td>35</td>\n      <td></td>\n      <td>Imp des Epis</td>\n      <td>1400</td>\n      <td>L'Abergement-Clémenciat</td>\n      <td></td>\n      <td></td>\n      <td>L'ABERGEMENT-CLEMENCIAT</td>\n      <td>IMP DES EPIS</td>\n      <td>35 Imp des Epis 1400 L'Abergement-Clémenciat</td>\n    </tr>\n    <tr>\n      <th>8</th>\n      <td>01001_ngzlqw_00040</td>\n      <td>40</td>\n      <td></td>\n      <td>Imp des Epis</td>\n      <td>1400</td>\n      <td>L'Abergement-Clémenciat</td>\n      <td></td>\n      <td></td>\n      <td>L'ABERGEMENT-CLEMENCIAT</td>\n      <td>IMP DES EPIS</td>\n      <td>40 Imp des Epis 1400 L'Abergement-Clémenciat</td>\n    </tr>\n    <tr>\n      <th>9</th>\n      <td>01001_ngzlqw_00048</td>\n      <td>48</td>\n      <td></td>\n      <td>Imp des Epis</td>\n      <td>1400</td>\n      <td>L'Abergement-Clémenciat</td>\n      <td></td>\n      <td></td>\n      <td>L'ABERGEMENT-CLEMENCIAT</td>\n      <td>IMP DES EPIS</td>\n      <td>48 Imp des Epis 1400 L'Abergement-Clémenciat</td>\n    </tr>\n    <tr>\n      <th>10</th>\n      <td>01001_ngzlqw_00049</td>\n      <td>49</td>\n      <td></td>\n      <td>Imp des Epis</td>\n      <td>1400</td>\n      <td>L'Abergement-Clémenciat</td>\n      <td></td>\n      <td></td>\n      <td>L'ABERGEMENT-CLEMENCIAT</td>\n      <td>IMP DES EPIS</td>\n      <td>49 Imp des Epis 1400 L'Abergement-Clémenciat</td>\n    </tr>\n    <tr>\n      <th>11</th>\n      <td>01001_ngzlqw_00057</td>\n      <td>57</td>\n      <td></td>\n      <td>Imp des Epis</td>\n      <td>1400</td>\n      <td>L'Abergement-Clémenciat</td>\n      <td></td>\n      <td></td>\n      <td>L'ABERGEMENT-CLEMENCIAT</td>\n      <td>IMP DES EPIS</td>\n      <td>57 Imp des Epis 1400 L'Abergement-Clémenciat</td>\n    </tr>\n    <tr>\n      <th>12</th>\n      <td>01001_0165_00019</td>\n      <td>19</td>\n      <td></td>\n      <td>Route de la Fontaine</td>\n      <td>1400</td>\n      <td>L'Abergement-Clémenciat</td>\n      <td></td>\n      <td></td>\n      <td>L'ABERGEMENT-CLEMENCIAT</td>\n      <td>ROUTE DE LA FONTAINE</td>\n      <td>19 Route de la Fontaine 1400 L'Abergement-Clém...</td>\n    </tr>\n    <tr>\n      <th>13</th>\n      <td>01001_0165_00035</td>\n      <td>35</td>\n      <td></td>\n      <td>Route de la Fontaine</td>\n      <td>1400</td>\n      <td>L'Abergement-Clémenciat</td>\n      <td></td>\n      <td></td>\n      <td>L'ABERGEMENT-CLEMENCIAT</td>\n      <td>ROUTE DE LA FONTAINE</td>\n      <td>35 Route de la Fontaine 1400 L'Abergement-Clém...</td>\n    </tr>\n    <tr>\n      <th>14</th>\n      <td>01001_0165_00048</td>\n      <td>48</td>\n      <td></td>\n      <td>Route de la Fontaine</td>\n      <td>1400</td>\n      <td>L'Abergement-Clémenciat</td>\n      <td></td>\n      <td></td>\n      <td>L'ABERGEMENT-CLEMENCIAT</td>\n      <td>ROUTE DE LA FONTAINE</td>\n      <td>48 Route de la Fontaine 1400 L'Abergement-Clém...</td>\n    </tr>\n    <tr>\n      <th>15</th>\n      <td>01001_0165_00050</td>\n      <td>50</td>\n      <td></td>\n      <td>Route de la Fontaine</td>\n      <td>1400</td>\n      <td>L'Abergement-Clémenciat</td>\n      <td></td>\n      <td></td>\n      <td>L'ABERGEMENT-CLEMENCIAT</td>\n      <td>ROUTE DE LA FONTAINE</td>\n      <td>50 Route de la Fontaine 1400 L'Abergement-Clém...</td>\n    </tr>\n    <tr>\n      <th>16</th>\n      <td>01001_0165_00059</td>\n      <td>59</td>\n      <td></td>\n      <td>Route de la Fontaine</td>\n      <td>1400</td>\n      <td>L'Abergement-Clémenciat</td>\n      <td></td>\n      <td></td>\n      <td>L'ABERGEMENT-CLEMENCIAT</td>\n      <td>ROUTE DE LA FONTAINE</td>\n      <td>59 Route de la Fontaine 1400 L'Abergement-Clém...</td>\n    </tr>\n    <tr>\n      <th>17</th>\n      <td>01001_0165_00060</td>\n      <td>60</td>\n      <td></td>\n      <td>Route de la Fontaine</td>\n      <td>1400</td>\n      <td>L'Abergement-Clémenciat</td>\n      <td></td>\n      <td></td>\n      <td>L'ABERGEMENT-CLEMENCIAT</td>\n      <td>ROUTE DE LA FONTAINE</td>\n      <td>60 Route de la Fontaine 1400 L'Abergement-Clém...</td>\n    </tr>\n    <tr>\n      <th>18</th>\n      <td>01001_0165_00080</td>\n      <td>80</td>\n      <td></td>\n      <td>Route de la Fontaine</td>\n      <td>1400</td>\n      <td>L'Abergement-Clémenciat</td>\n      <td></td>\n      <td></td>\n      <td>L'ABERGEMENT-CLEMENCIAT</td>\n      <td>ROUTE DE LA FONTAINE</td>\n      <td>80 Route de la Fontaine 1400 L'Abergement-Clém...</td>\n    </tr>\n    <tr>\n      <th>19</th>\n      <td>01001_0165_00084</td>\n      <td>84</td>\n      <td></td>\n      <td>Route de la Fontaine</td>\n      <td>1400</td>\n      <td>L'Abergement-Clémenciat</td>\n      <td></td>\n      <td></td>\n      <td>L'ABERGEMENT-CLEMENCIAT</td>\n      <td>ROUTE DE LA FONTAINE</td>\n      <td>84 Route de la Fontaine 1400 L'Abergement-Clém...</td>\n    </tr>\n    <tr>\n      <th>20</th>\n      <td>01001_0165_00104</td>\n      <td>104</td>\n      <td></td>\n      <td>Route de la Fontaine</td>\n      <td>1400</td>\n      <td>L'Abergement-Clémenciat</td>\n      <td></td>\n      <td></td>\n      <td>L'ABERGEMENT-CLEMENCIAT</td>\n      <td>ROUTE DE LA FONTAINE</td>\n      <td>104 Route de la Fontaine 1400 L'Abergement-Clé...</td>\n    </tr>\n    <tr>\n      <th>21</th>\n      <td>01001_0165_00119</td>\n      <td>119</td>\n      <td></td>\n      <td>Route de la Fontaine</td>\n      <td>1400</td>\n      <td>L'Abergement-Clémenciat</td>\n      <td></td>\n      <td></td>\n      <td>L'ABERGEMENT-CLEMENCIAT</td>\n      <td>ROUTE DE LA FONTAINE</td>\n      <td>119 Route de la Fontaine 1400 L'Abergement-Clé...</td>\n    </tr>\n    <tr>\n      <th>22</th>\n      <td>01001_0165_00120</td>\n      <td>120</td>\n      <td></td>\n      <td>Route de la Fontaine</td>\n      <td>1400</td>\n      <td>L'Abergement-Clémenciat</td>\n      <td></td>\n      <td></td>\n      <td>L'ABERGEMENT-CLEMENCIAT</td>\n      <td>ROUTE DE LA FONTAINE</td>\n      <td>120 Route de la Fontaine 1400 L'Abergement-Clé...</td>\n    </tr>\n    <tr>\n      <th>23</th>\n      <td>01001_0165_00136</td>\n      <td>136</td>\n      <td></td>\n      <td>Route de la Fontaine</td>\n      <td>1400</td>\n      <td>L'Abergement-Clémenciat</td>\n      <td></td>\n      <td></td>\n      <td>L'ABERGEMENT-CLEMENCIAT</td>\n      <td>ROUTE DE LA FONTAINE</td>\n      <td>136 Route de la Fontaine 1400 L'Abergement-Clé...</td>\n    </tr>\n    <tr>\n      <th>24</th>\n      <td>01001_0165_00158</td>\n      <td>158</td>\n      <td></td>\n      <td>Route de la Fontaine</td>\n      <td>1400</td>\n      <td>L'Abergement-Clémenciat</td>\n      <td></td>\n      <td></td>\n      <td>L'ABERGEMENT-CLEMENCIAT</td>\n      <td>ROUTE DE LA FONTAINE</td>\n      <td>158 Route de la Fontaine 1400 L'Abergement-Clé...</td>\n    </tr>\n    <tr>\n      <th>25</th>\n      <td>01001_0165_00174</td>\n      <td>174</td>\n      <td></td>\n      <td>Route de la Fontaine</td>\n      <td>1400</td>\n      <td>L'Abergement-Clémenciat</td>\n      <td></td>\n      <td></td>\n      <td>L'ABERGEMENT-CLEMENCIAT</td>\n      <td>ROUTE DE LA FONTAINE</td>\n      <td>174 Route de la Fontaine 1400 L'Abergement-Clé...</td>\n    </tr>\n    <tr>\n      <th>26</th>\n      <td>01001_0165_00176</td>\n      <td>176</td>\n      <td></td>\n      <td>Route de la Fontaine</td>\n      <td>1400</td>\n      <td>L'Abergement-Clémenciat</td>\n      <td></td>\n      <td></td>\n      <td>L'ABERGEMENT-CLEMENCIAT</td>\n      <td>ROUTE DE LA FONTAINE</td>\n      <td>176 Route de la Fontaine 1400 L'Abergement-Clé...</td>\n    </tr>\n    <tr>\n      <th>27</th>\n      <td>01001_0165_00177</td>\n      <td>177</td>\n      <td></td>\n      <td>Route de la Fontaine</td>\n      <td>1400</td>\n      <td>L'Abergement-Clémenciat</td>\n      <td></td>\n      <td></td>\n      <td>L'ABERGEMENT-CLEMENCIAT</td>\n      <td>ROUTE DE LA FONTAINE</td>\n      <td>177 Route de la Fontaine 1400 L'Abergement-Clé...</td>\n    </tr>\n    <tr>\n      <th>28</th>\n      <td>01001_0165_00179</td>\n      <td>179</td>\n      <td></td>\n      <td>Route de la Fontaine</td>\n      <td>1400</td>\n      <td>L'Abergement-Clémenciat</td>\n      <td></td>\n      <td></td>\n      <td>L'ABERGEMENT-CLEMENCIAT</td>\n      <td>ROUTE DE LA FONTAINE</td>\n      <td>179 Route de la Fontaine 1400 L'Abergement-Clé...</td>\n    </tr>\n    <tr>\n      <th>29</th>\n      <td>01001_0165_00203</td>\n      <td>203</td>\n      <td></td>\n      <td>Route de la Fontaine</td>\n      <td>1400</td>\n      <td>L'Abergement-Clémenciat</td>\n      <td></td>\n      <td></td>\n      <td>L'ABERGEMENT-CLEMENCIAT</td>\n      <td>ROUTE DE LA FONTAINE</td>\n      <td>203 Route de la Fontaine 1400 L'Abergement-Clé...</td>\n    </tr>\n    <tr>\n      <th>30</th>\n      <td>01001_0165_00204</td>\n      <td>204</td>\n      <td></td>\n      <td>Route de la Fontaine</td>\n      <td>1400</td>\n      <td>L'Abergement-Clémenciat</td>\n      <td></td>\n      <td></td>\n      <td>L'ABERGEMENT-CLEMENCIAT</td>\n      <td>ROUTE DE LA FONTAINE</td>\n      <td>204 Route de la Fontaine 1400 L'Abergement-Clé...</td>\n    </tr>\n    <tr>\n      <th>31</th>\n      <td>01001_0165_00256</td>\n      <td>256</td>\n      <td></td>\n      <td>Route de la Fontaine</td>\n      <td>1400</td>\n      <td>L'Abergement-Clémenciat</td>\n      <td></td>\n      <td></td>\n      <td>L'ABERGEMENT-CLEMENCIAT</td>\n      <td>ROUTE DE LA FONTAINE</td>\n      <td>256 Route de la Fontaine 1400 L'Abergement-Clé...</td>\n    </tr>\n    <tr>\n      <th>32</th>\n      <td>01001_0165_00291</td>\n      <td>291</td>\n      <td></td>\n      <td>Route de la Fontaine</td>\n      <td>1400</td>\n      <td>L'Abergement-Clémenciat</td>\n      <td></td>\n      <td></td>\n      <td>L'ABERGEMENT-CLEMENCIAT</td>\n      <td>ROUTE DE LA FONTAINE</td>\n      <td>291 Route de la Fontaine 1400 L'Abergement-Clé...</td>\n    </tr>\n    <tr>\n      <th>33</th>\n      <td>01001_0165_00313</td>\n      <td>313</td>\n      <td></td>\n      <td>Route de la Fontaine</td>\n      <td>1400</td>\n      <td>L'Abergement-Clémenciat</td>\n      <td></td>\n      <td></td>\n      <td>L'ABERGEMENT-CLEMENCIAT</td>\n      <td>ROUTE DE LA FONTAINE</td>\n      <td>313 Route de la Fontaine 1400 L'Abergement-Clé...</td>\n    </tr>\n    <tr>\n      <th>34</th>\n      <td>01001_0165_00317</td>\n      <td>317</td>\n      <td></td>\n      <td>Route de la Fontaine</td>\n      <td>1400</td>\n      <td>L'Abergement-Clémenciat</td>\n      <td></td>\n      <td></td>\n      <td>L'ABERGEMENT-CLEMENCIAT</td>\n      <td>ROUTE DE LA FONTAINE</td>\n      <td>317 Route de la Fontaine 1400 L'Abergement-Clé...</td>\n    </tr>\n    <tr>\n      <th>35</th>\n      <td>01001_0165_00328</td>\n      <td>328</td>\n      <td></td>\n      <td>Route de la Fontaine</td>\n      <td>1400</td>\n      <td>L'Abergement-Clémenciat</td>\n      <td></td>\n      <td></td>\n      <td>L'ABERGEMENT-CLEMENCIAT</td>\n      <td>ROUTE DE LA FONTAINE</td>\n      <td>328 Route de la Fontaine 1400 L'Abergement-Clé...</td>\n    </tr>\n    <tr>\n      <th>36</th>\n      <td>01001_0165_00381</td>\n      <td>381</td>\n      <td></td>\n      <td>Route de la Fontaine</td>\n      <td>1400</td>\n      <td>L'Abergement-Clémenciat</td>\n      <td></td>\n      <td></td>\n      <td>L'ABERGEMENT-CLEMENCIAT</td>\n      <td>ROUTE DE LA FONTAINE</td>\n      <td>381 Route de la Fontaine 1400 L'Abergement-Clé...</td>\n    </tr>\n    <tr>\n      <th>37</th>\n      <td>01001_0165_00414</td>\n      <td>414</td>\n      <td></td>\n      <td>Route de la Fontaine</td>\n      <td>1400</td>\n      <td>L'Abergement-Clémenciat</td>\n      <td></td>\n      <td></td>\n      <td>L'ABERGEMENT-CLEMENCIAT</td>\n      <td>ROUTE DE LA FONTAINE</td>\n      <td>414 Route de la Fontaine 1400 L'Abergement-Clé...</td>\n    </tr>\n    <tr>\n      <th>38</th>\n      <td>01001_0165_00452</td>\n      <td>452</td>\n      <td></td>\n      <td>Route de la Fontaine</td>\n      <td>1400</td>\n      <td>L'Abergement-Clémenciat</td>\n      <td></td>\n      <td></td>\n      <td>L'ABERGEMENT-CLEMENCIAT</td>\n      <td>ROUTE DE LA FONTAINE</td>\n      <td>452 Route de la Fontaine 1400 L'Abergement-Clé...</td>\n    </tr>\n    <tr>\n      <th>39</th>\n      <td>01001_0165_00486</td>\n      <td>486</td>\n      <td></td>\n      <td>Route de la Fontaine</td>\n      <td>1400</td>\n      <td>L'Abergement-Clémenciat</td>\n      <td></td>\n      <td></td>\n      <td>L'ABERGEMENT-CLEMENCIAT</td>\n      <td>ROUTE DE LA FONTAINE</td>\n      <td>486 Route de la Fontaine 1400 L'Abergement-Clé...</td>\n    </tr>\n    <tr>\n      <th>40</th>\n      <td>01001_0165_00495</td>\n      <td>495</td>\n      <td></td>\n      <td>Route de la Fontaine</td>\n      <td>1400</td>\n      <td>L'Abergement-Clémenciat</td>\n      <td></td>\n      <td></td>\n      <td>L'ABERGEMENT-CLEMENCIAT</td>\n      <td>ROUTE DE LA FONTAINE</td>\n      <td>495 Route de la Fontaine 1400 L'Abergement-Clé...</td>\n    </tr>\n    <tr>\n      <th>41</th>\n      <td>01001_0165_00931</td>\n      <td>931</td>\n      <td></td>\n      <td>Route de la Fontaine</td>\n      <td>1400</td>\n      <td>L'Abergement-Clémenciat</td>\n      <td></td>\n      <td></td>\n      <td>L'ABERGEMENT-CLEMENCIAT</td>\n      <td>ROUTE DE LA FONTAINE</td>\n      <td>931 Route de la Fontaine 1400 L'Abergement-Clé...</td>\n    </tr>\n    <tr>\n      <th>42</th>\n      <td>01001_0165_00977</td>\n      <td>977</td>\n      <td></td>\n      <td>Route de la Fontaine</td>\n      <td>1400</td>\n      <td>L'Abergement-Clémenciat</td>\n      <td></td>\n      <td></td>\n      <td>L'ABERGEMENT-CLEMENCIAT</td>\n      <td>ROUTE DE LA FONTAINE</td>\n      <td>977 Route de la Fontaine 1400 L'Abergement-Clé...</td>\n    </tr>\n    <tr>\n      <th>43</th>\n      <td>01001_0165_00080_bis</td>\n      <td>80</td>\n      <td>bis</td>\n      <td>Route de la Fontaine</td>\n      <td>1400</td>\n      <td>L'Abergement-Clémenciat</td>\n      <td></td>\n      <td></td>\n      <td>L'ABERGEMENT-CLEMENCIAT</td>\n      <td>ROUTE DE LA FONTAINE</td>\n      <td>80 bis Route de la Fontaine 1400 L'Abergement-...</td>\n    </tr>\n    <tr>\n      <th>44</th>\n      <td>01001_0115_00095</td>\n      <td>95</td>\n      <td></td>\n      <td>Route de Clémenciat</td>\n      <td>1400</td>\n      <td>L'Abergement-Clémenciat</td>\n      <td></td>\n      <td></td>\n      <td>L'ABERGEMENT-CLEMENCIAT</td>\n      <td>ROUTE DE CLEMENCIAT</td>\n      <td>95 Route de Clémenciat 1400 L'Abergement-Cléme...</td>\n    </tr>\n    <tr>\n      <th>45</th>\n      <td>01001_0115_00101</td>\n      <td>101</td>\n      <td></td>\n      <td>Route de Clémenciat</td>\n      <td>1400</td>\n      <td>L'Abergement-Clémenciat</td>\n      <td></td>\n      <td></td>\n      <td>L'ABERGEMENT-CLEMENCIAT</td>\n      <td>ROUTE DE CLEMENCIAT</td>\n      <td>101 Route de Clémenciat 1400 L'Abergement-Clém...</td>\n    </tr>\n    <tr>\n      <th>46</th>\n      <td>01001_0115_00103</td>\n      <td>103</td>\n      <td></td>\n      <td>Route de Clémenciat</td>\n      <td>1400</td>\n      <td>L'Abergement-Clémenciat</td>\n      <td></td>\n      <td></td>\n      <td>L'ABERGEMENT-CLEMENCIAT</td>\n      <td>ROUTE DE CLEMENCIAT</td>\n      <td>103 Route de Clémenciat 1400 L'Abergement-Clém...</td>\n    </tr>\n    <tr>\n      <th>47</th>\n      <td>01001_0115_00157</td>\n      <td>157</td>\n      <td></td>\n      <td>Route de Clémenciat</td>\n      <td>1400</td>\n      <td>L'Abergement-Clémenciat</td>\n      <td></td>\n      <td></td>\n      <td>L'ABERGEMENT-CLEMENCIAT</td>\n      <td>ROUTE DE CLEMENCIAT</td>\n      <td>157 Route de Clémenciat 1400 L'Abergement-Clém...</td>\n    </tr>\n    <tr>\n      <th>48</th>\n      <td>01001_0115_00194</td>\n      <td>194</td>\n      <td></td>\n      <td>Route de Clémenciat</td>\n      <td>1400</td>\n      <td>L'Abergement-Clémenciat</td>\n      <td></td>\n      <td></td>\n      <td>L'ABERGEMENT-CLEMENCIAT</td>\n      <td>ROUTE DE CLEMENCIAT</td>\n      <td>194 Route de Clémenciat 1400 L'Abergement-Clém...</td>\n    </tr>\n    <tr>\n      <th>49</th>\n      <td>01001_0115_00197</td>\n      <td>197</td>\n      <td></td>\n      <td>Route de Clémenciat</td>\n      <td>1400</td>\n      <td>L'Abergement-Clémenciat</td>\n      <td></td>\n      <td></td>\n      <td>L'ABERGEMENT-CLEMENCIAT</td>\n      <td>ROUTE DE CLEMENCIAT</td>\n      <td>197 Route de Clémenciat 1400 L'Abergement-Clém...</td>\n    </tr>\n  </tbody>\n</table>\n</div>"
     },
     "execution_count": 193,
     "metadata": {},
     "output_type": "execute_result"
    }
   ],
   "source": [
    "df_addresses.head(50)"
   ],
   "metadata": {
    "collapsed": false,
    "ExecuteTime": {
     "end_time": "2024-02-11T19:41:35.783882428Z",
     "start_time": "2024-02-11T19:41:35.765661964Z"
    }
   },
   "id": "329063a020022ccb",
   "execution_count": 193
  },
  {
   "cell_type": "markdown",
   "source": [
    "### Testing"
   ],
   "metadata": {
    "collapsed": false
   },
   "id": "b7309ed801a3fc26"
  },
  {
   "cell_type": "code",
   "outputs": [],
   "source": [
    "def score_ban_from_split(split: Address, ban: pd.Series) -> tuple[int, int]:\n",
    "    \"\"\"\n",
    "    Defines a score to compare an Address object and a pd.Series of BAN\n",
    "    :param split: Address object\n",
    "    :param ban: pd.Series row of BAN Dataframe\n",
    "    :return: score from 0 to 6 and _score one hot encoded from 0 to 111111\n",
    "    \"\"\"\n",
    "    # print(split)\n",
    "    # print(ban)\n",
    "    _score = 0\n",
    "    if split.street_number == str(ban['numero']): _score += 1\n",
    "    if (not (bool(split.street_multiplier) | bool(ban['rep']))) | (\n",
    "            split.street_multiplier == str(ban['rep'])): _score += 10\n",
    "    if (split.street_type + ' ' + split.street_name) == str(ban['nom_voie']): _score += 100\n",
    "    if (not (bool(split.locality) | bool(ban['nom_ld']))) | (split.locality == ban['nom_ld']): _score += 1000\n",
    "    if split.zip_code == str(ban['code_postal']): _score += 10000\n",
    "    if split.city == str(ban['nom_commune']): _score += 100000\n",
    "    return str(_score).count('1'), _score\n"
   ],
   "metadata": {
    "collapsed": false,
    "ExecuteTime": {
     "end_time": "2024-02-11T20:28:40.523955979Z",
     "start_time": "2024-02-11T20:28:40.518151704Z"
    }
   },
   "id": "98721ae0b3ccf2ac",
   "execution_count": 255
  },
  {
   "cell_type": "code",
   "outputs": [
    {
     "name": "stdout",
     "output_type": "stream",
     "text": [
      "street_number='140' street_multiplier=None street_type='Route' street_name='du Colombier' locality='Brénaz - Hameau de Méraléaz' zip_code='1260' city='Arvière-en-Valromey' country='France' confidence=1\n",
      "id                                                       01453_0046_00140\n",
      "numero                                                                140\n",
      "rep                                                                      \n",
      "nom_voie                                               Route du Colombier\n",
      "code_postal                                                          1260\n",
      "nom_commune                                           Arvière-en-Valromey\n",
      "alias                                                                    \n",
      "nom_ld                                        Brénaz - Hameau de Méraléaz\n",
      "libelle_acheminement                                  ARVIERE-EN-VALROMEY\n",
      "nom_afnor                                              ROUTE DU COLOMBIER\n",
      "full_add                140 Route du Colombier , Brénaz - Hameau de Mé...\n",
      "Name: 6892, dtype: object\n"
     ]
    },
    {
     "data": {
      "text/plain": "(6, 111111)"
     },
     "execution_count": 241,
     "metadata": {},
     "output_type": "execute_result"
    }
   ],
   "source": [
    "row = df_addresses.iloc[6892]\n",
    "split_adr = Address(**chain.invoke({\"address\": row['full_add']}))\n",
    "score = score_ban_from_split(split_adr, row)\n",
    "score\n",
    "# split_adr.locality == row['nom_ld']"
   ],
   "metadata": {
    "collapsed": false,
    "ExecuteTime": {
     "end_time": "2024-02-11T20:10:08.633121946Z",
     "start_time": "2024-02-11T20:10:07.686100072Z"
    }
   },
   "id": "ae6c63607913d277",
   "execution_count": 241
  },
  {
   "cell_type": "code",
   "outputs": [
    {
     "name": "stdout",
     "output_type": "stream",
     "text": [
      "street_number='50' street_multiplier=None street_type='Rue' street_name='du Prémonin' locality=None zip_code='1500' city='Ambérieu-en-Bugey' country='France' confidence=1\n",
      "id                                               01004_0535_00050\n",
      "numero                                                         50\n",
      "rep                                                              \n",
      "nom_voie                                          Rue du Prémonin\n",
      "code_postal                                                  1500\n",
      "nom_commune                                     Ambérieu-en-Bugey\n",
      "alias                                                            \n",
      "nom_ld                                                           \n",
      "libelle_acheminement                            AMBERIEU-EN-BUGEY\n",
      "nom_afnor                                         RUE DU PREMONIN\n",
      "full_add                50 Rue du Prémonin 1500 Ambérieu-en-Bugey\n",
      "Name: 4564, dtype: object\n"
     ]
    },
    {
     "data": {
      "text/plain": "(6, 111111)"
     },
     "execution_count": 242,
     "metadata": {},
     "output_type": "execute_result"
    }
   ],
   "source": [
    "row = df_addresses.iloc[4564]\n",
    "split_adr = Address(**chain.invoke({\"address\": row['full_add']}))\n",
    "score = score_ban_from_split(split_adr, row)\n",
    "score"
   ],
   "metadata": {
    "collapsed": false,
    "ExecuteTime": {
     "end_time": "2024-02-11T20:10:23.490079640Z",
     "start_time": "2024-02-11T20:10:22.294189872Z"
    }
   },
   "id": "1392beeeeca4bf56",
   "execution_count": 242
  },
  {
   "cell_type": "code",
   "outputs": [
    {
     "name": "stdout",
     "output_type": "stream",
     "text": [
      "street_number='2' street_multiplier=None street_type='Rue' street_name='du Chateau' locality=None zip_code='1640' city='Saint-Jean-le-Vieux' country='France' confidence=1\n",
      "id                                               01363_0103_00002\n",
      "numero                                                          2\n",
      "rep                                                              \n",
      "nom_voie                                           Rue du Chateau\n",
      "code_postal                                                  1640\n",
      "nom_commune                                   Saint-Jean-le-Vieux\n",
      "alias                                                            \n",
      "nom_ld                                                           \n",
      "libelle_acheminement                          SAINT-JEAN-LE-VIEUX\n",
      "nom_afnor                                          RUE DU CHATEAU\n",
      "full_add                2 Rue du Chateau 1640 Saint-Jean-le-Vieux\n",
      "Name: 55213, dtype: object\n"
     ]
    },
    {
     "data": {
      "text/plain": "(6, 111111)"
     },
     "execution_count": 243,
     "metadata": {},
     "output_type": "execute_result"
    }
   ],
   "source": [
    "row = df_addresses.iloc[55213]\n",
    "split_adr = Address(**chain.invoke({\"address\": row['full_add']}))\n",
    "score = score_ban_from_split(split_adr, row)\n",
    "score"
   ],
   "metadata": {
    "collapsed": false,
    "ExecuteTime": {
     "end_time": "2024-02-11T20:10:26.919633764Z",
     "start_time": "2024-02-11T20:10:25.577395127Z"
    }
   },
   "id": "9b32210c497da674",
   "execution_count": 243
  },
  {
   "cell_type": "code",
   "outputs": [
    {
     "name": "stdout",
     "output_type": "stream",
     "text": [
      "street_number='229' street_multiplier=None street_type='Rue' street_name='des Sablonnieres' locality='Chassin' zip_code='1400' city='Neuville-les-Dames' country='France' confidence=1\n",
      "id                                                       01272_0640_00229\n",
      "numero                                                                229\n",
      "rep                                                                      \n",
      "nom_voie                                             Rue des Sablonnieres\n",
      "code_postal                                                          1400\n",
      "nom_commune                                            Neuville-les-Dames\n",
      "alias                                                                    \n",
      "nom_ld                                                            Chassin\n",
      "libelle_acheminement                                   NEUVILLE-LES-DAMES\n",
      "nom_afnor                                            RUE DES SABLONNIERES\n",
      "full_add                229 Rue des Sablonnieres , Chassin 1400 Neuvil...\n",
      "Name: 111235, dtype: object\n"
     ]
    },
    {
     "data": {
      "text/plain": "(6, 111111)"
     },
     "execution_count": 244,
     "metadata": {},
     "output_type": "execute_result"
    }
   ],
   "source": [
    "row = df_addresses.iloc[111235]\n",
    "split_adr = Address(**chain.invoke({\"address\": row['full_add']}))\n",
    "score = score_ban_from_split(split_adr, row)\n",
    "score"
   ],
   "metadata": {
    "collapsed": false,
    "ExecuteTime": {
     "end_time": "2024-02-11T20:10:29.990283174Z",
     "start_time": "2024-02-11T20:10:29.074177672Z"
    }
   },
   "id": "f193508d972682f",
   "execution_count": 244
  },
  {
   "cell_type": "code",
   "outputs": [
    {
     "name": "stdout",
     "output_type": "stream",
     "text": [
      "street_number='147' street_multiplier=None street_type='Chemin' street_name='sous la Ville' locality=None zip_code='1640' city='Saint-Jean-le-Vieux' country='France' confidence=1\n",
      "id                                                       01363_0118_00147\n",
      "numero                                                                147\n",
      "rep                                                                      \n",
      "nom_voie                                             Chemin sous la Ville\n",
      "code_postal                                                          1640\n",
      "nom_commune                                           Saint-Jean-le-Vieux\n",
      "alias                                                                    \n",
      "nom_ld                                                                   \n",
      "libelle_acheminement                                  SAINT-JEAN-LE-VIEUX\n",
      "nom_afnor                                            CHEMIN SOUS LA VILLE\n",
      "full_add                147 Chemin sous la Ville 1640 Saint-Jean-le-Vieux\n",
      "Name: 55466, dtype: object\n"
     ]
    },
    {
     "data": {
      "text/plain": "(6, 111111)"
     },
     "execution_count": 245,
     "metadata": {},
     "output_type": "execute_result"
    }
   ],
   "source": [
    "row = df_addresses.iloc[55466]\n",
    "split_adr = Address(**chain.invoke({\"address\": row['full_add']}))\n",
    "score = score_ban_from_split(split_adr, row)\n",
    "score"
   ],
   "metadata": {
    "collapsed": false,
    "ExecuteTime": {
     "end_time": "2024-02-11T20:10:33.433290584Z",
     "start_time": "2024-02-11T20:10:32.587825558Z"
    }
   },
   "id": "aa1652e42d8f5a45",
   "execution_count": 245
  },
  {
   "cell_type": "markdown",
   "source": [
    "### Score Compute\n",
    "\n",
    "We need to take a portion of the data set in order to minimize the cost"
   ],
   "metadata": {
    "collapsed": false
   },
   "id": "4408949061423da4"
  },
  {
   "cell_type": "code",
   "outputs": [
    {
     "data": {
      "text/plain": "(265542, 11)"
     },
     "execution_count": 249,
     "metadata": {},
     "output_type": "execute_result"
    }
   ],
   "source": [
    "df_addresses.shape"
   ],
   "metadata": {
    "collapsed": false,
    "ExecuteTime": {
     "end_time": "2024-02-11T20:25:42.259826091Z",
     "start_time": "2024-02-11T20:25:42.210512230Z"
    }
   },
   "id": "bdee4447d0593021",
   "execution_count": 249
  },
  {
   "cell_type": "code",
   "outputs": [
    {
     "data": {
      "text/plain": "(100, 11)"
     },
     "execution_count": 278,
     "metadata": {},
     "output_type": "execute_result"
    }
   ],
   "source": [
    "df_test = df_addresses[:100].copy()\n",
    "df_test.shape"
   ],
   "metadata": {
    "collapsed": false,
    "ExecuteTime": {
     "end_time": "2024-02-11T20:36:35.676178190Z",
     "start_time": "2024-02-11T20:36:35.628408480Z"
    }
   },
   "id": "d4e375483acadbb1",
   "execution_count": 278
  },
  {
   "cell_type": "code",
   "outputs": [],
   "source": [
    "def score_row(_row : pd.Series) -> tuple[int, int]:\n",
    "    _split_adr = Address(**chain.invoke({\"address\": row['full_add']}))\n",
    "    return score_ban_from_split(_split_adr, row)"
   ],
   "metadata": {
    "collapsed": false,
    "ExecuteTime": {
     "end_time": "2024-02-11T20:35:55.727852706Z",
     "start_time": "2024-02-11T20:35:55.714153907Z"
    }
   },
   "id": "d0a52a57a38ea258",
   "execution_count": 270
  },
  {
   "cell_type": "code",
   "outputs": [
    {
     "data": {
      "text/plain": "6"
     },
     "execution_count": 265,
     "metadata": {},
     "output_type": "execute_result"
    }
   ],
   "source": [
    "score_row(df_addresses.iloc[55466])"
   ],
   "metadata": {
    "collapsed": false,
    "ExecuteTime": {
     "end_time": "2024-02-11T20:34:53.370159115Z",
     "start_time": "2024-02-11T20:34:52.583652785Z"
    }
   },
   "id": "e80f7030b1a6ce5d",
   "execution_count": 265
  },
  {
   "cell_type": "code",
   "outputs": [],
   "source": [],
   "metadata": {
    "collapsed": false
   },
   "id": "5527ca698941291d"
  },
  {
   "cell_type": "code",
   "outputs": [],
   "source": [
    "df_test['score'] = df_test.apply(lambda _row: score_row(_row), axis=1)"
   ],
   "metadata": {
    "collapsed": false,
    "ExecuteTime": {
     "end_time": "2024-02-11T20:37:57.782652397Z",
     "start_time": "2024-02-11T20:36:39.501557140Z"
    }
   },
   "id": "752652d0cad84c91",
   "execution_count": 279
  },
  {
   "cell_type": "code",
   "outputs": [
    {
     "data": {
      "text/plain": "                    id  numero rep            nom_voie  code_postal  \\\n0   01001_4b50r5_00630     630               la Chèvre         1400   \n1   01001_g0ru02_00108     108               Clemencia         1400   \n2   01001_ngzlqw_00009       9            Imp des Epis         1400   \n3   01001_ngzlqw_00023      23            Imp des Epis         1400   \n4   01001_ngzlqw_00026      26            Imp des Epis         1400   \n..                 ...     ...  ..                 ...          ...   \n95    01001_0175_00272     272      Route des Garaudes         1400   \n96    01001_0175_00288     288      Route des Garaudes         1400   \n97    01001_0175_00295     295      Route des Garaudes         1400   \n98    01001_0175_00327     327      Route des Garaudes         1400   \n99    01001_0175_00328     328      Route des Garaudes         1400   \n\n                nom_commune alias nom_ld     libelle_acheminement  \\\n0   L'Abergement-Clémenciat               L'ABERGEMENT-CLEMENCIAT   \n1   L'Abergement-Clémenciat               L'ABERGEMENT-CLEMENCIAT   \n2   L'Abergement-Clémenciat               L'ABERGEMENT-CLEMENCIAT   \n3   L'Abergement-Clémenciat               L'ABERGEMENT-CLEMENCIAT   \n4   L'Abergement-Clémenciat               L'ABERGEMENT-CLEMENCIAT   \n..                      ...   ...    ...                      ...   \n95  L'Abergement-Clémenciat               L'ABERGEMENT-CLEMENCIAT   \n96  L'Abergement-Clémenciat               L'ABERGEMENT-CLEMENCIAT   \n97  L'Abergement-Clémenciat               L'ABERGEMENT-CLEMENCIAT   \n98  L'Abergement-Clémenciat               L'ABERGEMENT-CLEMENCIAT   \n99  L'Abergement-Clémenciat               L'ABERGEMENT-CLEMENCIAT   \n\n             nom_afnor                                           full_add  \\\n0            LA CHEVRE         630 la Chèvre 1400 L'Abergement-Clémenciat   \n1            CLEMENCIA         108 Clemencia 1400 L'Abergement-Clémenciat   \n2         IMP DES EPIS        9 Imp des Epis 1400 L'Abergement-Clémenciat   \n3         IMP DES EPIS       23 Imp des Epis 1400 L'Abergement-Clémenciat   \n4         IMP DES EPIS       26 Imp des Epis 1400 L'Abergement-Clémenciat   \n..                 ...                                                ...   \n95  ROUTE DES GARAUDES  272 Route des Garaudes 1400 L'Abergement-Cléme...   \n96  ROUTE DES GARAUDES  288 Route des Garaudes 1400 L'Abergement-Cléme...   \n97  ROUTE DES GARAUDES  295 Route des Garaudes 1400 L'Abergement-Cléme...   \n98  ROUTE DES GARAUDES  327 Route des Garaudes 1400 L'Abergement-Cléme...   \n99  ROUTE DES GARAUDES  328 Route des Garaudes 1400 L'Abergement-Cléme...   \n\n          score  \n0   (6, 111111)  \n1   (6, 111111)  \n2   (6, 111111)  \n3   (6, 111111)  \n4   (6, 111111)  \n..          ...  \n95  (6, 111111)  \n96  (6, 111111)  \n97  (6, 111111)  \n98  (6, 111111)  \n99  (6, 111111)  \n\n[100 rows x 12 columns]",
      "text/html": "<div>\n<style scoped>\n    .dataframe tbody tr th:only-of-type {\n        vertical-align: middle;\n    }\n\n    .dataframe tbody tr th {\n        vertical-align: top;\n    }\n\n    .dataframe thead th {\n        text-align: right;\n    }\n</style>\n<table border=\"1\" class=\"dataframe\">\n  <thead>\n    <tr style=\"text-align: right;\">\n      <th></th>\n      <th>id</th>\n      <th>numero</th>\n      <th>rep</th>\n      <th>nom_voie</th>\n      <th>code_postal</th>\n      <th>nom_commune</th>\n      <th>alias</th>\n      <th>nom_ld</th>\n      <th>libelle_acheminement</th>\n      <th>nom_afnor</th>\n      <th>full_add</th>\n      <th>score</th>\n    </tr>\n  </thead>\n  <tbody>\n    <tr>\n      <th>0</th>\n      <td>01001_4b50r5_00630</td>\n      <td>630</td>\n      <td></td>\n      <td>la Chèvre</td>\n      <td>1400</td>\n      <td>L'Abergement-Clémenciat</td>\n      <td></td>\n      <td></td>\n      <td>L'ABERGEMENT-CLEMENCIAT</td>\n      <td>LA CHEVRE</td>\n      <td>630 la Chèvre 1400 L'Abergement-Clémenciat</td>\n      <td>(6, 111111)</td>\n    </tr>\n    <tr>\n      <th>1</th>\n      <td>01001_g0ru02_00108</td>\n      <td>108</td>\n      <td></td>\n      <td>Clemencia</td>\n      <td>1400</td>\n      <td>L'Abergement-Clémenciat</td>\n      <td></td>\n      <td></td>\n      <td>L'ABERGEMENT-CLEMENCIAT</td>\n      <td>CLEMENCIA</td>\n      <td>108 Clemencia 1400 L'Abergement-Clémenciat</td>\n      <td>(6, 111111)</td>\n    </tr>\n    <tr>\n      <th>2</th>\n      <td>01001_ngzlqw_00009</td>\n      <td>9</td>\n      <td></td>\n      <td>Imp des Epis</td>\n      <td>1400</td>\n      <td>L'Abergement-Clémenciat</td>\n      <td></td>\n      <td></td>\n      <td>L'ABERGEMENT-CLEMENCIAT</td>\n      <td>IMP DES EPIS</td>\n      <td>9 Imp des Epis 1400 L'Abergement-Clémenciat</td>\n      <td>(6, 111111)</td>\n    </tr>\n    <tr>\n      <th>3</th>\n      <td>01001_ngzlqw_00023</td>\n      <td>23</td>\n      <td></td>\n      <td>Imp des Epis</td>\n      <td>1400</td>\n      <td>L'Abergement-Clémenciat</td>\n      <td></td>\n      <td></td>\n      <td>L'ABERGEMENT-CLEMENCIAT</td>\n      <td>IMP DES EPIS</td>\n      <td>23 Imp des Epis 1400 L'Abergement-Clémenciat</td>\n      <td>(6, 111111)</td>\n    </tr>\n    <tr>\n      <th>4</th>\n      <td>01001_ngzlqw_00026</td>\n      <td>26</td>\n      <td></td>\n      <td>Imp des Epis</td>\n      <td>1400</td>\n      <td>L'Abergement-Clémenciat</td>\n      <td></td>\n      <td></td>\n      <td>L'ABERGEMENT-CLEMENCIAT</td>\n      <td>IMP DES EPIS</td>\n      <td>26 Imp des Epis 1400 L'Abergement-Clémenciat</td>\n      <td>(6, 111111)</td>\n    </tr>\n    <tr>\n      <th>...</th>\n      <td>...</td>\n      <td>...</td>\n      <td>...</td>\n      <td>...</td>\n      <td>...</td>\n      <td>...</td>\n      <td>...</td>\n      <td>...</td>\n      <td>...</td>\n      <td>...</td>\n      <td>...</td>\n      <td>...</td>\n    </tr>\n    <tr>\n      <th>95</th>\n      <td>01001_0175_00272</td>\n      <td>272</td>\n      <td></td>\n      <td>Route des Garaudes</td>\n      <td>1400</td>\n      <td>L'Abergement-Clémenciat</td>\n      <td></td>\n      <td></td>\n      <td>L'ABERGEMENT-CLEMENCIAT</td>\n      <td>ROUTE DES GARAUDES</td>\n      <td>272 Route des Garaudes 1400 L'Abergement-Cléme...</td>\n      <td>(6, 111111)</td>\n    </tr>\n    <tr>\n      <th>96</th>\n      <td>01001_0175_00288</td>\n      <td>288</td>\n      <td></td>\n      <td>Route des Garaudes</td>\n      <td>1400</td>\n      <td>L'Abergement-Clémenciat</td>\n      <td></td>\n      <td></td>\n      <td>L'ABERGEMENT-CLEMENCIAT</td>\n      <td>ROUTE DES GARAUDES</td>\n      <td>288 Route des Garaudes 1400 L'Abergement-Cléme...</td>\n      <td>(6, 111111)</td>\n    </tr>\n    <tr>\n      <th>97</th>\n      <td>01001_0175_00295</td>\n      <td>295</td>\n      <td></td>\n      <td>Route des Garaudes</td>\n      <td>1400</td>\n      <td>L'Abergement-Clémenciat</td>\n      <td></td>\n      <td></td>\n      <td>L'ABERGEMENT-CLEMENCIAT</td>\n      <td>ROUTE DES GARAUDES</td>\n      <td>295 Route des Garaudes 1400 L'Abergement-Cléme...</td>\n      <td>(6, 111111)</td>\n    </tr>\n    <tr>\n      <th>98</th>\n      <td>01001_0175_00327</td>\n      <td>327</td>\n      <td></td>\n      <td>Route des Garaudes</td>\n      <td>1400</td>\n      <td>L'Abergement-Clémenciat</td>\n      <td></td>\n      <td></td>\n      <td>L'ABERGEMENT-CLEMENCIAT</td>\n      <td>ROUTE DES GARAUDES</td>\n      <td>327 Route des Garaudes 1400 L'Abergement-Cléme...</td>\n      <td>(6, 111111)</td>\n    </tr>\n    <tr>\n      <th>99</th>\n      <td>01001_0175_00328</td>\n      <td>328</td>\n      <td></td>\n      <td>Route des Garaudes</td>\n      <td>1400</td>\n      <td>L'Abergement-Clémenciat</td>\n      <td></td>\n      <td></td>\n      <td>L'ABERGEMENT-CLEMENCIAT</td>\n      <td>ROUTE DES GARAUDES</td>\n      <td>328 Route des Garaudes 1400 L'Abergement-Cléme...</td>\n      <td>(6, 111111)</td>\n    </tr>\n  </tbody>\n</table>\n<p>100 rows × 12 columns</p>\n</div>"
     },
     "execution_count": 280,
     "metadata": {},
     "output_type": "execute_result"
    }
   ],
   "source": [
    "df_test"
   ],
   "metadata": {
    "collapsed": false,
    "ExecuteTime": {
     "end_time": "2024-02-11T20:37:57.829560084Z",
     "start_time": "2024-02-11T20:37:57.823284651Z"
    }
   },
   "id": "a128dc6d8f4e20dc",
   "execution_count": 280
  }
 ],
 "metadata": {
  "kernelspec": {
   "display_name": "Python 3 (ipykernel)",
   "language": "python",
   "name": "python3"
  },
  "language_info": {
   "codemirror_mode": {
    "name": "ipython",
    "version": 3
   },
   "file_extension": ".py",
   "mimetype": "text/x-python",
   "name": "python",
   "nbconvert_exporter": "python",
   "pygments_lexer": "ipython3",
   "version": "3.11.7"
  }
 },
 "nbformat": 4,
 "nbformat_minor": 5
}
