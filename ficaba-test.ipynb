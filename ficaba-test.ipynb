{
 "cells": [
  {
   "cell_type": "markdown",
   "id": "179ece711c060cec",
   "metadata": {},
   "source": [
    "# Address Parser\n",
    "\n",
    "Is able to recognize named entities and format outputs based on a defined schema"
   ]
  },
  {
   "cell_type": "code",
   "execution_count": 1,
   "id": "ca1d5a28dab31b08",
   "metadata": {
    "ExecuteTime": {
     "end_time": "2024-02-08T09:42:16.690414484Z",
     "start_time": "2024-02-08T09:42:16.689317152Z"
    }
   },
   "outputs": [],
   "source": [
    "\n",
    "\n",
    "GCP_PROJECT_NAME = \"single-azimuth-413609\""
   ]
  },
  {
   "cell_type": "code",
   "execution_count": 2,
   "id": "b3242ad3-7a3d-4cfa-a98b-b4cebd7b998e",
   "metadata": {
    "scrolled": true,
    "ExecuteTime": {
     "end_time": "2024-02-08T09:42:22.263666854Z",
     "start_time": "2024-02-08T09:42:19.180807119Z"
    }
   },
   "outputs": [
    {
     "name": "stdout",
     "output_type": "stream",
     "text": [
      "\r\n",
      "\u001B[1m[\u001B[0m\u001B[34;49mnotice\u001B[0m\u001B[1;39;49m]\u001B[0m\u001B[39;49m A new release of pip available: \u001B[0m\u001B[31;49m22.3.1\u001B[0m\u001B[39;49m -> \u001B[0m\u001B[32;49m24.0\u001B[0m\r\n",
      "\u001B[1m[\u001B[0m\u001B[34;49mnotice\u001B[0m\u001B[1;39;49m]\u001B[0m\u001B[39;49m To update, run: \u001B[0m\u001B[32;49mpip install --upgrade pip\u001B[0m\r\n",
      "\r\n",
      "\u001B[1m[\u001B[0m\u001B[34;49mnotice\u001B[0m\u001B[1;39;49m]\u001B[0m\u001B[39;49m A new release of pip available: \u001B[0m\u001B[31;49m22.3.1\u001B[0m\u001B[39;49m -> \u001B[0m\u001B[32;49m24.0\u001B[0m\r\n",
      "\u001B[1m[\u001B[0m\u001B[34;49mnotice\u001B[0m\u001B[1;39;49m]\u001B[0m\u001B[39;49m To update, run: \u001B[0m\u001B[32;49mpip install --upgrade pip\u001B[0m\r\n"
     ]
    }
   ],
   "source": [
    "!pip install --quiet --upgrade google-cloud-aiplatform \n",
    "!pip install --quiet --upgrade google-auth\n"
   ]
  },
  {
   "cell_type": "code",
   "execution_count": 3,
   "id": "4cae5ee3-d532-403a-93ed-4d3887a137e9",
   "metadata": {
    "ExecuteTime": {
     "end_time": "2024-02-08T09:42:32.978478065Z",
     "start_time": "2024-02-08T09:42:23.908489716Z"
    }
   },
   "outputs": [
    {
     "name": "stdout",
     "output_type": "stream",
     "text": [
      "Your browser has been opened to visit:\r\n",
      "\r\n",
      "    https://accounts.google.com/o/oauth2/auth?response_type=code&client_id=764086051850-6qr4p6gpi6hn506pt8ejuq83di341hur.apps.googleusercontent.com&redirect_uri=http%3A%2F%2Flocalhost%3A8085%2F&scope=openid+https%3A%2F%2Fwww.googleapis.com%2Fauth%2Fuserinfo.email+https%3A%2F%2Fwww.googleapis.com%2Fauth%2Fcloud-platform+https%3A%2F%2Fwww.googleapis.com%2Fauth%2Fsqlservice.login+https%3A%2F%2Fwww.googleapis.com%2Fauth%2Fdrive+https%3A%2F%2Fwww.googleapis.com%2Fauth%2Faccounts.reauth&state=4oCvq3SgCR1jnwxtixGt6ZhLgBjEdr&access_type=offline&code_challenge=02T-ecmi9TvqMRQBMLwo_sVSitQqmN2SprRemd3fwfU&code_challenge_method=S256\r\n",
      "\r\n",
      "\r\n",
      "Credentials saved to file: [/home/vincent/.config/gcloud/application_default_credentials.json]\r\n",
      "\r\n",
      "These credentials will be used by any library that requests Application Default Credentials (ADC).\r\n",
      "\r\n",
      "Quota project \"single-azimuth-413609\" was added to ADC which can be used by Google client libraries for billing and quota. Note that some services may still bill the project owning the resource.\r\n"
     ]
    }
   ],
   "source": [
    "!gcloud auth application-default login --scopes=openid,https://www.googleapis.com/auth/userinfo.email,https://www.googleapis.com/auth/cloud-platform,https://www.googleapis.com/auth/sqlservice.login,https://www.googleapis.com/auth/drive"
   ]
  },
  {
   "cell_type": "code",
   "execution_count": 4,
   "id": "49f6d9c4-8ae1-428b-8d91-c218af8e41d8",
   "metadata": {
    "ExecuteTime": {
     "end_time": "2024-02-08T09:42:40.714172716Z",
     "start_time": "2024-02-08T09:42:39.301726375Z"
    }
   },
   "outputs": [
    {
     "name": "stdout",
     "output_type": "stream",
     "text": [
      "Updated property [core/project].\r\n"
     ]
    }
   ],
   "source": [
    "!gcloud config set project {GCP_PROJECT_NAME}"
   ]
  },
  {
   "cell_type": "code",
   "execution_count": 5,
   "id": "f9b0465a-4e53-433e-ac0c-244de5cb53bd",
   "metadata": {
    "ExecuteTime": {
     "end_time": "2024-02-08T09:42:43.514547358Z",
     "start_time": "2024-02-08T09:42:41.921417968Z"
    }
   },
   "outputs": [],
   "source": [
    "!gcloud services enable aiplatform.googleapis.com"
   ]
  },
  {
   "cell_type": "code",
   "execution_count": 8,
   "id": "dee27648-0af0-42f8-9aae-8e48ca31322e",
   "metadata": {
    "ExecuteTime": {
     "end_time": "2024-02-08T09:44:34.982955170Z",
     "start_time": "2024-02-08T09:44:34.391777863Z"
    }
   },
   "outputs": [],
   "source": [
    "# Importing the library \n",
    "import google.auth\n",
    "\n",
    "# Setting up credentials\n",
    "credentials, _ = google.auth.default()\n",
    "# authed_http = google.auth.transport.requests.AuthorizedSession(credentials)"
   ]
  },
  {
   "cell_type": "code",
   "execution_count": 9,
   "id": "775902c37c5f6779",
   "metadata": {
    "ExecuteTime": {
     "end_time": "2024-02-08T09:46:20.312113854Z",
     "start_time": "2024-02-08T09:46:18.274390075Z"
    }
   },
   "outputs": [],
   "source": [
    "import vertexai\n",
    "from vertexai.preview.language_models import TextGenerationModel\n",
    "\n",
    "vertexai.init(project=GCP_PROJECT_NAME, location=\"us-central1\")\n",
    "parameters = {\n",
    "    \"candidate_count\": 1,\n",
    "    \"max_output_tokens\": 126,\n",
    "    \"temperature\": 0,\n",
    "    \"top_p\": 1\n",
    "}\n",
    "model = TextGenerationModel.from_pretrained(\"text-bison\")\n"
   ]
  },
  {
   "cell_type": "markdown",
   "id": "a6c24cde-8f6a-4093-986c-4fd93c2465d2",
   "metadata": {},
   "source": [
    "## Basic french address"
   ]
  },
  {
   "cell_type": "code",
   "execution_count": 10,
   "id": "637ff1f5-b7c9-41dd-8a97-e02bb815e8c0",
   "metadata": {
    "ExecuteTime": {
     "end_time": "2024-02-08T09:46:27.991623573Z",
     "start_time": "2024-02-08T09:46:25.643012577Z"
    }
   },
   "outputs": [
    {
     "name": "stdout",
     "output_type": "stream",
     "text": [
      "Response from Model:  {\n",
      "  \"street_number\": \"1\",\n",
      "  \"street_type\": \"rue\",\n",
      "  \"street_name\": \"de la Paix\",\n",
      "  \"zip_code\": \"75008\",\n",
      "  \"city\": \"Paris\",\n",
      "  \"confidence\": 1\n",
      "}\n"
     ]
    }
   ],
   "source": [
    "response = model.predict(\n",
    "    \"\"\"Extract and split the address parameters from the text below in a JSON format.\n",
    "be very precise, differentiate the street number, multiplier, street type, street name, zip code, city\n",
    "provide a rating number to indicate your confidence level. 0 is the lowest confidence, 1 is the maximum.\n",
    "provide only one response for one address input\n",
    "\n",
    "Text: 37, rue du champ du pardon, 76000 rouen\n",
    "JSON: Text: 37, rue du champ du pardon, 76000 rouen\n",
    "JSON: {\n",
    "  \\\"street_number\\\": \\\"37\\\",\n",
    "  \\\"street_type\\\": \\\"rue\\\",\n",
    "  \\\"street_name\\\": \\\"du champ du pardon\\\",\n",
    "  \\\"zip_code\\\": \\\"76000\\\",\n",
    "  \\\"city\\\": \\\"rouen\\\",\n",
    "  \\\"confidence\\\": 1\n",
    "}\n",
    "\n",
    "Text: 10-82 Cavée St Gervais, 76000 rouen\n",
    "JSON: Text: 10-82 Cavée St Gervais, 76000 rouen\n",
    "JSON: {\n",
    "  \\\"street_number\\\": \\\"10-82\\\",\n",
    "  \\\"street_type\\\": \\\"Cavée\\\",\n",
    "  \\\"street_name\\\": \\\"St Gervais\\\",\n",
    "  \\\"zip_code\\\": \\\"76000\\\",\n",
    "  \\\"city\\\": \\\"rouen\\\",\n",
    "  \\\"confidence\\\": 1\n",
    "}\n",
    "\n",
    "Text: 1, rue de la Paix, 75008 Paris\n",
    "JSON:\n",
    "\"\"\",\n",
    "    **parameters\n",
    ")\n",
    "print(f\"Response from Model: {response.text}\")"
   ]
  },
  {
   "cell_type": "markdown",
   "id": "62753566-c97d-4878-9542-634b362c6b73",
   "metadata": {},
   "source": [
    "### Unusual French address"
   ]
  },
  {
   "cell_type": "code",
   "execution_count": 11,
   "id": "6ca67753-ae7e-4607-bc5c-6c368e77203c",
   "metadata": {
    "ExecuteTime": {
     "end_time": "2024-02-08T08:22:02.987981651Z",
     "start_time": "2024-02-08T08:22:02.195509924Z"
    },
    "scrolled": true
   },
   "outputs": [
    {
     "name": "stdout",
     "output_type": "stream",
     "text": [
      "Response from Model:  {\n",
      "  \"street_number\": \"78\",\n",
      "  \"street_multiplier\": \"bis\",\n",
      "  \"street_type\": \"Cavee\",\n",
      "  \"street_name\": \"des Ecameaux\",\n",
      "  \"zip_code\": \"76500\",\n",
      "  \"city\": \"Elbeuf\",\n",
      "  \"confidence\": 1\n",
      "}\n"
     ]
    }
   ],
   "source": [
    "response = model.predict(\n",
    "    \"\"\"Extract and split the address parameters from the text below in a JSON format.\n",
    "be very precise, differentiate the street number, multiplier, street type, street name, zip code, city\n",
    "provide a rating number to indicate your confidence level. 0 is the lowest confidence, 1 is the maximum.\n",
    "provide only one response for one address input\n",
    "\n",
    "Text: 37, rue du champ du pardon, 76000 rouen\n",
    "JSON: Text: 37, rue du champ du pardon, 76000 rouen\n",
    "JSON: {\n",
    "  \\\"street_number\\\": \\\"37\\\",\n",
    "  \\\"street_type\\\": \\\"rue\\\",\n",
    "  \\\"street_name\\\": \\\"du champ du pardon\\\",\n",
    "  \\\"zip_code\\\": \\\"76000\\\",\n",
    "  \\\"city\\\": \\\"rouen\\\",\n",
    "  \\\"confidence\\\": 1\n",
    "}\n",
    "\n",
    "Text: 10-82 Cavée St Gervais, 76000 rouen\n",
    "JSON: Text: 10-82 Cavée St Gervais, 76000 rouen\n",
    "JSON: {\n",
    "  \\\"street_number\\\": \\\"10-82\\\",\n",
    "  \\\"street_type\\\": \\\"Cavée\\\",\n",
    "  \\\"street_name\\\": \\\"St Gervais\\\",\n",
    "  \\\"zip_code\\\": \\\"76000\\\",\n",
    "  \\\"city\\\": \\\"rouen\\\",\n",
    "  \\\"confidence\\\": 1\n",
    "}\n",
    "\n",
    "Text: 78 bis Cavee des Ecameaux 76500 Elbeuf\n",
    "JSON:\n",
    "\"\"\",\n",
    "    **parameters\n",
    ")\n",
    "print(f\"Response from Model: {response.text}\")"
   ]
  },
  {
   "cell_type": "code",
   "execution_count": 12,
   "id": "413eea8e-c5e5-47ed-8fb1-2d488929a52f",
   "metadata": {
    "ExecuteTime": {
     "end_time": "2024-02-08T08:23:08.723293398Z",
     "start_time": "2024-02-08T08:23:07.886492894Z"
    }
   },
   "outputs": [
    {
     "name": "stdout",
     "output_type": "stream",
     "text": [
      "Response from Model:  {\n",
      "  \"street_number\": \"78\",\n",
      "  \"street_multiplier\": \"bis\",\n",
      "  \"street_type\": \"Cavee\",\n",
      "  \"street_name\": \"des Ecameaux\",\n",
      "  \"zip_code\": \"76500\",\n",
      "  \"city\": \"Elbeuf\",\n",
      "  \"confidence\": 1\n",
      "}\n"
     ]
    }
   ],
   "source": [
    "response = model.predict(\n",
    "    \"\"\"Extract and split the address parameters from the text below in a JSON format.\n",
    "be very precise, differentiate the street number, multiplier, street type, street name, zip code, city\n",
    "provide a rating number to indicate your confidence level. 0 is the lowest confidence, 1 is the maximum.\n",
    "provide only one response for one address input\n",
    "\n",
    "Text: 37, rue du champ du pardon, 76000 rouen\n",
    "JSON: Text: 37, rue du champ du pardon, 76000 rouen\n",
    "JSON: {\n",
    "  \\\"street_number\\\": \\\"37\\\",\n",
    "  \\\"street_type\\\": \\\"rue\\\",\n",
    "  \\\"street_name\\\": \\\"du champ du pardon\\\",\n",
    "  \\\"zip_code\\\": \\\"76000\\\",\n",
    "  \\\"city\\\": \\\"rouen\\\",\n",
    "  \\\"confidence\\\": 1\n",
    "}\n",
    "\n",
    "Text: 78 bis Cavee des Ecameaux 76500 Elbeuf\n",
    "JSON:\n",
    "\"\"\",\n",
    "    **parameters\n",
    ")\n",
    "print(f\"Response from Model: {response.text}\")"
   ]
  },
  {
   "cell_type": "markdown",
   "id": "7978bb58-65a9-48c9-82f7-f2361954ed34",
   "metadata": {},
   "source": [
    "## Complex US address"
   ]
  },
  {
   "cell_type": "code",
   "execution_count": 13,
   "id": "dba8c333-cd10-468f-9889-dd29aa7782f9",
   "metadata": {
    "ExecuteTime": {
     "end_time": "2024-02-08T08:23:11.812618419Z",
     "start_time": "2024-02-08T08:23:10.856853789Z"
    }
   },
   "outputs": [
    {
     "name": "stdout",
     "output_type": "stream",
     "text": [
      "Response from Model:  {\n",
      "  \"street_number\": \"111\",\n",
      "  \"street_multiplier\": \"8th\",\n",
      "  \"street_type\": \"Ave\",\n",
      "  \"street_name\": \"Ste 1509\",\n",
      "  \"zip_code\": \"74136-1922\",\n",
      "  \"city\": \"Oklahoma\",\n",
      "  \"country\": \"USA\",\n",
      "  \"confidence\": 1\n",
      "}\n"
     ]
    }
   ],
   "source": [
    "response = model.predict(\n",
    "    \"\"\"Extract and split the address parameters from the text below in a JSON format.\n",
    "be very precise, differentiate the street number, multiplier, street type, street name, zip code, city\n",
    "provide a rating number to indicate your confidence level. 0 is the lowest confidence, 1 is the maximum.\n",
    "provide only one response for one address input\n",
    "\n",
    "Text: 37, rue du champ du pardon, 76000 rouen\n",
    "JSON: Text: 37, rue du champ du pardon, 76000 rouen\n",
    "JSON: {\n",
    "  \\\"street_number\\\": \\\"37\\\",\n",
    "  \\\"street_type\\\": \\\"rue\\\",\n",
    "  \\\"street_name\\\": \\\"du champ du pardon\\\",\n",
    "  \\\"zip_code\\\": \\\"76000\\\",\n",
    "  \\\"city\\\": \\\"rouen\\\",\n",
    "  \\\"confidence\\\": 1\n",
    "}\n",
    "\n",
    "Text: 10-82 Cavée St Gervais, 76000 rouen\n",
    "JSON: Text: 10-82 Cavée St Gervais, 76000 rouen\n",
    "JSON: {\n",
    "  \\\"street_number\\\": \\\"10-82\\\",\n",
    "  \\\"street_type\\\": \\\"Cavée\\\",\n",
    "  \\\"street_name\\\": \\\"St Gervais\\\",\n",
    "  \\\"zip_code\\\": \\\"76000\\\",\n",
    "  \\\"city\\\": \\\"rouen\\\",\n",
    "  \\\"confidence\\\": 1\n",
    "}\n",
    "\n",
    "Text: C/o John Doe LLC, 111, 8th Ave Ste 1509, Oklahoma, 74136-1922, USA\n",
    "JSON:\n",
    "\"\"\",\n",
    "    **parameters\n",
    ")\n",
    "print(f\"Response from Model: {response.text}\")"
   ]
  },
  {
   "cell_type": "markdown",
   "id": "fa972c45-954e-4f02-a3d0-ad82862ceb1f",
   "metadata": {},
   "source": [
    "## German address \n",
    "\n",
    "generator at: https://tarjeta-credito.net/cvv/address-gen-germany/"
   ]
  },
  {
   "cell_type": "code",
   "execution_count": 14,
   "id": "a28123c6-90eb-4cb1-833d-337ef946a0bd",
   "metadata": {
    "ExecuteTime": {
     "end_time": "2024-02-08T08:23:14.536764258Z",
     "start_time": "2024-02-08T08:23:13.682352185Z"
    }
   },
   "outputs": [
    {
     "name": "stdout",
     "output_type": "stream",
     "text": [
      "Response from Model:  {\n",
      "  \"street_number\": \"1\",\n",
      "  \"street_type\": \"Str.\",\n",
      "  \"street_name\": \"Haßfurter\",\n",
      "  \"zip_code\": \"91056\",\n",
      "  \"city\": \"Erlangen\",\n",
      "  \"country\": \"Germany\",\n",
      "  \"confidence\": 1\n",
      "}\n"
     ]
    }
   ],
   "source": [
    "response = model.predict(\n",
    "    \"\"\"Extract and split the address parameters from the text below in a JSON format.\n",
    "be very precise, differentiate the street number, multiplier, street type, street name, zip code, city\n",
    "provide a rating number to indicate your confidence level. 0 is the lowest confidence, 1 is the maximum.\n",
    "provide only one response for one address input\n",
    "\n",
    "Text: 37, rue du champ du pardon, 76000 rouen\n",
    "JSON: Text: 37, rue du champ du pardon, 76000 rouen\n",
    "JSON: {\n",
    "  \\\"street_number\\\": \\\"37\\\",\n",
    "  \\\"street_type\\\": \\\"rue\\\",\n",
    "  \\\"street_name\\\": \\\"du champ du pardon\\\",\n",
    "  \\\"zip_code\\\": \\\"76000\\\",\n",
    "  \\\"city\\\": \\\"rouen\\\",\n",
    "  \\\"confidence\\\": 1\n",
    "}\n",
    "\n",
    "Text: 10-82 Cavée St Gervais, 76000 rouen\n",
    "JSON: Text: 10-82 Cavée St Gervais, 76000 rouen\n",
    "JSON: {\n",
    "  \\\"street_number\\\": \\\"10-82\\\",\n",
    "  \\\"street_type\\\": \\\"Cavée\\\",\n",
    "  \\\"street_name\\\": \\\"St Gervais\\\",\n",
    "  \\\"zip_code\\\": \\\"76000\\\",\n",
    "  \\\"city\\\": \\\"rouen\\\",\n",
    "  \\\"confidence\\\": 1\n",
    "}\n",
    "\n",
    "Text: Haßfurter Str. 1, 91056 Erlangen, Germany.\n",
    "JSON:\n",
    "\"\"\",\n",
    "    **parameters\n",
    ")\n",
    "print(f\"Response from Model: {response.text}\")"
   ]
  },
  {
   "cell_type": "markdown",
   "id": "936d8c91-028e-43f1-a397-68266f6e9625",
   "metadata": {},
   "source": [
    "### german address with Country not mentionned"
   ]
  },
  {
   "cell_type": "code",
   "execution_count": 15,
   "id": "82c9c461-deb0-41e3-8250-3279343731d6",
   "metadata": {
    "ExecuteTime": {
     "end_time": "2024-02-08T08:23:16.631464748Z",
     "start_time": "2024-02-08T08:23:15.540425394Z"
    }
   },
   "outputs": [
    {
     "name": "stdout",
     "output_type": "stream",
     "text": [
      "Response from Model:  {\n",
      "  \"street_number\": \"9\",\n",
      "  \"street_name\": \"Auschnippe\",\n",
      "  \"zip_code\": \"37170\",\n",
      "  \"city\": \"Uslar\",\n",
      "  \"country\": \"Germany\",\n",
      "  \"confidence\": 1\n",
      "}\n"
     ]
    }
   ],
   "source": [
    "response = model.predict(\n",
    "    \"\"\"Extract and split the address parameters from the text below in a JSON format.\n",
    "be very precise, differentiate the street number, multiplier, street type, street name, zip code, city and country\n",
    "provide a rating number to indicate your confidence level. 0 is the lowest confidence, 1 is the maximum.\n",
    "provide only one response for one address input\n",
    "\n",
    "Text: 37, rue du champ du pardon, 76000 rouen\n",
    "JSON: Text: 37, rue du champ du pardon, 76000 rouen\n",
    "JSON: {\n",
    "  \\\"street_number\\\": \\\"37\\\",\n",
    "  \\\"street_type\\\": \\\"rue\\\",\n",
    "  \\\"street_name\\\": \\\"du champ du pardon\\\",\n",
    "  \\\"zip_code\\\": \\\"76000\\\",\n",
    "  \\\"city\\\": \\\"rouen\\\",\n",
    "  \\\"country\\\": \\\"France\\\",\n",
    "  \\\"confidence\\\": 1\n",
    "}\n",
    "\n",
    "Text: 10-82 Cavée St Gervais, 76000 rouen\n",
    "JSON: Text: 10-82 Cavée St Gervais, 76000 rouen\n",
    "JSON: {\n",
    "  \\\"street_number\\\": \\\"10-82\\\",\n",
    "  \\\"street_type\\\": \\\"Cavée\\\",\n",
    "  \\\"street_name\\\": \\\"St Gervais\\\",\n",
    "  \\\"zip_code\\\": \\\"76000\\\",\n",
    "  \\\"city\\\": \\\"rouen\\\",\n",
    "  \\\"country\\\": \\\"France\\\",\n",
    "  \\\"confidence\\\": 1\n",
    "}\n",
    "\n",
    "Text: Auschnippe 9, 37170 Uslar\n",
    "JSON:\n",
    "\"\"\",\n",
    "    **parameters\n",
    ")\n",
    "print(f\"Response from Model: {response.text}\")"
   ]
  },
  {
   "cell_type": "markdown",
   "id": "84f5880b-8083-4ee4-bac7-64923f95c122",
   "metadata": {},
   "source": [
    "## Confidence level w/ False address"
   ]
  },
  {
   "cell_type": "code",
   "execution_count": 16,
   "id": "303f4276-c8eb-4893-bc8d-cc50c060e086",
   "metadata": {
    "ExecuteTime": {
     "end_time": "2024-02-08T08:23:18.337697215Z",
     "start_time": "2024-02-08T08:23:17.561669936Z"
    }
   },
   "outputs": [
    {
     "name": "stdout",
     "output_type": "stream",
     "text": [
      " {\n",
      "  \"street_number\": null,\n",
      "  \"street_type\": null,\n",
      "  \"street_name\": null,\n",
      "  \"zip_code\": \"75001\",\n",
      "  \"city\": \"Paris\",\n",
      "  \"confidence\": 0.5\n",
      "}\n"
     ]
    }
   ],
   "source": [
    "response = model.predict(\n",
    "    \"\"\"Extract and split the address parameters from the text below in a JSON format.\n",
    "be very precise, differentiate the street number, multiplier, street type, street name, zip code, city\n",
    "provide a rating number to indicate your confidence level. 0 is the lowest confidence, 1 is the maximum.\n",
    "provide only one response for one address input\n",
    "\n",
    "Text: 37, rue du champ du pardon, 76000 rouen\n",
    "JSON: \n",
    "{\n",
    "  \\\"street_number\\\": \\\"37\\\",\n",
    "  \\\"street_type\\\": \\\"rue\\\",\n",
    "  \\\"street_name\\\": \\\"du champ du pardon\\\",\n",
    "  \\\"zip_code\\\": \\\"76000\\\",\n",
    "  \\\"city\\\": \\\"rouen\\\",\n",
    "  \\\"confidence\\\": 1\n",
    "}\n",
    "\n",
    "Text: 10-82 Cavée St Gervais, 76000 rouen\n",
    "JSON: \n",
    "{\n",
    "  \\\"street_number\\\": \\\"10-82\\\",\n",
    "  \\\"street_type\\\": \\\"Cavée\\\",\n",
    "  \\\"street_name\\\": \\\"St Gervais\\\",\n",
    "  \\\"zip_code\\\": \\\"76000\\\",\n",
    "  \\\"city\\\": \\\"rouen\\\",\n",
    "  \\\"confidence\\\": 1\n",
    "}\n",
    "\n",
    "Text: ici c'est paris !, 75001 Paris\n",
    "JSON:\n",
    "\n",
    "\"\"\",\n",
    "    **parameters\n",
    ")\n",
    "print(f\"{response.text}\")"
   ]
  },
  {
   "cell_type": "markdown",
   "id": "cb57bc26-0cfc-4065-92f4-19f78f7f47b1",
   "metadata": {},
   "source": [
    "### Confidence level w/ False address and Country not mentioned"
   ]
  },
  {
   "cell_type": "code",
   "execution_count": 17,
   "id": "de80400a-7bdf-4aed-9b48-c3fcde4cf5da",
   "metadata": {
    "ExecuteTime": {
     "end_time": "2024-02-08T08:23:20.291116337Z",
     "start_time": "2024-02-08T08:23:19.344803518Z"
    }
   },
   "outputs": [
    {
     "name": "stdout",
     "output_type": "stream",
     "text": [
      " {\n",
      "  \"street_number\": \"452\",\n",
      "  \"street_multiplier\": \"quater\",\n",
      "  \"street_type\": \"grande rue\",\n",
      "  \"street_name\": \"general\",\n",
      "  \"zip_code\": \"85000\",\n",
      "  \"city\": \"le palais\",\n",
      "  \"department\": \"vendee\",\n",
      "  \"country\": \"France\",\n",
      "  \"confidence\": 1\n",
      "}\n"
     ]
    }
   ],
   "source": [
    "response = model.predict(\n",
    "    \"\"\"Extract and split the address parameters from the text below in a JSON format.\n",
    "be very precise, differentiate the street number, multiplier, street type, street name, zip code, city\n",
    "provide a rating number to indicate your confidence level. 0 is the lowest confidence, 1 is the maximum.\n",
    "provide only one response for one address input\n",
    "\n",
    "Text: 37, rue du champ du pardon, 76000 rouen\n",
    "JSON: \n",
    "{\n",
    "  \\\"street_number\\\": \\\"37\\\",\n",
    "  \\\"street_type\\\": \\\"rue\\\",\n",
    "  \\\"street_name\\\": \\\"du champ du pardon\\\",\n",
    "  \\\"zip_code\\\": \\\"76000\\\",\n",
    "  \\\"city\\\": \\\"rouen\\\",\n",
    "  \\\"country\\\": \\\"France\\\",\n",
    "  \\\"confidence\\\": 1\n",
    "}\n",
    "\n",
    "Text: 10-82 Cavée St Gervais, 76000 rouen\n",
    "JSON: \n",
    "{\n",
    "  \\\"street_number\\\": \\\"10-82\\\",\n",
    "  \\\"street_type\\\": \\\"Cavée\\\",\n",
    "  \\\"street_name\\\": \\\"St Gervais\\\",\n",
    "  \\\"zip_code\\\": \\\"76000\\\",\n",
    "  \\\"city\\\": \\\"rouen\\\",\n",
    "  \\\"country\\\": \\\"France\\\",\n",
    "  \\\"confidence\\\": 1\n",
    "}\n",
    "\n",
    "Text: 452 quater grande rue general 85000 le palais vendee\n",
    "JSON:\n",
    "\n",
    "\"\"\",\n",
    "    **parameters\n",
    ")\n",
    "print(f\"{response.text}\")\n"
   ]
  },
  {
   "cell_type": "markdown",
   "id": "c6d9107b-2dfe-49e4-a40d-4e9c5f0ed49e",
   "metadata": {},
   "source": [
    "## Programmatic\n",
    "\n",
    "Using Langchain we can have a more programmatic way "
   ]
  },
  {
   "cell_type": "code",
   "execution_count": 110,
   "id": "90e4c7f3-964a-411c-84c0-3b3178f1c18f",
   "metadata": {
    "ExecuteTime": {
     "end_time": "2024-02-11T11:20:04.382415197Z",
     "start_time": "2024-02-11T11:20:02.147643620Z"
    }
   },
   "outputs": [
    {
     "name": "stdout",
     "output_type": "stream",
     "text": [
      "\r\n",
      "\u001B[1m[\u001B[0m\u001B[34;49mnotice\u001B[0m\u001B[1;39;49m]\u001B[0m\u001B[39;49m A new release of pip available: \u001B[0m\u001B[31;49m22.3.1\u001B[0m\u001B[39;49m -> \u001B[0m\u001B[32;49m24.0\u001B[0m\r\n",
      "\u001B[1m[\u001B[0m\u001B[34;49mnotice\u001B[0m\u001B[1;39;49m]\u001B[0m\u001B[39;49m To update, run: \u001B[0m\u001B[32;49mpip install --upgrade pip\u001B[0m\r\n"
     ]
    }
   ],
   "source": [
    "!pip install --upgrade --quiet  langchain-core langchain-google-vertexai"
   ]
  },
  {
   "cell_type": "code",
   "execution_count": 112,
   "id": "e8e1cb0f-a114-4ab1-b4fb-3b312e1b2319",
   "metadata": {
    "ExecuteTime": {
     "end_time": "2024-02-11T11:20:25.242896209Z",
     "start_time": "2024-02-11T11:20:23.939020662Z"
    }
   },
   "outputs": [],
   "source": [
    "from langchain_google_vertexai import VertexAI\n",
    "\n",
    "# candidate count parameter missing ?\n",
    "model = VertexAI(model_name=\"text-bison\", top_p=1, temperature=0, max_output_tokens=126)"
   ]
  },
  {
   "cell_type": "code",
   "execution_count": 120,
   "id": "7788700263739715",
   "metadata": {
    "ExecuteTime": {
     "end_time": "2024-02-11T11:23:20.544000623Z",
     "start_time": "2024-02-11T11:23:20.536678415Z"
    }
   },
   "outputs": [],
   "source": [
    "\n",
    "from langchain_core.pydantic_v1 import BaseModel\n",
    "from typing import Optional\n",
    "\n",
    "from langchain_core.output_parsers import JsonOutputParser\n",
    "\n",
    "\n",
    "class Address(BaseModel):\n",
    "    street_number: Optional[str]\n",
    "    street_multiplier: Optional[str]\n",
    "    street_type: Optional[str]\n",
    "    street_name: Optional[str]\n",
    "    locality: Optional[str]  #lieu-dit\n",
    "    zip_code: Optional[str]\n",
    "    city: Optional[str]\n",
    "    country: Optional[str]\n",
    "    confidence: int\n",
    "\n",
    "\n",
    "parser = JsonOutputParser(pydantic_object=Address)\n",
    "# pprint(parser.get_format_instructions())\n"
   ]
  },
  {
   "cell_type": "code",
   "execution_count": 118,
   "id": "a7c0db7ff6f9c5e7",
   "metadata": {
    "ExecuteTime": {
     "end_time": "2024-02-11T11:23:09.742654071Z",
     "start_time": "2024-02-11T11:23:09.737960535Z"
    }
   },
   "outputs": [],
   "source": [
    "from langchain.prompts.few_shot import FewShotPromptTemplate\n",
    "from langchain.prompts import PromptTemplate\n",
    "\n",
    "examples = [\n",
    "    {\n",
    "        \"address\": \"37, rue du champ du pardon, 76000 rouen\",\n",
    "        \"answer\": \"\"\"{{\n",
    "  \\\"street_number\\\": \\\"37\\\",\n",
    "  \\\"street_type\\\": \\\"rue\\\",\n",
    "  \\\"street_name\\\": \\\"du champ du pardon\\\",\n",
    "  \\\"zip_code\\\": \\\"76000\\\",\n",
    "  \\\"city\\\": \\\"rouen\\\",\n",
    "  \\\"country\\\": \\\"France\\\",\n",
    "  \\\"confidence\\\": 1\n",
    "}}\"\"\"\n",
    "    },\n",
    "    {\n",
    "        \"address\": \"10-82 Cavée St Gervais, hameau de charette 76000 rouen\",\n",
    "        \"answer\": \"\"\"{{\n",
    "  \\\"street_number\\\": \\\"10-82\\\",\n",
    "  \\\"street_type\\\": \\\"Cavée\\\",\n",
    "  \\\"street_name\\\": \\\"St Gervais\\\",\n",
    "  \\\"locality\\\": \\\"hameau de charette\\\",\n",
    "  \\\"zip_code\\\": \\\"76000\\\",\n",
    "  \\\"city\\\": \\\"rouen\\\",\n",
    "  \\\"country\\\": \\\"France\\\",\n",
    "  \\\"confidence\\\": 1\n",
    "}}\"\"\"\n",
    "    },\n",
    "]\n",
    "\n",
    "prefix = \"\"\"Extract and split the address parameters from the text below in a JSON format.\n",
    "be very precise, differentiate the street number, multiplier, street type, street name, zip code, city\n",
    "provide a rating number to indicate your confidence level. 0 is the lowest confidence, 1 is the maximum.\n",
    "provide only one response for one address input\"\"\"\n",
    "\n",
    "example_prompt = PromptTemplate(\n",
    "    template=\"\"\"Text: {address}\\nJSON: {answer}\"\"\",\n",
    "    # template=\"\"\"Answer the user query.\\n{format_instructions}\\nText: {address}\\nJSON: {answer}\\n\"\"\",\n",
    "    input_variables=[\"address\", \"answer\"],\n",
    "    # partial_variables={\"format_instructions\": parser.get_format_instructions()}\n",
    ")\n",
    "\n",
    "# print(example_prompt.format(**examples[0]))\n",
    "\n",
    "prompt = FewShotPromptTemplate(\n",
    "    examples=examples,\n",
    "    example_prompt=example_prompt,\n",
    "    prefix=prefix,\n",
    "    suffix=\"Text: {address}\\nJSON:\",\n",
    "    input_variables=[\"address\"],\n",
    "\n",
    ")\n",
    "\n",
    "# print(prompt.format(address=\"78 bis Cavee des Ecameaux 76500 Elbeuf\"))\n",
    "\n",
    "\n",
    "chain = prompt | model | parser"
   ]
  },
  {
   "cell_type": "markdown",
   "id": "9e7bc0a77a3babd1",
   "metadata": {},
   "source": [
    "### Testing"
   ]
  },
  {
   "cell_type": "code",
   "execution_count": 121,
   "id": "c737638096eee2eb",
   "metadata": {
    "ExecuteTime": {
     "end_time": "2024-02-11T11:23:24.938154968Z",
     "start_time": "2024-02-11T11:23:24.043617135Z"
    }
   },
   "outputs": [
    {
     "data": {
      "text/plain": "Address(street_number='1', street_multiplier='bis', street_type='rue', street_name='de la Paix', locality=None, zip_code='75008', city='Paris', country='France', confidence=1)"
     },
     "execution_count": 121,
     "metadata": {},
     "output_type": "execute_result"
    }
   ],
   "source": [
    "\n",
    "address = \"1 bis rue de la Paix, 75008 Paris\"\n",
    "Address(**chain.invoke({\"address\": address}))\n"
   ]
  },
  {
   "cell_type": "code",
   "execution_count": 122,
   "id": "2ade3a5b2a7dd976",
   "metadata": {
    "ExecuteTime": {
     "end_time": "2024-02-11T11:23:29.134470412Z",
     "start_time": "2024-02-11T11:23:28.410807077Z"
    }
   },
   "outputs": [
    {
     "data": {
      "text/plain": "Address(street_number='9', street_multiplier=None, street_type=None, street_name='Auschnippe', locality=None, zip_code='37170', city='Uslar', country='Germany', confidence=1)"
     },
     "execution_count": 122,
     "metadata": {},
     "output_type": "execute_result"
    }
   ],
   "source": [
    "\n",
    "address = \"Auschnippe 9, 37170 Uslar\"\n",
    "Address(**chain.invoke({\"address\": address}))\n"
   ]
  },
  {
   "cell_type": "code",
   "execution_count": 24,
   "id": "b9c94ba6e5226b3a",
   "metadata": {
    "ExecuteTime": {
     "end_time": "2024-02-08T08:24:52.211949210Z",
     "start_time": "2024-02-08T08:24:51.292562044Z"
    }
   },
   "outputs": [
    {
     "data": {
      "text/plain": [
       "Address(street_number='111', street_multiplier='8th', street_type='Ave', street_name='Ste 1509', zip_code='74136-1922', city='Oklahoma', country='USA', confidence=1)"
      ]
     },
     "execution_count": 24,
     "metadata": {},
     "output_type": "execute_result"
    }
   ],
   "source": [
    "\n",
    "address = \"C/o John Doe LLC, 111, 8th Ave Ste 1509, Oklahoma, 74136-1922, USA\"\n",
    "add = Address(**chain.invoke({\"address\": address}))\n",
    "add\n"
   ]
  },
  {
   "cell_type": "markdown",
   "id": "cb287c45c1dd033c",
   "metadata": {},
   "source": [
    "### Serialize / Compress"
   ]
  },
  {
   "cell_type": "code",
   "execution_count": 25,
   "id": "cb4d113e194a9635",
   "metadata": {
    "ExecuteTime": {
     "end_time": "2024-02-08T08:24:54.172376802Z",
     "start_time": "2024-02-08T08:24:54.141503932Z"
    }
   },
   "outputs": [
    {
     "name": "stdout",
     "output_type": "stream",
     "text": [
      "56\n",
      "231\n",
      "164\n"
     ]
    }
   ],
   "source": [
    "import sys\n",
    "from pprint import pprint\n",
    "import zlib\n",
    "\n",
    "# size of object in bytes\n",
    "pprint(sys.getsizeof(add))\n",
    "pprint(sys.getsizeof(add.json()))\n",
    "pprint(sys.getsizeof(zlib.compress(add.json().encode())))"
   ]
  },
  {
   "cell_type": "markdown",
   "source": [
    "## Auto-Testing\n",
    "\n",
    "pre-requisite: Install dependencies: pandas, pyarrow, etc...\n",
    "\n",
    "Use of 'base nationale des Adresses' for French addresses (BAN)"
   ],
   "metadata": {
    "collapsed": false
   },
   "id": "60f42728c5cb29b5"
  },
  {
   "cell_type": "markdown",
   "source": [
    "#### Exploratory Data Analysis & Cleanup"
   ],
   "metadata": {
    "collapsed": false
   },
   "id": "cb8c689c256dd70"
  },
  {
   "cell_type": "code",
   "outputs": [
    {
     "data": {
      "text/plain": "(265542, 23)"
     },
     "execution_count": 327,
     "metadata": {},
     "output_type": "execute_result"
    }
   ],
   "source": [
    "import pandas as pd\n",
    "from pprint import pprint\n",
    "import numpy as np\n",
    "\n",
    "df_addresses = pd.read_csv('./dataset/adresses-01.csv', delimiter=';', low_memory=False)\n",
    "df_addresses.shape"
   ],
   "metadata": {
    "collapsed": false,
    "ExecuteTime": {
     "end_time": "2024-02-11T21:00:13.277468424Z",
     "start_time": "2024-02-11T21:00:12.548995804Z"
    }
   },
   "id": "80f69804060e8847",
   "execution_count": 327
  },
  {
   "cell_type": "code",
   "outputs": [
    {
     "data": {
      "text/plain": "                   id id_fantoir  numero  rep      nom_voie  code_postal  \\\n0  01001_4b50r5_00630        NaN     630  NaN     la Chèvre         1400   \n1  01001_g0ru02_00108        NaN     108  NaN     Clemencia         1400   \n2  01001_ngzlqw_00009        NaN       9  NaN  Imp des Epis         1400   \n3  01001_ngzlqw_00023        NaN      23  NaN  Imp des Epis         1400   \n4  01001_ngzlqw_00026        NaN      26  NaN  Imp des Epis         1400   \n\n   code_insee              nom_commune  code_insee_ancienne_commune  \\\n0        1001  L'Abergement-Clémenciat                          NaN   \n1        1001  L'Abergement-Clémenciat                          NaN   \n2        1001  L'Abergement-Clémenciat                          NaN   \n3        1001  L'Abergement-Clémenciat                          NaN   \n4        1001  L'Abergement-Clémenciat                          NaN   \n\n  nom_ancienne_commune  ...        lat  type_position  alias  nom_ld  \\\n0                  NaN  ...  46.132481        segment    NaN     NaN   \n1                  NaN  ...  46.133867       parcelle    NaN     NaN   \n2                  NaN  ...  46.152646            NaN    NaN     NaN   \n3                  NaN  ...  46.152646            NaN    NaN     NaN   \n4                  NaN  ...  46.152646            NaN    NaN     NaN   \n\n      libelle_acheminement     nom_afnor source_position source_nom_voie  \\\n0  L'ABERGEMENT-CLEMENCIAT     LA CHEVRE        inconnue        inconnue   \n1  L'ABERGEMENT-CLEMENCIAT     CLEMENCIA        cadastre        cadastre   \n2  L'ABERGEMENT-CLEMENCIAT  IMP DES EPIS           arcep           arcep   \n3  L'ABERGEMENT-CLEMENCIAT  IMP DES EPIS           arcep           arcep   \n4  L'ABERGEMENT-CLEMENCIAT  IMP DES EPIS           arcep           arcep   \n\n  certification_commune   cad_parcelles  \n0                     0             NaN  \n1                     0  01001000ZL0263  \n2                     0             NaN  \n3                     0             NaN  \n4                     0             NaN  \n\n[5 rows x 23 columns]",
      "text/html": "<div>\n<style scoped>\n    .dataframe tbody tr th:only-of-type {\n        vertical-align: middle;\n    }\n\n    .dataframe tbody tr th {\n        vertical-align: top;\n    }\n\n    .dataframe thead th {\n        text-align: right;\n    }\n</style>\n<table border=\"1\" class=\"dataframe\">\n  <thead>\n    <tr style=\"text-align: right;\">\n      <th></th>\n      <th>id</th>\n      <th>id_fantoir</th>\n      <th>numero</th>\n      <th>rep</th>\n      <th>nom_voie</th>\n      <th>code_postal</th>\n      <th>code_insee</th>\n      <th>nom_commune</th>\n      <th>code_insee_ancienne_commune</th>\n      <th>nom_ancienne_commune</th>\n      <th>...</th>\n      <th>lat</th>\n      <th>type_position</th>\n      <th>alias</th>\n      <th>nom_ld</th>\n      <th>libelle_acheminement</th>\n      <th>nom_afnor</th>\n      <th>source_position</th>\n      <th>source_nom_voie</th>\n      <th>certification_commune</th>\n      <th>cad_parcelles</th>\n    </tr>\n  </thead>\n  <tbody>\n    <tr>\n      <th>0</th>\n      <td>01001_4b50r5_00630</td>\n      <td>NaN</td>\n      <td>630</td>\n      <td>NaN</td>\n      <td>la Chèvre</td>\n      <td>1400</td>\n      <td>1001</td>\n      <td>L'Abergement-Clémenciat</td>\n      <td>NaN</td>\n      <td>NaN</td>\n      <td>...</td>\n      <td>46.132481</td>\n      <td>segment</td>\n      <td>NaN</td>\n      <td>NaN</td>\n      <td>L'ABERGEMENT-CLEMENCIAT</td>\n      <td>LA CHEVRE</td>\n      <td>inconnue</td>\n      <td>inconnue</td>\n      <td>0</td>\n      <td>NaN</td>\n    </tr>\n    <tr>\n      <th>1</th>\n      <td>01001_g0ru02_00108</td>\n      <td>NaN</td>\n      <td>108</td>\n      <td>NaN</td>\n      <td>Clemencia</td>\n      <td>1400</td>\n      <td>1001</td>\n      <td>L'Abergement-Clémenciat</td>\n      <td>NaN</td>\n      <td>NaN</td>\n      <td>...</td>\n      <td>46.133867</td>\n      <td>parcelle</td>\n      <td>NaN</td>\n      <td>NaN</td>\n      <td>L'ABERGEMENT-CLEMENCIAT</td>\n      <td>CLEMENCIA</td>\n      <td>cadastre</td>\n      <td>cadastre</td>\n      <td>0</td>\n      <td>01001000ZL0263</td>\n    </tr>\n    <tr>\n      <th>2</th>\n      <td>01001_ngzlqw_00009</td>\n      <td>NaN</td>\n      <td>9</td>\n      <td>NaN</td>\n      <td>Imp des Epis</td>\n      <td>1400</td>\n      <td>1001</td>\n      <td>L'Abergement-Clémenciat</td>\n      <td>NaN</td>\n      <td>NaN</td>\n      <td>...</td>\n      <td>46.152646</td>\n      <td>NaN</td>\n      <td>NaN</td>\n      <td>NaN</td>\n      <td>L'ABERGEMENT-CLEMENCIAT</td>\n      <td>IMP DES EPIS</td>\n      <td>arcep</td>\n      <td>arcep</td>\n      <td>0</td>\n      <td>NaN</td>\n    </tr>\n    <tr>\n      <th>3</th>\n      <td>01001_ngzlqw_00023</td>\n      <td>NaN</td>\n      <td>23</td>\n      <td>NaN</td>\n      <td>Imp des Epis</td>\n      <td>1400</td>\n      <td>1001</td>\n      <td>L'Abergement-Clémenciat</td>\n      <td>NaN</td>\n      <td>NaN</td>\n      <td>...</td>\n      <td>46.152646</td>\n      <td>NaN</td>\n      <td>NaN</td>\n      <td>NaN</td>\n      <td>L'ABERGEMENT-CLEMENCIAT</td>\n      <td>IMP DES EPIS</td>\n      <td>arcep</td>\n      <td>arcep</td>\n      <td>0</td>\n      <td>NaN</td>\n    </tr>\n    <tr>\n      <th>4</th>\n      <td>01001_ngzlqw_00026</td>\n      <td>NaN</td>\n      <td>26</td>\n      <td>NaN</td>\n      <td>Imp des Epis</td>\n      <td>1400</td>\n      <td>1001</td>\n      <td>L'Abergement-Clémenciat</td>\n      <td>NaN</td>\n      <td>NaN</td>\n      <td>...</td>\n      <td>46.152646</td>\n      <td>NaN</td>\n      <td>NaN</td>\n      <td>NaN</td>\n      <td>L'ABERGEMENT-CLEMENCIAT</td>\n      <td>IMP DES EPIS</td>\n      <td>arcep</td>\n      <td>arcep</td>\n      <td>0</td>\n      <td>NaN</td>\n    </tr>\n  </tbody>\n</table>\n<p>5 rows × 23 columns</p>\n</div>"
     },
     "execution_count": 328,
     "metadata": {},
     "output_type": "execute_result"
    }
   ],
   "source": [
    "df_addresses.head()"
   ],
   "metadata": {
    "collapsed": false,
    "ExecuteTime": {
     "end_time": "2024-02-11T21:00:13.978605706Z",
     "start_time": "2024-02-11T21:00:13.915647525Z"
    }
   },
   "id": "e4366c6ddf9fccb8",
   "execution_count": 328
  },
  {
   "cell_type": "code",
   "outputs": [],
   "source": [
    "df_addresses.drop(\n",
    "    columns=['id_fantoir', 'code_insee', 'code_insee_ancienne_commune', 'nom_ancienne_commune', 'x', 'y', 'lon', 'lat',\n",
    "             'type_position', 'source_position', 'source_nom_voie', 'certification_commune', 'cad_parcelles'],\n",
    "    inplace=True)"
   ],
   "metadata": {
    "collapsed": false,
    "ExecuteTime": {
     "end_time": "2024-02-11T21:00:14.846047882Z",
     "start_time": "2024-02-11T21:00:14.748002124Z"
    }
   },
   "id": "a555ce1acf4815bd",
   "execution_count": 329
  },
  {
   "cell_type": "code",
   "outputs": [],
   "source": [
    "df_addresses.replace(np.nan, '', regex=True, inplace=True)\n",
    "df_addresses.replace('_1', '', regex=True, inplace=True)\n"
   ],
   "metadata": {
    "collapsed": false,
    "ExecuteTime": {
     "end_time": "2024-02-11T21:00:16.119531496Z",
     "start_time": "2024-02-11T21:00:15.463355101Z"
    }
   },
   "id": "d7a96b162bf97c76",
   "execution_count": 330
  },
  {
   "cell_type": "code",
   "outputs": [
    {
     "data": {
      "text/plain": "                     id  numero rep                 nom_voie  code_postal  \\\n0    01001_4b50r5_00630     630                    la Chèvre         1400   \n1    01001_g0ru02_00108     108                    Clemencia         1400   \n2    01001_ngzlqw_00009       9                 Imp des Epis         1400   \n12     01001_0165_00019      19         Route de la Fontaine         1400   \n44     01001_0115_00095      95          Route de Clémenciat         1400   \n..                  ...     ...  ..                      ...          ...   \n626    01002_0180_00065      65           Route de l’Oiselon         1640   \n631    01002_0043_00011      11             Allee du Chateau         1640   \n634    01002_0049_01053    1053         Route de la Cordiere         1640   \n637    01002_0250_00087      87       Chemin de sous la Tour         1640   \n639    01002_0033_00209     209      Chemin de la Champdelaz         1640   \n\n                 nom_commune alias nom_ld      libelle_acheminement  \\\n0    L'Abergement-Clémenciat                L'ABERGEMENT-CLEMENCIAT   \n1    L'Abergement-Clémenciat                L'ABERGEMENT-CLEMENCIAT   \n2    L'Abergement-Clémenciat                L'ABERGEMENT-CLEMENCIAT   \n12   L'Abergement-Clémenciat                L'ABERGEMENT-CLEMENCIAT   \n44   L'Abergement-Clémenciat                L'ABERGEMENT-CLEMENCIAT   \n..                       ...   ...    ...                       ...   \n626    L'Abergement-de-Varey               ABERGEMENT-DE-VAREY (L )   \n631    L'Abergement-de-Varey               ABERGEMENT-DE-VAREY (L )   \n634    L'Abergement-de-Varey               ABERGEMENT-DE-VAREY (L )   \n637    L'Abergement-de-Varey               ABERGEMENT-DE-VAREY (L )   \n639    L'Abergement-de-Varey               ABERGEMENT-DE-VAREY (L )   \n\n                   nom_afnor  \n0                  LA CHEVRE  \n1                  CLEMENCIA  \n2               IMP DES EPIS  \n12      ROUTE DE LA FONTAINE  \n44       ROUTE DE CLEMENCIAT  \n..                       ...  \n626       ROUTE DE L OISELON  \n631         ALLEE DU CHATEAU  \n634     ROUTE DE LA CORDIERE  \n637   CHEMIN DE SOUS LA TOUR  \n639  CHEMIN DE LA CHAMPDELAZ  \n\n[100 rows x 10 columns]",
      "text/html": "<div>\n<style scoped>\n    .dataframe tbody tr th:only-of-type {\n        vertical-align: middle;\n    }\n\n    .dataframe tbody tr th {\n        vertical-align: top;\n    }\n\n    .dataframe thead th {\n        text-align: right;\n    }\n</style>\n<table border=\"1\" class=\"dataframe\">\n  <thead>\n    <tr style=\"text-align: right;\">\n      <th></th>\n      <th>id</th>\n      <th>numero</th>\n      <th>rep</th>\n      <th>nom_voie</th>\n      <th>code_postal</th>\n      <th>nom_commune</th>\n      <th>alias</th>\n      <th>nom_ld</th>\n      <th>libelle_acheminement</th>\n      <th>nom_afnor</th>\n    </tr>\n  </thead>\n  <tbody>\n    <tr>\n      <th>0</th>\n      <td>01001_4b50r5_00630</td>\n      <td>630</td>\n      <td></td>\n      <td>la Chèvre</td>\n      <td>1400</td>\n      <td>L'Abergement-Clémenciat</td>\n      <td></td>\n      <td></td>\n      <td>L'ABERGEMENT-CLEMENCIAT</td>\n      <td>LA CHEVRE</td>\n    </tr>\n    <tr>\n      <th>1</th>\n      <td>01001_g0ru02_00108</td>\n      <td>108</td>\n      <td></td>\n      <td>Clemencia</td>\n      <td>1400</td>\n      <td>L'Abergement-Clémenciat</td>\n      <td></td>\n      <td></td>\n      <td>L'ABERGEMENT-CLEMENCIAT</td>\n      <td>CLEMENCIA</td>\n    </tr>\n    <tr>\n      <th>2</th>\n      <td>01001_ngzlqw_00009</td>\n      <td>9</td>\n      <td></td>\n      <td>Imp des Epis</td>\n      <td>1400</td>\n      <td>L'Abergement-Clémenciat</td>\n      <td></td>\n      <td></td>\n      <td>L'ABERGEMENT-CLEMENCIAT</td>\n      <td>IMP DES EPIS</td>\n    </tr>\n    <tr>\n      <th>12</th>\n      <td>01001_0165_00019</td>\n      <td>19</td>\n      <td></td>\n      <td>Route de la Fontaine</td>\n      <td>1400</td>\n      <td>L'Abergement-Clémenciat</td>\n      <td></td>\n      <td></td>\n      <td>L'ABERGEMENT-CLEMENCIAT</td>\n      <td>ROUTE DE LA FONTAINE</td>\n    </tr>\n    <tr>\n      <th>44</th>\n      <td>01001_0115_00095</td>\n      <td>95</td>\n      <td></td>\n      <td>Route de Clémenciat</td>\n      <td>1400</td>\n      <td>L'Abergement-Clémenciat</td>\n      <td></td>\n      <td></td>\n      <td>L'ABERGEMENT-CLEMENCIAT</td>\n      <td>ROUTE DE CLEMENCIAT</td>\n    </tr>\n    <tr>\n      <th>...</th>\n      <td>...</td>\n      <td>...</td>\n      <td>...</td>\n      <td>...</td>\n      <td>...</td>\n      <td>...</td>\n      <td>...</td>\n      <td>...</td>\n      <td>...</td>\n      <td>...</td>\n    </tr>\n    <tr>\n      <th>626</th>\n      <td>01002_0180_00065</td>\n      <td>65</td>\n      <td></td>\n      <td>Route de l’Oiselon</td>\n      <td>1640</td>\n      <td>L'Abergement-de-Varey</td>\n      <td></td>\n      <td></td>\n      <td>ABERGEMENT-DE-VAREY (L )</td>\n      <td>ROUTE DE L OISELON</td>\n    </tr>\n    <tr>\n      <th>631</th>\n      <td>01002_0043_00011</td>\n      <td>11</td>\n      <td></td>\n      <td>Allee du Chateau</td>\n      <td>1640</td>\n      <td>L'Abergement-de-Varey</td>\n      <td></td>\n      <td></td>\n      <td>ABERGEMENT-DE-VAREY (L )</td>\n      <td>ALLEE DU CHATEAU</td>\n    </tr>\n    <tr>\n      <th>634</th>\n      <td>01002_0049_01053</td>\n      <td>1053</td>\n      <td></td>\n      <td>Route de la Cordiere</td>\n      <td>1640</td>\n      <td>L'Abergement-de-Varey</td>\n      <td></td>\n      <td></td>\n      <td>ABERGEMENT-DE-VAREY (L )</td>\n      <td>ROUTE DE LA CORDIERE</td>\n    </tr>\n    <tr>\n      <th>637</th>\n      <td>01002_0250_00087</td>\n      <td>87</td>\n      <td></td>\n      <td>Chemin de sous la Tour</td>\n      <td>1640</td>\n      <td>L'Abergement-de-Varey</td>\n      <td></td>\n      <td></td>\n      <td>ABERGEMENT-DE-VAREY (L )</td>\n      <td>CHEMIN DE SOUS LA TOUR</td>\n    </tr>\n    <tr>\n      <th>639</th>\n      <td>01002_0033_00209</td>\n      <td>209</td>\n      <td></td>\n      <td>Chemin de la Champdelaz</td>\n      <td>1640</td>\n      <td>L'Abergement-de-Varey</td>\n      <td></td>\n      <td></td>\n      <td>ABERGEMENT-DE-VAREY (L )</td>\n      <td>CHEMIN DE LA CHAMPDELAZ</td>\n    </tr>\n  </tbody>\n</table>\n<p>100 rows × 10 columns</p>\n</div>"
     },
     "execution_count": 331,
     "metadata": {},
     "output_type": "execute_result"
    }
   ],
   "source": [
    "df_addresses.drop_duplicates(['nom_voie', 'nom_commune', 'nom_ld'], inplace=True)\n",
    "df_addresses.head(100)"
   ],
   "metadata": {
    "collapsed": false,
    "ExecuteTime": {
     "end_time": "2024-02-11T21:00:16.479325481Z",
     "start_time": "2024-02-11T21:00:16.421338335Z"
    }
   },
   "id": "fd669af5030b0377",
   "execution_count": 331
  },
  {
   "cell_type": "code",
   "outputs": [],
   "source": [
    "def dataframe_row_to_pydantic_object(row: pd.Series) -> Address:\n",
    "    \"\"\"\n",
    "    Converts a row from a Pandas DataFrame to a Pydantic object.\n",
    "    Args:\n",
    "        row (pd.Series): A single row from the DataFrame.\n",
    "    Returns:\n",
    "        SomeModel: A Pydantic object with the data from the row.\n",
    "    \"\"\"\n",
    "    #missing street_type\n",
    "    return Address(street_number=str(row['numero']), street_multiplier=row['rep'], street_name=row['nom_voie'],\n",
    "                   zip_code=str(row['code_postal']), city=row['nom_commune'], confidence=1)\n"
   ],
   "metadata": {
    "collapsed": false,
    "ExecuteTime": {
     "end_time": "2024-02-11T10:54:51.697860020Z",
     "start_time": "2024-02-11T10:54:51.689624986Z"
    }
   },
   "id": "f5956c69fb44a408",
   "execution_count": 30
  },
  {
   "cell_type": "code",
   "outputs": [
    {
     "data": {
      "text/plain": "Address(street_number='630', street_multiplier='', street_type=None, street_name='la Chèvre', zip_code='1400', city=\"L'Abergement-Clémenciat\", country=None, confidence=1)"
     },
     "execution_count": 106,
     "metadata": {},
     "output_type": "execute_result"
    }
   ],
   "source": [
    "dataframe_row_to_pydantic_object(df_addresses.iloc[0])"
   ],
   "metadata": {
    "collapsed": false,
    "ExecuteTime": {
     "end_time": "2024-02-11T11:18:10.247356007Z",
     "start_time": "2024-02-11T11:18:10.243988646Z"
    }
   },
   "id": "c3d7b9a3a73e42b6",
   "execution_count": 106
  },
  {
   "cell_type": "code",
   "outputs": [],
   "source": [],
   "metadata": {
    "collapsed": false
   },
   "id": "1d3e72e595d49235"
  },
  {
   "cell_type": "code",
   "outputs": [],
   "source": [
    "def full_address_generator(row: pd.Series) -> str:\n",
    "    \"\"\"\n",
    "    Generates a one line address based on all the available fields from BAN\n",
    "    :param row: pd.Series of one address from BAN\n",
    "    :return: \n",
    "    \"\"\"\n",
    "    if row['nom_ld'] != '':\n",
    "        row['nom_ld'] = ', ' + row['nom_ld'] #todo here we are cheating a little bit, in order to differentiate the locality (lieu-dit) we insert a comma, actually otherwise even for a human it would be very difficult to differentiate ! \n",
    "    strings = [str(row['numero']), str(row['rep']), str(row['nom_voie']), str(row['nom_ld']), str(row['code_postal']),\n",
    "               str(row['nom_commune'])]\n",
    "    return ' '.join(filter(None, strings))\n",
    "    # return f\"{row['numero']}{('',' '+str(row['rep']))[row['rep'] == 'nan']}{' ' + row['nom_voie']}{('', ', '+str(row['nom_ld']))[row['nom_ld'] == 'nan']}{' '+str(row['code_postal'])}{' ' + row['nom_commune']}\""
   ],
   "metadata": {
    "collapsed": false,
    "ExecuteTime": {
     "end_time": "2024-02-11T19:41:27.692448433Z",
     "start_time": "2024-02-11T19:41:27.666896273Z"
    }
   },
   "id": "e5dd7e33d006e38b",
   "execution_count": 191
  },
  {
   "cell_type": "code",
   "outputs": [
    {
     "name": "stdout",
     "output_type": "stream",
     "text": [
      "id                               01378_0019_00001\n",
      "numero                                          1\n",
      "rep                                              \n",
      "nom_voie                    Route de la Charriere\n",
      "code_postal                                  1800\n",
      "nom_commune             Saint-Maurice-de-Gourdans\n",
      "alias                                            \n",
      "nom_ld                                           \n",
      "libelle_acheminement    SAINT-MAURICE-DE-GOURDANS\n",
      "nom_afnor                   ROUTE DE LA CHARRIERE\n",
      "Name: 47639, dtype: object\n"
     ]
    },
    {
     "data": {
      "text/plain": "'1 Route de la Charriere 1800 Saint-Maurice-de-Gourdans'"
     },
     "execution_count": 333,
     "metadata": {},
     "output_type": "execute_result"
    }
   ],
   "source": [
    "\n",
    "index = 4568\n",
    "pprint(df_addresses.iloc[index])\n",
    "full_address_generator(df_addresses.iloc[index])"
   ],
   "metadata": {
    "collapsed": false,
    "ExecuteTime": {
     "end_time": "2024-02-11T21:01:48.144877999Z",
     "start_time": "2024-02-11T21:01:48.120060333Z"
    }
   },
   "id": "d9687426db93ff9",
   "execution_count": 333
  },
  {
   "cell_type": "markdown",
   "source": [
    "Add one line address to Dataframe"
   ],
   "metadata": {
    "collapsed": false
   },
   "id": "61ea910aff0fffc1"
  },
  {
   "cell_type": "code",
   "outputs": [],
   "source": [
    "df_addresses['full_add'] = df_addresses.apply(lambda _row: full_address_generator(_row), axis=1)"
   ],
   "metadata": {
    "collapsed": false,
    "ExecuteTime": {
     "end_time": "2024-02-11T21:01:55.327220642Z",
     "start_time": "2024-02-11T21:01:54.932417413Z"
    }
   },
   "id": "8a3c090535ff458",
   "execution_count": 334
  },
  {
   "cell_type": "code",
   "outputs": [
    {
     "data": {
      "text/plain": "                     id  numero rep                          nom_voie  \\\n0    01001_4b50r5_00630     630                             la Chèvre   \n1    01001_g0ru02_00108     108                             Clemencia   \n2    01001_ngzlqw_00009       9                          Imp des Epis   \n12     01001_0165_00019      19                  Route de la Fontaine   \n44     01001_0115_00095      95                   Route de Clémenciat   \n60     01001_0370_00036      36                    Impasse des Soyeux   \n67     01001_0250_00024      24                    Impasse des Merles   \n79     01001_0175_00072      72                    Route des Garaudes   \n109    01001_0395_00009       9               Impasse des Vers à Soie   \n114    01001_0290_00005       5                     Chemin de l'Ordre   \n119    01001_0170_00420     420                     Route de la Fraze   \n123    01001_0150_00031      31                Impasse des Eglantiers   \n127    01001_0300_00016      16                Impasse du Panoramique   \n141    01001_0195_00036      36                  Chemin des Gravelles   \n142    01001_0027_00476     476                     Route des Basques   \n153    01001_0005_00026      26                   Impasse des Acacias   \n161    01001_0040_00041      41                      Impasse Bellevue   \n169    01001_0190_00018      18               Route des Grands Champs   \n184    01001_0095_00023      23                      Route du Château   \n195    01001_0335_00034      34                       Impasse du Plat   \n204    01001_0085_00028      28                    Rue des Charmilles   \n212    01001_0270_00014      14                       Rue des Muriers   \n220    01001_0310_00049      49                      Route du Paradis   \n228    01001_0390_00397     397                    Route de Vernisson   \n229    01001_0330_00025      25                  Chemin de la Planche   \n231    01001_0410_00005       5                     Chemin des Vignes   \n240    01001_0375_00027      27                          Rue du Stade   \n252    01001_0145_00054      54                      Rue des Ecoliers   \n261    01001_0385_00020      20                  Impasse des Tilleuls   \n270    01001_0265_00038      38                     Rue de Munetville   \n292    01001_0340_00080      80                      Chemin de Polain   \n294    01001_0260_00001       1                         Route du Mont   \n300    01001_0125_00002       2               Impasse des Coquelicots   \n306    01001_0400_00101     101                        Rue des Viards   \n309    01001_0110_00009       9                     Rue des 5 Chemins   \n322    01001_0280_00014      14                Chemin de la Nicolière   \n325    01001_0345_00095      95               Chemin de la Pommerelle   \n328    01001_0180_00072      72                  Chemin de la Genette   \n330    01001_0365_00041      41                     Chemin sous Brody   \n332    01001_0230_00056      56                     Impasse des Lilas   \n340    01001_0200_00054      54                   Route du Guillermet   \n343    01001_0090_00570     570      Route de la Charrière des Bottes   \n346    01001_0360_00487     487                     Chemin du Sorbier   \n347    01001_0135_00144     144                 Route du Domaine Neuf   \n352    01001_0020_00110     110                  Chemin des Baillères   \n353    01001_0305_00679     679                     Chemin du Panoyer   \n354    01001_0275_00966     966                     Route de Neuville   \n355    01001_0070_00316     316                   Chemin de Chamaudry   \n356    01001_0315_00002       2                    Impasse des Pavots   \n359    01001_0050_00034      34                      Impasse des Buis   \n\n     code_postal              nom_commune alias nom_ld  \\\n0           1400  L'Abergement-Clémenciat                \n1           1400  L'Abergement-Clémenciat                \n2           1400  L'Abergement-Clémenciat                \n12          1400  L'Abergement-Clémenciat                \n44          1400  L'Abergement-Clémenciat                \n60          1400  L'Abergement-Clémenciat                \n67          1400  L'Abergement-Clémenciat                \n79          1400  L'Abergement-Clémenciat                \n109         1400  L'Abergement-Clémenciat                \n114         1400  L'Abergement-Clémenciat                \n119         1400  L'Abergement-Clémenciat                \n123         1400  L'Abergement-Clémenciat                \n127         1400  L'Abergement-Clémenciat                \n141         1400  L'Abergement-Clémenciat                \n142         1400  L'Abergement-Clémenciat                \n153         1400  L'Abergement-Clémenciat                \n161         1400  L'Abergement-Clémenciat                \n169         1400  L'Abergement-Clémenciat                \n184         1400  L'Abergement-Clémenciat                \n195         1400  L'Abergement-Clémenciat                \n204         1400  L'Abergement-Clémenciat                \n212         1400  L'Abergement-Clémenciat                \n220         1400  L'Abergement-Clémenciat                \n228         1400  L'Abergement-Clémenciat                \n229         1400  L'Abergement-Clémenciat                \n231         1400  L'Abergement-Clémenciat                \n240         1400  L'Abergement-Clémenciat                \n252         1400  L'Abergement-Clémenciat                \n261         1400  L'Abergement-Clémenciat                \n270         1400  L'Abergement-Clémenciat                \n292         1400  L'Abergement-Clémenciat                \n294         1400  L'Abergement-Clémenciat                \n300         1400  L'Abergement-Clémenciat                \n306         1400  L'Abergement-Clémenciat                \n309         1400  L'Abergement-Clémenciat                \n322         1400  L'Abergement-Clémenciat                \n325         1400  L'Abergement-Clémenciat                \n328         1400  L'Abergement-Clémenciat                \n330         1400  L'Abergement-Clémenciat                \n332         1400  L'Abergement-Clémenciat                \n340         1400  L'Abergement-Clémenciat                \n343         1400  L'Abergement-Clémenciat                \n346         1400  L'Abergement-Clémenciat                \n347         1400  L'Abergement-Clémenciat                \n352         1400  L'Abergement-Clémenciat                \n353         1400  L'Abergement-Clémenciat                \n354         1400  L'Abergement-Clémenciat                \n355         1400  L'Abergement-Clémenciat                \n356         1400  L'Abergement-Clémenciat                \n359         1400  L'Abergement-Clémenciat                \n\n        libelle_acheminement                         nom_afnor  \\\n0    L'ABERGEMENT-CLEMENCIAT                         LA CHEVRE   \n1    L'ABERGEMENT-CLEMENCIAT                         CLEMENCIA   \n2    L'ABERGEMENT-CLEMENCIAT                      IMP DES EPIS   \n12   L'ABERGEMENT-CLEMENCIAT              ROUTE DE LA FONTAINE   \n44   L'ABERGEMENT-CLEMENCIAT               ROUTE DE CLEMENCIAT   \n60   L'ABERGEMENT-CLEMENCIAT                IMPASSE DES SOYEUX   \n67   L'ABERGEMENT-CLEMENCIAT                IMPASSE DES MERLES   \n79   L'ABERGEMENT-CLEMENCIAT                ROUTE DES GARAUDES   \n109  L'ABERGEMENT-CLEMENCIAT           IMPASSE DES VERS A SOIE   \n114  L'ABERGEMENT-CLEMENCIAT                 CHEMIN DE L ORDRE   \n119  L'ABERGEMENT-CLEMENCIAT                 ROUTE DE LA FRAZE   \n123  L'ABERGEMENT-CLEMENCIAT            IMPASSE DES EGLANTIERS   \n127  L'ABERGEMENT-CLEMENCIAT            IMPASSE DU PANORAMIQUE   \n141  L'ABERGEMENT-CLEMENCIAT              CHEMIN DES GRAVELLES   \n142  L'ABERGEMENT-CLEMENCIAT                 ROUTE DES BASQUES   \n153  L'ABERGEMENT-CLEMENCIAT               IMPASSE DES ACACIAS   \n161  L'ABERGEMENT-CLEMENCIAT                  IMPASSE BELLEVUE   \n169  L'ABERGEMENT-CLEMENCIAT           ROUTE DES GRANDS CHAMPS   \n184  L'ABERGEMENT-CLEMENCIAT                  ROUTE DU CHATEAU   \n195  L'ABERGEMENT-CLEMENCIAT                   IMPASSE DU PLAT   \n204  L'ABERGEMENT-CLEMENCIAT                RUE DES CHARMILLES   \n212  L'ABERGEMENT-CLEMENCIAT                   RUE DES MURIERS   \n220  L'ABERGEMENT-CLEMENCIAT                  ROUTE DU PARADIS   \n228  L'ABERGEMENT-CLEMENCIAT                ROUTE DE VERNISSON   \n229  L'ABERGEMENT-CLEMENCIAT              CHEMIN DE LA PLANCHE   \n231  L'ABERGEMENT-CLEMENCIAT                 CHEMIN DES VIGNES   \n240  L'ABERGEMENT-CLEMENCIAT                      RUE DU STADE   \n252  L'ABERGEMENT-CLEMENCIAT                  RUE DES ECOLIERS   \n261  L'ABERGEMENT-CLEMENCIAT              IMPASSE DES TILLEULS   \n270  L'ABERGEMENT-CLEMENCIAT                 RUE DE MUNETVILLE   \n292  L'ABERGEMENT-CLEMENCIAT                  CHEMIN DE POLAIN   \n294  L'ABERGEMENT-CLEMENCIAT                     ROUTE DU MONT   \n300  L'ABERGEMENT-CLEMENCIAT           IMPASSE DES COQUELICOTS   \n306  L'ABERGEMENT-CLEMENCIAT                    RUE DES VIARDS   \n309  L'ABERGEMENT-CLEMENCIAT                 RUE DES 5 CHEMINS   \n322  L'ABERGEMENT-CLEMENCIAT            CHEMIN DE LA NICOLIERE   \n325  L'ABERGEMENT-CLEMENCIAT           CHEMIN DE LA POMMERELLE   \n328  L'ABERGEMENT-CLEMENCIAT              CHEMIN DE LA GENETTE   \n330  L'ABERGEMENT-CLEMENCIAT                 CHEMIN SOUS BRODY   \n332  L'ABERGEMENT-CLEMENCIAT                 IMPASSE DES LILAS   \n340  L'ABERGEMENT-CLEMENCIAT               ROUTE DU GUILLERMET   \n343  L'ABERGEMENT-CLEMENCIAT  ROUTE DE LA CHARRIERE DES BOTTES   \n346  L'ABERGEMENT-CLEMENCIAT                 CHEMIN DU SORBIER   \n347  L'ABERGEMENT-CLEMENCIAT             ROUTE DU DOMAINE NEUF   \n352  L'ABERGEMENT-CLEMENCIAT              CHEMIN DES BAILLERES   \n353  L'ABERGEMENT-CLEMENCIAT                 CHEMIN DU PANOYER   \n354  L'ABERGEMENT-CLEMENCIAT                 ROUTE DE NEUVILLE   \n355  L'ABERGEMENT-CLEMENCIAT               CHEMIN DE CHAMAUDRY   \n356  L'ABERGEMENT-CLEMENCIAT                IMPASSE DES PAVOTS   \n359  L'ABERGEMENT-CLEMENCIAT                  IMPASSE DES BUIS   \n\n                                              full_add  \n0           630 la Chèvre 1400 L'Abergement-Clémenciat  \n1           108 Clemencia 1400 L'Abergement-Clémenciat  \n2          9 Imp des Epis 1400 L'Abergement-Clémenciat  \n12   19 Route de la Fontaine 1400 L'Abergement-Clém...  \n44   95 Route de Clémenciat 1400 L'Abergement-Cléme...  \n60   36 Impasse des Soyeux 1400 L'Abergement-Clémen...  \n67   24 Impasse des Merles 1400 L'Abergement-Clémen...  \n79   72 Route des Garaudes 1400 L'Abergement-Clémen...  \n109  9 Impasse des Vers à Soie 1400 L'Abergement-Cl...  \n114   5 Chemin de l'Ordre 1400 L'Abergement-Clémenciat  \n119  420 Route de la Fraze 1400 L'Abergement-Clémen...  \n123  31 Impasse des Eglantiers 1400 L'Abergement-Cl...  \n127  16 Impasse du Panoramique 1400 L'Abergement-Cl...  \n141  36 Chemin des Gravelles 1400 L'Abergement-Clém...  \n142  476 Route des Basques 1400 L'Abergement-Clémen...  \n153  26 Impasse des Acacias 1400 L'Abergement-Cléme...  \n161   41 Impasse Bellevue 1400 L'Abergement-Clémenciat  \n169  18 Route des Grands Champs 1400 L'Abergement-C...  \n184   23 Route du Château 1400 L'Abergement-Clémenciat  \n195    34 Impasse du Plat 1400 L'Abergement-Clémenciat  \n204  28 Rue des Charmilles 1400 L'Abergement-Clémen...  \n212    14 Rue des Muriers 1400 L'Abergement-Clémenciat  \n220   49 Route du Paradis 1400 L'Abergement-Clémenciat  \n228  397 Route de Vernisson 1400 L'Abergement-Cléme...  \n229  25 Chemin de la Planche 1400 L'Abergement-Clém...  \n231   5 Chemin des Vignes 1400 L'Abergement-Clémenciat  \n240       27 Rue du Stade 1400 L'Abergement-Clémenciat  \n252   54 Rue des Ecoliers 1400 L'Abergement-Clémenciat  \n261  20 Impasse des Tilleuls 1400 L'Abergement-Clém...  \n270  38 Rue de Munetville 1400 L'Abergement-Clémenciat  \n292   80 Chemin de Polain 1400 L'Abergement-Clémenciat  \n294       1 Route du Mont 1400 L'Abergement-Clémenciat  \n300  2 Impasse des Coquelicots 1400 L'Abergement-Cl...  \n306    101 Rue des Viards 1400 L'Abergement-Clémenciat  \n309   9 Rue des 5 Chemins 1400 L'Abergement-Clémenciat  \n322  14 Chemin de la Nicolière 1400 L'Abergement-Cl...  \n325  95 Chemin de la Pommerelle 1400 L'Abergement-C...  \n328  72 Chemin de la Genette 1400 L'Abergement-Clém...  \n330  41 Chemin sous Brody 1400 L'Abergement-Clémenciat  \n332  56 Impasse des Lilas 1400 L'Abergement-Clémenciat  \n340  54 Route du Guillermet 1400 L'Abergement-Cléme...  \n343  570 Route de la Charrière des Bottes 1400 L'Ab...  \n346  487 Chemin du Sorbier 1400 L'Abergement-Clémen...  \n347  144 Route du Domaine Neuf 1400 L'Abergement-Cl...  \n352  110 Chemin des Baillères 1400 L'Abergement-Clé...  \n353  679 Chemin du Panoyer 1400 L'Abergement-Clémen...  \n354  966 Route de Neuville 1400 L'Abergement-Clémen...  \n355  316 Chemin de Chamaudry 1400 L'Abergement-Clém...  \n356  2 Impasse des Pavots 1400 L'Abergement-Clémenciat  \n359   34 Impasse des Buis 1400 L'Abergement-Clémenciat  ",
      "text/html": "<div>\n<style scoped>\n    .dataframe tbody tr th:only-of-type {\n        vertical-align: middle;\n    }\n\n    .dataframe tbody tr th {\n        vertical-align: top;\n    }\n\n    .dataframe thead th {\n        text-align: right;\n    }\n</style>\n<table border=\"1\" class=\"dataframe\">\n  <thead>\n    <tr style=\"text-align: right;\">\n      <th></th>\n      <th>id</th>\n      <th>numero</th>\n      <th>rep</th>\n      <th>nom_voie</th>\n      <th>code_postal</th>\n      <th>nom_commune</th>\n      <th>alias</th>\n      <th>nom_ld</th>\n      <th>libelle_acheminement</th>\n      <th>nom_afnor</th>\n      <th>full_add</th>\n    </tr>\n  </thead>\n  <tbody>\n    <tr>\n      <th>0</th>\n      <td>01001_4b50r5_00630</td>\n      <td>630</td>\n      <td></td>\n      <td>la Chèvre</td>\n      <td>1400</td>\n      <td>L'Abergement-Clémenciat</td>\n      <td></td>\n      <td></td>\n      <td>L'ABERGEMENT-CLEMENCIAT</td>\n      <td>LA CHEVRE</td>\n      <td>630 la Chèvre 1400 L'Abergement-Clémenciat</td>\n    </tr>\n    <tr>\n      <th>1</th>\n      <td>01001_g0ru02_00108</td>\n      <td>108</td>\n      <td></td>\n      <td>Clemencia</td>\n      <td>1400</td>\n      <td>L'Abergement-Clémenciat</td>\n      <td></td>\n      <td></td>\n      <td>L'ABERGEMENT-CLEMENCIAT</td>\n      <td>CLEMENCIA</td>\n      <td>108 Clemencia 1400 L'Abergement-Clémenciat</td>\n    </tr>\n    <tr>\n      <th>2</th>\n      <td>01001_ngzlqw_00009</td>\n      <td>9</td>\n      <td></td>\n      <td>Imp des Epis</td>\n      <td>1400</td>\n      <td>L'Abergement-Clémenciat</td>\n      <td></td>\n      <td></td>\n      <td>L'ABERGEMENT-CLEMENCIAT</td>\n      <td>IMP DES EPIS</td>\n      <td>9 Imp des Epis 1400 L'Abergement-Clémenciat</td>\n    </tr>\n    <tr>\n      <th>12</th>\n      <td>01001_0165_00019</td>\n      <td>19</td>\n      <td></td>\n      <td>Route de la Fontaine</td>\n      <td>1400</td>\n      <td>L'Abergement-Clémenciat</td>\n      <td></td>\n      <td></td>\n      <td>L'ABERGEMENT-CLEMENCIAT</td>\n      <td>ROUTE DE LA FONTAINE</td>\n      <td>19 Route de la Fontaine 1400 L'Abergement-Clém...</td>\n    </tr>\n    <tr>\n      <th>44</th>\n      <td>01001_0115_00095</td>\n      <td>95</td>\n      <td></td>\n      <td>Route de Clémenciat</td>\n      <td>1400</td>\n      <td>L'Abergement-Clémenciat</td>\n      <td></td>\n      <td></td>\n      <td>L'ABERGEMENT-CLEMENCIAT</td>\n      <td>ROUTE DE CLEMENCIAT</td>\n      <td>95 Route de Clémenciat 1400 L'Abergement-Cléme...</td>\n    </tr>\n    <tr>\n      <th>60</th>\n      <td>01001_0370_00036</td>\n      <td>36</td>\n      <td></td>\n      <td>Impasse des Soyeux</td>\n      <td>1400</td>\n      <td>L'Abergement-Clémenciat</td>\n      <td></td>\n      <td></td>\n      <td>L'ABERGEMENT-CLEMENCIAT</td>\n      <td>IMPASSE DES SOYEUX</td>\n      <td>36 Impasse des Soyeux 1400 L'Abergement-Clémen...</td>\n    </tr>\n    <tr>\n      <th>67</th>\n      <td>01001_0250_00024</td>\n      <td>24</td>\n      <td></td>\n      <td>Impasse des Merles</td>\n      <td>1400</td>\n      <td>L'Abergement-Clémenciat</td>\n      <td></td>\n      <td></td>\n      <td>L'ABERGEMENT-CLEMENCIAT</td>\n      <td>IMPASSE DES MERLES</td>\n      <td>24 Impasse des Merles 1400 L'Abergement-Clémen...</td>\n    </tr>\n    <tr>\n      <th>79</th>\n      <td>01001_0175_00072</td>\n      <td>72</td>\n      <td></td>\n      <td>Route des Garaudes</td>\n      <td>1400</td>\n      <td>L'Abergement-Clémenciat</td>\n      <td></td>\n      <td></td>\n      <td>L'ABERGEMENT-CLEMENCIAT</td>\n      <td>ROUTE DES GARAUDES</td>\n      <td>72 Route des Garaudes 1400 L'Abergement-Clémen...</td>\n    </tr>\n    <tr>\n      <th>109</th>\n      <td>01001_0395_00009</td>\n      <td>9</td>\n      <td></td>\n      <td>Impasse des Vers à Soie</td>\n      <td>1400</td>\n      <td>L'Abergement-Clémenciat</td>\n      <td></td>\n      <td></td>\n      <td>L'ABERGEMENT-CLEMENCIAT</td>\n      <td>IMPASSE DES VERS A SOIE</td>\n      <td>9 Impasse des Vers à Soie 1400 L'Abergement-Cl...</td>\n    </tr>\n    <tr>\n      <th>114</th>\n      <td>01001_0290_00005</td>\n      <td>5</td>\n      <td></td>\n      <td>Chemin de l'Ordre</td>\n      <td>1400</td>\n      <td>L'Abergement-Clémenciat</td>\n      <td></td>\n      <td></td>\n      <td>L'ABERGEMENT-CLEMENCIAT</td>\n      <td>CHEMIN DE L ORDRE</td>\n      <td>5 Chemin de l'Ordre 1400 L'Abergement-Clémenciat</td>\n    </tr>\n    <tr>\n      <th>119</th>\n      <td>01001_0170_00420</td>\n      <td>420</td>\n      <td></td>\n      <td>Route de la Fraze</td>\n      <td>1400</td>\n      <td>L'Abergement-Clémenciat</td>\n      <td></td>\n      <td></td>\n      <td>L'ABERGEMENT-CLEMENCIAT</td>\n      <td>ROUTE DE LA FRAZE</td>\n      <td>420 Route de la Fraze 1400 L'Abergement-Clémen...</td>\n    </tr>\n    <tr>\n      <th>123</th>\n      <td>01001_0150_00031</td>\n      <td>31</td>\n      <td></td>\n      <td>Impasse des Eglantiers</td>\n      <td>1400</td>\n      <td>L'Abergement-Clémenciat</td>\n      <td></td>\n      <td></td>\n      <td>L'ABERGEMENT-CLEMENCIAT</td>\n      <td>IMPASSE DES EGLANTIERS</td>\n      <td>31 Impasse des Eglantiers 1400 L'Abergement-Cl...</td>\n    </tr>\n    <tr>\n      <th>127</th>\n      <td>01001_0300_00016</td>\n      <td>16</td>\n      <td></td>\n      <td>Impasse du Panoramique</td>\n      <td>1400</td>\n      <td>L'Abergement-Clémenciat</td>\n      <td></td>\n      <td></td>\n      <td>L'ABERGEMENT-CLEMENCIAT</td>\n      <td>IMPASSE DU PANORAMIQUE</td>\n      <td>16 Impasse du Panoramique 1400 L'Abergement-Cl...</td>\n    </tr>\n    <tr>\n      <th>141</th>\n      <td>01001_0195_00036</td>\n      <td>36</td>\n      <td></td>\n      <td>Chemin des Gravelles</td>\n      <td>1400</td>\n      <td>L'Abergement-Clémenciat</td>\n      <td></td>\n      <td></td>\n      <td>L'ABERGEMENT-CLEMENCIAT</td>\n      <td>CHEMIN DES GRAVELLES</td>\n      <td>36 Chemin des Gravelles 1400 L'Abergement-Clém...</td>\n    </tr>\n    <tr>\n      <th>142</th>\n      <td>01001_0027_00476</td>\n      <td>476</td>\n      <td></td>\n      <td>Route des Basques</td>\n      <td>1400</td>\n      <td>L'Abergement-Clémenciat</td>\n      <td></td>\n      <td></td>\n      <td>L'ABERGEMENT-CLEMENCIAT</td>\n      <td>ROUTE DES BASQUES</td>\n      <td>476 Route des Basques 1400 L'Abergement-Clémen...</td>\n    </tr>\n    <tr>\n      <th>153</th>\n      <td>01001_0005_00026</td>\n      <td>26</td>\n      <td></td>\n      <td>Impasse des Acacias</td>\n      <td>1400</td>\n      <td>L'Abergement-Clémenciat</td>\n      <td></td>\n      <td></td>\n      <td>L'ABERGEMENT-CLEMENCIAT</td>\n      <td>IMPASSE DES ACACIAS</td>\n      <td>26 Impasse des Acacias 1400 L'Abergement-Cléme...</td>\n    </tr>\n    <tr>\n      <th>161</th>\n      <td>01001_0040_00041</td>\n      <td>41</td>\n      <td></td>\n      <td>Impasse Bellevue</td>\n      <td>1400</td>\n      <td>L'Abergement-Clémenciat</td>\n      <td></td>\n      <td></td>\n      <td>L'ABERGEMENT-CLEMENCIAT</td>\n      <td>IMPASSE BELLEVUE</td>\n      <td>41 Impasse Bellevue 1400 L'Abergement-Clémenciat</td>\n    </tr>\n    <tr>\n      <th>169</th>\n      <td>01001_0190_00018</td>\n      <td>18</td>\n      <td></td>\n      <td>Route des Grands Champs</td>\n      <td>1400</td>\n      <td>L'Abergement-Clémenciat</td>\n      <td></td>\n      <td></td>\n      <td>L'ABERGEMENT-CLEMENCIAT</td>\n      <td>ROUTE DES GRANDS CHAMPS</td>\n      <td>18 Route des Grands Champs 1400 L'Abergement-C...</td>\n    </tr>\n    <tr>\n      <th>184</th>\n      <td>01001_0095_00023</td>\n      <td>23</td>\n      <td></td>\n      <td>Route du Château</td>\n      <td>1400</td>\n      <td>L'Abergement-Clémenciat</td>\n      <td></td>\n      <td></td>\n      <td>L'ABERGEMENT-CLEMENCIAT</td>\n      <td>ROUTE DU CHATEAU</td>\n      <td>23 Route du Château 1400 L'Abergement-Clémenciat</td>\n    </tr>\n    <tr>\n      <th>195</th>\n      <td>01001_0335_00034</td>\n      <td>34</td>\n      <td></td>\n      <td>Impasse du Plat</td>\n      <td>1400</td>\n      <td>L'Abergement-Clémenciat</td>\n      <td></td>\n      <td></td>\n      <td>L'ABERGEMENT-CLEMENCIAT</td>\n      <td>IMPASSE DU PLAT</td>\n      <td>34 Impasse du Plat 1400 L'Abergement-Clémenciat</td>\n    </tr>\n    <tr>\n      <th>204</th>\n      <td>01001_0085_00028</td>\n      <td>28</td>\n      <td></td>\n      <td>Rue des Charmilles</td>\n      <td>1400</td>\n      <td>L'Abergement-Clémenciat</td>\n      <td></td>\n      <td></td>\n      <td>L'ABERGEMENT-CLEMENCIAT</td>\n      <td>RUE DES CHARMILLES</td>\n      <td>28 Rue des Charmilles 1400 L'Abergement-Clémen...</td>\n    </tr>\n    <tr>\n      <th>212</th>\n      <td>01001_0270_00014</td>\n      <td>14</td>\n      <td></td>\n      <td>Rue des Muriers</td>\n      <td>1400</td>\n      <td>L'Abergement-Clémenciat</td>\n      <td></td>\n      <td></td>\n      <td>L'ABERGEMENT-CLEMENCIAT</td>\n      <td>RUE DES MURIERS</td>\n      <td>14 Rue des Muriers 1400 L'Abergement-Clémenciat</td>\n    </tr>\n    <tr>\n      <th>220</th>\n      <td>01001_0310_00049</td>\n      <td>49</td>\n      <td></td>\n      <td>Route du Paradis</td>\n      <td>1400</td>\n      <td>L'Abergement-Clémenciat</td>\n      <td></td>\n      <td></td>\n      <td>L'ABERGEMENT-CLEMENCIAT</td>\n      <td>ROUTE DU PARADIS</td>\n      <td>49 Route du Paradis 1400 L'Abergement-Clémenciat</td>\n    </tr>\n    <tr>\n      <th>228</th>\n      <td>01001_0390_00397</td>\n      <td>397</td>\n      <td></td>\n      <td>Route de Vernisson</td>\n      <td>1400</td>\n      <td>L'Abergement-Clémenciat</td>\n      <td></td>\n      <td></td>\n      <td>L'ABERGEMENT-CLEMENCIAT</td>\n      <td>ROUTE DE VERNISSON</td>\n      <td>397 Route de Vernisson 1400 L'Abergement-Cléme...</td>\n    </tr>\n    <tr>\n      <th>229</th>\n      <td>01001_0330_00025</td>\n      <td>25</td>\n      <td></td>\n      <td>Chemin de la Planche</td>\n      <td>1400</td>\n      <td>L'Abergement-Clémenciat</td>\n      <td></td>\n      <td></td>\n      <td>L'ABERGEMENT-CLEMENCIAT</td>\n      <td>CHEMIN DE LA PLANCHE</td>\n      <td>25 Chemin de la Planche 1400 L'Abergement-Clém...</td>\n    </tr>\n    <tr>\n      <th>231</th>\n      <td>01001_0410_00005</td>\n      <td>5</td>\n      <td></td>\n      <td>Chemin des Vignes</td>\n      <td>1400</td>\n      <td>L'Abergement-Clémenciat</td>\n      <td></td>\n      <td></td>\n      <td>L'ABERGEMENT-CLEMENCIAT</td>\n      <td>CHEMIN DES VIGNES</td>\n      <td>5 Chemin des Vignes 1400 L'Abergement-Clémenciat</td>\n    </tr>\n    <tr>\n      <th>240</th>\n      <td>01001_0375_00027</td>\n      <td>27</td>\n      <td></td>\n      <td>Rue du Stade</td>\n      <td>1400</td>\n      <td>L'Abergement-Clémenciat</td>\n      <td></td>\n      <td></td>\n      <td>L'ABERGEMENT-CLEMENCIAT</td>\n      <td>RUE DU STADE</td>\n      <td>27 Rue du Stade 1400 L'Abergement-Clémenciat</td>\n    </tr>\n    <tr>\n      <th>252</th>\n      <td>01001_0145_00054</td>\n      <td>54</td>\n      <td></td>\n      <td>Rue des Ecoliers</td>\n      <td>1400</td>\n      <td>L'Abergement-Clémenciat</td>\n      <td></td>\n      <td></td>\n      <td>L'ABERGEMENT-CLEMENCIAT</td>\n      <td>RUE DES ECOLIERS</td>\n      <td>54 Rue des Ecoliers 1400 L'Abergement-Clémenciat</td>\n    </tr>\n    <tr>\n      <th>261</th>\n      <td>01001_0385_00020</td>\n      <td>20</td>\n      <td></td>\n      <td>Impasse des Tilleuls</td>\n      <td>1400</td>\n      <td>L'Abergement-Clémenciat</td>\n      <td></td>\n      <td></td>\n      <td>L'ABERGEMENT-CLEMENCIAT</td>\n      <td>IMPASSE DES TILLEULS</td>\n      <td>20 Impasse des Tilleuls 1400 L'Abergement-Clém...</td>\n    </tr>\n    <tr>\n      <th>270</th>\n      <td>01001_0265_00038</td>\n      <td>38</td>\n      <td></td>\n      <td>Rue de Munetville</td>\n      <td>1400</td>\n      <td>L'Abergement-Clémenciat</td>\n      <td></td>\n      <td></td>\n      <td>L'ABERGEMENT-CLEMENCIAT</td>\n      <td>RUE DE MUNETVILLE</td>\n      <td>38 Rue de Munetville 1400 L'Abergement-Clémenciat</td>\n    </tr>\n    <tr>\n      <th>292</th>\n      <td>01001_0340_00080</td>\n      <td>80</td>\n      <td></td>\n      <td>Chemin de Polain</td>\n      <td>1400</td>\n      <td>L'Abergement-Clémenciat</td>\n      <td></td>\n      <td></td>\n      <td>L'ABERGEMENT-CLEMENCIAT</td>\n      <td>CHEMIN DE POLAIN</td>\n      <td>80 Chemin de Polain 1400 L'Abergement-Clémenciat</td>\n    </tr>\n    <tr>\n      <th>294</th>\n      <td>01001_0260_00001</td>\n      <td>1</td>\n      <td></td>\n      <td>Route du Mont</td>\n      <td>1400</td>\n      <td>L'Abergement-Clémenciat</td>\n      <td></td>\n      <td></td>\n      <td>L'ABERGEMENT-CLEMENCIAT</td>\n      <td>ROUTE DU MONT</td>\n      <td>1 Route du Mont 1400 L'Abergement-Clémenciat</td>\n    </tr>\n    <tr>\n      <th>300</th>\n      <td>01001_0125_00002</td>\n      <td>2</td>\n      <td></td>\n      <td>Impasse des Coquelicots</td>\n      <td>1400</td>\n      <td>L'Abergement-Clémenciat</td>\n      <td></td>\n      <td></td>\n      <td>L'ABERGEMENT-CLEMENCIAT</td>\n      <td>IMPASSE DES COQUELICOTS</td>\n      <td>2 Impasse des Coquelicots 1400 L'Abergement-Cl...</td>\n    </tr>\n    <tr>\n      <th>306</th>\n      <td>01001_0400_00101</td>\n      <td>101</td>\n      <td></td>\n      <td>Rue des Viards</td>\n      <td>1400</td>\n      <td>L'Abergement-Clémenciat</td>\n      <td></td>\n      <td></td>\n      <td>L'ABERGEMENT-CLEMENCIAT</td>\n      <td>RUE DES VIARDS</td>\n      <td>101 Rue des Viards 1400 L'Abergement-Clémenciat</td>\n    </tr>\n    <tr>\n      <th>309</th>\n      <td>01001_0110_00009</td>\n      <td>9</td>\n      <td></td>\n      <td>Rue des 5 Chemins</td>\n      <td>1400</td>\n      <td>L'Abergement-Clémenciat</td>\n      <td></td>\n      <td></td>\n      <td>L'ABERGEMENT-CLEMENCIAT</td>\n      <td>RUE DES 5 CHEMINS</td>\n      <td>9 Rue des 5 Chemins 1400 L'Abergement-Clémenciat</td>\n    </tr>\n    <tr>\n      <th>322</th>\n      <td>01001_0280_00014</td>\n      <td>14</td>\n      <td></td>\n      <td>Chemin de la Nicolière</td>\n      <td>1400</td>\n      <td>L'Abergement-Clémenciat</td>\n      <td></td>\n      <td></td>\n      <td>L'ABERGEMENT-CLEMENCIAT</td>\n      <td>CHEMIN DE LA NICOLIERE</td>\n      <td>14 Chemin de la Nicolière 1400 L'Abergement-Cl...</td>\n    </tr>\n    <tr>\n      <th>325</th>\n      <td>01001_0345_00095</td>\n      <td>95</td>\n      <td></td>\n      <td>Chemin de la Pommerelle</td>\n      <td>1400</td>\n      <td>L'Abergement-Clémenciat</td>\n      <td></td>\n      <td></td>\n      <td>L'ABERGEMENT-CLEMENCIAT</td>\n      <td>CHEMIN DE LA POMMERELLE</td>\n      <td>95 Chemin de la Pommerelle 1400 L'Abergement-C...</td>\n    </tr>\n    <tr>\n      <th>328</th>\n      <td>01001_0180_00072</td>\n      <td>72</td>\n      <td></td>\n      <td>Chemin de la Genette</td>\n      <td>1400</td>\n      <td>L'Abergement-Clémenciat</td>\n      <td></td>\n      <td></td>\n      <td>L'ABERGEMENT-CLEMENCIAT</td>\n      <td>CHEMIN DE LA GENETTE</td>\n      <td>72 Chemin de la Genette 1400 L'Abergement-Clém...</td>\n    </tr>\n    <tr>\n      <th>330</th>\n      <td>01001_0365_00041</td>\n      <td>41</td>\n      <td></td>\n      <td>Chemin sous Brody</td>\n      <td>1400</td>\n      <td>L'Abergement-Clémenciat</td>\n      <td></td>\n      <td></td>\n      <td>L'ABERGEMENT-CLEMENCIAT</td>\n      <td>CHEMIN SOUS BRODY</td>\n      <td>41 Chemin sous Brody 1400 L'Abergement-Clémenciat</td>\n    </tr>\n    <tr>\n      <th>332</th>\n      <td>01001_0230_00056</td>\n      <td>56</td>\n      <td></td>\n      <td>Impasse des Lilas</td>\n      <td>1400</td>\n      <td>L'Abergement-Clémenciat</td>\n      <td></td>\n      <td></td>\n      <td>L'ABERGEMENT-CLEMENCIAT</td>\n      <td>IMPASSE DES LILAS</td>\n      <td>56 Impasse des Lilas 1400 L'Abergement-Clémenciat</td>\n    </tr>\n    <tr>\n      <th>340</th>\n      <td>01001_0200_00054</td>\n      <td>54</td>\n      <td></td>\n      <td>Route du Guillermet</td>\n      <td>1400</td>\n      <td>L'Abergement-Clémenciat</td>\n      <td></td>\n      <td></td>\n      <td>L'ABERGEMENT-CLEMENCIAT</td>\n      <td>ROUTE DU GUILLERMET</td>\n      <td>54 Route du Guillermet 1400 L'Abergement-Cléme...</td>\n    </tr>\n    <tr>\n      <th>343</th>\n      <td>01001_0090_00570</td>\n      <td>570</td>\n      <td></td>\n      <td>Route de la Charrière des Bottes</td>\n      <td>1400</td>\n      <td>L'Abergement-Clémenciat</td>\n      <td></td>\n      <td></td>\n      <td>L'ABERGEMENT-CLEMENCIAT</td>\n      <td>ROUTE DE LA CHARRIERE DES BOTTES</td>\n      <td>570 Route de la Charrière des Bottes 1400 L'Ab...</td>\n    </tr>\n    <tr>\n      <th>346</th>\n      <td>01001_0360_00487</td>\n      <td>487</td>\n      <td></td>\n      <td>Chemin du Sorbier</td>\n      <td>1400</td>\n      <td>L'Abergement-Clémenciat</td>\n      <td></td>\n      <td></td>\n      <td>L'ABERGEMENT-CLEMENCIAT</td>\n      <td>CHEMIN DU SORBIER</td>\n      <td>487 Chemin du Sorbier 1400 L'Abergement-Clémen...</td>\n    </tr>\n    <tr>\n      <th>347</th>\n      <td>01001_0135_00144</td>\n      <td>144</td>\n      <td></td>\n      <td>Route du Domaine Neuf</td>\n      <td>1400</td>\n      <td>L'Abergement-Clémenciat</td>\n      <td></td>\n      <td></td>\n      <td>L'ABERGEMENT-CLEMENCIAT</td>\n      <td>ROUTE DU DOMAINE NEUF</td>\n      <td>144 Route du Domaine Neuf 1400 L'Abergement-Cl...</td>\n    </tr>\n    <tr>\n      <th>352</th>\n      <td>01001_0020_00110</td>\n      <td>110</td>\n      <td></td>\n      <td>Chemin des Baillères</td>\n      <td>1400</td>\n      <td>L'Abergement-Clémenciat</td>\n      <td></td>\n      <td></td>\n      <td>L'ABERGEMENT-CLEMENCIAT</td>\n      <td>CHEMIN DES BAILLERES</td>\n      <td>110 Chemin des Baillères 1400 L'Abergement-Clé...</td>\n    </tr>\n    <tr>\n      <th>353</th>\n      <td>01001_0305_00679</td>\n      <td>679</td>\n      <td></td>\n      <td>Chemin du Panoyer</td>\n      <td>1400</td>\n      <td>L'Abergement-Clémenciat</td>\n      <td></td>\n      <td></td>\n      <td>L'ABERGEMENT-CLEMENCIAT</td>\n      <td>CHEMIN DU PANOYER</td>\n      <td>679 Chemin du Panoyer 1400 L'Abergement-Clémen...</td>\n    </tr>\n    <tr>\n      <th>354</th>\n      <td>01001_0275_00966</td>\n      <td>966</td>\n      <td></td>\n      <td>Route de Neuville</td>\n      <td>1400</td>\n      <td>L'Abergement-Clémenciat</td>\n      <td></td>\n      <td></td>\n      <td>L'ABERGEMENT-CLEMENCIAT</td>\n      <td>ROUTE DE NEUVILLE</td>\n      <td>966 Route de Neuville 1400 L'Abergement-Clémen...</td>\n    </tr>\n    <tr>\n      <th>355</th>\n      <td>01001_0070_00316</td>\n      <td>316</td>\n      <td></td>\n      <td>Chemin de Chamaudry</td>\n      <td>1400</td>\n      <td>L'Abergement-Clémenciat</td>\n      <td></td>\n      <td></td>\n      <td>L'ABERGEMENT-CLEMENCIAT</td>\n      <td>CHEMIN DE CHAMAUDRY</td>\n      <td>316 Chemin de Chamaudry 1400 L'Abergement-Clém...</td>\n    </tr>\n    <tr>\n      <th>356</th>\n      <td>01001_0315_00002</td>\n      <td>2</td>\n      <td></td>\n      <td>Impasse des Pavots</td>\n      <td>1400</td>\n      <td>L'Abergement-Clémenciat</td>\n      <td></td>\n      <td></td>\n      <td>L'ABERGEMENT-CLEMENCIAT</td>\n      <td>IMPASSE DES PAVOTS</td>\n      <td>2 Impasse des Pavots 1400 L'Abergement-Clémenciat</td>\n    </tr>\n    <tr>\n      <th>359</th>\n      <td>01001_0050_00034</td>\n      <td>34</td>\n      <td></td>\n      <td>Impasse des Buis</td>\n      <td>1400</td>\n      <td>L'Abergement-Clémenciat</td>\n      <td></td>\n      <td></td>\n      <td>L'ABERGEMENT-CLEMENCIAT</td>\n      <td>IMPASSE DES BUIS</td>\n      <td>34 Impasse des Buis 1400 L'Abergement-Clémenciat</td>\n    </tr>\n  </tbody>\n</table>\n</div>"
     },
     "execution_count": 335,
     "metadata": {},
     "output_type": "execute_result"
    }
   ],
   "source": [
    "df_addresses.head(50)"
   ],
   "metadata": {
    "collapsed": false,
    "ExecuteTime": {
     "end_time": "2024-02-11T21:01:56.560989033Z",
     "start_time": "2024-02-11T21:01:56.536352773Z"
    }
   },
   "id": "329063a020022ccb",
   "execution_count": 335
  },
  {
   "cell_type": "markdown",
   "source": [
    "### Testing"
   ],
   "metadata": {
    "collapsed": false
   },
   "id": "b7309ed801a3fc26"
  },
  {
   "cell_type": "code",
   "outputs": [],
   "source": [
    "def score_ban_from_split(split: Address, ban: pd.Series, _print: bool = False) -> tuple[int, int]:\n",
    "    \"\"\"\n",
    "    Defines a score to compare an Address object and a pd.Series of BAN\n",
    "    :param split: Address object\n",
    "    :param ban: pd.Series row of BAN Dataframe\n",
    "    :param _print: print the input objects (debug purposes)\n",
    "    :return: score from 0 to 6 and _score one hot encoded from 0 to 111111\n",
    "    \"\"\"\n",
    "    if _print: \n",
    "        print(split)\n",
    "        print(ban)\n",
    "    _score = 0\n",
    "    if split.street_number == str(ban['numero']): _score += 1\n",
    "    if (not (bool(split.street_multiplier) | bool(ban['rep']))) | (\n",
    "            split.street_multiplier == str(ban['rep'])): _score += 10\n",
    "    if (split.street_type + ' ' + split.street_name) == str(ban['nom_voie']): _score += 100\n",
    "    if (not (bool(split.locality) | bool(ban['nom_ld']))) | (split.locality == ban['nom_ld']): _score += 1000\n",
    "    if split.zip_code == str(ban['code_postal']): _score += 10000\n",
    "    if split.city == str(ban['nom_commune']): _score += 100000\n",
    "    return str(_score).count('1'), _score\n"
   ],
   "metadata": {
    "collapsed": false,
    "ExecuteTime": {
     "end_time": "2024-02-11T21:03:09.788228985Z",
     "start_time": "2024-02-11T21:03:09.751753858Z"
    }
   },
   "id": "98721ae0b3ccf2ac",
   "execution_count": 338
  },
  {
   "cell_type": "code",
   "outputs": [
    {
     "name": "stdout",
     "output_type": "stream",
     "text": [
      "street_number='31' street_multiplier=None street_type='Rue' street_name='des Tilleuls' locality=None zip_code='1000' city='Saint-Denis-lès-Bourg' country='France' confidence=1\n",
      "id                                                    01344_0469_00031\n",
      "numero                                                              31\n",
      "rep                                                                   \n",
      "nom_voie                                              Rue des Tilleuls\n",
      "code_postal                                                       1000\n",
      "nom_commune                                      Saint-Denis-lès-Bourg\n",
      "alias                                                                 \n",
      "nom_ld                                                                \n",
      "libelle_acheminement                             SAINT-DENIS-LES-BOURG\n",
      "nom_afnor                                             RUE DES TILLEULS\n",
      "full_add                31 Rue des Tilleuls 1000 Saint-Denis-lès-Bourg\n",
      "Name: 71365, dtype: object\n"
     ]
    },
    {
     "data": {
      "text/plain": "(6, 111111)"
     },
     "execution_count": 339,
     "metadata": {},
     "output_type": "execute_result"
    }
   ],
   "source": [
    "row = df_addresses.iloc[6892]\n",
    "split_adr = Address(**chain.invoke({\"address\": row['full_add']}))\n",
    "score = score_ban_from_split(split_adr, row, True)\n",
    "score"
   ],
   "metadata": {
    "collapsed": false,
    "ExecuteTime": {
     "end_time": "2024-02-11T21:03:12.416520380Z",
     "start_time": "2024-02-11T21:03:11.636375259Z"
    }
   },
   "id": "ae6c63607913d277",
   "execution_count": 339
  },
  {
   "cell_type": "code",
   "outputs": [
    {
     "name": "stdout",
     "output_type": "stream",
     "text": [
      "street_number='2' street_multiplier='7' street_type='Chemin' street_name='de la Riviere' locality=None zip_code='1800' city='Saint-Maurice-de-Gourdans' country='France' confidence=1\n",
      "id                                                     01378_cful37_00002\n",
      "numero                                                                  2\n",
      "rep                                                                      \n",
      "nom_voie                                           7 Chemin de la Riviere\n",
      "code_postal                                                          1800\n",
      "nom_commune                                     Saint-Maurice-de-Gourdans\n",
      "alias                                                                    \n",
      "nom_ld                                                                   \n",
      "libelle_acheminement                            SAINT-MAURICE-DE-GOURDANS\n",
      "nom_afnor                                          7 CHEMIN DE LA RIVIERE\n",
      "full_add                2 7 Chemin de la Riviere 1800 Saint-Maurice-de...\n",
      "Name: 47596, dtype: object\n"
     ]
    },
    {
     "data": {
      "text/plain": "(4, 111001)"
     },
     "execution_count": 340,
     "metadata": {},
     "output_type": "execute_result"
    }
   ],
   "source": [
    "row = df_addresses.iloc[4564]\n",
    "split_adr = Address(**chain.invoke({\"address\": row['full_add']}))\n",
    "score = score_ban_from_split(split_adr, row, True)\n",
    "score"
   ],
   "metadata": {
    "collapsed": false,
    "ExecuteTime": {
     "end_time": "2024-02-11T21:03:25.115741961Z",
     "start_time": "2024-02-11T21:03:24.264317075Z"
    }
   },
   "id": "1392beeeeca4bf56",
   "execution_count": 340
  },
  {
   "cell_type": "code",
   "outputs": [
    {
     "name": "stdout",
     "output_type": "stream",
     "text": [
      "street_number='2' street_multiplier=None street_type='Impasse' street_name='Bouly' locality=None zip_code='1290' city='Saint-Jean-sur-Veyle' country='France' confidence=1\n",
      "id                                               01365_0041_00002\n",
      "numero                                                          2\n",
      "rep                                                              \n",
      "nom_voie                                            Impasse Bouly\n",
      "code_postal                                                  1290\n",
      "nom_commune                                  Saint-Jean-sur-Veyle\n",
      "alias                                                            \n",
      "nom_ld                                                           \n",
      "libelle_acheminement                         SAINT-JEAN-SUR-VEYLE\n",
      "nom_afnor                                           IMPASSE BOULY\n",
      "full_add                2 Impasse Bouly 1290 Saint-Jean-sur-Veyle\n",
      "Name: 56694, dtype: object\n"
     ]
    },
    {
     "data": {
      "text/plain": "(6, 111111)"
     },
     "execution_count": 341,
     "metadata": {},
     "output_type": "execute_result"
    }
   ],
   "source": [
    "row = df_addresses.iloc[5521]\n",
    "split_adr = Address(**chain.invoke({\"address\": row['full_add']}))\n",
    "score = score_ban_from_split(split_adr, row, True)\n",
    "score"
   ],
   "metadata": {
    "collapsed": false,
    "ExecuteTime": {
     "end_time": "2024-02-11T21:03:31.280115256Z",
     "start_time": "2024-02-11T21:03:30.519671459Z"
    }
   },
   "id": "9b32210c497da674",
   "execution_count": 341
  },
  {
   "cell_type": "code",
   "outputs": [
    {
     "name": "stdout",
     "output_type": "stream",
     "text": [
      "street_number='206' street_multiplier=None street_type='Route' street_name='de Jailleux' locality=None zip_code='1120' city='Montluel' country='France' confidence=1\n",
      "id                                         01262_0321_00206\n",
      "numero                                                  206\n",
      "rep                                                        \n",
      "nom_voie                                  Route de Jailleux\n",
      "code_postal                                            1120\n",
      "nom_commune                                        Montluel\n",
      "alias                                                      \n",
      "nom_ld                                                     \n",
      "libelle_acheminement                               MONTLUEL\n",
      "nom_afnor                                 ROUTE DE JAILLEUX\n",
      "full_add                206 Route de Jailleux 1120 Montluel\n",
      "Name: 116029, dtype: object\n"
     ]
    },
    {
     "data": {
      "text/plain": "(6, 111111)"
     },
     "execution_count": 343,
     "metadata": {},
     "output_type": "execute_result"
    }
   ],
   "source": [
    "row = df_addresses.iloc[11123]\n",
    "split_adr = Address(**chain.invoke({\"address\": row['full_add']}))\n",
    "score = score_ban_from_split(split_adr, row, True)\n",
    "score"
   ],
   "metadata": {
    "collapsed": false,
    "ExecuteTime": {
     "end_time": "2024-02-11T21:03:38.243387261Z",
     "start_time": "2024-02-11T21:03:37.356076896Z"
    }
   },
   "id": "f193508d972682f",
   "execution_count": 343
  },
  {
   "cell_type": "code",
   "outputs": [
    {
     "name": "stdout",
     "output_type": "stream",
     "text": [
      "street_number='39' street_multiplier=None street_type='Chemin' street_name='des Bugnes' locality=None zip_code='1290' city='Saint-Jean-sur-Veyle' country='France' confidence=1\n",
      "id                                                    01365_0056_00039\n",
      "numero                                                              39\n",
      "rep                                                                   \n",
      "nom_voie                                             Chemin des Bugnes\n",
      "code_postal                                                       1290\n",
      "nom_commune                                       Saint-Jean-sur-Veyle\n",
      "alias                                                                 \n",
      "nom_ld                                                                \n",
      "libelle_acheminement                              SAINT-JEAN-SUR-VEYLE\n",
      "nom_afnor                                            CHEMIN DES BUGNES\n",
      "full_add                39 Chemin des Bugnes 1290 Saint-Jean-sur-Veyle\n",
      "Name: 56927, dtype: object\n"
     ]
    },
    {
     "data": {
      "text/plain": "(6, 111111)"
     },
     "execution_count": 344,
     "metadata": {},
     "output_type": "execute_result"
    }
   ],
   "source": [
    "row = df_addresses.iloc[5546]\n",
    "split_adr = Address(**chain.invoke({\"address\": row['full_add']}))\n",
    "score = score_ban_from_split(split_adr, row, 1)\n",
    "score"
   ],
   "metadata": {
    "collapsed": false,
    "ExecuteTime": {
     "end_time": "2024-02-11T21:03:42.742336249Z",
     "start_time": "2024-02-11T21:03:41.901488472Z"
    }
   },
   "id": "aa1652e42d8f5a45",
   "execution_count": 344
  },
  {
   "cell_type": "markdown",
   "source": [
    "### Score Compute\n",
    "\n",
    "We need to take a portion of the data set in order to minimize the cost"
   ],
   "metadata": {
    "collapsed": false
   },
   "id": "4408949061423da4"
  },
  {
   "cell_type": "code",
   "outputs": [
    {
     "data": {
      "text/plain": "(25821, 11)"
     },
     "execution_count": 345,
     "metadata": {},
     "output_type": "execute_result"
    }
   ],
   "source": [
    "df_addresses.shape"
   ],
   "metadata": {
    "collapsed": false,
    "ExecuteTime": {
     "end_time": "2024-02-11T21:03:48.592751392Z",
     "start_time": "2024-02-11T21:03:48.563069634Z"
    }
   },
   "id": "bdee4447d0593021",
   "execution_count": 345
  },
  {
   "cell_type": "code",
   "outputs": [
    {
     "data": {
      "text/plain": "(100, 11)"
     },
     "execution_count": 350,
     "metadata": {},
     "output_type": "execute_result"
    }
   ],
   "source": [
    "df_test = df_addresses.sample(100).copy()\n",
    "df_test.shape"
   ],
   "metadata": {
    "collapsed": false,
    "ExecuteTime": {
     "end_time": "2024-02-11T21:06:54.921827269Z",
     "start_time": "2024-02-11T21:06:54.885846868Z"
    }
   },
   "id": "d4e375483acadbb1",
   "execution_count": 350
  },
  {
   "cell_type": "code",
   "outputs": [],
   "source": [
    "def score_row(_row : pd.Series) -> tuple[int, int]:\n",
    "    _split_adr = Address(**chain.invoke({\"address\": row['full_add']}))\n",
    "    return score_ban_from_split(_split_adr, row)"
   ],
   "metadata": {
    "collapsed": false,
    "ExecuteTime": {
     "end_time": "2024-02-11T20:52:16.104150421Z",
     "start_time": "2024-02-11T20:52:16.092731228Z"
    }
   },
   "id": "d0a52a57a38ea258",
   "execution_count": 312
  },
  {
   "cell_type": "code",
   "outputs": [],
   "source": [
    "df_test['score'] = df_test.apply(lambda _row: score_row(_row), axis=1)"
   ],
   "metadata": {
    "collapsed": false,
    "ExecuteTime": {
     "end_time": "2024-02-11T21:08:12.490724867Z",
     "start_time": "2024-02-11T21:06:56.732783852Z"
    }
   },
   "id": "752652d0cad84c91",
   "execution_count": 351
  },
  {
   "cell_type": "code",
   "outputs": [
    {
     "data": {
      "text/plain": "                        id  numero rep                       nom_voie  \\\n8548      01454_0011_00010      10                    Avenue du Bugey   \n225138    01051_0006_00005       5                  Chemin de l'Amont   \n258012    01024_0350_00028      28                Chemin du Colombier   \n3162      01004_0246_00001       1             Rue de la Commune 1871   \n253522  01027_y23xbp_00022      22              Impasse des Chasseurs   \n...                    ...     ...  ..                            ...   \n111849    01275_0280_00004       4                Allee des Ecureuils   \n143137    01224_0042_00017      17                 Rue des Pervenches   \n140612    01232_0150_00210     210                  Montée de la Cote   \n192134    01128_0080_00572     572      Route de la Ferme de la Foret   \n172815    01163_a010_00040      40             Lotissement des Chenes   \n\n        code_postal        nom_commune alias nom_ld libelle_acheminement  \\\n8548           1300           Virignin                          VIRIGNIN   \n225138         1450            Bolozon                           BOLOZON   \n258012         1340           Attignat                          ATTIGNAT   \n3162           1500  Ambérieu-en-Bugey                 AMBERIEU-EN-BUGEY   \n253522         1360              Balan                             BALAN   \n...             ...                ...   ...    ...                  ...   \n111849         1700             Neyron                            NEYRON   \n143137         1360           Loyettes                          LOYETTES   \n140612         1851             Marboz                            MARBOZ   \n192134         1560            Courtes                           COURTES   \n172815         1340           Foissiat                          FOISSIAT   \n\n                            nom_afnor  \\\n8548                  AVENUE DU BUGEY   \n225138              CHEMIN DE L AMONT   \n258012            CHEMIN DU COLOMBIER   \n3162           RUE DE LA COMMUNE 1871   \n253522          IMPASSE DES CHASSEURS   \n...                               ...   \n111849            ALLEE DES ECUREUILS   \n143137             RUE DES PERVENCHES   \n140612              MONTEE DE LA COTE   \n192134  ROUTE DE LA FERME DE LA FORET   \n172815         LOTISSEMENT DES CHENES   \n\n                                               full_add        score  \n8548                   10 Avenue du Bugey 1300 Virignin  (6, 111111)  \n225138                 5 Chemin de l'Amont 1450 Bolozon  (6, 111111)  \n258012             28 Chemin du Colombier 1340 Attignat  (6, 111111)  \n3162    1 Rue de la Commune 1871 1500 Ambérieu-en-Bugey  (6, 111111)  \n253522              22 Impasse des Chasseurs 1360 Balan  (6, 111111)  \n...                                                 ...          ...  \n111849                4 Allee des Ecureuils 1700 Neyron  (6, 111111)  \n143137              17 Rue des Pervenches 1360 Loyettes  (6, 111111)  \n140612                210 Montée de la Cote 1851 Marboz  (6, 111111)  \n192134   572 Route de la Ferme de la Foret 1560 Courtes  (6, 111111)  \n172815          40 Lotissement des Chenes 1340 Foissiat  (6, 111111)  \n\n[100 rows x 12 columns]",
      "text/html": "<div>\n<style scoped>\n    .dataframe tbody tr th:only-of-type {\n        vertical-align: middle;\n    }\n\n    .dataframe tbody tr th {\n        vertical-align: top;\n    }\n\n    .dataframe thead th {\n        text-align: right;\n    }\n</style>\n<table border=\"1\" class=\"dataframe\">\n  <thead>\n    <tr style=\"text-align: right;\">\n      <th></th>\n      <th>id</th>\n      <th>numero</th>\n      <th>rep</th>\n      <th>nom_voie</th>\n      <th>code_postal</th>\n      <th>nom_commune</th>\n      <th>alias</th>\n      <th>nom_ld</th>\n      <th>libelle_acheminement</th>\n      <th>nom_afnor</th>\n      <th>full_add</th>\n      <th>score</th>\n    </tr>\n  </thead>\n  <tbody>\n    <tr>\n      <th>8548</th>\n      <td>01454_0011_00010</td>\n      <td>10</td>\n      <td></td>\n      <td>Avenue du Bugey</td>\n      <td>1300</td>\n      <td>Virignin</td>\n      <td></td>\n      <td></td>\n      <td>VIRIGNIN</td>\n      <td>AVENUE DU BUGEY</td>\n      <td>10 Avenue du Bugey 1300 Virignin</td>\n      <td>(6, 111111)</td>\n    </tr>\n    <tr>\n      <th>225138</th>\n      <td>01051_0006_00005</td>\n      <td>5</td>\n      <td></td>\n      <td>Chemin de l'Amont</td>\n      <td>1450</td>\n      <td>Bolozon</td>\n      <td></td>\n      <td></td>\n      <td>BOLOZON</td>\n      <td>CHEMIN DE L AMONT</td>\n      <td>5 Chemin de l'Amont 1450 Bolozon</td>\n      <td>(6, 111111)</td>\n    </tr>\n    <tr>\n      <th>258012</th>\n      <td>01024_0350_00028</td>\n      <td>28</td>\n      <td></td>\n      <td>Chemin du Colombier</td>\n      <td>1340</td>\n      <td>Attignat</td>\n      <td></td>\n      <td></td>\n      <td>ATTIGNAT</td>\n      <td>CHEMIN DU COLOMBIER</td>\n      <td>28 Chemin du Colombier 1340 Attignat</td>\n      <td>(6, 111111)</td>\n    </tr>\n    <tr>\n      <th>3162</th>\n      <td>01004_0246_00001</td>\n      <td>1</td>\n      <td></td>\n      <td>Rue de la Commune 1871</td>\n      <td>1500</td>\n      <td>Ambérieu-en-Bugey</td>\n      <td></td>\n      <td></td>\n      <td>AMBERIEU-EN-BUGEY</td>\n      <td>RUE DE LA COMMUNE 1871</td>\n      <td>1 Rue de la Commune 1871 1500 Ambérieu-en-Bugey</td>\n      <td>(6, 111111)</td>\n    </tr>\n    <tr>\n      <th>253522</th>\n      <td>01027_y23xbp_00022</td>\n      <td>22</td>\n      <td></td>\n      <td>Impasse des Chasseurs</td>\n      <td>1360</td>\n      <td>Balan</td>\n      <td></td>\n      <td></td>\n      <td>BALAN</td>\n      <td>IMPASSE DES CHASSEURS</td>\n      <td>22 Impasse des Chasseurs 1360 Balan</td>\n      <td>(6, 111111)</td>\n    </tr>\n    <tr>\n      <th>...</th>\n      <td>...</td>\n      <td>...</td>\n      <td>...</td>\n      <td>...</td>\n      <td>...</td>\n      <td>...</td>\n      <td>...</td>\n      <td>...</td>\n      <td>...</td>\n      <td>...</td>\n      <td>...</td>\n      <td>...</td>\n    </tr>\n    <tr>\n      <th>111849</th>\n      <td>01275_0280_00004</td>\n      <td>4</td>\n      <td></td>\n      <td>Allee des Ecureuils</td>\n      <td>1700</td>\n      <td>Neyron</td>\n      <td></td>\n      <td></td>\n      <td>NEYRON</td>\n      <td>ALLEE DES ECUREUILS</td>\n      <td>4 Allee des Ecureuils 1700 Neyron</td>\n      <td>(6, 111111)</td>\n    </tr>\n    <tr>\n      <th>143137</th>\n      <td>01224_0042_00017</td>\n      <td>17</td>\n      <td></td>\n      <td>Rue des Pervenches</td>\n      <td>1360</td>\n      <td>Loyettes</td>\n      <td></td>\n      <td></td>\n      <td>LOYETTES</td>\n      <td>RUE DES PERVENCHES</td>\n      <td>17 Rue des Pervenches 1360 Loyettes</td>\n      <td>(6, 111111)</td>\n    </tr>\n    <tr>\n      <th>140612</th>\n      <td>01232_0150_00210</td>\n      <td>210</td>\n      <td></td>\n      <td>Montée de la Cote</td>\n      <td>1851</td>\n      <td>Marboz</td>\n      <td></td>\n      <td></td>\n      <td>MARBOZ</td>\n      <td>MONTEE DE LA COTE</td>\n      <td>210 Montée de la Cote 1851 Marboz</td>\n      <td>(6, 111111)</td>\n    </tr>\n    <tr>\n      <th>192134</th>\n      <td>01128_0080_00572</td>\n      <td>572</td>\n      <td></td>\n      <td>Route de la Ferme de la Foret</td>\n      <td>1560</td>\n      <td>Courtes</td>\n      <td></td>\n      <td></td>\n      <td>COURTES</td>\n      <td>ROUTE DE LA FERME DE LA FORET</td>\n      <td>572 Route de la Ferme de la Foret 1560 Courtes</td>\n      <td>(6, 111111)</td>\n    </tr>\n    <tr>\n      <th>172815</th>\n      <td>01163_a010_00040</td>\n      <td>40</td>\n      <td></td>\n      <td>Lotissement des Chenes</td>\n      <td>1340</td>\n      <td>Foissiat</td>\n      <td></td>\n      <td></td>\n      <td>FOISSIAT</td>\n      <td>LOTISSEMENT DES CHENES</td>\n      <td>40 Lotissement des Chenes 1340 Foissiat</td>\n      <td>(6, 111111)</td>\n    </tr>\n  </tbody>\n</table>\n<p>100 rows × 12 columns</p>\n</div>"
     },
     "execution_count": 353,
     "metadata": {},
     "output_type": "execute_result"
    }
   ],
   "source": [
    "df_test.head(100)"
   ],
   "metadata": {
    "collapsed": false,
    "ExecuteTime": {
     "end_time": "2024-02-11T21:08:19.590912955Z",
     "start_time": "2024-02-11T21:08:19.556927581Z"
    }
   },
   "id": "a128dc6d8f4e20dc",
   "execution_count": 353
  }
 ],
 "metadata": {
  "kernelspec": {
   "display_name": "Python 3 (ipykernel)",
   "language": "python",
   "name": "python3"
  },
  "language_info": {
   "codemirror_mode": {
    "name": "ipython",
    "version": 3
   },
   "file_extension": ".py",
   "mimetype": "text/x-python",
   "name": "python",
   "nbconvert_exporter": "python",
   "pygments_lexer": "ipython3",
   "version": "3.11.7"
  }
 },
 "nbformat": 4,
 "nbformat_minor": 5
}
